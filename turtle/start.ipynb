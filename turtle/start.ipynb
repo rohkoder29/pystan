{
 "cells": [
  {
   "cell_type": "code",
   "execution_count": null,
   "metadata": {},
   "outputs": [],
   "source": [
    "import turtle"
   ]
  },
  {
   "cell_type": "markdown",
   "metadata": {},
   "source": [
    "Naming conventions:<br />\n",
    "* t for the turtle [`t = turtle.Turtle()` or `t = turtle.getturtle()`]\n",
    "* s for the screen [`s = turtle.getscreen()`]"
   ]
  },
  {
   "cell_type": "markdown",
   "metadata": {},
   "source": [
    "Create a canvas"
   ]
  },
  {
   "cell_type": "code",
   "execution_count": null,
   "metadata": {},
   "outputs": [],
   "source": [
    "s = turtle.getscreen()\n",
    "t = turtle.getturtle()"
   ]
  },
  {
   "cell_type": "markdown",
   "metadata": {},
   "source": [
    "Moving the turtle<br />\n",
    "Syntax: `turtle.direction(distance)`"
   ]
  },
  {
   "cell_type": "code",
   "execution_count": null,
   "metadata": {},
   "outputs": [],
   "source": [
    "# moving forward\n",
    "t.forward(100)\n",
    "# shorthand: t.fd(100)"
   ]
  },
  {
   "cell_type": "code",
   "execution_count": null,
   "metadata": {},
   "outputs": [],
   "source": [
    "# moving backwards\n",
    "t.backward(58)\n",
    "# shorthand: t.bk(58)"
   ]
  },
  {
   "cell_type": "markdown",
   "metadata": {},
   "source": [
    "Orienting the turtle<br />\n",
    "Syntax: `turtle.orientation(angle)`"
   ]
  },
  {
   "cell_type": "code",
   "execution_count": null,
   "metadata": {},
   "outputs": [],
   "source": [
    "# going left\n",
    "t.left(45)\n",
    "# shorthand: t.lt(45)"
   ]
  },
  {
   "cell_type": "code",
   "execution_count": null,
   "metadata": {},
   "outputs": [],
   "source": [
    "# going right\n",
    "t.right(93)\n",
    "# shorthand: t.rt(93)"
   ]
  },
  {
   "cell_type": "markdown",
   "metadata": {},
   "source": [
    "Move the turtle to an absolute (specific) position<br />\n",
    "Syntax: `turtle.goto(x, y)` / `turtle.setpos(x, y)` / `turtle.setposition(x, y)`<br />\n",
    "[x and y being the coordinates of that point]"
   ]
  },
  {
   "cell_type": "code",
   "execution_count": null,
   "metadata": {},
   "outputs": [],
   "source": [
    "# let's move the turtle to point (23, -67)\n",
    "t.goto(23, -67)"
   ]
  },
  {
   "cell_type": "code",
   "execution_count": null,
   "metadata": {},
   "outputs": [],
   "source": [
    "# let's move the turtle to point (32, 10)\n",
    "t.setpos(32, 10)"
   ]
  },
  {
   "cell_type": "code",
   "execution_count": null,
   "metadata": {},
   "outputs": [],
   "source": [
    "# let's move the turtle to point (0, -41)\n",
    "t.setposition(0, -41)"
   ]
  },
  {
   "cell_type": "code",
   "execution_count": null,
   "metadata": {},
   "outputs": [],
   "source": [
    "# send the turtle to the initial (home) location\n",
    "# turtle.home()"
   ]
  },
  {
   "cell_type": "code",
   "execution_count": null,
   "metadata": {},
   "outputs": [],
   "source": [
    "# also get the current position of the turtle\n",
    "t.pos()"
   ]
  },
  {
   "cell_type": "markdown",
   "metadata": {},
   "source": [
    "Control whether the turtle leave a track behind it as it moves around on screen"
   ]
  },
  {
   "cell_type": "code",
   "execution_count": null,
   "metadata": {},
   "outputs": [],
   "source": [
    "# remove the track\n",
    "t.penup()\n",
    "# move the turtle to visualize effect\n",
    "t.fd(20)"
   ]
  },
  {
   "cell_type": "code",
   "execution_count": null,
   "metadata": {},
   "outputs": [],
   "source": [
    "# put back the track\n",
    "t.pendown()\n",
    "# move the turtle to see effect\n",
    "t.goto(-19, 51)"
   ]
  },
  {
   "cell_type": "markdown",
   "metadata": {},
   "source": [
    "Clear the view / canvas / screen"
   ]
  },
  {
   "cell_type": "code",
   "execution_count": null,
   "metadata": {},
   "outputs": [],
   "source": [
    "t.clear()\n",
    "# NOTE that it does keep the turtle at its current position and orientation\n",
    "# usually we would likely to also take it home\n",
    "t.home()"
   ]
  },
  {
   "cell_type": "markdown",
   "metadata": {},
   "source": [
    "Drawing shapes"
   ]
  },
  {
   "cell_type": "code",
   "execution_count": null,
   "metadata": {},
   "outputs": [],
   "source": [
    "# one naive way to draw a let's say square would be\n",
    "t.home()\n",
    "t.fd(50)\n",
    "t.lt(90)\n",
    "t.fd(50)\n",
    "t.lt(90)\n",
    "t.fd(50)\n",
    "t.lt(90)\n",
    "t.fd(50)\n",
    "t.lt(90)"
   ]
  },
  {
   "cell_type": "markdown",
   "metadata": {},
   "source": [
    "But luckily `turtle` comes packed with some preset shapes which we can use to draw polygons"
   ]
  },
  {
   "cell_type": "markdown",
   "metadata": {},
   "source": [
    "1) Circle<br />\n",
    "Syntax: `t.circle(radius, *extent, *steps)`"
   ]
  },
  {
   "cell_type": "code",
   "execution_count": null,
   "metadata": {},
   "outputs": [],
   "source": [
    "# draw a circle, providing only the radius\n",
    "t.circle(50)\n",
    "# this draws a 50 <mesure> radius circle"
   ]
  },
  {
   "cell_type": "code",
   "execution_count": null,
   "metadata": {},
   "outputs": [],
   "source": [
    "# the `extent` parameter tells how far around -in degrees- the \"circle\" will be drawn\n",
    "t.circle(50, 180)   # arc\n",
    "# this draws a semicircle because 180 degrees is halfway to a full 360 degrees circle"
   ]
  },
  {
   "cell_type": "code",
   "execution_count": null,
   "metadata": {},
   "outputs": [],
   "source": [
    "# the `steps` paramerer allows you to pick how many steps\n",
    "# the turtle will take to draw the circle\n",
    "# so this makes it easy to draw regular polygons by setting the steps\n",
    "# parameter to the number of sides of the polygon\n",
    "t.circle(50, steps=3)   # this draws a triangle (3 sides)\n",
    "t.circle(60, steps=6)   # this draws an hexagon (6 sides)"
   ]
  },
  {
   "cell_type": "markdown",
   "metadata": {},
   "source": [
    "2) Dot<br />\n",
    "Syntax: `t.dot(size, *color)`"
   ]
  },
  {
   "cell_type": "code",
   "execution_count": null,
   "metadata": {},
   "outputs": [],
   "source": [
    "# it's basically a filled in circle\n",
    "t.dot(25)"
   ]
  },
  {
   "cell_type": "code",
   "execution_count": null,
   "metadata": {},
   "outputs": [],
   "source": [
    "# let's create another one\n",
    "t.penup()   # no track\n",
    "t.fd(50)    # move 50 units forward\n",
    "t.lt(45)    # turn 90 degrees to the left\n",
    "t.fd(50)    # move 50 units forward\n",
    "t.dot(25)   # create a filled in circle\n",
    "# funny, right?"
   ]
  },
  {
   "cell_type": "markdown",
   "metadata": {},
   "source": [
    "Set the turtle speed<br />\n",
    "Syntax: `turtle.speed(int)`\n",
    "* “fastest”: 0\n",
    "* “fast”: 10\n",
    "* “normal”: 6\n",
    "* “slow”: 3\n",
    "* “slowest”: 1"
   ]
  },
  {
   "cell_type": "code",
   "execution_count": null,
   "metadata": {},
   "outputs": [],
   "source": [
    "# let's make it the fastest possible\n",
    "t.speed(0)\n",
    "# NOTE if no argument given, return the current speed of the turtle"
   ]
  },
  {
   "cell_type": "markdown",
   "metadata": {},
   "source": [
    "Color control"
   ]
  }
 ],
 "metadata": {
  "interpreter": {
   "hash": "916dbcbb3f70747c44a77c7bcd40155683ae19c65e1c03b4aa3499c5328201f1"
  },
  "kernelspec": {
   "display_name": "Python 3.10.4 64-bit",
   "language": "python",
   "name": "python3"
  },
  "language_info": {
   "codemirror_mode": {
    "name": "ipython",
    "version": 3
   },
   "file_extension": ".py",
   "mimetype": "text/x-python",
   "name": "python",
   "nbconvert_exporter": "python",
   "pygments_lexer": "ipython3",
   "version": "3.10.4"
  },
  "orig_nbformat": 4
 },
 "nbformat": 4,
 "nbformat_minor": 2
}
