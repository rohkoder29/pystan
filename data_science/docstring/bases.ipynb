{
 "cells": [
  {
   "cell_type": "markdown",
   "metadata": {},
   "source": [
    "### The Basics"
   ]
  },
  {
   "cell_type": "code",
   "execution_count": null,
   "metadata": {},
   "outputs": [],
   "source": [
    "import pandas as pd"
   ]
  },
  {
   "cell_type": "code",
   "execution_count": null,
   "metadata": {},
   "outputs": [],
   "source": [
    "df = pd.read_csv(\"data.csv\")"
   ]
  },
  {
   "cell_type": "code",
   "execution_count": null,
   "metadata": {},
   "outputs": [],
   "source": [
    "df.head()"
   ]
  },
  {
   "cell_type": "code",
   "execution_count": null,
   "metadata": {},
   "outputs": [],
   "source": [
    "df.shape"
   ]
  },
  {
   "cell_type": "code",
   "execution_count": null,
   "metadata": {},
   "outputs": [],
   "source": [
    "df.columns\n",
    "# df.columns.to_list()"
   ]
  },
  {
   "cell_type": "code",
   "execution_count": null,
   "metadata": {},
   "outputs": [],
   "source": [
    "df.index"
   ]
  },
  {
   "cell_type": "code",
   "execution_count": null,
   "metadata": {},
   "outputs": [],
   "source": [
    "df.set_index(\"id\")"
   ]
  },
  {
   "cell_type": "markdown",
   "metadata": {},
   "source": [
    "### Indexing"
   ]
  },
  {
   "cell_type": "code",
   "execution_count": null,
   "metadata": {},
   "outputs": [],
   "source": [
    "df[\"email\"].head()\n",
    "df.email.tail()"
   ]
  },
  {
   "cell_type": "code",
   "execution_count": null,
   "metadata": {},
   "outputs": [],
   "source": [
    "df[10:20]  # [a, b] b exclus"
   ]
  },
  {
   "cell_type": "code",
   "execution_count": null,
   "metadata": {},
   "outputs": [],
   "source": [
    "df.loc[10:20]  # [a, b] les deux inclus"
   ]
  },
  {
   "cell_type": "code",
   "execution_count": null,
   "metadata": {},
   "outputs": [],
   "source": [
    "# selectionner avec un index different et un element particulier\n",
    "df_email = df.set_index(\"email\")\n",
    "elem = df_email.loc[\"kbeasant4@jigsy.com\"]\n",
    "# renvoie les infos relatives a cet element (de type Series)\n",
    "# si on veut recup les valeurs on utilise l'attribut `values`\n",
    "elem.values  # objet array\n",
    "elem.values.tolist()  # std python list"
   ]
  },
  {
   "cell_type": "code",
   "execution_count": null,
   "metadata": {},
   "outputs": [],
   "source": [
    "# avec `loc` on peut egalement aller chercher plusieurs elements en une fois\n",
    "elem = df_email.loc[\n",
    "    [\"bwymanb@lulu.com\", \"omaryone@va.gov\", \"smounchj@rakuten.co.jp\"]\n",
    "]\n",
    "elem  # type DataFrame\n",
    "elem.values  # objet\n",
    "# elem.values.tolist()    # std python list of lists"
   ]
  },
  {
   "cell_type": "markdown",
   "metadata": {},
   "source": [
    "### Filter"
   ]
  },
  {
   "cell_type": "code",
   "execution_count": null,
   "metadata": {},
   "outputs": [],
   "source": [
    "# recup une colonne\n",
    "df[\"gender\"]"
   ]
  },
  {
   "cell_type": "code",
   "execution_count": null,
   "metadata": {},
   "outputs": [],
   "source": [
    "# filtrer par rapport a la valeur 'Male'\n",
    "male_filter = df[\"gender\"] == \"Male\"\n",
    "df[male_filter]\n",
    "# or just `df[df['gender'] == 'Male']`"
   ]
  },
  {
   "cell_type": "code",
   "execution_count": null,
   "metadata": {},
   "outputs": [],
   "source": [
    "country_filter = df.country.isin([\"France\", \"Canada\"])\n",
    "df[country_filter].head(10)"
   ]
  },
  {
   "cell_type": "code",
   "execution_count": null,
   "metadata": {},
   "outputs": [],
   "source": [
    "# filter sur la colonne ;price_paid;\n",
    "# d'abord faisons une copy de la DataFrame\n",
    "# avant de porter les modifications\n",
    "df_price = df.copy()\n",
    "# mnt il faut enlever le signe $\n",
    "# on utilise la methode `apply()` sur la colonne et un lambda\n",
    "df_price.price_paid = df_price.price_paid.apply(lambda x: x.replace(\"$\", \"\"))\n",
    "# on le convertit en nombre flottant\n",
    "df_price.price_paid = df_price.price_paid.astype(float)\n",
    "# on applique le filtre\n",
    "df_price[df_price[\"price_paid\"] >= 6.0]\n",
    "# if you want it\n",
    "# df_price.price_paid.sum()"
   ]
  },
  {
   "cell_type": "markdown",
   "metadata": {},
   "source": [
    "### Delete row / col"
   ]
  },
  {
   "cell_type": "code",
   "execution_count": null,
   "metadata": {},
   "outputs": [],
   "source": [
    "# 1) avec drop()\n",
    "# on supprime la colonne 'ip_address' en specifiant l'axe\n",
    "df.drop(\"ip_address\", axis=1)\n",
    "# et si je veux que le changement soit permanent\n",
    "# je rajoute le parametre ;inplace=True;\n",
    "# df.drop('ip_address', axis=1, inplace=True)"
   ]
  },
  {
   "cell_type": "code",
   "execution_count": null,
   "metadata": {},
   "outputs": [],
   "source": [
    "# on peut aussi supprimer une ligne\n",
    "# mettons d'abord la colonne 'gender' comme index\n",
    "# df.set_index('gender', inplace=True)\n",
    "# on supprime toutes les lignes ou gender == 'Male'\n",
    "df.drop(\"Male\", axis=0, inplace=True)\n",
    "df"
   ]
  },
  {
   "cell_type": "code",
   "execution_count": null,
   "metadata": {},
   "outputs": [],
   "source": [
    "# on peut aussi supprimer plusieurs colonnes d'un coup\n",
    "df.drop([\"first_name\", \"last_name\", \"email\"], axis=1, inplace=True)\n",
    "df"
   ]
  },
  {
   "cell_type": "code",
   "execution_count": null,
   "metadata": {},
   "outputs": [],
   "source": [
    "# 2) avec `del`\n",
    "# la on a pas besoin de specifier l'axe ni le parametre inplace\n",
    "# pour supprimer la colonne 'id'\n",
    "del df[\"id\"]\n",
    "df"
   ]
  },
  {
   "cell_type": "markdown",
   "metadata": {},
   "source": [
    "### Add a column"
   ]
  },
  {
   "cell_type": "code",
   "execution_count": null,
   "metadata": {},
   "outputs": [],
   "source": [
    "# on va rajouter une colonne pour le prix hors tax\n",
    "# mais d'abord il faut remplacer les valuers nulles et\n",
    "# gerer les types comme on avait fait plus tot dans la serie\n",
    "df[\"tax\"].fillna(0, inplace=True)\n",
    "df.price_paid = df.price_paid.apply(lambda x: x.replace(\"$\", \"\"))\n",
    "df.price_paid = df.price_paid.astype(float)"
   ]
  },
  {
   "cell_type": "code",
   "execution_count": null,
   "metadata": {},
   "outputs": [],
   "source": [
    "df[\"price_net\"] = round((df[\"price_paid\"] * (1 - df[\"tax\"] / 100)), 2)\n",
    "df"
   ]
  },
  {
   "cell_type": "code",
   "execution_count": null,
   "metadata": {},
   "outputs": [],
   "source": [
    "# et si par un simple hasard on voulait remplacer\n",
    "# le nom des pays par leur code\n",
    "# pour cela on va donc faire un 'mapping'"
   ]
  },
  {
   "cell_type": "code",
   "execution_count": null,
   "metadata": {},
   "outputs": [],
   "source": [
    "# d'abord creons un dictionnaire avec nos differentes valeurs\n",
    "countries = {\n",
    "    \"Canada\": \"CA\",\n",
    "    \"United States\": \"USA\",\n",
    "    \"France\": \"FR\",\n",
    "    \"Morocco\": \"MA\",\n",
    "}"
   ]
  },
  {
   "cell_type": "code",
   "execution_count": null,
   "metadata": {},
   "outputs": [],
   "source": [
    "# puis avec l'instruction `map()`\n",
    "df[\"country_code\"] = df.country.map(countries)\n",
    "df"
   ]
  },
  {
   "cell_type": "markdown",
   "metadata": {},
   "source": [
    "### Basic Analysis"
   ]
  },
  {
   "cell_type": "code",
   "execution_count": 11,
   "metadata": {},
   "outputs": [
    {
     "data": {
      "text/html": [
       "<div>\n",
       "<style scoped>\n",
       "    .dataframe tbody tr th:only-of-type {\n",
       "        vertical-align: middle;\n",
       "    }\n",
       "\n",
       "    .dataframe tbody tr th {\n",
       "        vertical-align: top;\n",
       "    }\n",
       "\n",
       "    .dataframe thead th {\n",
       "        text-align: right;\n",
       "    }\n",
       "</style>\n",
       "<table border=\"1\" class=\"dataframe\">\n",
       "  <thead>\n",
       "    <tr style=\"text-align: right;\">\n",
       "      <th></th>\n",
       "      <th>id</th>\n",
       "      <th>date</th>\n",
       "      <th>first_name</th>\n",
       "      <th>last_name</th>\n",
       "      <th>email</th>\n",
       "      <th>gender</th>\n",
       "      <th>country</th>\n",
       "      <th>price_paid</th>\n",
       "      <th>tax</th>\n",
       "      <th>price_net</th>\n",
       "      <th>country_code</th>\n",
       "    </tr>\n",
       "  </thead>\n",
       "  <tbody>\n",
       "    <tr>\n",
       "      <th>count</th>\n",
       "      <td>1000.000000</td>\n",
       "      <td>1000</td>\n",
       "      <td>1000</td>\n",
       "      <td>1000</td>\n",
       "      <td>1000</td>\n",
       "      <td>931</td>\n",
       "      <td>956</td>\n",
       "      <td>1000.000000</td>\n",
       "      <td>1000.000000</td>\n",
       "      <td>1000.000000</td>\n",
       "      <td>956</td>\n",
       "    </tr>\n",
       "    <tr>\n",
       "      <th>unique</th>\n",
       "      <td>NaN</td>\n",
       "      <td>30</td>\n",
       "      <td>926</td>\n",
       "      <td>991</td>\n",
       "      <td>1000</td>\n",
       "      <td>2</td>\n",
       "      <td>4</td>\n",
       "      <td>NaN</td>\n",
       "      <td>NaN</td>\n",
       "      <td>NaN</td>\n",
       "      <td>4</td>\n",
       "    </tr>\n",
       "    <tr>\n",
       "      <th>top</th>\n",
       "      <td>NaN</td>\n",
       "      <td>03/20/2021</td>\n",
       "      <td>Nonie</td>\n",
       "      <td>Aggott</td>\n",
       "      <td>malders0@shop-pro.jp</td>\n",
       "      <td>Female</td>\n",
       "      <td>France</td>\n",
       "      <td>NaN</td>\n",
       "      <td>NaN</td>\n",
       "      <td>NaN</td>\n",
       "      <td>FR</td>\n",
       "    </tr>\n",
       "    <tr>\n",
       "      <th>freq</th>\n",
       "      <td>NaN</td>\n",
       "      <td>47</td>\n",
       "      <td>3</td>\n",
       "      <td>2</td>\n",
       "      <td>1</td>\n",
       "      <td>493</td>\n",
       "      <td>408</td>\n",
       "      <td>NaN</td>\n",
       "      <td>NaN</td>\n",
       "      <td>NaN</td>\n",
       "      <td>408</td>\n",
       "    </tr>\n",
       "    <tr>\n",
       "      <th>mean</th>\n",
       "      <td>500.500000</td>\n",
       "      <td>NaN</td>\n",
       "      <td>NaN</td>\n",
       "      <td>NaN</td>\n",
       "      <td>NaN</td>\n",
       "      <td>NaN</td>\n",
       "      <td>NaN</td>\n",
       "      <td>6.461930</td>\n",
       "      <td>13.080000</td>\n",
       "      <td>5.628470</td>\n",
       "      <td>NaN</td>\n",
       "    </tr>\n",
       "    <tr>\n",
       "      <th>std</th>\n",
       "      <td>288.819436</td>\n",
       "      <td>NaN</td>\n",
       "      <td>NaN</td>\n",
       "      <td>NaN</td>\n",
       "      <td>NaN</td>\n",
       "      <td>NaN</td>\n",
       "      <td>NaN</td>\n",
       "      <td>2.061968</td>\n",
       "      <td>9.518624</td>\n",
       "      <td>1.943679</td>\n",
       "      <td>NaN</td>\n",
       "    </tr>\n",
       "    <tr>\n",
       "      <th>min</th>\n",
       "      <td>1.000000</td>\n",
       "      <td>NaN</td>\n",
       "      <td>NaN</td>\n",
       "      <td>NaN</td>\n",
       "      <td>NaN</td>\n",
       "      <td>NaN</td>\n",
       "      <td>NaN</td>\n",
       "      <td>3.000000</td>\n",
       "      <td>0.000000</td>\n",
       "      <td>2.400000</td>\n",
       "      <td>NaN</td>\n",
       "    </tr>\n",
       "    <tr>\n",
       "      <th>25%</th>\n",
       "      <td>250.750000</td>\n",
       "      <td>NaN</td>\n",
       "      <td>NaN</td>\n",
       "      <td>NaN</td>\n",
       "      <td>NaN</td>\n",
       "      <td>NaN</td>\n",
       "      <td>NaN</td>\n",
       "      <td>4.620000</td>\n",
       "      <td>0.000000</td>\n",
       "      <td>3.980000</td>\n",
       "      <td>NaN</td>\n",
       "    </tr>\n",
       "    <tr>\n",
       "      <th>50%</th>\n",
       "      <td>500.500000</td>\n",
       "      <td>NaN</td>\n",
       "      <td>NaN</td>\n",
       "      <td>NaN</td>\n",
       "      <td>NaN</td>\n",
       "      <td>NaN</td>\n",
       "      <td>NaN</td>\n",
       "      <td>6.415000</td>\n",
       "      <td>20.000000</td>\n",
       "      <td>5.615000</td>\n",
       "      <td>NaN</td>\n",
       "    </tr>\n",
       "    <tr>\n",
       "      <th>75%</th>\n",
       "      <td>750.250000</td>\n",
       "      <td>NaN</td>\n",
       "      <td>NaN</td>\n",
       "      <td>NaN</td>\n",
       "      <td>NaN</td>\n",
       "      <td>NaN</td>\n",
       "      <td>NaN</td>\n",
       "      <td>8.232500</td>\n",
       "      <td>20.000000</td>\n",
       "      <td>7.065000</td>\n",
       "      <td>NaN</td>\n",
       "    </tr>\n",
       "    <tr>\n",
       "      <th>max</th>\n",
       "      <td>1000.000000</td>\n",
       "      <td>NaN</td>\n",
       "      <td>NaN</td>\n",
       "      <td>NaN</td>\n",
       "      <td>NaN</td>\n",
       "      <td>NaN</td>\n",
       "      <td>NaN</td>\n",
       "      <td>10.000000</td>\n",
       "      <td>20.000000</td>\n",
       "      <td>10.000000</td>\n",
       "      <td>NaN</td>\n",
       "    </tr>\n",
       "  </tbody>\n",
       "</table>\n",
       "</div>"
      ],
      "text/plain": [
       "                 id        date first_name last_name                 email  \\\n",
       "count   1000.000000        1000       1000      1000                  1000   \n",
       "unique          NaN          30        926       991                  1000   \n",
       "top             NaN  03/20/2021      Nonie    Aggott  malders0@shop-pro.jp   \n",
       "freq            NaN          47          3         2                     1   \n",
       "mean     500.500000         NaN        NaN       NaN                   NaN   \n",
       "std      288.819436         NaN        NaN       NaN                   NaN   \n",
       "min        1.000000         NaN        NaN       NaN                   NaN   \n",
       "25%      250.750000         NaN        NaN       NaN                   NaN   \n",
       "50%      500.500000         NaN        NaN       NaN                   NaN   \n",
       "75%      750.250000         NaN        NaN       NaN                   NaN   \n",
       "max     1000.000000         NaN        NaN       NaN                   NaN   \n",
       "\n",
       "        gender country   price_paid          tax    price_net country_code  \n",
       "count      931     956  1000.000000  1000.000000  1000.000000          956  \n",
       "unique       2       4          NaN          NaN          NaN            4  \n",
       "top     Female  France          NaN          NaN          NaN           FR  \n",
       "freq       493     408          NaN          NaN          NaN          408  \n",
       "mean       NaN     NaN     6.461930    13.080000     5.628470          NaN  \n",
       "std        NaN     NaN     2.061968     9.518624     1.943679          NaN  \n",
       "min        NaN     NaN     3.000000     0.000000     2.400000          NaN  \n",
       "25%        NaN     NaN     4.620000     0.000000     3.980000          NaN  \n",
       "50%        NaN     NaN     6.415000    20.000000     5.615000          NaN  \n",
       "75%        NaN     NaN     8.232500    20.000000     7.065000          NaN  \n",
       "max        NaN     NaN    10.000000    20.000000    10.000000          NaN  "
      ]
     },
     "execution_count": 11,
     "metadata": {},
     "output_type": "execute_result"
    }
   ],
   "source": [
    "# info at a glance about the DataFrame\n",
    "df.describe()\n",
    "# or a particular column\n",
    "df[\"price_paid\"].describe()\n",
    "# or all the columns\n",
    "df.describe(include=\"all\")"
   ]
  },
  {
   "cell_type": "code",
   "execution_count": 12,
   "metadata": {},
   "outputs": [
    {
     "data": {
      "text/plain": [
       "13.08"
      ]
     },
     "execution_count": 12,
     "metadata": {},
     "output_type": "execute_result"
    }
   ],
   "source": [
    "# la moyenne d'une colonne\n",
    "df.tax.mean()"
   ]
  },
  {
   "cell_type": "code",
   "execution_count": 13,
   "metadata": {},
   "outputs": [
    {
     "data": {
      "text/plain": [
       "6461.93"
      ]
     },
     "execution_count": 13,
     "metadata": {},
     "output_type": "execute_result"
    }
   ],
   "source": [
    "# la somme\n",
    "df[\"price_paid\"].sum()"
   ]
  },
  {
   "cell_type": "code",
   "execution_count": 17,
   "metadata": {},
   "outputs": [
    {
     "data": {
      "text/plain": [
       "2.4"
      ]
     },
     "execution_count": 17,
     "metadata": {},
     "output_type": "execute_result"
    }
   ],
   "source": [
    "# la valeur maximale / minimale d'une colonne\n",
    "df.tax.max()\n",
    "df[\"price_net\"].min()"
   ]
  },
  {
   "cell_type": "code",
   "execution_count": 20,
   "metadata": {},
   "outputs": [
    {
     "data": {
      "text/plain": [
       "array(['Canada', 'United States', 'Morocco', 'France', nan], dtype=object)"
      ]
     },
     "execution_count": 20,
     "metadata": {},
     "output_type": "execute_result"
    }
   ],
   "source": [
    "# trouver les valeurs uniques sur une colonne\n",
    "df[\"country\"].unique()\n",
    "# df.price_net.unique()"
   ]
  },
  {
   "cell_type": "code",
   "execution_count": 34,
   "metadata": {},
   "outputs": [
    {
     "data": {
      "text/plain": [
       "Female    0.529538\n",
       "Male      0.470462\n",
       "Name: gender, dtype: float64"
      ]
     },
     "execution_count": 34,
     "metadata": {},
     "output_type": "execute_result"
    }
   ],
   "source": [
    "# trouver la quantite d'entrees dans une categorie\n",
    "df[\"gender\"].value_counts()\n",
    "# on peut lui passer le parametre `normalize=True`\n",
    "# pour obtenir le resultat sous forme de pourcentage\n",
    "df.gender.value_counts(normalize=True)"
   ]
  },
  {
   "cell_type": "code",
   "execution_count": 46,
   "metadata": {},
   "outputs": [
    {
     "data": {
      "text/html": [
       "<div>\n",
       "<style scoped>\n",
       "    .dataframe tbody tr th:only-of-type {\n",
       "        vertical-align: middle;\n",
       "    }\n",
       "\n",
       "    .dataframe tbody tr th {\n",
       "        vertical-align: top;\n",
       "    }\n",
       "\n",
       "    .dataframe thead th {\n",
       "        text-align: right;\n",
       "    }\n",
       "</style>\n",
       "<table border=\"1\" class=\"dataframe\">\n",
       "  <thead>\n",
       "    <tr style=\"text-align: right;\">\n",
       "      <th></th>\n",
       "      <th>id</th>\n",
       "      <th>date</th>\n",
       "      <th>first_name</th>\n",
       "      <th>last_name</th>\n",
       "      <th>email</th>\n",
       "      <th>gender</th>\n",
       "      <th>country</th>\n",
       "      <th>price_paid</th>\n",
       "      <th>tax</th>\n",
       "      <th>price_net</th>\n",
       "      <th>country_code</th>\n",
       "    </tr>\n",
       "  </thead>\n",
       "  <tbody>\n",
       "    <tr>\n",
       "      <th>0</th>\n",
       "      <td>1</td>\n",
       "      <td>03/28/2021</td>\n",
       "      <td>Marylin</td>\n",
       "      <td>Alders</td>\n",
       "      <td>malders0@shop-pro.jp</td>\n",
       "      <td>Male</td>\n",
       "      <td>Canada</td>\n",
       "      <td>5.36</td>\n",
       "      <td>0.0</td>\n",
       "      <td>5.36</td>\n",
       "      <td>CA</td>\n",
       "    </tr>\n",
       "    <tr>\n",
       "      <th>1</th>\n",
       "      <td>2</td>\n",
       "      <td>03/19/2021</td>\n",
       "      <td>Hinda</td>\n",
       "      <td>Harridge</td>\n",
       "      <td>hharridge1@gnu.org</td>\n",
       "      <td>Female</td>\n",
       "      <td>Canada</td>\n",
       "      <td>8.32</td>\n",
       "      <td>0.0</td>\n",
       "      <td>8.32</td>\n",
       "      <td>CA</td>\n",
       "    </tr>\n",
       "    <tr>\n",
       "      <th>2</th>\n",
       "      <td>3</td>\n",
       "      <td>03/17/2021</td>\n",
       "      <td>Erl</td>\n",
       "      <td>Kilminster</td>\n",
       "      <td>ekilminster2@etsy.com</td>\n",
       "      <td>Male</td>\n",
       "      <td>United States</td>\n",
       "      <td>3.73</td>\n",
       "      <td>20.0</td>\n",
       "      <td>2.98</td>\n",
       "      <td>USA</td>\n",
       "    </tr>\n",
       "    <tr>\n",
       "      <th>3</th>\n",
       "      <td>4</td>\n",
       "      <td>03/19/2021</td>\n",
       "      <td>Grata</td>\n",
       "      <td>Brantl</td>\n",
       "      <td>gbrantl3@umn.edu</td>\n",
       "      <td>Female</td>\n",
       "      <td>United States</td>\n",
       "      <td>3.70</td>\n",
       "      <td>20.0</td>\n",
       "      <td>2.96</td>\n",
       "      <td>USA</td>\n",
       "    </tr>\n",
       "    <tr>\n",
       "      <th>4</th>\n",
       "      <td>5</td>\n",
       "      <td>03/24/2021</td>\n",
       "      <td>Kanya</td>\n",
       "      <td>Beasant</td>\n",
       "      <td>kbeasant4@jigsy.com</td>\n",
       "      <td>Male</td>\n",
       "      <td>Morocco</td>\n",
       "      <td>9.24</td>\n",
       "      <td>20.0</td>\n",
       "      <td>7.39</td>\n",
       "      <td>MA</td>\n",
       "    </tr>\n",
       "    <tr>\n",
       "      <th>...</th>\n",
       "      <td>...</td>\n",
       "      <td>...</td>\n",
       "      <td>...</td>\n",
       "      <td>...</td>\n",
       "      <td>...</td>\n",
       "      <td>...</td>\n",
       "      <td>...</td>\n",
       "      <td>...</td>\n",
       "      <td>...</td>\n",
       "      <td>...</td>\n",
       "      <td>...</td>\n",
       "    </tr>\n",
       "    <tr>\n",
       "      <th>995</th>\n",
       "      <td>996</td>\n",
       "      <td>03/24/2021</td>\n",
       "      <td>Duff</td>\n",
       "      <td>Errigo</td>\n",
       "      <td>derrigorn@elpais.com</td>\n",
       "      <td>Female</td>\n",
       "      <td>France</td>\n",
       "      <td>3.63</td>\n",
       "      <td>0.0</td>\n",
       "      <td>3.63</td>\n",
       "      <td>FR</td>\n",
       "    </tr>\n",
       "    <tr>\n",
       "      <th>996</th>\n",
       "      <td>997</td>\n",
       "      <td>03/17/2021</td>\n",
       "      <td>Ame</td>\n",
       "      <td>Rastall</td>\n",
       "      <td>arastallro@toplist.cz</td>\n",
       "      <td>Female</td>\n",
       "      <td>NaN</td>\n",
       "      <td>4.59</td>\n",
       "      <td>20.0</td>\n",
       "      <td>3.67</td>\n",
       "      <td>NaN</td>\n",
       "    </tr>\n",
       "    <tr>\n",
       "      <th>997</th>\n",
       "      <td>998</td>\n",
       "      <td>03/13/2021</td>\n",
       "      <td>Betty</td>\n",
       "      <td>Stickels</td>\n",
       "      <td>bstickelsrp@cloudflare.com</td>\n",
       "      <td>Male</td>\n",
       "      <td>United States</td>\n",
       "      <td>7.54</td>\n",
       "      <td>20.0</td>\n",
       "      <td>6.03</td>\n",
       "      <td>USA</td>\n",
       "    </tr>\n",
       "    <tr>\n",
       "      <th>998</th>\n",
       "      <td>999</td>\n",
       "      <td>03/17/2021</td>\n",
       "      <td>Paquito</td>\n",
       "      <td>Tesoe</td>\n",
       "      <td>ptesoerq@rakuten.co.jp</td>\n",
       "      <td>Male</td>\n",
       "      <td>United States</td>\n",
       "      <td>5.81</td>\n",
       "      <td>0.0</td>\n",
       "      <td>5.81</td>\n",
       "      <td>USA</td>\n",
       "    </tr>\n",
       "    <tr>\n",
       "      <th>999</th>\n",
       "      <td>1000</td>\n",
       "      <td>03/23/2021</td>\n",
       "      <td>Rochelle</td>\n",
       "      <td>Pringuer</td>\n",
       "      <td>rpringuerrr@house.gov</td>\n",
       "      <td>NaN</td>\n",
       "      <td>Canada</td>\n",
       "      <td>8.01</td>\n",
       "      <td>20.0</td>\n",
       "      <td>6.41</td>\n",
       "      <td>CA</td>\n",
       "    </tr>\n",
       "  </tbody>\n",
       "</table>\n",
       "<p>1000 rows × 11 columns</p>\n",
       "</div>"
      ],
      "text/plain": [
       "       id        date first_name   last_name                       email  \\\n",
       "0       1  03/28/2021    Marylin      Alders        malders0@shop-pro.jp   \n",
       "1       2  03/19/2021      Hinda    Harridge          hharridge1@gnu.org   \n",
       "2       3  03/17/2021        Erl  Kilminster       ekilminster2@etsy.com   \n",
       "3       4  03/19/2021      Grata      Brantl            gbrantl3@umn.edu   \n",
       "4       5  03/24/2021      Kanya     Beasant         kbeasant4@jigsy.com   \n",
       "..    ...         ...        ...         ...                         ...   \n",
       "995   996  03/24/2021       Duff      Errigo        derrigorn@elpais.com   \n",
       "996   997  03/17/2021        Ame     Rastall       arastallro@toplist.cz   \n",
       "997   998  03/13/2021      Betty    Stickels  bstickelsrp@cloudflare.com   \n",
       "998   999  03/17/2021    Paquito       Tesoe      ptesoerq@rakuten.co.jp   \n",
       "999  1000  03/23/2021   Rochelle    Pringuer       rpringuerrr@house.gov   \n",
       "\n",
       "     gender        country  price_paid   tax  price_net country_code  \n",
       "0      Male         Canada        5.36   0.0       5.36           CA  \n",
       "1    Female         Canada        8.32   0.0       8.32           CA  \n",
       "2      Male  United States        3.73  20.0       2.98          USA  \n",
       "3    Female  United States        3.70  20.0       2.96          USA  \n",
       "4      Male        Morocco        9.24  20.0       7.39           MA  \n",
       "..      ...            ...         ...   ...        ...          ...  \n",
       "995  Female         France        3.63   0.0       3.63           FR  \n",
       "996  Female            NaN        4.59  20.0       3.67          NaN  \n",
       "997    Male  United States        7.54  20.0       6.03          USA  \n",
       "998    Male  United States        5.81   0.0       5.81          USA  \n",
       "999     NaN         Canada        8.01  20.0       6.41           CA  \n",
       "\n",
       "[1000 rows x 11 columns]"
      ]
     },
     "execution_count": 46,
     "metadata": {},
     "output_type": "execute_result"
    }
   ],
   "source": [
    "df"
   ]
  },
  {
   "cell_type": "markdown",
   "metadata": {},
   "source": [
    "#### The `groupby` method"
   ]
  },
  {
   "cell_type": "code",
   "execution_count": 51,
   "metadata": {},
   "outputs": [
    {
     "data": {
      "text/plain": [
       "gender\n",
       "Female    5.581724\n",
       "Male      5.640822\n",
       "Name: price_net, dtype: float64"
      ]
     },
     "execution_count": 51,
     "metadata": {},
     "output_type": "execute_result"
    }
   ],
   "source": [
    "# disons qu'on veux calculer la somme des transactions\n",
    "# mais qu'on le veux par pays\n",
    "# c'est la fonction de la methode `groupby()`\n",
    "df.groupby(\"country\").sum()\n",
    "# et si on voulait la moyenne mais par genre\n",
    "df.groupby(\"gender\").mean()\n",
    "# ou la valeur minimale mais par taxe\n",
    "# df.groupby('tax').min()\n",
    "# etc..."
   ]
  },
  {
   "cell_type": "code",
   "execution_count": null,
   "metadata": {},
   "outputs": [],
   "source": [
    "# on pourrait egalement cibler une ligne en particulier\n",
    "# par exemple le prix hors taxe moyen par genre\n",
    "df.groupby(\"gender\")[\"price_net\"].mean()"
   ]
  },
  {
   "cell_type": "code",
   "execution_count": 62,
   "metadata": {},
   "outputs": [
    {
     "data": {
      "text/html": [
       "<div>\n",
       "<style scoped>\n",
       "    .dataframe tbody tr th:only-of-type {\n",
       "        vertical-align: middle;\n",
       "    }\n",
       "\n",
       "    .dataframe tbody tr th {\n",
       "        vertical-align: top;\n",
       "    }\n",
       "\n",
       "    .dataframe thead th {\n",
       "        text-align: right;\n",
       "    }\n",
       "</style>\n",
       "<table border=\"1\" class=\"dataframe\">\n",
       "  <thead>\n",
       "    <tr style=\"text-align: right;\">\n",
       "      <th></th>\n",
       "      <th></th>\n",
       "      <th>id</th>\n",
       "      <th>price_paid</th>\n",
       "      <th>tax</th>\n",
       "      <th>price_net</th>\n",
       "    </tr>\n",
       "    <tr>\n",
       "      <th>country</th>\n",
       "      <th>gender</th>\n",
       "      <th></th>\n",
       "      <th></th>\n",
       "      <th></th>\n",
       "      <th></th>\n",
       "    </tr>\n",
       "  </thead>\n",
       "  <tbody>\n",
       "    <tr>\n",
       "      <th rowspan=\"2\" valign=\"top\">Canada</th>\n",
       "      <th>Female</th>\n",
       "      <td>461.472973</td>\n",
       "      <td>6.419324</td>\n",
       "      <td>13.513514</td>\n",
       "      <td>5.550541</td>\n",
       "    </tr>\n",
       "    <tr>\n",
       "      <th>Male</th>\n",
       "      <td>406.000000</td>\n",
       "      <td>6.117467</td>\n",
       "      <td>13.600000</td>\n",
       "      <td>5.325600</td>\n",
       "    </tr>\n",
       "    <tr>\n",
       "      <th rowspan=\"2\" valign=\"top\">France</th>\n",
       "      <th>Female</th>\n",
       "      <td>512.648241</td>\n",
       "      <td>6.350352</td>\n",
       "      <td>12.060302</td>\n",
       "      <td>5.578744</td>\n",
       "    </tr>\n",
       "    <tr>\n",
       "      <th>Male</th>\n",
       "      <td>534.928177</td>\n",
       "      <td>6.498950</td>\n",
       "      <td>13.038674</td>\n",
       "      <td>5.681160</td>\n",
       "    </tr>\n",
       "    <tr>\n",
       "      <th rowspan=\"2\" valign=\"top\">Morocco</th>\n",
       "      <th>Female</th>\n",
       "      <td>479.925926</td>\n",
       "      <td>7.024815</td>\n",
       "      <td>17.037037</td>\n",
       "      <td>5.861852</td>\n",
       "    </tr>\n",
       "    <tr>\n",
       "      <th>Male</th>\n",
       "      <td>483.652174</td>\n",
       "      <td>6.146957</td>\n",
       "      <td>12.173913</td>\n",
       "      <td>5.379130</td>\n",
       "    </tr>\n",
       "    <tr>\n",
       "      <th rowspan=\"2\" valign=\"top\">United States</th>\n",
       "      <th>Female</th>\n",
       "      <td>487.282353</td>\n",
       "      <td>6.437118</td>\n",
       "      <td>13.529412</td>\n",
       "      <td>5.573824</td>\n",
       "    </tr>\n",
       "    <tr>\n",
       "      <th>Male</th>\n",
       "      <td>525.284722</td>\n",
       "      <td>6.672500</td>\n",
       "      <td>13.472222</td>\n",
       "      <td>5.784167</td>\n",
       "    </tr>\n",
       "  </tbody>\n",
       "</table>\n",
       "</div>"
      ],
      "text/plain": [
       "                              id  price_paid        tax  price_net\n",
       "country       gender                                              \n",
       "Canada        Female  461.472973    6.419324  13.513514   5.550541\n",
       "              Male    406.000000    6.117467  13.600000   5.325600\n",
       "France        Female  512.648241    6.350352  12.060302   5.578744\n",
       "              Male    534.928177    6.498950  13.038674   5.681160\n",
       "Morocco       Female  479.925926    7.024815  17.037037   5.861852\n",
       "              Male    483.652174    6.146957  12.173913   5.379130\n",
       "United States Female  487.282353    6.437118  13.529412   5.573824\n",
       "              Male    525.284722    6.672500  13.472222   5.784167"
      ]
     },
     "execution_count": 62,
     "metadata": {},
     "output_type": "execute_result"
    }
   ],
   "source": [
    "# on peut meme aller plus loin en considerant\n",
    "# plusieurs groupes\n",
    "# e.g. la moyenne par genre par pays\n",
    "df.groupby([\"country\", \"gender\"]).mean()"
   ]
  },
  {
   "cell_type": "markdown",
   "metadata": {},
   "source": [
    "### Basic plotting"
   ]
  },
  {
   "cell_type": "code",
   "execution_count": 58,
   "metadata": {},
   "outputs": [
    {
     "data": {
      "text/plain": [
       "date\n",
       "03/01/2021    216.01\n",
       "03/02/2021    262.92\n",
       "03/03/2021    207.17\n",
       "03/04/2021    218.45\n",
       "03/05/2021    215.71\n",
       "03/06/2021    202.90\n",
       "03/07/2021    212.56\n",
       "03/08/2021    158.94\n",
       "03/09/2021    210.19\n",
       "03/10/2021    201.72\n",
       "03/11/2021    161.38\n",
       "03/12/2021    198.21\n",
       "03/13/2021    216.20\n",
       "03/14/2021    267.04\n",
       "03/15/2021    165.82\n",
       "03/16/2021    277.60\n",
       "03/17/2021    203.39\n",
       "03/18/2021    189.62\n",
       "03/19/2021    272.92\n",
       "03/20/2021    292.83\n",
       "03/21/2021    231.46\n",
       "03/22/2021    218.67\n",
       "03/23/2021    228.32\n",
       "03/24/2021    193.71\n",
       "03/25/2021    194.04\n",
       "03/26/2021    185.12\n",
       "03/27/2021    250.63\n",
       "03/28/2021    233.76\n",
       "03/29/2021    226.65\n",
       "03/30/2021    147.99\n",
       "Name: price_paid, dtype: float64"
      ]
     },
     "execution_count": 58,
     "metadata": {},
     "output_type": "execute_result"
    }
   ],
   "source": [
    "# disons qu'on veut savoir le chiffre d'affaires\n",
    "# total par jour dans notre DF\n",
    "df.groupby(\"date\")[\"price_paid\"].sum()"
   ]
  },
  {
   "cell_type": "code",
   "execution_count": 116,
   "metadata": {},
   "outputs": [
    {
     "data": {
      "text/plain": [
       "<AxesSubplot:xlabel='date'>"
      ]
     },
     "execution_count": 116,
     "metadata": {},
     "output_type": "execute_result"
    },
    {
     "data": {
      "image/png": "[encoded data removed]",
      "text/plain": [
       "<Figure size 576x360 with 1 Axes>"
      ]
     },
     "metadata": {
      "needs_background": "light"
     },
     "output_type": "display_data"
    }
   ],
   "source": [
    "# mais au lieu de toutes ces lignes on veut un graphique\n",
    "# c'est la que `matplotlib` fait son entree\n",
    "# df.groupby('date')['price_paid'].sum().plot()\n",
    "# NOTE on a pas eu besoin d'utiliser la bibliotheque\n",
    "# parce que pandas vient avec la methode `plot()`\n",
    "# on peut bien-entendu indiquer la taille du rendu\n",
    "# `figsize([width, height])` in INCHES\n",
    "df.groupby(\"date\")[\"price_paid\"].sum().plot(\n",
    "    figsize=[8, 5]\n",
    ")  # plot (default: line)"
   ]
  },
  {
   "cell_type": "markdown",
   "metadata": {},
   "source": [
    "#### Other chart types"
   ]
  },
  {
   "cell_type": "code",
   "execution_count": 114,
   "metadata": {},
   "outputs": [
    {
     "data": {
      "text/plain": [
       "<AxesSubplot:title={'center':'Le prix total moyen par pays'}, ylabel='price_paid'>"
      ]
     },
     "execution_count": 114,
     "metadata": {},
     "output_type": "execute_result"
    },
    {
     "data": {
      "image/png": "[encoded data removed]",
      "text/plain": [
       "<Figure size 576x360 with 1 Axes>"
      ]
     },
     "metadata": {},
     "output_type": "display_data"
    }
   ],
   "source": [
    "# si au lieu d'une courbe on voulait un graphique en secteur (camembert)\n",
    "# df.groupby('country')['price_paid'].mean().plot.pie()\n",
    "# et qu'on voulait un titre aussi\n",
    "caption = \"Le prix total moyen par pays\"\n",
    "df.groupby(\"country\")[\"price_paid\"].mean().plot.pie(\n",
    "    title=caption, figsize=(8, 5)\n",
    ")"
   ]
  },
  {
   "cell_type": "markdown",
   "metadata": {},
   "source": [
    "`plot` accepte les methodes ('kind', types de graphique):<br />\n",
    "- line\n",
    "- bar (vertical)\n",
    "- barh (horizontal)\n",
    "- hist\n",
    "- box\n",
    "- kde (requires `scipy` module)\n",
    "- density (same as kde)\n",
    "- area\n",
    "- pie\n",
    "- scatter\n",
    "- hexbin"
   ]
  },
  {
   "cell_type": "code",
   "execution_count": 120,
   "metadata": {},
   "outputs": [
    {
     "data": {
      "text/plain": [
       "<AxesSubplot:xlabel='country'>"
      ]
     },
     "execution_count": 120,
     "metadata": {},
     "output_type": "execute_result"
    },
    {
     "data": {
      "image/png": "[encoded data removed]",
      "text/plain": [
       "<Figure size 432x288 with 1 Axes>"
      ]
     },
     "metadata": {
      "needs_background": "light"
     },
     "output_type": "display_data"
    }
   ],
   "source": [
    "df.groupby(\"country\")[\"price_net\"].sum().plot.bar(rot=45, legend=True)"
   ]
  }
 ],
 "metadata": {
  "interpreter": {
   "hash": "7f4192e54f6299906c0709a8d5602ad811801dc37a63f92f15de37236a357d11"
  },
  "kernelspec": {
   "display_name": "Python 3.10.2 ('.py310': venv)",
   "language": "python",
   "name": "python3"
  },
  "language_info": {
   "codemirror_mode": {
    "name": "ipython",
    "version": 3
   },
   "file_extension": ".py",
   "mimetype": "text/x-python",
   "name": "python",
   "nbconvert_exporter": "python",
   "pygments_lexer": "ipython3",
   "version": "3.10.2"
  },
  "orig_nbformat": 4
 },
 "nbformat": 4,
 "nbformat_minor": 2
}
