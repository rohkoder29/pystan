{
 "cells": [
  {
   "cell_type": "markdown",
   "metadata": {},
   "source": [
    "#####  SCENARIO:\n",
    "\n",
    "> __You are working as a Data Analyst/Scientist at Rohkorp Consolidated. The CEO wants you to have a look at the commercial data for this year & to present your findings.__\n",
    "___"
   ]
  },
  {
   "cell_type": "markdown",
   "metadata": {},
   "source": [
    "# Import Libraries & Load Dataset"
   ]
  },
  {
   "cell_type": "markdown",
   "metadata": {},
   "source": [
    "### Imports"
   ]
  },
  {
   "cell_type": "markdown",
   "metadata": {},
   "source": [
    "#### Imports"
   ]
  },
  {
   "cell_type": "markdown",
   "metadata": {},
   "source": [
    "Version:\n",
    "* --Python 3.8.5--\n",
    "* autoviz==0.0.81\n",
    "* numpy==1.19.3\n",
    "* openpyxl==3.0.5\n",
    "* pandas==1.2.0\n",
    "* pandas-profiling==2.9.0\n",
    "* plotly==4.14.1\n",
    "* plotly-express==0.4.1\n",
    "* xlrd==2.0.1"
   ]
  },
  {
   "cell_type": "code",
   "execution_count": null,
   "metadata": {},
   "outputs": [],
   "source": [
    "# Imports:\n",
    "import pandas as pd\n",
    "from pandas_profiling import ProfileReport\n",
    "import numpy as np\n",
    "import plotly\n",
    "import plotly_express as px\n",
    "import plotly.graph_objects as go\n",
    "import plotly.offline as pyo\n",
    "from autoviz.AutoViz_Class import AutoViz_Class\n",
    "%matplotlib inline"
   ]
  },
  {
   "cell_type": "markdown",
   "metadata": {},
   "source": [
    "#### Plotly Template Settings"
   ]
  },
  {
   "cell_type": "code",
   "execution_count": null,
   "metadata": {},
   "outputs": [],
   "source": [
    "# -- Settings Plotly template\n",
    "#      Reference Link:\n",
    "#      https://plotly.com/python/templates/\n",
    "#      Try other themes: 'plotly_dark', 'plotly_white', 'ggplot2', 'seaborn', 'simple_white'\n",
    "template_style = \"plotly_dark\""
   ]
  },
  {
   "cell_type": "markdown",
   "metadata": {},
   "source": [
    "### Load DataFrame"
   ]
  },
  {
   "cell_type": "markdown",
   "metadata": {},
   "source": [
    "**Load DataFrame and store it in a variable called \"df\"**"
   ]
  },
  {
   "cell_type": "code",
   "execution_count": null,
   "metadata": {},
   "outputs": [],
   "source": [
    "dataset = \"../cif_sales_analysis/data/data.xlsx\"\n",
    "df = pd.read_excel(dataset, index_col=False)"
   ]
  },
  {
   "cell_type": "markdown",
   "metadata": {},
   "source": [
    "**Inspect first 5 rows of the DataFrame**"
   ]
  },
  {
   "cell_type": "code",
   "execution_count": null,
   "metadata": {
    "scrolled": true
   },
   "outputs": [],
   "source": [
    "df = df.reset_index(drop=True)\n",
    "# df.head()"
   ]
  },
  {
   "cell_type": "markdown",
   "metadata": {},
   "source": [
    "# Explore Dataset"
   ]
  },
  {
   "cell_type": "markdown",
   "metadata": {},
   "source": [
    "## Traditionally"
   ]
  },
  {
   "cell_type": "code",
   "execution_count": null,
   "metadata": {},
   "outputs": [],
   "source": [
    "# Basic Info about DataFrame\n",
    "# df.info()"
   ]
  },
  {
   "cell_type": "markdown",
   "metadata": {},
   "source": [
    "We can already notice that there's no missing values in the dataset."
   ]
  },
  {
   "cell_type": "code",
   "execution_count": null,
   "metadata": {
    "scrolled": true
   },
   "outputs": [],
   "source": [
    "# Describe Method\n",
    "# df.describe()"
   ]
  },
  {
   "cell_type": "code",
   "execution_count": null,
   "metadata": {},
   "outputs": [],
   "source": [
    "# Get a view of unique values in column, e.g. 'Ship Mode'\n",
    "# ship_modes = set(df[\"Ship Mode\"].tolist())\n",
    "# ship_modes\n",
    "# df[\"Ship Mode\"].unique()"
   ]
  },
  {
   "cell_type": "code",
   "execution_count": null,
   "metadata": {},
   "outputs": [],
   "source": [
    "# NaN count for each column\n",
    "# df.isna().sum()"
   ]
  },
  {
   "cell_type": "markdown",
   "metadata": {},
   "source": [
    "### Clean Data"
   ]
  },
  {
   "cell_type": "markdown",
   "metadata": {},
   "source": [
    "I'm gonna drop the following columns:"
   ]
  },
  {
   "cell_type": "code",
   "execution_count": null,
   "metadata": {},
   "outputs": [],
   "source": [
    "df = df.drop(columns=[\"Row ID\", \"Order ID\", \"Customer ID\", \"Postal Code\", \"Country\", \"Product ID\"])"
   ]
  },
  {
   "cell_type": "markdown",
   "metadata": {},
   "source": [
    "## Automated Reports"
   ]
  },
  {
   "cell_type": "markdown",
   "metadata": {},
   "source": [
    "#### Pandas Profiling Report"
   ]
  },
  {
   "cell_type": "code",
   "execution_count": null,
   "metadata": {},
   "outputs": [],
   "source": [
    "# # Generate Pandas Profiling Report\n",
    "# profile = ProfileReport(df, title=\"Sales Profiling Report\")\n",
    "\n",
    "# # View in Notebook\n",
    "# profile.to_widgets()"
   ]
  },
  {
   "cell_type": "code",
   "execution_count": null,
   "metadata": {},
   "outputs": [],
   "source": [
    "# # Export Pandas Profiling Report to HTML\n",
    "# profile.to_file(f\"{directory}/sales_profiling_report.html\")"
   ]
  },
  {
   "cell_type": "markdown",
   "metadata": {},
   "source": [
    "#### Auto Viz Report"
   ]
  },
  {
   "cell_type": "code",
   "execution_count": null,
   "metadata": {},
   "outputs": [],
   "source": [
    "# # initiate AutoViz class\n",
    "# AV = AutoViz_Class()\n",
    "# # create AutoViz object for the DF\n",
    "# df_autoviz = AV.AutoViz(dataset, chart_format=\"bokeh\")"
   ]
  },
  {
   "cell_type": "markdown",
   "metadata": {},
   "source": [
    "# Data Preperation & Analysis"
   ]
  },
  {
   "cell_type": "markdown",
   "metadata": {},
   "source": [
    "### 🚩 TASKS:\n",
    "- What was the highest Sale in 2020?\n",
    "- What is average discount rate of charis?\n",
    "- Add extra columns to seperate Year & Month from the Order Date\n",
    "- Add a new column to calculate the Profit Margin for each sales record\n",
    "- Export manipulated dataframe to Excel\n",
    "- Create a new dataframe to reflect total Profit & Sales by Sub-Category\n",
    "- Develop a function, to return a dataframe which is grouped by a particular column (as an input)"
   ]
  },
  {
   "cell_type": "markdown",
   "metadata": {},
   "source": [
    "**What was the highest Sale?**"
   ]
  },
  {
   "cell_type": "code",
   "execution_count": null,
   "metadata": {},
   "outputs": [],
   "source": [
    "# Highest Sale (Note that all sales are in 2020)\n",
    "highest_sale = df.nlargest(1, \"Sales\")\n",
    "highest_sale"
   ]
  },
  {
   "cell_type": "markdown",
   "metadata": {},
   "source": [
    "**What is average Discount of chairs?**"
   ]
  },
  {
   "cell_type": "code",
   "execution_count": null,
   "metadata": {},
   "outputs": [],
   "source": [
    "# Create Boolean mask\n",
    "mask = df.loc[df[\"Sub-Category\"] == \"Chairs\"]\n",
    "\n",
    "# Use Boolean mask to filter dataframe\n",
    "mean_discount = mask[\"Discount\"].mean().__round__(2)\n",
    "f\"On average, we set ${mean_discount} of discount on chairs.\""
   ]
  },
  {
   "cell_type": "markdown",
   "metadata": {},
   "source": [
    "**Add an extra column for \"Order Month\" & \"Order Year\"**"
   ]
  },
  {
   "cell_type": "code",
   "execution_count": null,
   "metadata": {},
   "outputs": [],
   "source": [
    "# Order Month\n",
    "df[\"Order Month\"] = df[\"Order Date\"].dt.month\n",
    "# or df[\"Order Month\"] = df[\"Order Date\"].apply(lambda x: x.strftime(\"%m\"))\n",
    "# Order Year\n",
    "df[\"Order Year\"] = df[\"Order Date\"].dt.year\n",
    "# or df[\"Order Year\"] = df[\"Order Date\"].apply(lambda x: x.strftime(\"%Y\"))"
   ]
  },
  {
   "cell_type": "markdown",
   "metadata": {},
   "source": [
    "**Add a new column to calculate the Profit Margin for each sales record**"
   ]
  },
  {
   "cell_type": "code",
   "execution_count": null,
   "metadata": {},
   "outputs": [],
   "source": [
    "# Profit Margin\n",
    "df[\"Profit Margin\"] = df[\"Profit\"] / df[\"Sales\"]"
   ]
  },
  {
   "cell_type": "markdown",
   "metadata": {},
   "source": [
    "**Export manipulated dataframe back to excel**"
   ]
  },
  {
   "cell_type": "code",
   "execution_count": null,
   "metadata": {},
   "outputs": [],
   "source": []
  },
  {
   "cell_type": "markdown",
   "metadata": {},
   "source": [
    "Round numerical data"
   ]
  },
  {
   "cell_type": "code",
   "execution_count": null,
   "metadata": {},
   "outputs": [],
   "source": [
    "for col in df.select_dtypes(include=['float64']).columns:\n",
    "    df[col] = df[col].round(2)\n",
    "# print(df.select_dtypes(include=['float64']))"
   ]
  },
  {
   "cell_type": "markdown",
   "metadata": {},
   "source": [
    "#### Total Profit & Sales by Sub-Category"
   ]
  },
  {
   "cell_type": "code",
   "execution_count": null,
   "metadata": {},
   "outputs": [],
   "source": [
    "# Group By Sub-Category [SUM]\n",
    "sub_category_group = df.groupby(\"Sub-Category\").sum()\n",
    "\n",
    "# Reset Index\n",
    "sub_category_group.reset_index(inplace=True)\n",
    "sub_category_group"
   ]
  },
  {
   "cell_type": "markdown",
   "metadata": {},
   "source": [
    "#### Develop a function, to return a dataframe which is grouped by a particular column (as an input)"
   ]
  },
  {
   "cell_type": "code",
   "execution_count": null,
   "metadata": {},
   "outputs": [],
   "source": [
    "# Groupby as a function\n",
    "def grouped_data(column: str) -> pd.DataFrame:\n",
    "    \"\"\"\n",
    "    Groupby column and return DataFrame\n",
    "    :param:\n",
    "    column : column name, default None\n",
    "        column name which we want to group by\n",
    "    \"\"\"\n",
    "    df_tmp = df.groupby(column).sum().reset_index()\n",
    "    df_tmp.reset_index()\n",
    "    return df_tmp\n",
    "\n",
    "# Group DataFrame by Segment\n",
    "grouped_data(\"Segment\")"
   ]
  },
  {
   "cell_type": "markdown",
   "metadata": {},
   "source": [
    "# Further Deep Dive & Visualization"
   ]
  },
  {
   "cell_type": "markdown",
   "metadata": {},
   "source": [
    "### 🚩 Objective: \n",
    "- Further Analysis/Deep Dive using various kind of Charts\n",
    "- Prepare/Refactor Dataframe for different Charttypes\n",
    "- Generate & Export 'Ready-To-Present- Charts': Clean & Interactive\n",
    "-----\n",
    "#### 📊 Chart Types:\n",
    "- [x]  Histogram\n",
    "- [x] Boxpot\n",
    "- [x] Various Barplots\n",
    "- [x] Scatterplot\n",
    "- [x] Linechart"
   ]
  },
  {
   "cell_type": "code",
   "execution_count": null,
   "metadata": {},
   "outputs": [],
   "source": [
    "# directory to export figures\n",
    "directory = \"/home/rohkoder29/Documents/year2022/python/data_science/cif_sales_analysis/output\""
   ]
  },
  {
   "cell_type": "markdown",
   "metadata": {},
   "source": [
    "**Distribution Sales [Histogram]**"
   ]
  },
  {
   "cell_type": "code",
   "execution_count": null,
   "metadata": {},
   "outputs": [],
   "source": [
    "# Quick Stats Overview for Sales\n",
    "df[\"Sales\"].describe()"
   ]
  },
  {
   "cell_type": "code",
   "execution_count": null,
   "metadata": {},
   "outputs": [],
   "source": [
    "# Create Chart (with plotly_express)\n",
    "fig1 = px.histogram(df,\n",
    "                    x=\"Sales\",\n",
    "                    template=template_style)\n",
    "# Plot Chart\n",
    "fig1.show()\n",
    "# Export Chart to HTML\n",
    "pyo.plot(fig1, filename=f\"{directory}/df_fig1.html\", auto_open=False)"
   ]
  },
  {
   "cell_type": "markdown",
   "metadata": {},
   "source": [
    "**Show the distribution and skewness of Sales [Boxplot]**"
   ]
  },
  {
   "cell_type": "code",
   "execution_count": null,
   "metadata": {},
   "outputs": [],
   "source": [
    "# Create Chart\n",
    "fig2 = px.box(df,\n",
    "              y=\"Sales\",\n",
    "              range_y=[0, 1000],\n",
    "              template=template_style)\n",
    "# Plot Chart\n",
    "fig2.show()\n",
    "# Export Chart to HTML\n",
    "pyo.plot(fig2, filename=f\"{directory}/df_fig2.html\", auto_open=False)"
   ]
  },
  {
   "cell_type": "markdown",
   "metadata": {},
   "source": [
    "**Plot Sales by Sub-Category [Bar]**"
   ]
  },
  {
   "cell_type": "code",
   "execution_count": null,
   "metadata": {},
   "outputs": [],
   "source": [
    "# Create Dataframe\n",
    "df_sub_cat = grouped_data(\"Sub-Category\")\n",
    "df_sub_cat"
   ]
  },
  {
   "cell_type": "code",
   "execution_count": null,
   "metadata": {},
   "outputs": [],
   "source": [
    "# Create Chart\n",
    "fig3 = px.bar(df_sub_cat, \n",
    "              x=\"Sub-Category\", \n",
    "              y=\"Sales\",\n",
    "              title=\"<b>Sales by Sub-Category<b>\",\n",
    "              template=template_style)\n",
    "\n",
    "# Display Plot\n",
    "fig3.show()\n",
    "\n",
    "# Export Chart to HTML\n",
    "pyo.plot(fig3, filename=f\"{directory}/sub_cat_sales_fig3.html\", auto_open=False)"
   ]
  },
  {
   "cell_type": "markdown",
   "metadata": {},
   "source": [
    "**Plot Profit by Sub-Category**"
   ]
  },
  {
   "cell_type": "code",
   "execution_count": null,
   "metadata": {},
   "outputs": [],
   "source": [
    "# Create Chart\n",
    "fig4 = px.bar(df_sub_cat,\n",
    "              x=\"Sub-Category\",\n",
    "              y=\"Profit\",\n",
    "              title=\"<b>Sales by Profit</b>\",\n",
    "              template=template_style)\n",
    "\n",
    "# Display Plot\n",
    "fig4.show()\n",
    "\n",
    "# Export Chart to HTML\n",
    "pyo.plot(fig4, filename=f\"{directory}/df_sub_cat_fig4.html\", auto_open=False)"
   ]
  },
  {
   "cell_type": "markdown",
   "metadata": {},
   "source": [
    "**Plot Sales & Profit by Sub-Category**"
   ]
  },
  {
   "cell_type": "code",
   "execution_count": null,
   "metadata": {},
   "outputs": [],
   "source": [
    "# Create Chart\n",
    "fig5 = px.bar(df_sub_cat,\n",
    "              x=\"Sub-Category\",\n",
    "              y=\"Sales\",\n",
    "              color=\"Profit\",\n",
    "              color_continuous_scale=[\"red\", \"yellow\", \"green\"],\n",
    "              title=\"<b>Sales & Profit by Sub-Category</b>\",\n",
    "              template=template_style)\n",
    "\n",
    "# Display Plot\n",
    "fig5.show()\n",
    "\n",
    "# Export Chart to HTML\n",
    "pyo.plot(fig5, filename=f\"{directory}/df_sub_cat_fig5.html\", auto_open=False)"
   ]
  },
  {
   "cell_type": "markdown",
   "metadata": {},
   "source": [
    "#### Inspect Negative Profit of Tables"
   ]
  },
  {
   "cell_type": "markdown",
   "metadata": {},
   "source": [
    "Is there any linear correlation between Sales/Profit & Discount? [Scatterplot]"
   ]
  },
  {
   "cell_type": "code",
   "execution_count": null,
   "metadata": {},
   "outputs": [],
   "source": [
    "# Create Chart\n",
    "fig6 = px.scatter(df,\n",
    "                  x=\"Sales\",\n",
    "                  y=\"Profit\",\n",
    "                  color=\"Discount\",\n",
    "                  title=\"<b>Scatterplot Sales/Profit by Discount</b>\",\n",
    "                  template=template_style)\n",
    "\n",
    "# Display Plot\n",
    "fig6.show()\n",
    "\n",
    "# Export Chart to HTML\n",
    "pyo.plot(fig6, filename=f\"{directory}/df_fig6.html\", auto_open=False)"
   ]
  },
  {
   "cell_type": "markdown",
   "metadata": {},
   "source": [
    "We can notice that higher discount rates result in a increased deficit."
   ]
  },
  {
   "cell_type": "markdown",
   "metadata": {},
   "source": [
    "**Check Discount mean by Sub Category**"
   ]
  },
  {
   "cell_type": "code",
   "execution_count": null,
   "metadata": {},
   "outputs": [],
   "source": [
    "# Create new dataframe: Group by 'Sub-Category' then aggregate the mean of 'Discount' and sum of 'Profit'\n",
    "df_disc_subcat = df.groupby(\"Sub-Category\").agg({\"Discount\":\"mean\",\n",
    "                                                 \"Profit\":\"sum\"})\n",
    "\n",
    "# Display first 5 rows of new dataframe\n",
    "df_disc_subcat.head()"
   ]
  },
  {
   "cell_type": "markdown",
   "metadata": {},
   "source": [
    "**Plot Mean Discount by Sub Category**"
   ]
  },
  {
   "cell_type": "code",
   "execution_count": null,
   "metadata": {},
   "outputs": [],
   "source": [
    "# Create Chart\n",
    "fig7 = px.bar(df_disc_subcat,\n",
    "              x=df_disc_subcat.index,\n",
    "              y=\"Discount\",\n",
    "              color=\"Profit\",\n",
    "              color_continuous_scale=['red', \"yellow\", \"green\"],\n",
    "              title=\"<b>Mean Discount by Sub-Category</b>\",\n",
    "              template=template_style)\n",
    "\n",
    "# Display Plot\n",
    "fig7.show()\n",
    "\n",
    "# Export Chart to HTML\n",
    "pyo.plot(fig7, filename=f\"{directory}/df_disc_subcat_fig7.html\", auto_open=False)"
   ]
  },
  {
   "cell_type": "markdown",
   "metadata": {},
   "source": [
    "**Plot Sales & Profit Development for the year 2020**"
   ]
  },
  {
   "cell_type": "code",
   "execution_count": null,
   "metadata": {},
   "outputs": [],
   "source": [
    "# Sort Values by Order Date\n",
    "df_sorted_date = df.sort_values([\"Order Date\"]).reset_index(drop=True)\n",
    "\n",
    "# Add cumulative Sales & Profit (new columns)\n",
    "df_sorted_date[\"Cumulative Sales\"] = df_sorted_date[\"Sales\"].cumsum()\n",
    "df_sorted_date[\"Cumulative Profit\"] = df_sorted_date[\"Profit\"].cumsum()\n",
    "\n",
    "# Print tail & head of sorted dataframe\n",
    "df_sorted_date.tail()"
   ]
  },
  {
   "cell_type": "code",
   "execution_count": null,
   "metadata": {},
   "outputs": [],
   "source": [
    "# # validation\n",
    "# df[\"Sales\"].sum().__round__(2)  # must be == to the last row of the df_sorted_date df\n",
    "# df[\"Profit\"].sum().__round__(2)  # must be == to the last row of the df_sorted_date df"
   ]
  },
  {
   "cell_type": "code",
   "execution_count": null,
   "metadata": {},
   "outputs": [],
   "source": [
    "# Create Chart\n",
    "fig8 = px.line(df_sorted_date,\n",
    "               x=\"Order Date\",\n",
    "               y=[\"Cumulative Sales\", \"Cumulative Profit\"],\n",
    "               title=\"<b>Sales/Profit Development</b>\",\n",
    "               template=template_style)\n",
    "\n",
    "# Display Plot\n",
    "fig8.show()\n",
    "\n",
    "# Export Chart to HTML\n",
    "pyo.plot(fig8, filename=f\"{directory}/df_sorted_date_fig8.html\", auto_open=False)"
   ]
  },
  {
   "cell_type": "markdown",
   "metadata": {},
   "source": [
    "### **Personal stuff**"
   ]
  },
  {
   "cell_type": "code",
   "execution_count": null,
   "metadata": {},
   "outputs": [],
   "source": [
    "df.head(1)"
   ]
  },
  {
   "cell_type": "markdown",
   "metadata": {},
   "source": [
    "Let's create a new DF which is the copy of the current one."
   ]
  },
  {
   "cell_type": "code",
   "execution_count": null,
   "metadata": {},
   "outputs": [],
   "source": [
    "df_me = df.copy()"
   ]
  },
  {
   "cell_type": "code",
   "execution_count": null,
   "metadata": {},
   "outputs": [],
   "source": [
    "df_me.head(1)"
   ]
  },
  {
   "cell_type": "markdown",
   "metadata": {},
   "source": [
    "**What is the total sales by region?**"
   ]
  },
  {
   "cell_type": "code",
   "execution_count": null,
   "metadata": {},
   "outputs": [],
   "source": [
    "df_me.groupby(\"Region\").sum()[\"Sales\"].reset_index()"
   ]
  },
  {
   "cell_type": "code",
   "execution_count": null,
   "metadata": {},
   "outputs": [],
   "source": [
    "fig9 = px.bar(df_me,\n",
    "              x=\"Region\",\n",
    "              y=\"Sales\",\n",
    "              title=\"<b>Sales by Region</b>\",\n",
    "              template=\"plotly_dark\")\n",
    "fig9.show()"
   ]
  },
  {
   "cell_type": "code",
   "execution_count": null,
   "metadata": {},
   "outputs": [],
   "source": [
    "fig9_1 = px.pie(df_me,\n",
    "                values=\"Sales\",\n",
    "                names=\"Region\",\n",
    "                color=\"Region\",\n",
    "                hole=0,\n",
    "                title=\"<b>Sales Distribution by Region</b>\",\n",
    "                template=template_style)\n",
    "fig9_1.update_traces(textposition=\"inside\",\n",
    "                     textinfo=\"percent+label\",\n",
    "                     marker=dict(line=dict(color=\"#000000\", width=1.25)),\n",
    "                     pull=[0, 0, 0.15, 0], opacity=.9, rotation=0)\n",
    "fig9_1.show()"
   ]
  },
  {
   "cell_type": "markdown",
   "metadata": {},
   "source": [
    "**Which state has the most unit sold in each quarter?**"
   ]
  },
  {
   "cell_type": "markdown",
   "metadata": {},
   "source": [
    "Let's create a new column \"Quarter\" for this purpose"
   ]
  },
  {
   "cell_type": "code",
   "execution_count": null,
   "metadata": {},
   "outputs": [],
   "source": [
    "# function to get quarter from month\n",
    "def quarter_to_month(month: int) -> str:\n",
    "    quarters = {\n",
    "    \"1st\": [1, 2, 3],\n",
    "    \"2nd\": [4, 5, 6],\n",
    "    \"3rd\": [7, 8, 9],\n",
    "    \"4th\": [10, 11, 12]\n",
    "    }\n",
    "\n",
    "    for idx, quarter in quarters.items():\n",
    "        if month in quarter:\n",
    "            return idx"
   ]
  },
  {
   "cell_type": "code",
   "execution_count": null,
   "metadata": {},
   "outputs": [],
   "source": [
    "# new column\n",
    "df_me[\"Quarter\"] = df_me[\"Order Month\"].apply(lambda x: quarter_to_month(x))\n",
    "df_me.head(1)"
   ]
  },
  {
   "cell_type": "code",
   "execution_count": null,
   "metadata": {},
   "outputs": [],
   "source": [
    "# now let's group by quarter the states\n",
    "quarter_state = pd.DataFrame(df_me.groupby([\"Quarter\", \"State\"]).sum()[\"Quantity\"])\n",
    "quarter_state.sort_values([\"Quarter\", \"Quantity\"], ascending=False).head()"
   ]
  },
  {
   "cell_type": "code",
   "execution_count": null,
   "metadata": {},
   "outputs": [],
   "source": [
    "df_qs = pd.DataFrame(df_me.groupby([\"Quarter\", \"State\"]).sum())"
   ]
  },
  {
   "cell_type": "code",
   "execution_count": null,
   "metadata": {},
   "outputs": [],
   "source": [
    "df_qs.head().sort_values([\"Quantity\"], ascending=False)"
   ]
  },
  {
   "cell_type": "code",
   "execution_count": null,
   "metadata": {},
   "outputs": [],
   "source": [
    "df_qs.sort_values([\"Quantity\"], ascending=False)"
   ]
  },
  {
   "cell_type": "markdown",
   "metadata": {},
   "source": [
    "Question not yet resolved"
   ]
  },
  {
   "cell_type": "markdown",
   "metadata": {},
   "source": [
    "**What is the Sales Trend in the different Regions?**"
   ]
  }
 ],
 "metadata": {
  "interpreter": {
   "hash": "916dbcbb3f70747c44a77c7bcd40155683ae19c65e1c03b4aa3499c5328201f1"
  },
  "kernelspec": {
   "display_name": "Python 3.10.4 64-bit",
   "language": "python",
   "name": "python3"
  },
  "language_info": {
   "codemirror_mode": {
    "name": "ipython",
    "version": 3
   },
   "file_extension": ".py",
   "mimetype": "text/x-python",
   "name": "python",
   "nbconvert_exporter": "python",
   "pygments_lexer": "ipython3",
   "version": "3.10.4"
  },
  "toc": {
   "base_numbering": 1,
   "nav_menu": {},
   "number_sections": false,
   "sideBar": true,
   "skip_h1_title": false,
   "title_cell": "Table of Contents",
   "title_sidebar": "Contents",
   "toc_cell": false,
   "toc_position": {},
   "toc_section_display": true,
   "toc_window_display": false
  }
 },
 "nbformat": 4,
 "nbformat_minor": 4
}
