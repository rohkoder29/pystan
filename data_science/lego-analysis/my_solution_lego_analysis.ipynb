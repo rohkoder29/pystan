{
 "cells": [
  {
   "cell_type": "markdown",
   "metadata": {},
   "source": [
    "This my solution for the project 'lego-analysis'."
   ]
  },
  {
   "cell_type": "markdown",
   "metadata": {},
   "source": [
    "#### Imports"
   ]
  },
  {
   "cell_type": "code",
   "execution_count": null,
   "metadata": {},
   "outputs": [],
   "source": [
    "import pandas as pd\n",
    "import matplotlib.pyplot as plt"
   ]
  },
  {
   "cell_type": "markdown",
   "metadata": {},
   "source": [
    "#### Read the necessary files"
   ]
  },
  {
   "cell_type": "code",
   "execution_count": null,
   "metadata": {},
   "outputs": [],
   "source": [
    "df = pd.read_csv(\"datasets/lego_sets.csv\")"
   ]
  },
  {
   "cell_type": "markdown",
   "metadata": {},
   "source": [
    "#### Gathering some overall info about the data in the DataFrame"
   ]
  },
  {
   "cell_type": "code",
   "execution_count": null,
   "metadata": {},
   "outputs": [],
   "source": [
    "df.info()"
   ]
  },
  {
   "cell_type": "markdown",
   "metadata": {},
   "source": [
    "#### Cleaning up the data (accordingly to requirements)"
   ]
  },
  {
   "cell_type": "markdown",
   "metadata": {},
   "source": [
    "Okay, let's drop the rows with invalid (NaN) values"
   ]
  },
  {
   "cell_type": "code",
   "execution_count": null,
   "metadata": {},
   "outputs": [],
   "source": [
    "df = df[df[\"set_num\"].notnull()]"
   ]
  },
  {
   "cell_type": "markdown",
   "metadata": {},
   "source": [
    "NOTE: There are still missing values in the 'num_parts' column but since it is not critical to our analysis we can leave it as it is."
   ]
  },
  {
   "cell_type": "markdown",
   "metadata": {},
   "source": [
    "### Question 1: What percentage of all licensed sets ever released were Star Wars themed?"
   ]
  },
  {
   "cell_type": "markdown",
   "metadata": {},
   "source": [
    "- So let's take a look at the `theme_name` and `parent_name` columns"
   ]
  },
  {
   "cell_type": "code",
   "execution_count": null,
   "metadata": {},
   "outputs": [],
   "source": [
    "# df[df['parent_theme'] == 'Star Wars']"
   ]
  },
  {
   "cell_type": "markdown",
   "metadata": {},
   "source": [
    "Now, let's read out the **parent_themes.csv** file."
   ]
  },
  {
   "cell_type": "code",
   "execution_count": null,
   "metadata": {},
   "outputs": [],
   "source": [
    "# let's call our new DataFrame 'license_df'\n",
    "license_df = pd.read_csv(\"datasets/parent_themes.csv\")"
   ]
  },
  {
   "cell_type": "markdown",
   "metadata": {},
   "source": [
    "Now let's just merge the `licensed_df` DF with our main DF"
   ]
  },
  {
   "cell_type": "code",
   "execution_count": null,
   "metadata": {},
   "outputs": [],
   "source": [
    "# using the `.merge()` method\n",
    "merged = df.merge(license_df, left_on=\"parent_theme\", right_on=\"name\")\n",
    "# we drop the `name_y` column because we do not need it\n",
    "merged.drop(columns=\"name_y\", inplace=True)\n",
    "# and we reset the `name_x` column to `name`\n",
    "merged.rename(columns={\"name_x\": \"name\"}, inplace=True)\n",
    "# to keep only the licensed sets\n",
    "df = merged[merged[\"is_licensed\"]]"
   ]
  },
  {
   "cell_type": "markdown",
   "metadata": {},
   "source": [
    "Well, now let's get that percentage!"
   ]
  },
  {
   "cell_type": "code",
   "execution_count": null,
   "metadata": {},
   "outputs": [],
   "source": [
    "df"
   ]
  },
  {
   "cell_type": "code",
   "execution_count": null,
   "metadata": {},
   "outputs": [],
   "source": [
    "# so since all the listed sets are licensed\n",
    "all_sets = df.shape[0]"
   ]
  },
  {
   "cell_type": "code",
   "execution_count": null,
   "metadata": {},
   "outputs": [],
   "source": [
    "star_wars_sets = df[df[\"parent_theme\"] == \"Star Wars\"]\n",
    "sw_count = star_wars_sets.shape[0]"
   ]
  },
  {
   "cell_type": "code",
   "execution_count": null,
   "metadata": {},
   "outputs": [],
   "source": [
    "sets_name = set(df[\"parent_theme\"].to_list())"
   ]
  },
  {
   "cell_type": "code",
   "execution_count": null,
   "metadata": {},
   "outputs": [],
   "source": [
    "print(len(sets_name))"
   ]
  },
  {
   "cell_type": "code",
   "execution_count": null,
   "metadata": {},
   "outputs": [],
   "source": [
    "# they need the result as integer\n",
    "the_force = int(((sw_count / all_sets) * 100))\n",
    "the_force"
   ]
  },
  {
   "cell_type": "markdown",
   "metadata": {},
   "source": [
    "### Question 2: In which year was Star Wars **not** the most popular licensed theme (in terms of number of sets released this year)?"
   ]
  },
  {
   "cell_type": "code",
   "execution_count": null,
   "metadata": {},
   "outputs": [],
   "source": [
    "# df.groupby('year')['parent_theme'].describe()"
   ]
  },
  {
   "cell_type": "markdown",
   "metadata": {},
   "source": [
    "Let's create a new column 'Count'"
   ]
  },
  {
   "cell_type": "code",
   "execution_count": null,
   "metadata": {},
   "outputs": [],
   "source": [
    "df[\"Count\"] = 1"
   ]
  },
  {
   "cell_type": "code",
   "execution_count": null,
   "metadata": {},
   "outputs": [],
   "source": [
    "count_df = df.groupby([\"year\", \"parent_theme\"]).sum().reset_index()"
   ]
  },
  {
   "cell_type": "markdown",
   "metadata": {},
   "source": [
    "Okay now we have the total count for each set released by year. Let's find out how to take out the max."
   ]
  },
  {
   "cell_type": "code",
   "execution_count": null,
   "metadata": {},
   "outputs": [],
   "source": [
    "count_df"
   ]
  },
  {
   "cell_type": "markdown",
   "metadata": {},
   "source": [
    "We can use either one of the following methods."
   ]
  },
  {
   "cell_type": "code",
   "execution_count": null,
   "metadata": {},
   "outputs": [],
   "source": [
    "# count_df.groupby(['year'], sort=False)['Count'].max()\n",
    "# or\n",
    "# idx = count_df.groupby(['year'], sort=False)['Count'].transform(max) == count_df['Count']\n",
    "# count_df[idx]\n",
    "# or\n",
    "# count_df.sort_values('Count', ascending=False).drop_duplicates(['year'])\n",
    "# or\n",
    "# count_df.sort_values('Count', ascending=False).drop_duplicates(['year'], keep='first').reset_index()\n",
    "# or\n",
    "# count_df.sort_values('Count').groupby(['year']).tail(1).reset_index()"
   ]
  },
  {
   "cell_type": "markdown",
   "metadata": {},
   "source": [
    "And finally save the result in a variable named `new_era`."
   ]
  },
  {
   "cell_type": "code",
   "execution_count": null,
   "metadata": {},
   "outputs": [],
   "source": [
    "new_era = 2017"
   ]
  },
  {
   "cell_type": "markdown",
   "metadata": {},
   "source": [
    "Don't mind the following, as it is mind blowing!"
   ]
  },
  {
   "cell_type": "code",
   "execution_count": null,
   "metadata": {},
   "outputs": [],
   "source": [
    "years = count_df[\"year\"].to_list()\n",
    "sets = count_df[\"parent_theme\"].to_list()\n",
    "count = count_df[\"Count\"].to_list()\n",
    "listed = list(zip(years, sets, count))\n",
    "\n",
    "[max((g for g in listed if g[0] == year), key=lambda k: k[2]) for year in list({g[0] for g in listed})]\n",
    "\n",
    "# breaking down\n",
    "# list(set([g[0] for g in listed])) -> ceate a new (shorter) list of the the o.g. list without duplicates\n",
    "# g for g in listed if g[0] == year -> loop over the o.g. list and create a new one with values matching the above list\n",
    "# max([g for g in listed if g[0] == year], key=lambda k: k[2]) -> returm the max value of that new list accordingly to the argument (key)\n",
    "print(listed)"
   ]
  },
  {
   "cell_type": "code",
   "execution_count": null,
   "metadata": {},
   "outputs": [],
   "source": [
    "# def sorter(dataset):\n",
    "#     output = []\n",
    "#     all_themes = dict()\n",
    "#     for year, theme, count in dataset:\n",
    "#         if year not in all_themes:\n",
    "#             all_themes[year] = []\n",
    "#         all_themes[year].append((theme, count))\n",
    "#     for year in all_themes:\n",
    "#         biggest = 1997, \"theme\", 0\n",
    "#         for theme, count in all_themes[year]:\n",
    "#             while count > biggest[-1]:\n",
    "#                 biggest = year, theme, count\n",
    "#         output.append(biggest)\n",
    "#     return output"
   ]
  },
  {
   "cell_type": "code",
   "execution_count": null,
   "metadata": {},
   "outputs": [],
   "source": [
    "# from itertools import groupby\n",
    "# from operator import itemgetter\n",
    "\n",
    "# res = [max(group, key=itemgetter(2)) for _, group in groupby(listed, itemgetter(0))]\n",
    "# print(res)\n",
    "\n",
    "# # or\n",
    "\n",
    "# res = []\n",
    "# for _, group in groupby(listed, itemgetter(0)):\n",
    "#     res.append(max(group, key=itemgetter(2)))\n",
    "# print(res)"
   ]
  },
  {
   "cell_type": "code",
   "execution_count": null,
   "metadata": {},
   "outputs": [],
   "source": [
    "dict_listed = {}\n",
    "for item in listed:\n",
    "    d_key = item[0]\n",
    "    if d_key not in dict_listed:\n",
    "        dict_listed[d_key] = []\n",
    "    dict_listed[d_key].append(item)\n",
    "resultat = [max(v, key=lambda x: x[2]) for v in dict_listed.values()]\n",
    "print(resultat)"
   ]
  },
  {
   "cell_type": "markdown",
   "metadata": {},
   "source": [
    "Some additional analysis..."
   ]
  },
  {
   "cell_type": "markdown",
   "metadata": {},
   "source": [
    "#### Question: How many sets produced by year? In which year did they produce the most?"
   ]
  },
  {
   "cell_type": "markdown",
   "metadata": {},
   "source": [
    "Remember our `merged` DF? Well that's what we gonna use."
   ]
  },
  {
   "cell_type": "code",
   "execution_count": null,
   "metadata": {},
   "outputs": [],
   "source": [
    "# first let's create a `count` column\n",
    "merged[\"count\"] = 1"
   ]
  },
  {
   "cell_type": "code",
   "execution_count": null,
   "metadata": {},
   "outputs": [],
   "source": [
    "all_sets_per_year = (\n",
    "    merged.groupby([\"year\"]).sum().reset_index()[[\"year\", \"count\"]]\n",
    ")\n",
    "# for idx, row in all_sets_per_year.iterrows():\n",
    "#     print(f'{row[\"year\"]} -> {row[\"count\"]}')\n",
    "all_sets_per_year"
   ]
  },
  {
   "cell_type": "code",
   "execution_count": null,
   "metadata": {},
   "outputs": [],
   "source": [
    "years = [year for year, _ in merged.groupby(\"year\")]\n",
    "counts = [row[\"count\"] for _, row in (all_sets_per_year.iterrows())]\n",
    "print(years)"
   ]
  },
  {
   "cell_type": "code",
   "execution_count": null,
   "metadata": {},
   "outputs": [],
   "source": [
    "plt.figure(figsize=(12, 5))\n",
    "plt.style.use(\"bmh\")\n",
    "\n",
    "plt.plot(years, counts, \"bx-\")\n",
    "plt.title(\"LEGO sets released by year (1950-2017)\", pad=10)\n",
    "plt.xticks([year for year in years if year % 3 == 0] + [2017], rotation=90)\n",
    "\n",
    "plt.show()"
   ]
  },
  {
   "cell_type": "code",
   "execution_count": null,
   "metadata": {},
   "outputs": [],
   "source": [
    "plt.figure(figsize=(12, 5))\n",
    "plt.style.use(\"seaborn-white\")\n",
    "plt.bar(years, counts)\n",
    "plt.show()"
   ]
  }
 ],
 "metadata": {
  "kernelspec": {
   "display_name": "Python 3.10.4 ('.env': venv)",
   "language": "python",
   "name": "python3"
  },
  "language_info": {
   "codemirror_mode": {
    "name": "ipython",
    "version": 3
   },
   "file_extension": ".py",
   "mimetype": "text/x-python",
   "name": "python",
   "nbconvert_exporter": "python",
   "pygments_lexer": "ipython3",
   "version": "3.10.4"
  },
  "orig_nbformat": 4,
  "vscode": {
   "interpreter": {
    "hash": "d32448151ec168e7da0dbd3b96e9ecc313776d6c899e814f122bafafd40e97d9"
   }
  }
 },
 "nbformat": 4,
 "nbformat_minor": 2
}
