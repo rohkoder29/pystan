{
 "cells": [
  {
   "cell_type": "markdown",
   "metadata": {},
   "source": [
    "## Speed Up Pandas Code!"
   ]
  },
  {
   "cell_type": "markdown",
   "metadata": {},
   "source": [
    "#### Import libraries"
   ]
  },
  {
   "cell_type": "code",
   "execution_count": 1,
   "metadata": {},
   "outputs": [],
   "source": [
    "import pandas as pd\n",
    "import numpy as np"
   ]
  },
  {
   "cell_type": "markdown",
   "metadata": {},
   "source": [
    "#### Create DataFrame"
   ]
  },
  {
   "cell_type": "code",
   "execution_count": 2,
   "metadata": {},
   "outputs": [],
   "source": [
    "def create_df(size: int) -> pd.DataFrame:\n",
    "    df = pd.DataFrame()\n",
    "    foods = [\"Broccoli\", \"Pizza\", \"Pasta\", \"Olives\", \"Hamburger\", \"Eggs\", \"Taco\", \"Sushi\", \"Mushrooms\", \"Fried Chicken\", \"Anchovies\", \"Ice Cream\", \"French Fries\", \"Bacon\", \"Steak\"]\n",
    "    df[\"Age\"] = np.random.randint(0, 100, size)\n",
    "    df[\"Bed_Time\"] = np.random.randint(0, 9, size)\n",
    "    df[\"Pct_Sleeping\"] = np.random.rand(size)\n",
    "    df[\"Favorite_Food\"] = np.random.choice(foods, size)\n",
    "    df[\"Hated_Food\"] = np.random.choice(foods, size)\n",
    "    return df"
   ]
  },
  {
   "cell_type": "code",
   "execution_count": 3,
   "metadata": {},
   "outputs": [
    {
     "data": {
      "text/html": [
       "<div>\n",
       "<style scoped>\n",
       "    .dataframe tbody tr th:only-of-type {\n",
       "        vertical-align: middle;\n",
       "    }\n",
       "\n",
       "    .dataframe tbody tr th {\n",
       "        vertical-align: top;\n",
       "    }\n",
       "\n",
       "    .dataframe thead th {\n",
       "        text-align: right;\n",
       "    }\n",
       "</style>\n",
       "<table border=\"1\" class=\"dataframe\">\n",
       "  <thead>\n",
       "    <tr style=\"text-align: right;\">\n",
       "      <th></th>\n",
       "      <th>Age</th>\n",
       "      <th>Bed_Time</th>\n",
       "      <th>Pct_Sleeping</th>\n",
       "      <th>Favorite_Food</th>\n",
       "      <th>Hated_Food</th>\n",
       "    </tr>\n",
       "  </thead>\n",
       "  <tbody>\n",
       "    <tr>\n",
       "      <th>0</th>\n",
       "      <td>57</td>\n",
       "      <td>2</td>\n",
       "      <td>0.841730</td>\n",
       "      <td>Olives</td>\n",
       "      <td>Steak</td>\n",
       "    </tr>\n",
       "    <tr>\n",
       "      <th>1</th>\n",
       "      <td>93</td>\n",
       "      <td>6</td>\n",
       "      <td>0.419318</td>\n",
       "      <td>Steak</td>\n",
       "      <td>French Fries</td>\n",
       "    </tr>\n",
       "    <tr>\n",
       "      <th>2</th>\n",
       "      <td>57</td>\n",
       "      <td>2</td>\n",
       "      <td>0.050575</td>\n",
       "      <td>Pasta</td>\n",
       "      <td>Pizza</td>\n",
       "    </tr>\n",
       "    <tr>\n",
       "      <th>3</th>\n",
       "      <td>74</td>\n",
       "      <td>8</td>\n",
       "      <td>0.977028</td>\n",
       "      <td>Hamburger</td>\n",
       "      <td>Bacon</td>\n",
       "    </tr>\n",
       "    <tr>\n",
       "      <th>4</th>\n",
       "      <td>88</td>\n",
       "      <td>1</td>\n",
       "      <td>0.833842</td>\n",
       "      <td>Pasta</td>\n",
       "      <td>Bacon</td>\n",
       "    </tr>\n",
       "    <tr>\n",
       "      <th>5</th>\n",
       "      <td>78</td>\n",
       "      <td>5</td>\n",
       "      <td>0.804167</td>\n",
       "      <td>Bacon</td>\n",
       "      <td>Eggs</td>\n",
       "    </tr>\n",
       "    <tr>\n",
       "      <th>6</th>\n",
       "      <td>41</td>\n",
       "      <td>6</td>\n",
       "      <td>0.716550</td>\n",
       "      <td>Fried Chicken</td>\n",
       "      <td>Steak</td>\n",
       "    </tr>\n",
       "    <tr>\n",
       "      <th>7</th>\n",
       "      <td>83</td>\n",
       "      <td>7</td>\n",
       "      <td>0.876183</td>\n",
       "      <td>Olives</td>\n",
       "      <td>Olives</td>\n",
       "    </tr>\n",
       "    <tr>\n",
       "      <th>8</th>\n",
       "      <td>87</td>\n",
       "      <td>8</td>\n",
       "      <td>0.031910</td>\n",
       "      <td>Mushrooms</td>\n",
       "      <td>Mushrooms</td>\n",
       "    </tr>\n",
       "    <tr>\n",
       "      <th>9</th>\n",
       "      <td>75</td>\n",
       "      <td>1</td>\n",
       "      <td>0.650150</td>\n",
       "      <td>Olives</td>\n",
       "      <td>Pizza</td>\n",
       "    </tr>\n",
       "  </tbody>\n",
       "</table>\n",
       "</div>"
      ],
      "text/plain": [
       "   Age  Bed_Time  Pct_Sleeping  Favorite_Food    Hated_Food\n",
       "0   57         2      0.841730         Olives         Steak\n",
       "1   93         6      0.419318          Steak  French Fries\n",
       "2   57         2      0.050575          Pasta         Pizza\n",
       "3   74         8      0.977028      Hamburger         Bacon\n",
       "4   88         1      0.833842          Pasta         Bacon\n",
       "5   78         5      0.804167          Bacon          Eggs\n",
       "6   41         6      0.716550  Fried Chicken         Steak\n",
       "7   83         7      0.876183         Olives        Olives\n",
       "8   87         8      0.031910      Mushrooms     Mushrooms\n",
       "9   75         1      0.650150         Olives         Pizza"
      ]
     },
     "execution_count": 3,
     "metadata": {},
     "output_type": "execute_result"
    }
   ],
   "source": [
    "df = create_df(10_000)\n",
    "df.head(10)"
   ]
  },
  {
   "cell_type": "markdown",
   "metadata": {},
   "source": [
    "### The Problem\n",
    "\n",
    "-"
   ]
  },
  {
   "cell_type": "code",
   "execution_count": 4,
   "metadata": {},
   "outputs": [],
   "source": [
    "def reward_calc(row) -> str:\n",
    "    if row[\"Age\"] >= 90:\n",
    "        return row[\"Favorite_Food\"]\n",
    "    if ((row[\"Bed_Time\"] > 5) & (row[\"Pct_Sleeping\"] > 0.5)):\n",
    "        return row[\"Favorite_Food\"]\n",
    "    else:\n",
    "        return row[\"Hated_Food\"]"
   ]
  },
  {
   "cell_type": "markdown",
   "metadata": {},
   "source": [
    "#### Level 1 - For-loop"
   ]
  },
  {
   "cell_type": "code",
   "execution_count": 6,
   "metadata": {},
   "outputs": [
    {
     "name": "stdout",
     "output_type": "stream",
     "text": [
      "2.85 s ± 45.5 ms per loop (mean ± std. dev. of 7 runs, 1 loop each)\n"
     ]
    }
   ],
   "source": [
    "%%timeit\n",
    "# df1 = create_df(10_000)\n",
    "for idx, row in df.iterrows():\n",
    "    df.loc[idx, \"Reward\"] = reward_calc(row)"
   ]
  },
  {
   "cell_type": "markdown",
   "metadata": {},
   "source": [
    "#### Level 2 - Apply function"
   ]
  },
  {
   "cell_type": "code",
   "execution_count": 7,
   "metadata": {},
   "outputs": [
    {
     "name": "stdout",
     "output_type": "stream",
     "text": [
      "469 ms ± 74.8 ms per loop (mean ± std. dev. of 7 runs, 1 loop each)\n"
     ]
    }
   ],
   "source": [
    "%%timeit\n",
    "# df = create_df(10_000)\n",
    "df[\"Reward\"] = df.apply(reward_calc, axis=1)"
   ]
  },
  {
   "cell_type": "markdown",
   "metadata": {},
   "source": [
    "#### Level 3 - Vectorized Functions"
   ]
  },
  {
   "cell_type": "code",
   "execution_count": 8,
   "metadata": {},
   "outputs": [
    {
     "name": "stdout",
     "output_type": "stream",
     "text": [
      "4.55 ms ± 273 µs per loop (mean ± std. dev. of 7 runs, 100 loops each)\n"
     ]
    }
   ],
   "source": [
    "%%timeit\n",
    "# df = create_df(10_000)\n",
    "df[\"Reward\"] = df[\"Hated_Food\"]\n",
    "df.loc[((df[\"Bed_Time\"] > 5) & (df[\"Pct_Sleeping\"] > 0.5)) | df[\"Age\"], \"Reward\"] = df[\"Favorite_Food\"]"
   ]
  }
 ],
 "metadata": {
  "interpreter": {
   "hash": "916dbcbb3f70747c44a77c7bcd40155683ae19c65e1c03b4aa3499c5328201f1"
  },
  "kernelspec": {
   "display_name": "Python 3.10.4 64-bit",
   "language": "python",
   "name": "python3"
  },
  "language_info": {
   "codemirror_mode": {
    "name": "ipython",
    "version": 3
   },
   "file_extension": ".py",
   "mimetype": "text/x-python",
   "name": "python",
   "nbconvert_exporter": "python",
   "pygments_lexer": "ipython3",
   "version": "3.10.4"
  },
  "orig_nbformat": 4
 },
 "nbformat": 4,
 "nbformat_minor": 2
}
