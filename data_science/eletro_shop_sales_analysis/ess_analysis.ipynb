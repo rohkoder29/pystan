{
 "cells": [
  {
   "cell_type": "markdown",
   "metadata": {},
   "source": [
    "See README.md file for more details about this notebook."
   ]
  },
  {
   "cell_type": "markdown",
   "metadata": {},
   "source": [
    "#### Import modules"
   ]
  },
  {
   "cell_type": "code",
   "execution_count": null,
   "metadata": {},
   "outputs": [],
   "source": [
    "import pandas as pd\n",
    "from itertools import combinations as cmb\n",
    "from collections import Counter\n",
    "import os"
   ]
  },
  {
   "cell_type": "markdown",
   "metadata": {},
   "source": [
    "#### Read the file(s)\n",
    "Task 1: Merge all the individual month sales files into a single file"
   ]
  },
  {
   "cell_type": "code",
   "execution_count": null,
   "metadata": {},
   "outputs": [],
   "source": [
    "# identifying the files\n",
    "dir_path = os.path.dirname(os.path.realpath(\"ess_analysis.ipynb\"))\n",
    "csvs = []\n",
    "for root, dirs, files in os.walk(dir_path):\n",
    "    csvs.extend(f\"{root}/{str(file)}\" for file in files if file.endswith(\"_2019.csv\"))"
   ]
  },
  {
   "cell_type": "code",
   "execution_count": null,
   "metadata": {},
   "outputs": [],
   "source": [
    "# merging the files into a single DataFrame\n",
    "all_months = pd.DataFrame()\n",
    "for csv in csvs:\n",
    "    df = pd.read_csv(csv)\n",
    "    all_months = pd.concat([all_months, df])"
   ]
  },
  {
   "cell_type": "code",
   "execution_count": null,
   "metadata": {},
   "outputs": [],
   "source": [
    "# exporting to a .csv file\n",
    "all_months.to_csv(\"ess_analysis.csv\", index=False)"
   ]
  },
  {
   "cell_type": "markdown",
   "metadata": {},
   "source": [
    "Task 2: Read that file"
   ]
  },
  {
   "cell_type": "code",
   "execution_count": null,
   "metadata": {},
   "outputs": [],
   "source": [
    "df = pd.read_csv(\"ess_analysis.csv\")\n",
    "df.tail()"
   ]
  },
  {
   "cell_type": "markdown",
   "metadata": {},
   "source": [
    "#### Clean up the data"
   ]
  },
  {
   "cell_type": "markdown",
   "metadata": {},
   "source": [
    "Task 1: Identify and remove rows with missing values"
   ]
  },
  {
   "cell_type": "code",
   "execution_count": null,
   "metadata": {},
   "outputs": [],
   "source": [
    "# # identifying\n",
    "# null_values = pd.isnull(df['Order ID'])\n",
    "# df[null_values]\n",
    "# removing\n",
    "df.dropna(inplace=True)\n",
    "# we drop any possible duplicate\n",
    "df.drop_duplicates(inplace=True)\n",
    "# additionnally we reassign the index\n",
    "df.reset_index(drop=True)\n",
    "\n",
    "# #\n",
    "# i'll explain that later\n",
    "i = df[df[\"Order ID\"] == \"Order ID\"].index\n",
    "df.drop(i, inplace=True)\n",
    "# let's check a quick thing\n",
    "df[df[\"Order ID\"] == \"Order ID\"]"
   ]
  },
  {
   "cell_type": "code",
   "execution_count": null,
   "metadata": {},
   "outputs": [],
   "source": [
    "# let's rename the 'Price Each' column to 'Price Unit'\n",
    "df.rename(columns={\"Price Each\": \"Price Unit\"}, inplace=True)"
   ]
  },
  {
   "cell_type": "markdown",
   "metadata": {},
   "source": [
    "Task 2: Make sure data are in the right type in every column<br />\n",
    "- 'Quantity Ordered' and 'Price Unit' in `int` type\n",
    "- order date in `datetime` type"
   ]
  },
  {
   "cell_type": "code",
   "execution_count": null,
   "metadata": {},
   "outputs": [],
   "source": [
    "# with `df.dtypes` we can identify the dtype of a column\n",
    "# df.dtypes\n",
    "# using `.astype()` || `.pd.to_numeric` method\n",
    "df[\"Quantity Ordered\"] = df[\"Quantity Ordered\"].astype(\"int8\")\n",
    "df[\"Price Unit\"] = pd.to_numeric(df[\"Price Unit\"])\n",
    "df.dtypes"
   ]
  },
  {
   "cell_type": "markdown",
   "metadata": {},
   "source": [
    "#### Question 1: What was the best month for sales? How much was earned that month?"
   ]
  },
  {
   "cell_type": "markdown",
   "metadata": {},
   "source": [
    "In order to answer that question let's first add a 'Sales' and a 'Month' columns"
   ]
  },
  {
   "cell_type": "code",
   "execution_count": null,
   "metadata": {},
   "outputs": [],
   "source": [
    "df[\"Sales\"] = df[\"Quantity Ordered\"] * df[\"Price Unit\"]\n",
    "df[\"Month\"] = df[\"Order Date\"].str[:2]\n",
    "# and convert it to `int` using `.astype()` method\n",
    "df[\"Month\"] = df[\"Month\"].astype(\"int8\")"
   ]
  },
  {
   "cell_type": "markdown",
   "metadata": {},
   "source": [
    "Now let's finally answer the question!"
   ]
  },
  {
   "cell_type": "code",
   "execution_count": null,
   "metadata": {},
   "outputs": [],
   "source": [
    "answer1 = df.groupby(\"Month\").sum()\n",
    "answer1"
   ]
  },
  {
   "cell_type": "markdown",
   "metadata": {},
   "source": [
    "A.: As we can see **December** was the most profitable month, earning **$4,608,295.70** from **28,074** sold items."
   ]
  },
  {
   "cell_type": "markdown",
   "metadata": {},
   "source": [
    "Let's viz!"
   ]
  },
  {
   "cell_type": "code",
   "execution_count": null,
   "metadata": {},
   "outputs": [],
   "source": [
    "import matplotlib.pyplot as plt"
   ]
  },
  {
   "cell_type": "code",
   "execution_count": null,
   "metadata": {},
   "outputs": [],
   "source": [
    "# plt.style.use('seaborn')\n",
    "# plt.style.use('ggplot')"
   ]
  },
  {
   "cell_type": "code",
   "execution_count": null,
   "metadata": {},
   "outputs": [],
   "source": [
    "months = [\n",
    "    \"JAN\",\n",
    "    \"FEB\",\n",
    "    \"MAR\",\n",
    "    \"APR\",\n",
    "    \"MAY\",\n",
    "    \"JUN\",\n",
    "    \"JUL\",\n",
    "    \"AUG\",\n",
    "    \"SEP\",\n",
    "    \"OCT\",\n",
    "    \"NOV\",\n",
    "    \"DEC\",\n",
    "]\n",
    "\n",
    "plt.plot(months, answer1[\"Sales\"])\n",
    "# plt.bar(months, answer1['Sales'])\n",
    "plt.xticks(months, size=8)\n",
    "plt.xlabel(\"Months\")\n",
    "plt.ylabel(\"Sales ($US Million)\")\n",
    "plt.grid(axis=\"both\")\n",
    "plt.show()"
   ]
  },
  {
   "cell_type": "code",
   "execution_count": null,
   "metadata": {},
   "outputs": [],
   "source": [
    "plt.pie(\n",
    "    answer1[\"Sales\"],\n",
    "    labels=months,\n",
    "    autopct=\"%.2f %%\",\n",
    "    counterclock=False,\n",
    "    radius=2.5,\n",
    ")\n",
    "plt.xlabel(\"Sales % by Month\", labelpad=200)\n",
    "plt.show()"
   ]
  },
  {
   "cell_type": "markdown",
   "metadata": {},
   "source": [
    "#### Question 2: What city sold the most product?"
   ]
  },
  {
   "cell_type": "markdown",
   "metadata": {},
   "source": [
    "Again, let's create another column called 'City'"
   ]
  },
  {
   "cell_type": "markdown",
   "metadata": {},
   "source": [
    "Task 1: Get the cities with their respective states"
   ]
  },
  {
   "cell_type": "code",
   "execution_count": null,
   "metadata": {},
   "outputs": [],
   "source": [
    "def get_city(address):\n",
    "    return address.split(\", \")[1]\n",
    "\n",
    "\n",
    "#\n",
    "def get_state(address):\n",
    "    return address.split(\", \")[-1].split(\" \")[0]"
   ]
  },
  {
   "cell_type": "markdown",
   "metadata": {},
   "source": [
    "Task 2: Put them in the 'City' column"
   ]
  },
  {
   "cell_type": "code",
   "execution_count": null,
   "metadata": {},
   "outputs": [],
   "source": [
    "# cities = []\n",
    "# for row in df['Purchase Address']:\n",
    "#     cities.append(f\"{get_city(x)} ({get_state(x)})\")\n",
    "# df['City'] = cities\n",
    "\n",
    "# or using the `.apply()` method we can simply do\n",
    "df[\"City\"] = df[\"Purchase Address\"].apply(\n",
    "    lambda x: f\"{get_city(x)} ({get_state(x)})\"\n",
    ")"
   ]
  },
  {
   "cell_type": "markdown",
   "metadata": {},
   "source": [
    "Show the results"
   ]
  },
  {
   "cell_type": "code",
   "execution_count": null,
   "metadata": {},
   "outputs": [],
   "source": [
    "answer2 = df.groupby(\"City\").sum()\n",
    "answer2"
   ]
  },
  {
   "cell_type": "markdown",
   "metadata": {},
   "source": [
    "B.: With **50,169** units ordered, **San Francisco (CA)** is by far the city with the most sold products.<br />\n",
    "Now let's take a visual look at that."
   ]
  },
  {
   "cell_type": "code",
   "execution_count": null,
   "metadata": {},
   "outputs": [],
   "source": [
    "cities = [city for city, _ in df.groupby(\"City\")]\n",
    "\n",
    "plt.style.use(\"seaborn\")\n",
    "plt.bar(cities, answer2[\"Quantity Ordered\"])\n",
    "plt.xticks(cities, rotation=90, size=8)\n",
    "plt.xlabel(\"Cities\", labelpad=10)\n",
    "plt.ylabel(\"Orders (Units)\", labelpad=10)\n",
    "plt.show()"
   ]
  },
  {
   "cell_type": "code",
   "execution_count": null,
   "metadata": {},
   "outputs": [],
   "source": [
    "plt.pie(\n",
    "    answer2[\"Quantity Ordered\"],\n",
    "    labels=cities,\n",
    "    autopct=\"%.2f %%\",\n",
    "    radius=2,\n",
    "    counterclock=True,\n",
    ")\n",
    "plt.xlabel(\"Orders % by City\", labelpad=150)\n",
    "plt.show()"
   ]
  },
  {
   "cell_type": "markdown",
   "metadata": {},
   "source": [
    "#### Question 3: What time should we display advertisements to maximize the likelihood of customer’s buying product?"
   ]
  },
  {
   "cell_type": "markdown",
   "metadata": {},
   "source": [
    "First, let's convert our **'Order Date'** column into `datetime` type"
   ]
  },
  {
   "cell_type": "code",
   "execution_count": null,
   "metadata": {},
   "outputs": [],
   "source": [
    "df[\"Order Date\"] = pd.to_datetime(df[\"Order Date\"])"
   ]
  },
  {
   "cell_type": "markdown",
   "metadata": {},
   "source": [
    "And break it down to <i>Hour</i> and <i>Minute</i>"
   ]
  },
  {
   "cell_type": "code",
   "execution_count": null,
   "metadata": {},
   "outputs": [],
   "source": [
    "# df['Hour'] = df.insert(5, 'Hour', df['Order Date'].dt.hour, True) # doesn't work?\n",
    "df[\"Hour\"] = df[\"Order Date\"].dt.hour\n",
    "df[\"Minute\"] = df[\"Order Date\"].dt.minute"
   ]
  },
  {
   "cell_type": "markdown",
   "metadata": {},
   "source": [
    "So far so good. Now let's look at the results!"
   ]
  },
  {
   "cell_type": "code",
   "execution_count": null,
   "metadata": {},
   "outputs": [],
   "source": [
    "answer3 = df.groupby([\"Hour\"]).sum()\n",
    "answer3.tail(50)"
   ]
  },
  {
   "cell_type": "markdown",
   "metadata": {},
   "source": [
    "C.: Between **11:00** and **12:00** we observe a peak in sales value, and again at **19:00**. So, displaying ads at those hours would most likely drag more customers into buying our products."
   ]
  },
  {
   "cell_type": "code",
   "execution_count": null,
   "metadata": {},
   "outputs": [],
   "source": [
    "hours = [hour for hour, _ in df.groupby(\"Hour\")]\n",
    "\n",
    "\n",
    "plt.plot(hours, answer3[\"Quantity Ordered\"], \"b.-\")\n",
    "# plt.plot(hours, answer3['Sales'], 'b-')\n",
    "plt.xticks(hours)\n",
    "plt.xlabel(\"Hours\", labelpad=10)\n",
    "plt.ylabel(\"Orders (Units)\", labelpad=10)\n",
    "plt.grid()\n",
    "plt.show()"
   ]
  },
  {
   "cell_type": "code",
   "execution_count": null,
   "metadata": {},
   "outputs": [],
   "source": [
    "plt.pie(\n",
    "    answer3[\"Quantity Ordered\"],\n",
    "    labels=hours,\n",
    "    autopct=\"%.0f %%\",\n",
    "    radius=2,\n",
    "    counterclock=False,\n",
    ")\n",
    "plt.xlabel(\"Orders % by Hour\", labelpad=150)\n",
    "plt.show()"
   ]
  },
  {
   "cell_type": "markdown",
   "metadata": {},
   "source": [
    "#### Question 4: What products are most often sold together?"
   ]
  },
  {
   "cell_type": "markdown",
   "metadata": {},
   "source": [
    "Well, in order to do that we'll have to look at the purchases that have the same Order ID value."
   ]
  },
  {
   "cell_type": "markdown",
   "metadata": {},
   "source": [
    "Let's create a smaller DF containing only rows with duplicated Order IDs"
   ]
  },
  {
   "cell_type": "code",
   "execution_count": null,
   "metadata": {},
   "outputs": [],
   "source": [
    "id_dup = df[df[\"Order ID\"].duplicated(keep=False)]"
   ]
  },
  {
   "cell_type": "markdown",
   "metadata": {},
   "source": [
    "Now let's create a new column to put the products from a same order id together in the same row."
   ]
  },
  {
   "cell_type": "code",
   "execution_count": null,
   "metadata": {},
   "outputs": [],
   "source": [
    "# let's call it 'Cart'\n",
    "id_dup[\"Cart\"] = df.groupby(\"Order ID\")[\"Product\"].transform(\n",
    "    lambda x: \", \".join(x)\n",
    ")\n",
    "#"
   ]
  },
  {
   "cell_type": "code",
   "execution_count": null,
   "metadata": {},
   "outputs": [],
   "source": [
    "id_dup.head()"
   ]
  },
  {
   "cell_type": "code",
   "execution_count": null,
   "metadata": {},
   "outputs": [],
   "source": [
    "# now let's drop the duplicates as we no longer need them\n",
    "id_dup = id_dup[[\"Order ID\", \"Cart\"]].drop_duplicates()"
   ]
  },
  {
   "cell_type": "markdown",
   "metadata": {},
   "source": [
    "Now we need to count what Cart value is more reccuring.<br />\n",
    "For this we use:\n",
    "- from `itertools` import `combinations` as `cmb`\n",
    "- from `collections` import `Counter`"
   ]
  },
  {
   "cell_type": "code",
   "execution_count": null,
   "metadata": {},
   "outputs": [],
   "source": [
    "count = Counter()\n",
    "\n",
    "for items in id_dup.Cart:\n",
    "    item_list = items.split(\", \")\n",
    "    count.update(Counter(cmb(item_list, 2)))"
   ]
  },
  {
   "cell_type": "code",
   "execution_count": null,
   "metadata": {},
   "outputs": [],
   "source": [
    "for key, value in count.most_common(10):\n",
    "    print(key, value)"
   ]
  },
  {
   "cell_type": "markdown",
   "metadata": {},
   "source": [
    "D.: Well, turns out people buy a lot of **iPhone***s* and **Lightning Charging Cable***s* together."
   ]
  },
  {
   "cell_type": "markdown",
   "metadata": {},
   "source": [
    "#### Question 5: What product sold the most? Why do you think it sold the most?"
   ]
  },
  {
   "cell_type": "markdown",
   "metadata": {},
   "source": [
    "Okay that should be a pretty easy one."
   ]
  },
  {
   "cell_type": "code",
   "execution_count": null,
   "metadata": {},
   "outputs": [],
   "source": [
    "products_group = df.groupby(\"Product\")\n",
    "qty_ordered = products_group.sum()[\"Quantity Ordered\"]\n",
    "products_group.sum()"
   ]
  },
  {
   "cell_type": "markdown",
   "metadata": {},
   "source": [
    "E.: With over **30,000** items sold, **AAA Batteries (4-pack)** is our #1 sold product, followed by its brother **AA Batteries (4-pack)** which almost cross the **28,000** mark."
   ]
  },
  {
   "cell_type": "code",
   "execution_count": null,
   "metadata": {},
   "outputs": [],
   "source": [
    "products = [product for product, _ in df.groupby(\"Product\")]\n",
    "\n",
    "plt.bar(products, qty_ordered)\n",
    "plt.xticks(products, rotation=90, size=8)\n",
    "plt.xlabel(\"Products\", labelpad=20)\n",
    "plt.ylabel(\"Orders (Units)\", labelpad=15)\n",
    "plt.show()"
   ]
  },
  {
   "cell_type": "code",
   "execution_count": null,
   "metadata": {},
   "outputs": [],
   "source": [
    "plt.pie(\n",
    "    qty_ordered,\n",
    "    labels=products,\n",
    "    autopct=\"%.2f %%\",\n",
    "    radius=3,\n",
    "    counterclock=True,\n",
    ")\n",
    "# plt.xlabel('Orders % by Products', labelpad=150)\n",
    "plt.show()"
   ]
  },
  {
   "cell_type": "markdown",
   "metadata": {},
   "source": [
    "#### Don't mind this"
   ]
  },
  {
   "cell_type": "code",
   "execution_count": null,
   "metadata": {},
   "outputs": [],
   "source": [
    "# df1 = pd.DataFrame({'Zone': ['C', 'L', 'N', 'O', 'S'],\n",
    "#                     'Total_MSP': [464245, 3764942, 1877505, 1023160, 3179477]})\n",
    "# df2 = pd.DataFrame({'Zone': ['C', 'L', 'N', 'O', 'S'],\n",
    "#                     'CasasFavelas_2017': [463, 4228, 851, 1802, 2060]})\n",
    "# df3 = pd.merge(df2, df1, on='Zone')"
   ]
  },
  {
   "cell_type": "code",
   "execution_count": null,
   "metadata": {},
   "outputs": [],
   "source": [
    "# df3"
   ]
  },
  {
   "cell_type": "code",
   "execution_count": null,
   "metadata": {},
   "outputs": [],
   "source": [
    "# plt.style.use('ggplot')\n",
    "# df.plot.bar(x='Zone', logy=True)\n",
    "# plt.xticks(rotation=0)\n",
    "# plt.legend(bbox_to_anchor=(1.05, 1), loc='upper left')\n",
    "# plt.show()"
   ]
  }
 ],
 "metadata": {
  "interpreter": {
   "hash": "7f4192e54f6299906c0709a8d5602ad811801dc37a63f92f15de37236a357d11"
  },
  "kernelspec": {
   "display_name": "Python 3.10.2 ('.py310': venv)",
   "language": "python",
   "name": "python3"
  },
  "language_info": {
   "codemirror_mode": {
    "name": "ipython",
    "version": 3
   },
   "file_extension": ".py",
   "mimetype": "text/x-python",
   "name": "python",
   "nbconvert_exporter": "python",
   "pygments_lexer": "ipython3",
   "version": "3.10.2"
  },
  "orig_nbformat": 4
 },
 "nbformat": 4,
 "nbformat_minor": 2
}
