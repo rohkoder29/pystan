{
 "cells": [
  {
   "cell_type": "markdown",
   "metadata": {},
   "source": [
    "> ### NOTEBOOK OBJECTIVE<br>\n",
    "- Create a dataset of the sales records of the (not so) ficticious store `ROKO Shopping` for the year 2020.<br>"
   ]
  },
  {
   "cell_type": "markdown",
   "metadata": {},
   "source": [
    "General steps:<br>\n",
    "- Populate dataset with necessary features (columns) and data\n",
    "- Clean, accomodate and put data toghether\n",
    "- Save and export dataset"
   ]
  },
  {
   "cell_type": "markdown",
   "metadata": {},
   "source": [
    "<hr>"
   ]
  },
  {
   "cell_type": "markdown",
   "metadata": {},
   "source": [
    "#### Import Required Libraries"
   ]
  },
  {
   "cell_type": "code",
   "execution_count": 1,
   "metadata": {},
   "outputs": [],
   "source": [
    "import pandas as pd\n",
    "import numpy as np\n",
    "import requests\n",
    "import json\n",
    "from datetime import datetime, timedelta\n",
    "import random\n",
    "import calendar\n",
    "import re\n",
    "import uuid\n",
    "from faker import Faker"
   ]
  },
  {
   "cell_type": "markdown",
   "metadata": {},
   "source": [
    "### Step 1. Populate dataset with necessary features"
   ]
  },
  {
   "cell_type": "markdown",
   "metadata": {},
   "source": [
    "Sub-steps:\n",
    "1) Define main DF features\n",
    "2) Retrieve products from different files and create a DF for each\n",
    "3) Concatenate the created DFs"
   ]
  },
  {
   "cell_type": "markdown",
   "metadata": {},
   "source": [
    "- Define main DF features<br>\n",
    "[ADD A SUB_CATEGORY COLUMN]"
   ]
  },
  {
   "cell_type": "code",
   "execution_count": 2,
   "metadata": {},
   "outputs": [],
   "source": [
    "features = [\"Purchase ID\", \"Purchase Datetime\", \n",
    "            \"Product ID\", \"Category\", \"Sub Category\", \n",
    "            \"Product Name\", \"Unit Price\", \"Quantity\", \n",
    "            \"Sales\", \"Payment Method\", \"Online\", \n",
    "            \"Shipping Address\", \"Shipping Method\", \"Product URL\"]\n",
    "df = pd.DataFrame(columns=features)"
   ]
  },
  {
   "cell_type": "code",
   "execution_count": 3,
   "metadata": {},
   "outputs": [
    {
     "data": {
      "text/html": [
       "<div>\n",
       "<style scoped>\n",
       "    .dataframe tbody tr th:only-of-type {\n",
       "        vertical-align: middle;\n",
       "    }\n",
       "\n",
       "    .dataframe tbody tr th {\n",
       "        vertical-align: top;\n",
       "    }\n",
       "\n",
       "    .dataframe thead th {\n",
       "        text-align: right;\n",
       "    }\n",
       "</style>\n",
       "<table border=\"1\" class=\"dataframe\">\n",
       "  <thead>\n",
       "    <tr style=\"text-align: right;\">\n",
       "      <th></th>\n",
       "      <th>Purchase ID</th>\n",
       "      <th>Purchase Datetime</th>\n",
       "      <th>Product ID</th>\n",
       "      <th>Category</th>\n",
       "      <th>Sub Category</th>\n",
       "      <th>Product Name</th>\n",
       "      <th>Unit Price</th>\n",
       "      <th>Quantity</th>\n",
       "      <th>Sales</th>\n",
       "      <th>Payment Method</th>\n",
       "      <th>Online</th>\n",
       "      <th>Shipping Address</th>\n",
       "      <th>Shipping Method</th>\n",
       "      <th>Product URL</th>\n",
       "    </tr>\n",
       "  </thead>\n",
       "  <tbody>\n",
       "  </tbody>\n",
       "</table>\n",
       "</div>"
      ],
      "text/plain": [
       "Empty DataFrame\n",
       "Columns: [Purchase ID, Purchase Datetime, Product ID, Category, Sub Category, Product Name, Unit Price, Quantity, Sales, Payment Method, Online, Shipping Address, Shipping Method, Product URL]\n",
       "Index: []"
      ]
     },
     "execution_count": 3,
     "metadata": {},
     "output_type": "execute_result"
    }
   ],
   "source": [
    "df"
   ]
  },
  {
   "cell_type": "markdown",
   "metadata": {},
   "source": [
    "- Retrieve products data from different files and create a DF for each"
   ]
  },
  {
   "cell_type": "markdown",
   "metadata": {},
   "source": [
    "Products come from these files:<br>\n",
    "- /home/rohkoder29/Documents/year2022/python/data_science/mines/amzon_mobile_items_20190928.csv\n",
    "- /home/rohkoder29/Documents/year2022/python/data_science/kaggle/marketing_sample_for_amazon_com-ecommerce__20200101_20200131__10k_data.csv\n",
    "- /home/rohkoder29/Documents/year2022/python/data_science/cif_sales_analysis/data/data.xlsx"
   ]
  },
  {
   "cell_type": "markdown",
   "metadata": {},
   "source": [
    "*File 1*"
   ]
  },
  {
   "cell_type": "code",
   "execution_count": 4,
   "metadata": {},
   "outputs": [],
   "source": [
    "file1 = \"/home/rohkoder29/Documents/year2022/python/data_science/mines/amzon_mobile_items_20190928.csv\"\n",
    "# load only relevant columns\n",
    "cols = [\"brand\", \"title\", \"prices\", \"url\"]\n",
    "df1 = pd.read_csv(file1, index_col=False, usecols=cols, skipinitialspace=True)"
   ]
  },
  {
   "cell_type": "code",
   "execution_count": 5,
   "metadata": {},
   "outputs": [
    {
     "name": "stdout",
     "output_type": "stream",
     "text": [
      "<class 'pandas.core.frame.DataFrame'>\n",
      "RangeIndex: 792 entries, 0 to 791\n",
      "Data columns (total 4 columns):\n",
      " #   Column  Non-Null Count  Dtype \n",
      "---  ------  --------------  ----- \n",
      " 0   brand   792 non-null    object\n",
      " 1   title   792 non-null    object\n",
      " 2   url     792 non-null    object\n",
      " 3   prices  577 non-null    object\n",
      "dtypes: object(4)\n",
      "memory usage: 24.9+ KB\n"
     ]
    }
   ],
   "source": [
    "df1.info()"
   ]
  },
  {
   "cell_type": "code",
   "execution_count": 6,
   "metadata": {},
   "outputs": [
    {
     "data": {
      "text/html": [
       "<div>\n",
       "<style scoped>\n",
       "    .dataframe tbody tr th:only-of-type {\n",
       "        vertical-align: middle;\n",
       "    }\n",
       "\n",
       "    .dataframe tbody tr th {\n",
       "        vertical-align: top;\n",
       "    }\n",
       "\n",
       "    .dataframe thead th {\n",
       "        text-align: right;\n",
       "    }\n",
       "</style>\n",
       "<table border=\"1\" class=\"dataframe\">\n",
       "  <thead>\n",
       "    <tr style=\"text-align: right;\">\n",
       "      <th></th>\n",
       "      <th>brand</th>\n",
       "      <th>title</th>\n",
       "      <th>url</th>\n",
       "      <th>prices</th>\n",
       "    </tr>\n",
       "  </thead>\n",
       "  <tbody>\n",
       "    <tr>\n",
       "      <th>0</th>\n",
       "      <td>Nokia</td>\n",
       "      <td>Dual-Band / Tri-Mode Sprint PCS Phone w/ Voice...</td>\n",
       "      <td>https://www.amazon.com/Dual-Band-Tri-Mode-Acti...</td>\n",
       "      <td>NaN</td>\n",
       "    </tr>\n",
       "    <tr>\n",
       "      <th>1</th>\n",
       "      <td>Motorola</td>\n",
       "      <td>Motorola I265 phone</td>\n",
       "      <td>https://www.amazon.com/Motorola-i265-I265-phon...</td>\n",
       "      <td>$49.95</td>\n",
       "    </tr>\n",
       "    <tr>\n",
       "      <th>2</th>\n",
       "      <td>Motorola</td>\n",
       "      <td>MOTOROLA C168i AT&amp;T CINGULAR PREPAID GOPHONE C...</td>\n",
       "      <td>https://www.amazon.com/MOTOROLA-C168i-CINGULAR...</td>\n",
       "      <td>NaN</td>\n",
       "    </tr>\n",
       "    <tr>\n",
       "      <th>3</th>\n",
       "      <td>Nokia</td>\n",
       "      <td>Nokia 6500 Slide Black/silver Unlocked Cell Phone</td>\n",
       "      <td>https://www.amazon.com/Nokia-6500-Slide-silver...</td>\n",
       "      <td>NaN</td>\n",
       "    </tr>\n",
       "    <tr>\n",
       "      <th>4</th>\n",
       "      <td>Motorola</td>\n",
       "      <td>Motorola i335 Cell Phone Boost Mobile</td>\n",
       "      <td>https://www.amazon.com/Motorola-i335-Phone-Boo...</td>\n",
       "      <td>NaN</td>\n",
       "    </tr>\n",
       "  </tbody>\n",
       "</table>\n",
       "</div>"
      ],
      "text/plain": [
       "      brand                                              title  \\\n",
       "0     Nokia  Dual-Band / Tri-Mode Sprint PCS Phone w/ Voice...   \n",
       "1  Motorola                                Motorola I265 phone   \n",
       "2  Motorola  MOTOROLA C168i AT&T CINGULAR PREPAID GOPHONE C...   \n",
       "3     Nokia  Nokia 6500 Slide Black/silver Unlocked Cell Phone   \n",
       "4  Motorola              Motorola i335 Cell Phone Boost Mobile   \n",
       "\n",
       "                                                 url  prices  \n",
       "0  https://www.amazon.com/Dual-Band-Tri-Mode-Acti...     NaN  \n",
       "1  https://www.amazon.com/Motorola-i265-I265-phon...  $49.95  \n",
       "2  https://www.amazon.com/MOTOROLA-C168i-CINGULAR...     NaN  \n",
       "3  https://www.amazon.com/Nokia-6500-Slide-silver...     NaN  \n",
       "4  https://www.amazon.com/Motorola-i335-Phone-Boo...     NaN  "
      ]
     },
     "execution_count": 6,
     "metadata": {},
     "output_type": "execute_result"
    }
   ],
   "source": [
    "df1.head()"
   ]
  },
  {
   "cell_type": "markdown",
   "metadata": {},
   "source": [
    "Drop rows where price is missing"
   ]
  },
  {
   "cell_type": "code",
   "execution_count": 7,
   "metadata": {},
   "outputs": [],
   "source": [
    "df1 = df1[df1[\"prices\"].notna()]"
   ]
  },
  {
   "cell_type": "code",
   "execution_count": 8,
   "metadata": {},
   "outputs": [
    {
     "name": "stdout",
     "output_type": "stream",
     "text": [
      "<class 'pandas.core.frame.DataFrame'>\n",
      "Int64Index: 577 entries, 1 to 791\n",
      "Data columns (total 4 columns):\n",
      " #   Column  Non-Null Count  Dtype \n",
      "---  ------  --------------  ----- \n",
      " 0   brand   577 non-null    object\n",
      " 1   title   577 non-null    object\n",
      " 2   url     577 non-null    object\n",
      " 3   prices  577 non-null    object\n",
      "dtypes: object(4)\n",
      "memory usage: 22.5+ KB\n"
     ]
    }
   ],
   "source": [
    "df1.info()"
   ]
  },
  {
   "cell_type": "code",
   "execution_count": 9,
   "metadata": {},
   "outputs": [
    {
     "data": {
      "text/html": [
       "<div>\n",
       "<style scoped>\n",
       "    .dataframe tbody tr th:only-of-type {\n",
       "        vertical-align: middle;\n",
       "    }\n",
       "\n",
       "    .dataframe tbody tr th {\n",
       "        vertical-align: top;\n",
       "    }\n",
       "\n",
       "    .dataframe thead th {\n",
       "        text-align: right;\n",
       "    }\n",
       "</style>\n",
       "<table border=\"1\" class=\"dataframe\">\n",
       "  <thead>\n",
       "    <tr style=\"text-align: right;\">\n",
       "      <th></th>\n",
       "      <th>brand</th>\n",
       "      <th>title</th>\n",
       "      <th>url</th>\n",
       "      <th>prices</th>\n",
       "    </tr>\n",
       "  </thead>\n",
       "  <tbody>\n",
       "    <tr>\n",
       "      <th>787</th>\n",
       "      <td>Apple</td>\n",
       "      <td>Apple iPhone XS, 512GB, Gold - For Verizon (Re...</td>\n",
       "      <td>https://www.amazon.com/Apple-iPhone-XS-512GB-G...</td>\n",
       "      <td>$999.95,$1,349.99</td>\n",
       "    </tr>\n",
       "    <tr>\n",
       "      <th>788</th>\n",
       "      <td>Samsung</td>\n",
       "      <td>Samsung Galaxy A50 128GB, 4GB RAM 6.4\" Display...</td>\n",
       "      <td>https://www.amazon.com/Samsung-A50-Display-Fac...</td>\n",
       "      <td>$304.99</td>\n",
       "    </tr>\n",
       "    <tr>\n",
       "      <th>789</th>\n",
       "      <td>Samsung</td>\n",
       "      <td>Samsung Galaxy S9 (64GB, 4GB RAM) 5.8\" QHD+ Di...</td>\n",
       "      <td>https://www.amazon.com/Samsung-Galaxy-S9-Displ...</td>\n",
       "      <td>$519.99</td>\n",
       "    </tr>\n",
       "    <tr>\n",
       "      <th>790</th>\n",
       "      <td>Motorola</td>\n",
       "      <td>Motorola Moto G7 Play (32GB, 2GB RAM) 5.7\" HD+...</td>\n",
       "      <td>https://www.amazon.com/Motorola-Vision-Display...</td>\n",
       "      <td>$139.99</td>\n",
       "    </tr>\n",
       "    <tr>\n",
       "      <th>791</th>\n",
       "      <td>HUAWEI</td>\n",
       "      <td>Honor 5X Unlocked Smartphone, 16GB Dark Grey (...</td>\n",
       "      <td>https://www.amazon.com/Honor-Unlocked-Smartpho...</td>\n",
       "      <td>$74.99</td>\n",
       "    </tr>\n",
       "  </tbody>\n",
       "</table>\n",
       "</div>"
      ],
      "text/plain": [
       "        brand                                              title  \\\n",
       "787     Apple  Apple iPhone XS, 512GB, Gold - For Verizon (Re...   \n",
       "788   Samsung  Samsung Galaxy A50 128GB, 4GB RAM 6.4\" Display...   \n",
       "789   Samsung  Samsung Galaxy S9 (64GB, 4GB RAM) 5.8\" QHD+ Di...   \n",
       "790  Motorola  Motorola Moto G7 Play (32GB, 2GB RAM) 5.7\" HD+...   \n",
       "791    HUAWEI  Honor 5X Unlocked Smartphone, 16GB Dark Grey (...   \n",
       "\n",
       "                                                   url             prices  \n",
       "787  https://www.amazon.com/Apple-iPhone-XS-512GB-G...  $999.95,$1,349.99  \n",
       "788  https://www.amazon.com/Samsung-A50-Display-Fac...            $304.99  \n",
       "789  https://www.amazon.com/Samsung-Galaxy-S9-Displ...            $519.99  \n",
       "790  https://www.amazon.com/Motorola-Vision-Display...            $139.99  \n",
       "791  https://www.amazon.com/Honor-Unlocked-Smartpho...             $74.99  "
      ]
     },
     "execution_count": 9,
     "metadata": {},
     "output_type": "execute_result"
    }
   ],
   "source": [
    "df1.tail()"
   ]
  },
  {
   "cell_type": "markdown",
   "metadata": {},
   "source": [
    "I've noticed that prices are stored as strings and some rows contain 2 prices. I'm gonna fix that."
   ]
  },
  {
   "cell_type": "code",
   "execution_count": 10,
   "metadata": {},
   "outputs": [],
   "source": [
    "def fix_two_prices(price):\n",
    "    price = price.split(\",\")\n",
    "    return max(price[0], price[1]) if len(price) > 1 else price[0]"
   ]
  },
  {
   "cell_type": "code",
   "execution_count": 11,
   "metadata": {},
   "outputs": [],
   "source": [
    "df1[\"prices\"] = df1[\"prices\"].apply(lambda x: fix_two_prices(x))"
   ]
  },
  {
   "cell_type": "markdown",
   "metadata": {},
   "source": [
    "Also change the type from Object to Float"
   ]
  },
  {
   "cell_type": "code",
   "execution_count": 12,
   "metadata": {},
   "outputs": [],
   "source": [
    "df1[\"prices\"] = df1[\"prices\"].apply(lambda x: float(x[1:]))"
   ]
  },
  {
   "cell_type": "code",
   "execution_count": 13,
   "metadata": {},
   "outputs": [
    {
     "data": {
      "text/plain": [
       "array([ 49.95,  78.99,  99.99,  59.89,  99.95, 149.95,  79.  ,  79.99,\n",
       "        59.95,  59.99, 109.99, 118.8 , 189.95,  89.  , 389.28, 181.49,\n",
       "       168.96, 164.92,  99.  ,  84.94, 230.59, 183.44, 165.59, 239.  ,\n",
       "       209.65, 159.01, 142.99, 133.99, 169.  , 339.99, 494.99,  89.95,\n",
       "       239.99, 219.99, 157.99, 214.5 , 159.99, 199.99,  28.69, 169.93,\n",
       "       256.57, 249.99, 229.99, 339.47, 158.  , 199.  ,  80.  , 125.55,\n",
       "       169.99, 153.  ,  79.95, 159.95, 149.99, 516.43, 159.  , 155.99,\n",
       "       198.94, 104.  , 154.95, 119.  , 139.98, 151.99, 139.99, 129.99,\n",
       "       130.  , 109.5 ,  78.74, 279.99, 110.95, 323.98, 112.95, 671.46,\n",
       "       319.99, 138.  , 659.99, 145.  ,  95.  , 142.14, 299.99,  54.99,\n",
       "       165.42, 138.99, 149.  ,  69.49,  94.99, 114.99, 259.98, 355.99,\n",
       "       135.98, 139.89, 279.  , 140.55, 161.99, 219.53, 114.4 , 123.99,\n",
       "       185.49, 135.55, 329.99, 179.99, 169.95, 269.99, 227.99, 217.99,\n",
       "       145.99, 208.95,  88.95, 189.  , 240.  , 199.95, 144.  , 191.98,\n",
       "       399.99, 132.99, 124.55, 200.  ,  69.95, 168.99, 128.95, 212.  ,\n",
       "       449.99, 194.95, 195.54, 207.95, 167.95,  72.97, 130.95,  84.95,\n",
       "       122.5 , 389.95, 104.96, 102.97, 144.95, 150.95, 298.69, 136.  ,\n",
       "       101.  , 271.84, 389.99, 324.99, 339.  , 184.83, 259.99, 499.99,\n",
       "       409.  , 589.99, 910.37, 234.95, 219.95, 667.16, 127.94, 174.  ,\n",
       "       155.  , 134.98, 179.  , 107.7 , 139.  , 294.95, 290.  ,  48.  ,\n",
       "       477.95, 198.98, 212.99, 152.  , 112.36, 188.95, 215.  , 264.95,\n",
       "       270.95, 759.99, 175.  , 199.98, 289.95, 189.99, 124.41, 899.99,\n",
       "       125.95, 259.  ,  49.99,  59.  , 164.99, 454.99, 373.99, 393.99,\n",
       "       679.  ,  69.99, 440.95, 263.  , 289.  , 255.  , 107.55, 309.1 ,\n",
       "       108.99, 479.99, 549.99, 373.5 , 689.99, 465.  ,  24.5 , 349.  ,\n",
       "       334.55, 195.  , 421.98, 536.58, 339.87, 369.99, 292.  , 299.  ,\n",
       "       249.  , 150.  , 213.3 ,  32.95, 243.3 , 359.  , 499.  , 269.  ,\n",
       "       599.99, 187.  , 414.99, 258.71, 289.99, 248.99, 249.98, 270.7 ,\n",
       "       237.38, 349.99, 247.99, 260.  , 274.99, 229.  , 269.95, 250.  ,\n",
       "       119.99, 436.  , 459.  , 477.5 , 174.99, 449.94, 692.14, 699.99,\n",
       "       321.99, 316.99, 348.35, 300.  , 209.99, 364.85, 359.47, 328.99,\n",
       "       449.  , 268.07,  22.99, 557.99,  83.99, 191.43, 454.49, 195.95,\n",
       "       105.  , 288.99, 299.95, 520.22, 109.95, 146.48, 239.95, 312.94,\n",
       "       304.95,  84.99, 129.95, 139.95, 332.99, 231.99,  96.54, 267.71,\n",
       "       198.99, 210.99, 160.  , 159.72, 124.99, 549.95, 152.49, 135.  ,\n",
       "       153.49, 849.99, 129.  , 165.55,  87.98, 284.95, 326.89, 134.  ,\n",
       "        92.  , 360.85, 874.18, 314.99, 451.49,  98.95, 172.49, 390.  ,\n",
       "       425.  , 125.99, 440.42, 330.99, 469.9 , 121.99,  23.99, 777.43,\n",
       "       199.96, 192.49, 400.  , 349.95, 592.85, 540.  ,  87.59, 899.  ,\n",
       "       247.2 , 284.  , 789.  , 340.  , 944.99,   0.  , 664.95, 452.92,\n",
       "       349.17, 250.94, 328.  , 379.99, 172.44, 285.  , 419.99,  88.98,\n",
       "       119.96, 137.99, 494.95,  77.  , 429.99, 699.  , 110.  , 364.9 ,\n",
       "       254.99, 550.95, 519.  , 207.99, 242.  , 229.27, 192.99, 419.95,\n",
       "       547.49, 815.  , 344.45, 535.  ,  68.  , 695.  , 749.99, 579.99,\n",
       "       799.  , 949.99, 629.95,  70.99, 170.  , 327.95, 300.96, 182.  ,\n",
       "       809.99, 190.  , 205.  , 519.95, 675.95, 189.75, 103.74, 534.  ,\n",
       "       405.  , 179.64, 150.88, 188.18, 203.07, 131.9 , 384.  , 413.9 ,\n",
       "       829.  , 346.7 , 309.99, 310.  , 128.  , 132.98, 344.5 , 128.99,\n",
       "       498.43, 143.99, 163.95, 399.  , 480.99, 479.79, 188.99, 187.72,\n",
       "       211.96, 999.95, 304.99, 519.99,  74.99])"
      ]
     },
     "execution_count": 13,
     "metadata": {},
     "output_type": "execute_result"
    }
   ],
   "source": [
    "# verify\n",
    "df1[\"prices\"].unique()"
   ]
  },
  {
   "cell_type": "code",
   "execution_count": 14,
   "metadata": {},
   "outputs": [
    {
     "data": {
      "text/html": [
       "<div>\n",
       "<style scoped>\n",
       "    .dataframe tbody tr th:only-of-type {\n",
       "        vertical-align: middle;\n",
       "    }\n",
       "\n",
       "    .dataframe tbody tr th {\n",
       "        vertical-align: top;\n",
       "    }\n",
       "\n",
       "    .dataframe thead th {\n",
       "        text-align: right;\n",
       "    }\n",
       "</style>\n",
       "<table border=\"1\" class=\"dataframe\">\n",
       "  <thead>\n",
       "    <tr style=\"text-align: right;\">\n",
       "      <th></th>\n",
       "      <th>brand</th>\n",
       "      <th>title</th>\n",
       "      <th>url</th>\n",
       "      <th>prices</th>\n",
       "    </tr>\n",
       "  </thead>\n",
       "  <tbody>\n",
       "    <tr>\n",
       "      <th>1</th>\n",
       "      <td>Motorola</td>\n",
       "      <td>Motorola I265 phone</td>\n",
       "      <td>https://www.amazon.com/Motorola-i265-I265-phon...</td>\n",
       "      <td>49.95</td>\n",
       "    </tr>\n",
       "    <tr>\n",
       "      <th>6</th>\n",
       "      <td>Sony</td>\n",
       "      <td>Sony Ericsson G700 Triband GSM Phone Bronze (U...</td>\n",
       "      <td>https://www.amazon.com/Sony-Ericsson-Triband-B...</td>\n",
       "      <td>78.99</td>\n",
       "    </tr>\n",
       "    <tr>\n",
       "      <th>8</th>\n",
       "      <td>Nokia</td>\n",
       "      <td>Nokia New 1100 for Tracfone</td>\n",
       "      <td>https://www.amazon.com/New-Nokia-1100-for-Trac...</td>\n",
       "      <td>99.99</td>\n",
       "    </tr>\n",
       "    <tr>\n",
       "      <th>9</th>\n",
       "      <td>Samsung</td>\n",
       "      <td>Samsung T301G Prepaid Phone (Tracfone)</td>\n",
       "      <td>https://www.amazon.com/Samsung-T301G-Prepaid-P...</td>\n",
       "      <td>59.89</td>\n",
       "    </tr>\n",
       "    <tr>\n",
       "      <th>10</th>\n",
       "      <td>Motorola</td>\n",
       "      <td>Motorola I205 cell phone nextel/Boost</td>\n",
       "      <td>https://www.amazon.com/Motorola-I205-phone-nex...</td>\n",
       "      <td>99.95</td>\n",
       "    </tr>\n",
       "    <tr>\n",
       "      <th>11</th>\n",
       "      <td>Samsung</td>\n",
       "      <td>Samsung a167 Prepaid GoPhone (AT&amp;T)</td>\n",
       "      <td>https://www.amazon.com/Samsung-a167-Prepaid-Go...</td>\n",
       "      <td>149.95</td>\n",
       "    </tr>\n",
       "    <tr>\n",
       "      <th>16</th>\n",
       "      <td>Motorola</td>\n",
       "      <td>Motorola i570 Nextel iDen PTT rugged black cel...</td>\n",
       "      <td>https://www.amazon.com/Motorola-i570-Nextel-ru...</td>\n",
       "      <td>79.00</td>\n",
       "    </tr>\n",
       "    <tr>\n",
       "      <th>19</th>\n",
       "      <td>Samsung</td>\n",
       "      <td>Samsung R355C Net 10 Unlimited</td>\n",
       "      <td>https://www.amazon.com/Samsung-R355C-Net-10-Un...</td>\n",
       "      <td>79.99</td>\n",
       "    </tr>\n",
       "    <tr>\n",
       "      <th>24</th>\n",
       "      <td>Motorola</td>\n",
       "      <td>Motorola Clutch i475 Prepaid Phone (Boost Mobile)</td>\n",
       "      <td>https://www.amazon.com/Motorola-Clutch-i475-Pr...</td>\n",
       "      <td>59.95</td>\n",
       "    </tr>\n",
       "    <tr>\n",
       "      <th>26</th>\n",
       "      <td>HUAWEI</td>\n",
       "      <td>Huawei Pinnacle Prepaid Phone (MetroPCS)</td>\n",
       "      <td>https://www.amazon.com/Huawei-Pinnacle-Prepaid...</td>\n",
       "      <td>59.99</td>\n",
       "    </tr>\n",
       "  </tbody>\n",
       "</table>\n",
       "</div>"
      ],
      "text/plain": [
       "       brand                                              title  \\\n",
       "1   Motorola                                Motorola I265 phone   \n",
       "6       Sony  Sony Ericsson G700 Triband GSM Phone Bronze (U...   \n",
       "8      Nokia                        Nokia New 1100 for Tracfone   \n",
       "9    Samsung             Samsung T301G Prepaid Phone (Tracfone)   \n",
       "10  Motorola              Motorola I205 cell phone nextel/Boost   \n",
       "11   Samsung                Samsung a167 Prepaid GoPhone (AT&T)   \n",
       "16  Motorola  Motorola i570 Nextel iDen PTT rugged black cel...   \n",
       "19   Samsung                     Samsung R355C Net 10 Unlimited   \n",
       "24  Motorola  Motorola Clutch i475 Prepaid Phone (Boost Mobile)   \n",
       "26    HUAWEI           Huawei Pinnacle Prepaid Phone (MetroPCS)   \n",
       "\n",
       "                                                  url  prices  \n",
       "1   https://www.amazon.com/Motorola-i265-I265-phon...   49.95  \n",
       "6   https://www.amazon.com/Sony-Ericsson-Triband-B...   78.99  \n",
       "8   https://www.amazon.com/New-Nokia-1100-for-Trac...   99.99  \n",
       "9   https://www.amazon.com/Samsung-T301G-Prepaid-P...   59.89  \n",
       "10  https://www.amazon.com/Motorola-I205-phone-nex...   99.95  \n",
       "11  https://www.amazon.com/Samsung-a167-Prepaid-Go...  149.95  \n",
       "16  https://www.amazon.com/Motorola-i570-Nextel-ru...   79.00  \n",
       "19  https://www.amazon.com/Samsung-R355C-Net-10-Un...   79.99  \n",
       "24  https://www.amazon.com/Motorola-Clutch-i475-Pr...   59.95  \n",
       "26  https://www.amazon.com/Huawei-Pinnacle-Prepaid...   59.99  "
      ]
     },
     "execution_count": 14,
     "metadata": {},
     "output_type": "execute_result"
    }
   ],
   "source": [
    "df1.head(10)"
   ]
  },
  {
   "cell_type": "markdown",
   "metadata": {},
   "source": [
    "Consider only products within a certain price tag"
   ]
  },
  {
   "cell_type": "code",
   "execution_count": 15,
   "metadata": {},
   "outputs": [],
   "source": [
    "df1 = df1.loc[df1[\"prices\"] >= 300.00]"
   ]
  },
  {
   "cell_type": "code",
   "execution_count": 16,
   "metadata": {},
   "outputs": [
    {
     "name": "stdout",
     "output_type": "stream",
     "text": [
      "<class 'pandas.core.frame.DataFrame'>\n",
      "Int64Index: 161 entries, 40 to 789\n",
      "Data columns (total 4 columns):\n",
      " #   Column  Non-Null Count  Dtype  \n",
      "---  ------  --------------  -----  \n",
      " 0   brand   161 non-null    object \n",
      " 1   title   161 non-null    object \n",
      " 2   url     161 non-null    object \n",
      " 3   prices  161 non-null    float64\n",
      "dtypes: float64(1), object(3)\n",
      "memory usage: 6.3+ KB\n"
     ]
    }
   ],
   "source": [
    "df1.info()"
   ]
  },
  {
   "cell_type": "code",
   "execution_count": 17,
   "metadata": {},
   "outputs": [
    {
     "data": {
      "text/plain": [
       "array(['Samsung Galaxy Express, Gray 8GB (AT&T)',\n",
       "       'Samsung Galaxy Alpha, Charcoal Black 32GB (AT&T)',\n",
       "       'Samsung Galaxy Mega 2, Brown Black 16GB (AT&T)',\n",
       "       'Samsung Galaxy S6 Edge G925F 32GB Unlocked Phone - Retail Packaging - Black Sapphire',\n",
       "       'Samsung Galaxy S6 Active, 32 GB , Grey (AT&T)',\n",
       "       'Samsung Galaxy S7 Edge SM-G935F 32GB (GSM Only, No CDMA) Factory Unlocked 4G/LTE Single SIM Smartphone (Black Onyx)',\n",
       "       'Samsung Galaxy GS7 Edge, Gold 32GB (Verizon Wireless)',\n",
       "       'Samsung Galaxy S7 G930F 32GB Factory Unlocked GSM Smartphone - International Version - Titanium Silver',\n",
       "       'Apple iPhone 6S, GSM Unlocked, 64GB - Rose Gold (Renewed)',\n",
       "       'Samsung Galaxy S7 Edge unlocked smartphone, 32 GB Silver (US Warranty - Model SM-G935UZSAXAA)',\n",
       "       'Samsung Galaxy S7 SM-G930F 32GB Factory Unlocked GSM 4G LTE Single Sim Smartphone (Black)',\n",
       "       'Apple iPhone SE, 64GB, Gold - For AT&T / T-Mobile (Renewed)',\n",
       "       'Google Pixel XL (128GB, 4GB RAM) 5.5\" AMOLED HD Display, Global 4G LTE, US Factory Unlocked Model (GSM, Verizon, Sprint) - Very Silver',\n",
       "       'Apple iPhone 7 Plus, 32GB, Rose Gold - For AT&T / T-Mobile (Renewed)',\n",
       "       'Apple iPhone 7, 128GB, Gold - For AT&T / T-Mobile (Renewed)',\n",
       "       'Apple iPhone 7 Plus 128GB Unlocked GSM 4G LTE Quad-Core Smartphone w/ Dual 12MP Camera - Black (Renewed)',\n",
       "       'Apple iPhone 7 Plus 256GB Unlocked GSM Quad-Core Phone - Black (Renewed)',\n",
       "       'Apple iPhone 7 Plus 32GB Unlocked GSM Phone - Rose Gold (Renewed)',\n",
       "       'Apple iPhone 7 Plus 32GB Unlocked GSM 4G LTE Quad-Core Smartphone - Black (Renewed)',\n",
       "       'Samsung Galaxy S8 64GB Factory Unlocked Smartphone - US Version (Midnight Black) - US Warranty - [SM-G950UZKAXAA]',\n",
       "       'Samsung Galaxy S8 64GB Unlocked Phone - US Version (Orchid Gray)',\n",
       "       'Samsung Galaxy S8+ 64GB Unlocked Phone - 6.2\" Screen - International Version (Coral Blue)',\n",
       "       'Samsung Galaxy S8+ 64GB Factory Unlocked Smartphone - 6.2\" Screen - US Version (Midnight Black) - US Warranty [SM-G955UZKAXAA]',\n",
       "       'Samsung Galaxy S8 G950U 64GB AT&T GSM Unlocked Phone - Orchid Grey',\n",
       "       'Sony Xperia XZ Premium - Unlocked Smartphone - 5.5\", 64GB - Dual SIM - Pink (US Warranty)',\n",
       "       'Apple iPad Mini 4 64gb Space Gray (Renewed)',\n",
       "       'Samsung Galaxy S8 64GB SM-G950U Orchid Gray - Sprint (Renewed)',\n",
       "       'Total Wireless Samsung Galaxy S8+ 4G LTE Prepaid Smartphone',\n",
       "       'Sony Xperia XZ1 Factory Unlocked Phone - 5.2\" Full HD HDR Display - 64GB - Warm Silver (U.S. Warranty)',\n",
       "       'Samsung Galaxy Note8 N950U 64GB Unlocked GSM LTE Android Phone w/ Dual 12 Megapixel Camera - Midnight Black',\n",
       "       'Apple iPhone 7 Plus, GSM Unlocked, 256GB - (Renewed)',\n",
       "       'Samsung Galaxy S8+ G955U 64GB Unlocked GSM U.S. Version Smartphone w/ 12MP Camera - Orchid Gray',\n",
       "       'Google Pixel 2 64GB Unlocked GSM/CDMA 4G LTE Octa-Core Phone w/ 12.2MP Camera - Just Black',\n",
       "       'Google Pixel 2 128GB Unlocked GSM/CDMA 4G LTE Octa-Core Phone w/ 12.2MP Camera - Just Black',\n",
       "       'Google Pixel 2 XL 128GB Unlocked GSM/CDMA 4G LTE Octa-Core Phone w/ 12.2MP Camera - Just Black',\n",
       "       'Samsung Galaxy Note 8 SM-N950U 64GB Midnight Black AT&T',\n",
       "       'Samsung Galaxy Note 8 N950 Factory Unlocked Phone 64GB Midnight Black (Renewed)',\n",
       "       'Apple iPhone 8 Plus, GSM Unlocked, 64GB - Gold (Renewed)',\n",
       "       'Apple iPhone 8, GSM Unlocked, 256GB - Space Gray (Renewed)',\n",
       "       'Apple iPhone 8, GSM Unlocked, 64GB - Gold (Renewed)',\n",
       "       'Apple iPhone 8, 64GB, Space Gray - for AT&T/T-Mobile (Renewed)',\n",
       "       'Apple iPhone X, 256GB, Space Gray - For AT&T/T-Mobile (Renewed)',\n",
       "       'Apple iPhone 8 4.7\", 256 GB, Fully Unlocked, Space Gray (Renewed)',\n",
       "       'Apple iPhone 8 Plus, GSM Unlocked, 64GB - Space Gray (Refurbished)',\n",
       "       'Samsung Galaxy Note 8 SM-N950U 64GB Orchid Gray T-Mobile - Renewed',\n",
       "       'Samsung Galaxy Note 8 SM-N950U 64GB Midnight Black AT&T Unlocked - Renewed',\n",
       "       'Samsung Galaxy Note 8 N950U 64GB - Sprint (Midnight Black)',\n",
       "       'Google Pixel 2 XL 64GB Unlocked GSM/CDMA 4G LTE Octa-Core Phone w/ 12.2MP Camera - Just Black',\n",
       "       'Apple iPhone 7 256GB Unlocked GSM 4G LTE Quad-Core Smartphone - Jet Black (Renewed)',\n",
       "       'Google Pixel 2 XL Unlocked (GSM Only, No CDMA) - US warranty (Black & White, 64GB)'],\n",
       "      dtype=object)"
      ]
     },
     "execution_count": 17,
     "metadata": {},
     "output_type": "execute_result"
    }
   ],
   "source": [
    "df1[\"title\"].unique()[:50]"
   ]
  },
  {
   "cell_type": "markdown",
   "metadata": {},
   "source": [
    "Maybe we should remove the (Renewed), (Refurbished)... from the items names"
   ]
  },
  {
   "cell_type": "code",
   "execution_count": 18,
   "metadata": {},
   "outputs": [],
   "source": [
    "def clean_item_name(item: str) -> str:\n",
    "    return item.split(\" (\")[0]"
   ]
  },
  {
   "cell_type": "code",
   "execution_count": 19,
   "metadata": {},
   "outputs": [],
   "source": [
    "df1[\"title\"] = df1[\"title\"].apply(lambda x: clean_item_name(x))"
   ]
  },
  {
   "cell_type": "markdown",
   "metadata": {},
   "source": [
    "Shorten all the URLs [using API]"
   ]
  },
  {
   "cell_type": "code",
   "execution_count": 20,
   "metadata": {},
   "outputs": [],
   "source": [
    "endpoint = \"https://api.shrtco.de/v2/shorten?url=\"\n",
    "def shorten_url(url: str) -> str:\n",
    "    response = requests.get(f\"{endpoint}{url}\").text\n",
    "    if \"result\" in json.loads(response):\n",
    "        return json.loads(response)[\"result\"][\"short_link2\"]\n",
    "    else:\n",
    "        return \"NA\""
   ]
  },
  {
   "cell_type": "code",
   "execution_count": 21,
   "metadata": {},
   "outputs": [],
   "source": [
    "# df1[\"url\"] = df1[\"url\"].apply(lambda x: shorten_url(x))"
   ]
  },
  {
   "cell_type": "code",
   "execution_count": 22,
   "metadata": {},
   "outputs": [
    {
     "data": {
      "text/html": [
       "<div>\n",
       "<style scoped>\n",
       "    .dataframe tbody tr th:only-of-type {\n",
       "        vertical-align: middle;\n",
       "    }\n",
       "\n",
       "    .dataframe tbody tr th {\n",
       "        vertical-align: top;\n",
       "    }\n",
       "\n",
       "    .dataframe thead th {\n",
       "        text-align: right;\n",
       "    }\n",
       "</style>\n",
       "<table border=\"1\" class=\"dataframe\">\n",
       "  <thead>\n",
       "    <tr style=\"text-align: right;\">\n",
       "      <th></th>\n",
       "      <th>brand</th>\n",
       "      <th>title</th>\n",
       "      <th>url</th>\n",
       "      <th>prices</th>\n",
       "    </tr>\n",
       "  </thead>\n",
       "  <tbody>\n",
       "    <tr>\n",
       "      <th>781</th>\n",
       "      <td>Samsung</td>\n",
       "      <td>Samsung Galaxy A80 SM-A805F/DS Dual Sim</td>\n",
       "      <td>https://www.amazon.com/Samsung-A80-SM-A805F-Fa...</td>\n",
       "      <td>479.79</td>\n",
       "    </tr>\n",
       "    <tr>\n",
       "      <th>786</th>\n",
       "      <td>Samsung</td>\n",
       "      <td>Samsung Galaxy A50 US Version Factory Unlocked...</td>\n",
       "      <td>https://www.amazon.com/Samsung-Unlocked-SM-A50...</td>\n",
       "      <td>349.99</td>\n",
       "    </tr>\n",
       "    <tr>\n",
       "      <th>787</th>\n",
       "      <td>Apple</td>\n",
       "      <td>Apple iPhone XS, 512GB, Gold - For Verizon</td>\n",
       "      <td>https://www.amazon.com/Apple-iPhone-XS-512GB-G...</td>\n",
       "      <td>999.95</td>\n",
       "    </tr>\n",
       "    <tr>\n",
       "      <th>788</th>\n",
       "      <td>Samsung</td>\n",
       "      <td>Samsung Galaxy A50 128GB, 4GB RAM 6.4\" Display...</td>\n",
       "      <td>https://www.amazon.com/Samsung-A50-Display-Fac...</td>\n",
       "      <td>304.99</td>\n",
       "    </tr>\n",
       "    <tr>\n",
       "      <th>789</th>\n",
       "      <td>Samsung</td>\n",
       "      <td>Samsung Galaxy S9</td>\n",
       "      <td>https://www.amazon.com/Samsung-Galaxy-S9-Displ...</td>\n",
       "      <td>519.99</td>\n",
       "    </tr>\n",
       "  </tbody>\n",
       "</table>\n",
       "</div>"
      ],
      "text/plain": [
       "       brand                                              title  \\\n",
       "781  Samsung            Samsung Galaxy A80 SM-A805F/DS Dual Sim   \n",
       "786  Samsung  Samsung Galaxy A50 US Version Factory Unlocked...   \n",
       "787    Apple         Apple iPhone XS, 512GB, Gold - For Verizon   \n",
       "788  Samsung  Samsung Galaxy A50 128GB, 4GB RAM 6.4\" Display...   \n",
       "789  Samsung                                  Samsung Galaxy S9   \n",
       "\n",
       "                                                   url  prices  \n",
       "781  https://www.amazon.com/Samsung-A80-SM-A805F-Fa...  479.79  \n",
       "786  https://www.amazon.com/Samsung-Unlocked-SM-A50...  349.99  \n",
       "787  https://www.amazon.com/Apple-iPhone-XS-512GB-G...  999.95  \n",
       "788  https://www.amazon.com/Samsung-A50-Display-Fac...  304.99  \n",
       "789  https://www.amazon.com/Samsung-Galaxy-S9-Displ...  519.99  "
      ]
     },
     "execution_count": 22,
     "metadata": {},
     "output_type": "execute_result"
    }
   ],
   "source": [
    "df1.tail()"
   ]
  },
  {
   "cell_type": "code",
   "execution_count": 23,
   "metadata": {},
   "outputs": [],
   "source": [
    "df1.reset_index(drop=True, inplace=True)"
   ]
  },
  {
   "cell_type": "markdown",
   "metadata": {},
   "source": [
    "*File 2*"
   ]
  },
  {
   "cell_type": "code",
   "execution_count": 24,
   "metadata": {},
   "outputs": [],
   "source": [
    "file2 = \"/home/rohkoder29/Documents/year2022/python/data_science/kaggle/marketing_sample_for_amazon_com-ecommerce__20200101_20200131__10k_data.csv\"\n",
    "# load only relevant columns\n",
    "cols = [\"Product Name\", \"Category\", \"Selling Price\", \"Product Url\"]\n",
    "df2 = pd.read_csv(file2, index_col=False, skipinitialspace=True, usecols=cols)"
   ]
  },
  {
   "cell_type": "code",
   "execution_count": 25,
   "metadata": {},
   "outputs": [
    {
     "name": "stdout",
     "output_type": "stream",
     "text": [
      "<class 'pandas.core.frame.DataFrame'>\n",
      "RangeIndex: 10002 entries, 0 to 10001\n",
      "Data columns (total 4 columns):\n",
      " #   Column         Non-Null Count  Dtype \n",
      "---  ------         --------------  ----- \n",
      " 0   Product Name   10002 non-null  object\n",
      " 1   Category       9172 non-null   object\n",
      " 2   Selling Price  9895 non-null   object\n",
      " 3   Product Url    10002 non-null  object\n",
      "dtypes: object(4)\n",
      "memory usage: 312.7+ KB\n"
     ]
    }
   ],
   "source": [
    "df2.info()"
   ]
  },
  {
   "cell_type": "markdown",
   "metadata": {},
   "source": [
    "Drop rows where Category or Price is missing"
   ]
  },
  {
   "cell_type": "code",
   "execution_count": 26,
   "metadata": {},
   "outputs": [],
   "source": [
    "df2 = df2.loc[df2[\"Category\"].notna()]\n",
    "df2 = df2.loc[df2[\"Selling Price\"].notna()]"
   ]
  },
  {
   "cell_type": "code",
   "execution_count": 27,
   "metadata": {},
   "outputs": [
    {
     "name": "stdout",
     "output_type": "stream",
     "text": [
      "<class 'pandas.core.frame.DataFrame'>\n",
      "Int64Index: 9066 entries, 0 to 10001\n",
      "Data columns (total 4 columns):\n",
      " #   Column         Non-Null Count  Dtype \n",
      "---  ------         --------------  ----- \n",
      " 0   Product Name   9066 non-null   object\n",
      " 1   Category       9066 non-null   object\n",
      " 2   Selling Price  9066 non-null   object\n",
      " 3   Product Url    9066 non-null   object\n",
      "dtypes: object(4)\n",
      "memory usage: 354.1+ KB\n"
     ]
    }
   ],
   "source": [
    "df2.info()"
   ]
  },
  {
   "cell_type": "code",
   "execution_count": 28,
   "metadata": {},
   "outputs": [
    {
     "data": {
      "text/html": [
       "<div>\n",
       "<style scoped>\n",
       "    .dataframe tbody tr th:only-of-type {\n",
       "        vertical-align: middle;\n",
       "    }\n",
       "\n",
       "    .dataframe tbody tr th {\n",
       "        vertical-align: top;\n",
       "    }\n",
       "\n",
       "    .dataframe thead th {\n",
       "        text-align: right;\n",
       "    }\n",
       "</style>\n",
       "<table border=\"1\" class=\"dataframe\">\n",
       "  <thead>\n",
       "    <tr style=\"text-align: right;\">\n",
       "      <th></th>\n",
       "      <th>Product Name</th>\n",
       "      <th>Category</th>\n",
       "      <th>Selling Price</th>\n",
       "      <th>Product Url</th>\n",
       "    </tr>\n",
       "  </thead>\n",
       "  <tbody>\n",
       "    <tr>\n",
       "      <th>0</th>\n",
       "      <td>DB Longboards CoreFlex Crossbow 41\" Bamboo Fib...</td>\n",
       "      <td>Sports &amp; Outdoors | Outdoor Recreation | Skate...</td>\n",
       "      <td>$237.68</td>\n",
       "      <td>https://www.amazon.com/DB-Longboards-CoreFlex-...</td>\n",
       "    </tr>\n",
       "    <tr>\n",
       "      <th>1</th>\n",
       "      <td>Electronic Snap Circuits Mini Kits Classpack, ...</td>\n",
       "      <td>Toys &amp; Games | Learning &amp; Education | Science ...</td>\n",
       "      <td>$99.95</td>\n",
       "      <td>https://www.amazon.com/Electronic-Circuits-Cla...</td>\n",
       "    </tr>\n",
       "    <tr>\n",
       "      <th>2</th>\n",
       "      <td>3Doodler Create Flexy 3D Printing Filament Ref...</td>\n",
       "      <td>Toys &amp; Games | Arts &amp; Crafts | Craft Kits</td>\n",
       "      <td>$34.99</td>\n",
       "      <td>https://www.amazon.com/3Doodler-Plastic-Innova...</td>\n",
       "    </tr>\n",
       "    <tr>\n",
       "      <th>3</th>\n",
       "      <td>Guillow Airplane Design Studio with Travel Cas...</td>\n",
       "      <td>Toys &amp; Games | Hobbies | Models &amp; Model Kits |...</td>\n",
       "      <td>$28.91</td>\n",
       "      <td>https://www.amazon.com/Guillow-Airplane-Design...</td>\n",
       "    </tr>\n",
       "    <tr>\n",
       "      <th>4</th>\n",
       "      <td>Woodstock- Collage 500 pc Puzzle</td>\n",
       "      <td>Toys &amp; Games | Puzzles | Jigsaw Puzzles</td>\n",
       "      <td>$17.49</td>\n",
       "      <td>https://www.amazon.com/Woodstock-Collage-500-p...</td>\n",
       "    </tr>\n",
       "  </tbody>\n",
       "</table>\n",
       "</div>"
      ],
      "text/plain": [
       "                                        Product Name  \\\n",
       "0  DB Longboards CoreFlex Crossbow 41\" Bamboo Fib...   \n",
       "1  Electronic Snap Circuits Mini Kits Classpack, ...   \n",
       "2  3Doodler Create Flexy 3D Printing Filament Ref...   \n",
       "3  Guillow Airplane Design Studio with Travel Cas...   \n",
       "4                   Woodstock- Collage 500 pc Puzzle   \n",
       "\n",
       "                                            Category Selling Price  \\\n",
       "0  Sports & Outdoors | Outdoor Recreation | Skate...       $237.68   \n",
       "1  Toys & Games | Learning & Education | Science ...        $99.95   \n",
       "2          Toys & Games | Arts & Crafts | Craft Kits        $34.99   \n",
       "3  Toys & Games | Hobbies | Models & Model Kits |...        $28.91   \n",
       "4            Toys & Games | Puzzles | Jigsaw Puzzles        $17.49   \n",
       "\n",
       "                                         Product Url  \n",
       "0  https://www.amazon.com/DB-Longboards-CoreFlex-...  \n",
       "1  https://www.amazon.com/Electronic-Circuits-Cla...  \n",
       "2  https://www.amazon.com/3Doodler-Plastic-Innova...  \n",
       "3  https://www.amazon.com/Guillow-Airplane-Design...  \n",
       "4  https://www.amazon.com/Woodstock-Collage-500-p...  "
      ]
     },
     "execution_count": 28,
     "metadata": {},
     "output_type": "execute_result"
    }
   ],
   "source": [
    "df2.head()"
   ]
  },
  {
   "cell_type": "markdown",
   "metadata": {},
   "source": [
    "Let's filter out..."
   ]
  },
  {
   "cell_type": "markdown",
   "metadata": {},
   "source": [
    "We gonna keep products whitin only certain categories and sub-categories"
   ]
  },
  {
   "cell_type": "markdown",
   "metadata": {},
   "source": [
    "Create a new Sub-Category feature"
   ]
  },
  {
   "cell_type": "code",
   "execution_count": 29,
   "metadata": {},
   "outputs": [],
   "source": [
    "df2[\"Sub-Category\"] = df2[\"Category\"].apply(lambda x: x.split(\" | \")[1])"
   ]
  },
  {
   "cell_type": "markdown",
   "metadata": {},
   "source": [
    "Category feature has only the main categories"
   ]
  },
  {
   "cell_type": "code",
   "execution_count": 30,
   "metadata": {},
   "outputs": [],
   "source": [
    "df2[\"Category\"] = df2[\"Category\"].apply(lambda x: x.split(\" | \")[0])"
   ]
  },
  {
   "cell_type": "code",
   "execution_count": 31,
   "metadata": {},
   "outputs": [
    {
     "data": {
      "text/html": [
       "<div>\n",
       "<style scoped>\n",
       "    .dataframe tbody tr th:only-of-type {\n",
       "        vertical-align: middle;\n",
       "    }\n",
       "\n",
       "    .dataframe tbody tr th {\n",
       "        vertical-align: top;\n",
       "    }\n",
       "\n",
       "    .dataframe thead th {\n",
       "        text-align: right;\n",
       "    }\n",
       "</style>\n",
       "<table border=\"1\" class=\"dataframe\">\n",
       "  <thead>\n",
       "    <tr style=\"text-align: right;\">\n",
       "      <th></th>\n",
       "      <th>Product Name</th>\n",
       "      <th>Category</th>\n",
       "      <th>Selling Price</th>\n",
       "      <th>Product Url</th>\n",
       "      <th>Sub-Category</th>\n",
       "    </tr>\n",
       "  </thead>\n",
       "  <tbody>\n",
       "    <tr>\n",
       "      <th>0</th>\n",
       "      <td>DB Longboards CoreFlex Crossbow 41\" Bamboo Fib...</td>\n",
       "      <td>Sports &amp; Outdoors</td>\n",
       "      <td>$237.68</td>\n",
       "      <td>https://www.amazon.com/DB-Longboards-CoreFlex-...</td>\n",
       "      <td>Outdoor Recreation</td>\n",
       "    </tr>\n",
       "    <tr>\n",
       "      <th>1</th>\n",
       "      <td>Electronic Snap Circuits Mini Kits Classpack, ...</td>\n",
       "      <td>Toys &amp; Games</td>\n",
       "      <td>$99.95</td>\n",
       "      <td>https://www.amazon.com/Electronic-Circuits-Cla...</td>\n",
       "      <td>Learning &amp; Education</td>\n",
       "    </tr>\n",
       "    <tr>\n",
       "      <th>2</th>\n",
       "      <td>3Doodler Create Flexy 3D Printing Filament Ref...</td>\n",
       "      <td>Toys &amp; Games</td>\n",
       "      <td>$34.99</td>\n",
       "      <td>https://www.amazon.com/3Doodler-Plastic-Innova...</td>\n",
       "      <td>Arts &amp; Crafts</td>\n",
       "    </tr>\n",
       "    <tr>\n",
       "      <th>3</th>\n",
       "      <td>Guillow Airplane Design Studio with Travel Cas...</td>\n",
       "      <td>Toys &amp; Games</td>\n",
       "      <td>$28.91</td>\n",
       "      <td>https://www.amazon.com/Guillow-Airplane-Design...</td>\n",
       "      <td>Hobbies</td>\n",
       "    </tr>\n",
       "    <tr>\n",
       "      <th>4</th>\n",
       "      <td>Woodstock- Collage 500 pc Puzzle</td>\n",
       "      <td>Toys &amp; Games</td>\n",
       "      <td>$17.49</td>\n",
       "      <td>https://www.amazon.com/Woodstock-Collage-500-p...</td>\n",
       "      <td>Puzzles</td>\n",
       "    </tr>\n",
       "  </tbody>\n",
       "</table>\n",
       "</div>"
      ],
      "text/plain": [
       "                                        Product Name           Category  \\\n",
       "0  DB Longboards CoreFlex Crossbow 41\" Bamboo Fib...  Sports & Outdoors   \n",
       "1  Electronic Snap Circuits Mini Kits Classpack, ...       Toys & Games   \n",
       "2  3Doodler Create Flexy 3D Printing Filament Ref...       Toys & Games   \n",
       "3  Guillow Airplane Design Studio with Travel Cas...       Toys & Games   \n",
       "4                   Woodstock- Collage 500 pc Puzzle       Toys & Games   \n",
       "\n",
       "  Selling Price                                        Product Url  \\\n",
       "0       $237.68  https://www.amazon.com/DB-Longboards-CoreFlex-...   \n",
       "1        $99.95  https://www.amazon.com/Electronic-Circuits-Cla...   \n",
       "2        $34.99  https://www.amazon.com/3Doodler-Plastic-Innova...   \n",
       "3        $28.91  https://www.amazon.com/Guillow-Airplane-Design...   \n",
       "4        $17.49  https://www.amazon.com/Woodstock-Collage-500-p...   \n",
       "\n",
       "           Sub-Category  \n",
       "0    Outdoor Recreation  \n",
       "1  Learning & Education  \n",
       "2         Arts & Crafts  \n",
       "3               Hobbies  \n",
       "4               Puzzles  "
      ]
     },
     "execution_count": 31,
     "metadata": {},
     "output_type": "execute_result"
    }
   ],
   "source": [
    "df2.head()"
   ]
  },
  {
   "cell_type": "code",
   "execution_count": 32,
   "metadata": {},
   "outputs": [
    {
     "data": {
      "text/plain": [
       "array(['Sports & Outdoors', 'Toys & Games', 'Clothing, Shoes & Jewelry',\n",
       "       'Home & Kitchen', 'Baby Products', 'Pet Supplies',\n",
       "       'Arts, Crafts & Sewing', 'Electronics', 'Video Games',\n",
       "       'Patio, Lawn & Garden', 'Tools & Home Improvement',\n",
       "       'Office Products', 'Grocery & Gourmet Food',\n",
       "       'Remote & App Controlled Vehicle Parts', 'Health & Household',\n",
       "       'Industrial & Scientific', 'Beauty & Personal Care', 'Hobbies',\n",
       "       'Remote & App Controlled Vehicles & Parts', 'Automotive',\n",
       "       'Musical Instruments', 'Movies & TV', 'Cell Phones & Accessories'],\n",
       "      dtype=object)"
      ]
     },
     "execution_count": 32,
     "metadata": {},
     "output_type": "execute_result"
    }
   ],
   "source": [
    "df2[\"Category\"].unique()"
   ]
  },
  {
   "cell_type": "code",
   "execution_count": 33,
   "metadata": {},
   "outputs": [
    {
     "data": {
      "text/plain": [
       "array(['Outdoor Recreation', 'Learning & Education', 'Arts & Crafts',\n",
       "       'Hobbies', 'Puzzles', 'Costumes & Accessories', 'Home Décor',\n",
       "       'Baby & Toddler Toys', 'Collectible Toys', 'Nursery',\n",
       "       'Building Toys', 'Furniture', 'Novelty & Gag Toys',\n",
       "       'Sports & Outdoor Play', 'Party Supplies',\n",
       "       'Tricycles, Scooters & Wagons', \"Kids' Electronics\",\n",
       "       'Sports & Fitness', 'Dress Up & Pretend Play', 'Bedding',\n",
       "       'Toy Figures & Playsets', 'Play Vehicles', 'Dolls & Accessories',\n",
       "       'Games & Accessories', 'Dogs', 'Novelty & More', 'Men',\n",
       "       'Stuffed Animals & Plush Toys', 'Fan Shop', 'Crafting',\n",
       "       'Camera & Photo', 'Beading & Jewelry Making', 'PlayStation 4',\n",
       "       'Baby Care', 'Outdoor Décor', 'Power & Hand Tools',\n",
       "       'Painting, Drawing & Art Supplies', 'Lighting & Ceiling Fans',\n",
       "       'Office & School Supplies', 'Activity & Entertainment',\n",
       "       'Nintendo Switch', 'Luggage & Travel Gear',\n",
       "       \"Kids' Furniture, Décor & Storage\", 'Strollers & Accessories',\n",
       "       'Pantry Staples', 'Kitchen & Dining', 'Legacy Systems',\n",
       "       'Puppets & Puppet Theaters', 'Sewing',\n",
       "       'Power Plant & Driveline Systems', 'Household Supplies',\n",
       "       'Fasteners', 'Foot, Hand & Nail Care', \"Kids' Home Store\",\n",
       "       'Remote & App Controlled Vehicles & Parts', 'Printmaking',\n",
       "       'Pools, Hot Tubs & Supplies', 'Women',\n",
       "       'Remote & App Controlled Vehicle Parts', 'Event & Party Supplies',\n",
       "       'Interior Accessories', 'Feeding', 'Office Electronics',\n",
       "       'Medical Supplies & Equipment', 'PC', 'Computers & Accessories',\n",
       "       'Science Education', 'Hardware', 'Girls', 'Boys',\n",
       "       'Paint, Wall Treatments & Supplies', 'Storage & Organization',\n",
       "       'Exterior Accessories', 'Wall Art',\n",
       "       'Patio Furniture & Accessories', 'Microphones & Accessories',\n",
       "       'Gardening & Lawn Care', 'Professional Medical Supplies',\n",
       "       'Power Transmission Products', 'Headphones', 'Seasonal Décor',\n",
       "       'Electrical', 'Scrapbooking & Stamping',\n",
       "       'Lab & Scientific Products', 'Replacement Parts', 'Makeup',\n",
       "       'Tools & Accessories', 'Industrial Electrical',\n",
       "       'Pet Supplies Markdowns', 'Top Selection from AmazonPets',\n",
       "       'Needlework', 'Portable Audio & Video',\n",
       "       'Adhesives, Sealants & Lubricants', 'Gifts', 'Hair Care',\n",
       "       'Blu-ray', 'Cats', 'Birds', 'Drums & Percussion', 'Potty Training',\n",
       "       'Skin Care', 'Stationery & Gift Wrapping Supplies', 'Xbox One',\n",
       "       'Fabric', 'Personal Care', 'Shoe, Jewelry & Watch Accessories',\n",
       "       'Accessories'], dtype=object)"
      ]
     },
     "execution_count": 33,
     "metadata": {},
     "output_type": "execute_result"
    }
   ],
   "source": [
    "df2[\"Sub-Category\"].unique()"
   ]
  },
  {
   "cell_type": "code",
   "execution_count": 34,
   "metadata": {},
   "outputs": [],
   "source": [
    "df2 = df2.loc[(df2[\"Category\"].str.contains(\"electronics|office|accessories|^video games\",\n",
    "                                     regex=True, flags=re.I)) |\n",
    "        (df2[\"Sub-Category\"].str.contains(\"learning|education|^accessories|games|tools|^kids\",\n",
    "                                     regex=True, flags=re.I))]"
   ]
  },
  {
   "cell_type": "code",
   "execution_count": 35,
   "metadata": {},
   "outputs": [
    {
     "data": {
      "text/html": [
       "<div>\n",
       "<style scoped>\n",
       "    .dataframe tbody tr th:only-of-type {\n",
       "        vertical-align: middle;\n",
       "    }\n",
       "\n",
       "    .dataframe tbody tr th {\n",
       "        vertical-align: top;\n",
       "    }\n",
       "\n",
       "    .dataframe thead th {\n",
       "        text-align: right;\n",
       "    }\n",
       "</style>\n",
       "<table border=\"1\" class=\"dataframe\">\n",
       "  <thead>\n",
       "    <tr style=\"text-align: right;\">\n",
       "      <th></th>\n",
       "      <th>Product Name</th>\n",
       "      <th>Category</th>\n",
       "      <th>Selling Price</th>\n",
       "      <th>Product Url</th>\n",
       "      <th>Sub-Category</th>\n",
       "    </tr>\n",
       "  </thead>\n",
       "  <tbody>\n",
       "    <tr>\n",
       "      <th>1</th>\n",
       "      <td>Electronic Snap Circuits Mini Kits Classpack, ...</td>\n",
       "      <td>Toys &amp; Games</td>\n",
       "      <td>$99.95</td>\n",
       "      <td>https://www.amazon.com/Electronic-Circuits-Cla...</td>\n",
       "      <td>Learning &amp; Education</td>\n",
       "    </tr>\n",
       "    <tr>\n",
       "      <th>16</th>\n",
       "      <td>The Complete Common Core: State Standards Kit,...</td>\n",
       "      <td>Toys &amp; Games</td>\n",
       "      <td>$12.88</td>\n",
       "      <td>https://www.amazon.com/Complete-Common-Core-St...</td>\n",
       "      <td>Learning &amp; Education</td>\n",
       "    </tr>\n",
       "    <tr>\n",
       "      <th>26</th>\n",
       "      <td>NKOK Sonic and Sega All Stars Racing Remote Co...</td>\n",
       "      <td>Toys &amp; Games</td>\n",
       "      <td>$26.99</td>\n",
       "      <td>https://www.amazon.com/NKOK-Sonic-Racing-Remot...</td>\n",
       "      <td>Kids' Electronics</td>\n",
       "    </tr>\n",
       "    <tr>\n",
       "      <th>42</th>\n",
       "      <td>Random Esoteric Creature Generator for Classic...</td>\n",
       "      <td>Toys &amp; Games</td>\n",
       "      <td>$19.94</td>\n",
       "      <td>https://www.amazon.com/Esoteric-Creature-Gener...</td>\n",
       "      <td>Games &amp; Accessories</td>\n",
       "    </tr>\n",
       "    <tr>\n",
       "      <th>48</th>\n",
       "      <td>Melissa &amp; Doug Disney Cinderella Rags to Riche...</td>\n",
       "      <td>Toys &amp; Games</td>\n",
       "      <td>$11.12</td>\n",
       "      <td>https://www.amazon.com/Melissa-Doug-Disney-Cin...</td>\n",
       "      <td>Learning &amp; Education</td>\n",
       "    </tr>\n",
       "  </tbody>\n",
       "</table>\n",
       "</div>"
      ],
      "text/plain": [
       "                                         Product Name      Category  \\\n",
       "1   Electronic Snap Circuits Mini Kits Classpack, ...  Toys & Games   \n",
       "16  The Complete Common Core: State Standards Kit,...  Toys & Games   \n",
       "26  NKOK Sonic and Sega All Stars Racing Remote Co...  Toys & Games   \n",
       "42  Random Esoteric Creature Generator for Classic...  Toys & Games   \n",
       "48  Melissa & Doug Disney Cinderella Rags to Riche...  Toys & Games   \n",
       "\n",
       "   Selling Price                                        Product Url  \\\n",
       "1         $99.95  https://www.amazon.com/Electronic-Circuits-Cla...   \n",
       "16        $12.88  https://www.amazon.com/Complete-Common-Core-St...   \n",
       "26        $26.99  https://www.amazon.com/NKOK-Sonic-Racing-Remot...   \n",
       "42        $19.94  https://www.amazon.com/Esoteric-Creature-Gener...   \n",
       "48        $11.12  https://www.amazon.com/Melissa-Doug-Disney-Cin...   \n",
       "\n",
       "            Sub-Category  \n",
       "1   Learning & Education  \n",
       "16  Learning & Education  \n",
       "26     Kids' Electronics  \n",
       "42   Games & Accessories  \n",
       "48  Learning & Education  "
      ]
     },
     "execution_count": 35,
     "metadata": {},
     "output_type": "execute_result"
    }
   ],
   "source": [
    "df2.head()"
   ]
  },
  {
   "cell_type": "code",
   "execution_count": 36,
   "metadata": {},
   "outputs": [
    {
     "name": "stdout",
     "output_type": "stream",
     "text": [
      "<class 'pandas.core.frame.DataFrame'>\n",
      "Int64Index: 1269 entries, 1 to 9999\n",
      "Data columns (total 5 columns):\n",
      " #   Column         Non-Null Count  Dtype \n",
      "---  ------         --------------  ----- \n",
      " 0   Product Name   1269 non-null   object\n",
      " 1   Category       1269 non-null   object\n",
      " 2   Selling Price  1269 non-null   object\n",
      " 3   Product Url    1269 non-null   object\n",
      " 4   Sub-Category   1269 non-null   object\n",
      "dtypes: object(5)\n",
      "memory usage: 59.5+ KB\n"
     ]
    }
   ],
   "source": [
    "df2.info()"
   ]
  },
  {
   "cell_type": "markdown",
   "metadata": {},
   "source": [
    "+ Convert Price to float"
   ]
  },
  {
   "cell_type": "code",
   "execution_count": 37,
   "metadata": {},
   "outputs": [
    {
     "data": {
      "text/plain": [
       "array(['$99.95', '$12.88', '$26.99', '$19.94', '$11.12', '$7.99', '$6.11',\n",
       "       '$38.33', '$16.43', '$14.01', '$10.99', '$186.06', '$8.53',\n",
       "       '$38.55', '$6.47', '$107.86', '$12.50', '$36.91', '$11.24',\n",
       "       '$10.94',\n",
       "       '$ 19 99 $39.95 #listPriceLegalMessageText { margin-left: 4px !important; } #listPriceLegalMessage .a-popover-trigger:hover { text-decoration: none !important; } #listPriceLegalMessage .a-icon-popover { display: none !important; margin-left: 0px !important; margin-top: 6px !important; } Save $19.96 (50%)',\n",
       "       '$4.99', '$9.99', '$14.99', '$6.96', '$9.95', '$12.47', '$8.29',\n",
       "       '$17.40', '$6.63', '$9.96', '$6.69', '$12.64', '$25.39', '$32.84',\n",
       "       '$35.00', '$8.91', '$143.99', '$10.44 $ 10 . 44', '$52.44',\n",
       "       '$19.99', '$3.49', '$20.18', '$89.95', '$89.99', '$24.99',\n",
       "       '$16.78', '$39.99', '$15.51', '$10.62', '$15.20', '$81.54',\n",
       "       '$12.91', '$17.63', '$14.90', '$34.95', '$65.89', '$43.00',\n",
       "       '$3.07', '$24.49', '$18.99', '$17.49', '$29.95', '$23.96',\n",
       "       '$12.49', '$8.52', '$53.95', '$17.99', '$26.63', '$11.99',\n",
       "       '$92.88', '$74.80', '$7.08', '$5.13', '$10.29', '$6.99', '$7.49',\n",
       "       '$7.69', '$13.17', '$14.20', '$12.99', '$20.30', '$17.94',\n",
       "       '$15.50', '$14.95', '$12.40', '$9.77', '$5.90', '$52.69', '$9.09',\n",
       "       '$17.79', '$41.56', '$21.45', '$47.99', '$69.77', '$21.96',\n",
       "       '$21.99', '$15.97', '$44.95', '$45.00', '$17.77', '$17.76',\n",
       "       '$76.99', '$25.29', '$35.95', '$255.86', '$31.32', '$19.95',\n",
       "       '$16.70', '$23.07', '$21.92', '$23.99', '$7.43', '$35.74',\n",
       "       '$14.88', '$34.91', '$16.14', '$5.95', '$11.74', '$13.77', '$6.94',\n",
       "       '$25.00', '$19.25', '$15.98', '$19.96', '$5.43', '$33.40',\n",
       "       '$13.99', '$17.89', '$24.62', '$36.95', '$13.94', '$233.54',\n",
       "       '$95.16', '$20.07', '$17.98', '$8.94', '$14.79', '$38.99', '$6.88',\n",
       "       '$15.99', '$9.98', '$13.96', '$12.54', '$19.81', '$36.87',\n",
       "       '$33.10', '$13.49', '$14.58', '$42.85', '$13.98', '$20.22',\n",
       "       '$19.29', '$10.50', '$6.29', '$1,734.00', '$24.69', '$7.90',\n",
       "       '$5.80', '$15.66', '$21.41', '$83.66', '$5.99', '$29.26', '$18.74',\n",
       "       '$11.16', '$4.90', '$99.50', '$23.98', '$39.89', '$14.43',\n",
       "       '$43.91', '$21.50', '$9.02', '$15.31', '$41.74', '$10.65',\n",
       "       '$12.33', '$33.18', '$16.99', '$13.20', '$30.10', '$31.62',\n",
       "       '$26.19', '$8.56', '$20.45', '$15.00', '$14.97', '$69.33',\n",
       "       '$18.48', '$17.70', '$39.97', '$17.82', '$9.59', '$15.86',\n",
       "       '$27.96', '$10.14', '$12.00', '$9.90', '$98.79', '$7.50', '$28.91',\n",
       "       '$5.12', '$12.14', '$195.95', '$9.45', '$19.00', '$19.98',\n",
       "       '$49.97', '$16.00', '$13.37', '$12.29', '$20.51', '$29.49',\n",
       "       '$16.24', '$49.95', '$281.15', '$14.00', '$27.00', '$5.86',\n",
       "       '$492.99', '$29.89', '$38.49', '$87.99', '$14.40', '$2.23',\n",
       "       '$8.24', '$10.45', '$19.80', '$10.35', '$8.95', '$27.99',\n",
       "       '$199.95', '$16.82', '$51.19', '$19.90', '$14.23', '$22.99',\n",
       "       '$9.97', '$18.40', '$29.05', '$28.30', '$24.59', '$9.47', '$5.78',\n",
       "       '$14.41', '$7.45', '$71.94', '$19.75', '$2.99', '$47.01', '$8.59',\n",
       "       '$21.00', '$18.84', '$17.45', '$13.65', '$6.79', '$10.66', '$3.20',\n",
       "       '$34.99', '$46.49', '$5.82', '$7.39', '$34.34', '$19.86', '$3.77',\n",
       "       '$12.79', '$19.55', '$5.85', '$136.43', '$9.26', '$10.27',\n",
       "       '$25.32', '$22.13', '$8.97', '$5.93', '$18.35', '$7.19', '$18.44',\n",
       "       '$26.93', '$15.26', '$10.37', '$14.95 $ 14 . 95', '$109.85',\n",
       "       '$9.01', '$63.49', '$4.27', '$45.74', '$16.80', '$19.13', '$11.96',\n",
       "       '$20.00', '$22.16', '$17.53', '$15.94', '& FREE Shipping. Details',\n",
       "       '$15.49', '$7.21', 'Currently unavailable.', '$3.97', '$25.63',\n",
       "       '$28.92', '$5.67', '$13.83', '$33.55', '$15.01', '$11.67',\n",
       "       '$10.97', '$22.49', '$18.93', '$9.74', '$34.23', '$13.69',\n",
       "       '$10.03', '$7.95', '$21.18', '$7.59', '$18.91', 'Total price:',\n",
       "       '$7.93', '$37.99', '$10.79', '$3.99', '$10.19', '$12.57', '$14.05',\n",
       "       '$17.50', '$26.35', '$24.15', '$18.59', '$13.86', '$36.12',\n",
       "       '$14.39', '$19.62', '$38.71', '$19.19', '$6.07', '$4.49', '$7.00',\n",
       "       '$45.05', '$14.74', '$1,079.37', '$14.93', '$30.00', '$6.95',\n",
       "       '$6.19', '$30.26', '$45.30', '$19.40', '$22.17', '$11.89',\n",
       "       '$19.70', '$40.64', '$33.45', '$18.25', '$109.99', '$24.46',\n",
       "       '$10.91', '$33.64', '$10.00', '$36.43', '$17.19', '$15.54',\n",
       "       '$65.70', '$24.65', '$31.30', '$6.53', '$14.10', '$15.36',\n",
       "       '$51.00', '$45.76', '$74.95', '$152.62', '$25.33', '$104.97',\n",
       "       '$125.00', '$7.73', '$23.21', '$12.30', '$10.92', '$29.99',\n",
       "       '$52.76', '$44.06', '$14.99 $ 14 . 99', '$11.78', '$31.08',\n",
       "       '$11.00', '$26.98', '$54.95', '$347.97', '$89.00', '$18.71',\n",
       "       '$89.92', '$28.25', '$43.81', '$23.48', '$24.95', '$18.85',\n",
       "       '$4.42', '$9.52', '$41.99', '$8.74', '$11.92', '$13.00', '$41.07',\n",
       "       '$31.38', '$14.19', '$30.33', '$5.50', '$12.97', '$22.98',\n",
       "       '$17.80', '$15.32', '$20.19', '$28.05', '$81.58', '$41.97',\n",
       "       '$16.32', '$20.99', '$32.99', '$13.52', '$48.99', '$14.94',\n",
       "       '$99.98', '$470.00', '$49.47', '$14.54', '$14.62', '$12.67',\n",
       "       '$11.98', '$21.21', '$5.62', '$33.23', '$31.18', '$18.78',\n",
       "       '$15.29', '$31.99', '$19.58', '$8.49', '$14.69', '$40.53',\n",
       "       '$12.71', '$34.83', '$49.99', '$15.95', '$32.08', '$11.93',\n",
       "       '$32.30', '$28.11', '$53.00', '$3.24', '$6.27', '$4.69', '$11.50',\n",
       "       '$16.29', '$6.54', '$29.69', '$19.69', '$11.60', '$31.94',\n",
       "       '$24.30', '$15.59', '$23.93', '$29.16', '$6.40', '$13.76',\n",
       "       '$19.49', '$18.00', '$29.39', '$15.73', '$33.05', '$34.88',\n",
       "       '$13.97', '$6.57', '$23.41', '$9.00', '$34.98', '$30.32', '$20.17',\n",
       "       '$27.50', '$37.58', '$17.09', '$28.95', '$22.37', '$11.91',\n",
       "       '$14.91', '$8.99', '$10.84', '$352.58', '$9.75', '$15.88',\n",
       "       '$91.00', '$18.49', '$19.10', '$4.19', '$94.99', '$21.95', '$9.38',\n",
       "       '$10.44', '$14.49', '$7.15', '$18.07', '$32.68', '$21.58', '$4.35',\n",
       "       '$8.45', '$15.62', '$19.87', '$4.24', '$3.91', '$206.89', '$34.03',\n",
       "       '$15.83', '$15.25', '$11.65', '$35.24', '$35.73', '$62.03',\n",
       "       '$12.74', '$16.89', '$11.85', '$5,332.00', '$11.95', '$17.26',\n",
       "       '$10.83', '$5.81', '$10.31', '$35.33', '$13.19', '$14.65',\n",
       "       '$23.94', '$7.82', '$18.63', '$13.78', '$28.99', '$45.99',\n",
       "       '$14.53', '$13.66', '$34.45', '$22.51', '$28.01', '$48.45',\n",
       "       '$15.83 $15.83', '$42.40', '$32.29', '$29.98', '$189.99', '$46.19',\n",
       "       '$10.07', '$194.93', '$24.97', '$29.76', '$15.90', '$22.58',\n",
       "       '$19.91', '$14.57', '$493.00', '$44.32', '$20.31',\n",
       "       '$7.00 $ 7 . 00', '$23.51', '$19.84', '$15.27', '$8.54', '$99.57',\n",
       "       '$9.01 $ 9 . 01', '$15.16', '$30.89', '$23.49', '$17.59', '$59.99',\n",
       "       '$2.50', '$559.99', '$32.49', '$9.07', '$44.99', '$20.62',\n",
       "       '$23.11', '$29.71', '$8.67', '$16.44', '$24.22', '$23.55',\n",
       "       '$50.36', '$12.98', '$30.78', '$8.88', '$16.25', '$69.99',\n",
       "       '$20.50', '$22.38', '$15.96', '$16.95', '$8.39', '$12.95',\n",
       "       '$32.00', '$22.12', '$115.59', '$6.83', '$82.16', '$63.17',\n",
       "       '$4.20', '$12.60', '$15.68', '$98.00', '$24.54', '$22.72',\n",
       "       '$59.59', '$18.64', '$4.83', '$16.36', '$11.37', '$121.00',\n",
       "       '$25.50', '$33.54', '$872.00', '$11.43', '$20.75', '$101.58',\n",
       "       '$18.89', '$13.47', '$21.80', '$8.57', '$23.00', '$9.14', '$32.98',\n",
       "       '$27.55', '$16.74', '$48.78', '$46.04', '$353.00',\n",
       "       '$1.99 $ 1 . 99', '$130.19', '$11.45', '$15.38', '$9.49', '$23.58',\n",
       "       '$25.99', '$4.50', '$51.34', '$770.01', '$67.46', '$11.34',\n",
       "       '$15.22', '$405.00', '$8.61', '$54.31', '$12.49 $ 12 . 49',\n",
       "       '$32.85', '$8.26', '$29.99 $29.99', '$9.41', '$68.95', '$9.27',\n",
       "       '$349.41', '$104.44', '$5.39', '$22.43', '$106.94', '$160.00',\n",
       "       '$17.47', '$179.99', '$11.41', '$6.90', '$31.97', '$6.00', '$7.12',\n",
       "       '$18.82', '$501.34', '$81.83', '$10.58', '$355.00',\n",
       "       '$4.69 $ 4 . 69', '$8.98', '$38.93', '$82.89', '$39.83', '$239.31',\n",
       "       '$18.79', '$232.95', '$18.95', '$16.98', '$22.71', '$5.56',\n",
       "       '$14.98', '$145.54', '$6.62', '$327.79', '$64.55', '$31.93',\n",
       "       '$7.29', '$100.00', '$12.41', '$11.59', '$28.13 $ 28 . 13',\n",
       "       '$8.17', '$23.73', '$24.88', '$5.61', '$44.55', '$12.25', '$26.38',\n",
       "       '$51.35', '$27.90', '$4.97', '$17.71', '$108.21', '$35.50',\n",
       "       '$73.59', '$8.64', '$12.45', '$20.04', '$5.99 $ 5 . 99', '$4.59',\n",
       "       '$8.15', '$4.78', '$56.74', '$16.71', '$55.99', '$79.99',\n",
       "       '$39.99 $ 39 . 99', '$19.97', '$12.89 $ 12 . 89', '$107.00',\n",
       "       '$37.95', '$89.40', '$25.47', '$11.75', '$37.01', '$39.95',\n",
       "       '$7.75', '$10.22', '$28.55', '$18.94', '$70.70', '$63.81',\n",
       "       '$33.48', '$7.36', '$79.95', '$14.81', '$13.92', '$51.80',\n",
       "       '$10.34', '$335.00', '$24.77', '$99.00', '$47.22', '$8.86',\n",
       "       '$25.95', '$39.15', '$30.51', '$15.70', '$32.34', '$13.72',\n",
       "       '$313.25', '$10.49', '$8.23', '$32.67', '$12.21', '$6.80',\n",
       "       '$16.50', '$62.99', '$14.52', '$19.68', '$24.00',\n",
       "       '$16.45 $ 16 . 45', '$65.53', '$12.75', '$40.36', '$21.19',\n",
       "       '$8.40', '$10.56', '$164.95', '$62.98', '$9.89', '$10.24',\n",
       "       '$10.95', '$8.83', '$33.86', '$29.97', '$15.45', '$147.39',\n",
       "       '$20.76', '$4.38 $ 4 . 38', '$46.99', '$30.67', '$75.79', '$8.25',\n",
       "       '$5.70 $ 5 . 70', '$3.95', '$19.05', '$9.31'], dtype=object)"
      ]
     },
     "execution_count": 37,
     "metadata": {},
     "output_type": "execute_result"
    }
   ],
   "source": [
    "df2[\"Selling Price\"].unique()"
   ]
  },
  {
   "cell_type": "markdown",
   "metadata": {},
   "source": [
    "Seems like we'll have to clean up the prices before we can convert them to float"
   ]
  },
  {
   "cell_type": "markdown",
   "metadata": {},
   "source": [
    "Set a pattern for wich prices are valid"
   ]
  },
  {
   "cell_type": "code",
   "execution_count": 38,
   "metadata": {},
   "outputs": [],
   "source": [
    "df2 = df2.loc[df2[\"Selling Price\"].str.contains(\"^\\$[0-9]+?.[0-9]+?$\",\n",
    "                                          regex=True, flags=re.I)]"
   ]
  },
  {
   "cell_type": "code",
   "execution_count": 39,
   "metadata": {},
   "outputs": [
    {
     "name": "stdout",
     "output_type": "stream",
     "text": [
      "<class 'pandas.core.frame.DataFrame'>\n",
      "Int64Index: 1239 entries, 1 to 9999\n",
      "Data columns (total 5 columns):\n",
      " #   Column         Non-Null Count  Dtype \n",
      "---  ------         --------------  ----- \n",
      " 0   Product Name   1239 non-null   object\n",
      " 1   Category       1239 non-null   object\n",
      " 2   Selling Price  1239 non-null   object\n",
      " 3   Product Url    1239 non-null   object\n",
      " 4   Sub-Category   1239 non-null   object\n",
      "dtypes: object(5)\n",
      "memory usage: 58.1+ KB\n"
     ]
    }
   ],
   "source": [
    "df2.info()"
   ]
  },
  {
   "cell_type": "code",
   "execution_count": 40,
   "metadata": {},
   "outputs": [],
   "source": [
    "# finally convert to float\n",
    "df2[\"Selling Price\"] = df2[\"Selling Price\"].apply(lambda x: float(x.split()[0][1:]))"
   ]
  },
  {
   "cell_type": "code",
   "execution_count": 41,
   "metadata": {},
   "outputs": [
    {
     "name": "stdout",
     "output_type": "stream",
     "text": [
      "<class 'pandas.core.frame.DataFrame'>\n",
      "Int64Index: 1239 entries, 1 to 9999\n",
      "Data columns (total 5 columns):\n",
      " #   Column         Non-Null Count  Dtype  \n",
      "---  ------         --------------  -----  \n",
      " 0   Product Name   1239 non-null   object \n",
      " 1   Category       1239 non-null   object \n",
      " 2   Selling Price  1239 non-null   float64\n",
      " 3   Product Url    1239 non-null   object \n",
      " 4   Sub-Category   1239 non-null   object \n",
      "dtypes: float64(1), object(4)\n",
      "memory usage: 58.1+ KB\n"
     ]
    }
   ],
   "source": [
    "df2.info()"
   ]
  },
  {
   "cell_type": "markdown",
   "metadata": {},
   "source": [
    "Last but not least, let's shorten the URLs"
   ]
  },
  {
   "cell_type": "code",
   "execution_count": 42,
   "metadata": {},
   "outputs": [],
   "source": [
    "# using the same old function\n",
    "# df2[\"Product Url\"] = df2[\"Product Url\"].apply(lambda x: shorten_url(x))"
   ]
  },
  {
   "cell_type": "code",
   "execution_count": 43,
   "metadata": {},
   "outputs": [],
   "source": [
    "df2.reset_index(drop=True, inplace=True)"
   ]
  },
  {
   "cell_type": "code",
   "execution_count": 44,
   "metadata": {},
   "outputs": [
    {
     "data": {
      "text/html": [
       "<div>\n",
       "<style scoped>\n",
       "    .dataframe tbody tr th:only-of-type {\n",
       "        vertical-align: middle;\n",
       "    }\n",
       "\n",
       "    .dataframe tbody tr th {\n",
       "        vertical-align: top;\n",
       "    }\n",
       "\n",
       "    .dataframe thead th {\n",
       "        text-align: right;\n",
       "    }\n",
       "</style>\n",
       "<table border=\"1\" class=\"dataframe\">\n",
       "  <thead>\n",
       "    <tr style=\"text-align: right;\">\n",
       "      <th></th>\n",
       "      <th>Product Name</th>\n",
       "      <th>Category</th>\n",
       "      <th>Selling Price</th>\n",
       "      <th>Product Url</th>\n",
       "      <th>Sub-Category</th>\n",
       "    </tr>\n",
       "  </thead>\n",
       "  <tbody>\n",
       "    <tr>\n",
       "      <th>1234</th>\n",
       "      <td>Green Couch Games Filler Game</td>\n",
       "      <td>Toys &amp; Games</td>\n",
       "      <td>15.00</td>\n",
       "      <td>https://www.amazon.com/Green-Couch-Games-Fille...</td>\n",
       "      <td>Games &amp; Accessories</td>\n",
       "    </tr>\n",
       "    <tr>\n",
       "      <th>1235</th>\n",
       "      <td>Dominion: Menagerie</td>\n",
       "      <td>Toys &amp; Games</td>\n",
       "      <td>44.95</td>\n",
       "      <td>https://www.amazon.com/Rio-Grande-Games-Domini...</td>\n",
       "      <td>Games &amp; Accessories</td>\n",
       "    </tr>\n",
       "    <tr>\n",
       "      <th>1236</th>\n",
       "      <td>Sax True Flow Spectrum Watercolor Paint Brushe...</td>\n",
       "      <td>Industrial &amp; Scientific</td>\n",
       "      <td>19.05</td>\n",
       "      <td>https://www.amazon.com/Sax-Spectrum-Watercolor...</td>\n",
       "      <td>Science Education</td>\n",
       "    </tr>\n",
       "    <tr>\n",
       "      <th>1237</th>\n",
       "      <td>Remedia Publications REM536B Money Activity Bo...</td>\n",
       "      <td>Toys &amp; Games</td>\n",
       "      <td>9.31</td>\n",
       "      <td>https://www.amazon.com/Remedia-Publications-RE...</td>\n",
       "      <td>Learning &amp; Education</td>\n",
       "    </tr>\n",
       "    <tr>\n",
       "      <th>1238</th>\n",
       "      <td>NewPath Learning 10 Piece Science Owls and Owl...</td>\n",
       "      <td>Office Products</td>\n",
       "      <td>37.95</td>\n",
       "      <td>https://www.amazon.com/NewPath-Learning-Scienc...</td>\n",
       "      <td>Office &amp; School Supplies</td>\n",
       "    </tr>\n",
       "  </tbody>\n",
       "</table>\n",
       "</div>"
      ],
      "text/plain": [
       "                                           Product Name  \\\n",
       "1234                      Green Couch Games Filler Game   \n",
       "1235                                Dominion: Menagerie   \n",
       "1236  Sax True Flow Spectrum Watercolor Paint Brushe...   \n",
       "1237  Remedia Publications REM536B Money Activity Bo...   \n",
       "1238  NewPath Learning 10 Piece Science Owls and Owl...   \n",
       "\n",
       "                     Category  Selling Price  \\\n",
       "1234             Toys & Games          15.00   \n",
       "1235             Toys & Games          44.95   \n",
       "1236  Industrial & Scientific          19.05   \n",
       "1237             Toys & Games           9.31   \n",
       "1238          Office Products          37.95   \n",
       "\n",
       "                                            Product Url  \\\n",
       "1234  https://www.amazon.com/Green-Couch-Games-Fille...   \n",
       "1235  https://www.amazon.com/Rio-Grande-Games-Domini...   \n",
       "1236  https://www.amazon.com/Sax-Spectrum-Watercolor...   \n",
       "1237  https://www.amazon.com/Remedia-Publications-RE...   \n",
       "1238  https://www.amazon.com/NewPath-Learning-Scienc...   \n",
       "\n",
       "                  Sub-Category  \n",
       "1234       Games & Accessories  \n",
       "1235       Games & Accessories  \n",
       "1236         Science Education  \n",
       "1237      Learning & Education  \n",
       "1238  Office & School Supplies  "
      ]
     },
     "execution_count": 44,
     "metadata": {},
     "output_type": "execute_result"
    }
   ],
   "source": [
    "df2.tail()"
   ]
  },
  {
   "cell_type": "markdown",
   "metadata": {},
   "source": [
    "*File 3*"
   ]
  },
  {
   "cell_type": "code",
   "execution_count": 45,
   "metadata": {},
   "outputs": [],
   "source": [
    "file3 = \"/home/rohkoder29/Documents/year2022/python/data_science/cif_sales_analysis/data/data.xlsx\"\n",
    "cols = [\"Category\", \"Sub-Category\", \"Product Name\", \"Sales\", \"Quantity\"]\n",
    "df3 = pd.read_excel(file3, index_col=False, usecols=cols)"
   ]
  },
  {
   "cell_type": "code",
   "execution_count": 46,
   "metadata": {},
   "outputs": [
    {
     "name": "stdout",
     "output_type": "stream",
     "text": [
      "<class 'pandas.core.frame.DataFrame'>\n",
      "RangeIndex: 3312 entries, 0 to 3311\n",
      "Data columns (total 5 columns):\n",
      " #   Column        Non-Null Count  Dtype  \n",
      "---  ------        --------------  -----  \n",
      " 0   Category      3312 non-null   object \n",
      " 1   Sub-Category  3312 non-null   object \n",
      " 2   Product Name  3312 non-null   object \n",
      " 3   Sales         3312 non-null   float64\n",
      " 4   Quantity      3312 non-null   int64  \n",
      "dtypes: float64(1), int64(1), object(3)\n",
      "memory usage: 129.5+ KB\n"
     ]
    }
   ],
   "source": [
    "df3.info()"
   ]
  },
  {
   "cell_type": "markdown",
   "metadata": {},
   "source": [
    "Cool, no missing values."
   ]
  },
  {
   "cell_type": "code",
   "execution_count": 47,
   "metadata": {},
   "outputs": [
    {
     "data": {
      "text/html": [
       "<div>\n",
       "<style scoped>\n",
       "    .dataframe tbody tr th:only-of-type {\n",
       "        vertical-align: middle;\n",
       "    }\n",
       "\n",
       "    .dataframe tbody tr th {\n",
       "        vertical-align: top;\n",
       "    }\n",
       "\n",
       "    .dataframe thead th {\n",
       "        text-align: right;\n",
       "    }\n",
       "</style>\n",
       "<table border=\"1\" class=\"dataframe\">\n",
       "  <thead>\n",
       "    <tr style=\"text-align: right;\">\n",
       "      <th></th>\n",
       "      <th>Category</th>\n",
       "      <th>Sub-Category</th>\n",
       "      <th>Product Name</th>\n",
       "      <th>Sales</th>\n",
       "      <th>Quantity</th>\n",
       "    </tr>\n",
       "  </thead>\n",
       "  <tbody>\n",
       "    <tr>\n",
       "      <th>0</th>\n",
       "      <td>Office Supplies</td>\n",
       "      <td>Paper</td>\n",
       "      <td>Xerox 1967</td>\n",
       "      <td>15.552</td>\n",
       "      <td>3</td>\n",
       "    </tr>\n",
       "    <tr>\n",
       "      <th>1</th>\n",
       "      <td>Furniture</td>\n",
       "      <td>Chairs</td>\n",
       "      <td>Global Deluxe Stacking Chair, Gray</td>\n",
       "      <td>71.372</td>\n",
       "      <td>2</td>\n",
       "    </tr>\n",
       "    <tr>\n",
       "      <th>2</th>\n",
       "      <td>Office Supplies</td>\n",
       "      <td>Paper</td>\n",
       "      <td>Easy-staple paper</td>\n",
       "      <td>29.472</td>\n",
       "      <td>3</td>\n",
       "    </tr>\n",
       "    <tr>\n",
       "      <th>3</th>\n",
       "      <td>Technology</td>\n",
       "      <td>Phones</td>\n",
       "      <td>Panasonic Kx-TS550</td>\n",
       "      <td>147.168</td>\n",
       "      <td>4</td>\n",
       "    </tr>\n",
       "    <tr>\n",
       "      <th>4</th>\n",
       "      <td>Office Supplies</td>\n",
       "      <td>Storage</td>\n",
       "      <td>Advantus 10-Drawer Portable Organizer, Chrome ...</td>\n",
       "      <td>95.616</td>\n",
       "      <td>2</td>\n",
       "    </tr>\n",
       "  </tbody>\n",
       "</table>\n",
       "</div>"
      ],
      "text/plain": [
       "          Category Sub-Category  \\\n",
       "0  Office Supplies        Paper   \n",
       "1        Furniture       Chairs   \n",
       "2  Office Supplies        Paper   \n",
       "3       Technology       Phones   \n",
       "4  Office Supplies      Storage   \n",
       "\n",
       "                                        Product Name    Sales  Quantity  \n",
       "0                                         Xerox 1967   15.552         3  \n",
       "1                 Global Deluxe Stacking Chair, Gray   71.372         2  \n",
       "2                                  Easy-staple paper   29.472         3  \n",
       "3                                 Panasonic Kx-TS550  147.168         4  \n",
       "4  Advantus 10-Drawer Portable Organizer, Chrome ...   95.616         2  "
      ]
     },
     "execution_count": 47,
     "metadata": {},
     "output_type": "execute_result"
    }
   ],
   "source": [
    "df3.head()"
   ]
  },
  {
   "cell_type": "code",
   "execution_count": 48,
   "metadata": {},
   "outputs": [
    {
     "data": {
      "text/plain": [
       "array(['Office Supplies', 'Furniture', 'Technology'], dtype=object)"
      ]
     },
     "execution_count": 48,
     "metadata": {},
     "output_type": "execute_result"
    }
   ],
   "source": [
    "df3[\"Category\"].unique()"
   ]
  },
  {
   "cell_type": "code",
   "execution_count": 49,
   "metadata": {},
   "outputs": [
    {
     "data": {
      "text/plain": [
       "array(['Paper', 'Chairs', 'Phones', 'Storage', 'Binders', 'Furnishings',\n",
       "       'Accessories', 'Labels', 'Art', 'Fasteners', 'Envelopes',\n",
       "       'Appliances', 'Tables', 'Copiers', 'Bookcases', 'Supplies',\n",
       "       'Machines'], dtype=object)"
      ]
     },
     "execution_count": 49,
     "metadata": {},
     "output_type": "execute_result"
    }
   ],
   "source": [
    "df3[\"Sub-Category\"].unique()"
   ]
  },
  {
   "cell_type": "markdown",
   "metadata": {},
   "source": [
    "We don't need the Furniture category, so we drop it"
   ]
  },
  {
   "cell_type": "code",
   "execution_count": 50,
   "metadata": {},
   "outputs": [],
   "source": [
    "df3 = df3.loc[df3[\"Category\"].isin([\"Office Supplies\", \"Technology\"])]"
   ]
  },
  {
   "cell_type": "code",
   "execution_count": 51,
   "metadata": {},
   "outputs": [
    {
     "data": {
      "text/html": [
       "<div>\n",
       "<style scoped>\n",
       "    .dataframe tbody tr th:only-of-type {\n",
       "        vertical-align: middle;\n",
       "    }\n",
       "\n",
       "    .dataframe tbody tr th {\n",
       "        vertical-align: top;\n",
       "    }\n",
       "\n",
       "    .dataframe thead th {\n",
       "        text-align: right;\n",
       "    }\n",
       "</style>\n",
       "<table border=\"1\" class=\"dataframe\">\n",
       "  <thead>\n",
       "    <tr style=\"text-align: right;\">\n",
       "      <th></th>\n",
       "      <th>Category</th>\n",
       "      <th>Sub-Category</th>\n",
       "      <th>Product Name</th>\n",
       "      <th>Sales</th>\n",
       "      <th>Quantity</th>\n",
       "    </tr>\n",
       "  </thead>\n",
       "  <tbody>\n",
       "    <tr>\n",
       "      <th>3306</th>\n",
       "      <td>Technology</td>\n",
       "      <td>Accessories</td>\n",
       "      <td>Logitech G430 Surround Sound Gaming Headset wi...</td>\n",
       "      <td>79.990</td>\n",
       "      <td>1</td>\n",
       "    </tr>\n",
       "    <tr>\n",
       "      <th>3307</th>\n",
       "      <td>Technology</td>\n",
       "      <td>Phones</td>\n",
       "      <td>Panasonic KX - TS880B Telephone</td>\n",
       "      <td>206.100</td>\n",
       "      <td>5</td>\n",
       "    </tr>\n",
       "    <tr>\n",
       "      <th>3309</th>\n",
       "      <td>Technology</td>\n",
       "      <td>Phones</td>\n",
       "      <td>Aastra 57i VoIP phone</td>\n",
       "      <td>258.576</td>\n",
       "      <td>2</td>\n",
       "    </tr>\n",
       "    <tr>\n",
       "      <th>3310</th>\n",
       "      <td>Office Supplies</td>\n",
       "      <td>Paper</td>\n",
       "      <td>It's Hot Message Books with Stickers, 2 3/4\" x 5\"</td>\n",
       "      <td>29.600</td>\n",
       "      <td>4</td>\n",
       "    </tr>\n",
       "    <tr>\n",
       "      <th>3311</th>\n",
       "      <td>Office Supplies</td>\n",
       "      <td>Appliances</td>\n",
       "      <td>Acco 7-Outlet Masterpiece Power Center, Wihtou...</td>\n",
       "      <td>243.160</td>\n",
       "      <td>2</td>\n",
       "    </tr>\n",
       "  </tbody>\n",
       "</table>\n",
       "</div>"
      ],
      "text/plain": [
       "             Category Sub-Category  \\\n",
       "3306       Technology  Accessories   \n",
       "3307       Technology       Phones   \n",
       "3309       Technology       Phones   \n",
       "3310  Office Supplies        Paper   \n",
       "3311  Office Supplies   Appliances   \n",
       "\n",
       "                                           Product Name    Sales  Quantity  \n",
       "3306  Logitech G430 Surround Sound Gaming Headset wi...   79.990         1  \n",
       "3307                    Panasonic KX - TS880B Telephone  206.100         5  \n",
       "3309                              Aastra 57i VoIP phone  258.576         2  \n",
       "3310  It's Hot Message Books with Stickers, 2 3/4\" x 5\"   29.600         4  \n",
       "3311  Acco 7-Outlet Masterpiece Power Center, Wihtou...  243.160         2  "
      ]
     },
     "execution_count": 51,
     "metadata": {},
     "output_type": "execute_result"
    }
   ],
   "source": [
    "df3.tail()"
   ]
  },
  {
   "cell_type": "markdown",
   "metadata": {},
   "source": [
    "In fact we could get the price for each product, given we have sales and quantity"
   ]
  },
  {
   "cell_type": "code",
   "execution_count": 52,
   "metadata": {},
   "outputs": [],
   "source": [
    "df3[\"Unit_Price\"] = df3[\"Sales\"] / df3[\"Quantity\"]"
   ]
  },
  {
   "cell_type": "code",
   "execution_count": 53,
   "metadata": {},
   "outputs": [
    {
     "data": {
      "text/html": [
       "<div>\n",
       "<style scoped>\n",
       "    .dataframe tbody tr th:only-of-type {\n",
       "        vertical-align: middle;\n",
       "    }\n",
       "\n",
       "    .dataframe tbody tr th {\n",
       "        vertical-align: top;\n",
       "    }\n",
       "\n",
       "    .dataframe thead th {\n",
       "        text-align: right;\n",
       "    }\n",
       "</style>\n",
       "<table border=\"1\" class=\"dataframe\">\n",
       "  <thead>\n",
       "    <tr style=\"text-align: right;\">\n",
       "      <th></th>\n",
       "      <th>Category</th>\n",
       "      <th>Sub-Category</th>\n",
       "      <th>Product Name</th>\n",
       "      <th>Sales</th>\n",
       "      <th>Quantity</th>\n",
       "      <th>Unit_Price</th>\n",
       "    </tr>\n",
       "  </thead>\n",
       "  <tbody>\n",
       "    <tr>\n",
       "      <th>3306</th>\n",
       "      <td>Technology</td>\n",
       "      <td>Accessories</td>\n",
       "      <td>Logitech G430 Surround Sound Gaming Headset wi...</td>\n",
       "      <td>79.990</td>\n",
       "      <td>1</td>\n",
       "      <td>79.990</td>\n",
       "    </tr>\n",
       "    <tr>\n",
       "      <th>3307</th>\n",
       "      <td>Technology</td>\n",
       "      <td>Phones</td>\n",
       "      <td>Panasonic KX - TS880B Telephone</td>\n",
       "      <td>206.100</td>\n",
       "      <td>5</td>\n",
       "      <td>41.220</td>\n",
       "    </tr>\n",
       "    <tr>\n",
       "      <th>3309</th>\n",
       "      <td>Technology</td>\n",
       "      <td>Phones</td>\n",
       "      <td>Aastra 57i VoIP phone</td>\n",
       "      <td>258.576</td>\n",
       "      <td>2</td>\n",
       "      <td>129.288</td>\n",
       "    </tr>\n",
       "    <tr>\n",
       "      <th>3310</th>\n",
       "      <td>Office Supplies</td>\n",
       "      <td>Paper</td>\n",
       "      <td>It's Hot Message Books with Stickers, 2 3/4\" x 5\"</td>\n",
       "      <td>29.600</td>\n",
       "      <td>4</td>\n",
       "      <td>7.400</td>\n",
       "    </tr>\n",
       "    <tr>\n",
       "      <th>3311</th>\n",
       "      <td>Office Supplies</td>\n",
       "      <td>Appliances</td>\n",
       "      <td>Acco 7-Outlet Masterpiece Power Center, Wihtou...</td>\n",
       "      <td>243.160</td>\n",
       "      <td>2</td>\n",
       "      <td>121.580</td>\n",
       "    </tr>\n",
       "  </tbody>\n",
       "</table>\n",
       "</div>"
      ],
      "text/plain": [
       "             Category Sub-Category  \\\n",
       "3306       Technology  Accessories   \n",
       "3307       Technology       Phones   \n",
       "3309       Technology       Phones   \n",
       "3310  Office Supplies        Paper   \n",
       "3311  Office Supplies   Appliances   \n",
       "\n",
       "                                           Product Name    Sales  Quantity  \\\n",
       "3306  Logitech G430 Surround Sound Gaming Headset wi...   79.990         1   \n",
       "3307                    Panasonic KX - TS880B Telephone  206.100         5   \n",
       "3309                              Aastra 57i VoIP phone  258.576         2   \n",
       "3310  It's Hot Message Books with Stickers, 2 3/4\" x 5\"   29.600         4   \n",
       "3311  Acco 7-Outlet Masterpiece Power Center, Wihtou...  243.160         2   \n",
       "\n",
       "      Unit_Price  \n",
       "3306      79.990  \n",
       "3307      41.220  \n",
       "3309     129.288  \n",
       "3310       7.400  \n",
       "3311     121.580  "
      ]
     },
     "execution_count": 53,
     "metadata": {},
     "output_type": "execute_result"
    }
   ],
   "source": [
    "df3.tail()"
   ]
  },
  {
   "cell_type": "markdown",
   "metadata": {},
   "source": [
    "Now that we've got our DFs it's time for some cleaning."
   ]
  },
  {
   "cell_type": "markdown",
   "metadata": {},
   "source": [
    "### Step 3. Clean & Accomodate the DFs"
   ]
  },
  {
   "cell_type": "markdown",
   "metadata": {},
   "source": [
    "Sub-steps:<br>\n",
    "- [ADD A SUB_CATEGORY FEATURE IN ALL DFs]\n",
    "- In DF1, replace the `brand` column by a `Sub_Category` one [with value = \"Phones\" so it matches the existing one in other DFs] and rename the `title` column to `Product_Name` and add `Quantity` and `Sales` column that we'll fill in later on\n",
    "- DF2 is almost okay, again we need to take care of the `Quantity` add `Sales` features\n",
    "- In DF3 we rearrange the columns order and add a `Product_URL` column at the end"
   ]
  },
  {
   "cell_type": "markdown",
   "metadata": {},
   "source": [
    "*DF1*"
   ]
  },
  {
   "cell_type": "code",
   "execution_count": 54,
   "metadata": {},
   "outputs": [
    {
     "data": {
      "text/html": [
       "<div>\n",
       "<style scoped>\n",
       "    .dataframe tbody tr th:only-of-type {\n",
       "        vertical-align: middle;\n",
       "    }\n",
       "\n",
       "    .dataframe tbody tr th {\n",
       "        vertical-align: top;\n",
       "    }\n",
       "\n",
       "    .dataframe thead th {\n",
       "        text-align: right;\n",
       "    }\n",
       "</style>\n",
       "<table border=\"1\" class=\"dataframe\">\n",
       "  <thead>\n",
       "    <tr style=\"text-align: right;\">\n",
       "      <th></th>\n",
       "      <th>brand</th>\n",
       "      <th>title</th>\n",
       "      <th>url</th>\n",
       "      <th>prices</th>\n",
       "    </tr>\n",
       "  </thead>\n",
       "  <tbody>\n",
       "    <tr>\n",
       "      <th>0</th>\n",
       "      <td>Samsung</td>\n",
       "      <td>Samsung Galaxy Express, Gray 8GB</td>\n",
       "      <td>https://www.amazon.com/Samsung-Galaxy-Express-...</td>\n",
       "      <td>389.28</td>\n",
       "    </tr>\n",
       "  </tbody>\n",
       "</table>\n",
       "</div>"
      ],
      "text/plain": [
       "     brand                             title  \\\n",
       "0  Samsung  Samsung Galaxy Express, Gray 8GB   \n",
       "\n",
       "                                                 url  prices  \n",
       "0  https://www.amazon.com/Samsung-Galaxy-Express-...  389.28  "
      ]
     },
     "execution_count": 54,
     "metadata": {},
     "output_type": "execute_result"
    }
   ],
   "source": [
    "df1.head(1)"
   ]
  },
  {
   "cell_type": "code",
   "execution_count": 55,
   "metadata": {},
   "outputs": [],
   "source": [
    "df1[\"brand\"] = df1[\"brand\"].apply(lambda x: x.replace(x, \"Phones\"))"
   ]
  },
  {
   "cell_type": "markdown",
   "metadata": {},
   "source": [
    "Rename and reindex the columns to match main DF"
   ]
  },
  {
   "cell_type": "code",
   "execution_count": 56,
   "metadata": {},
   "outputs": [],
   "source": [
    "df1.rename(columns={\"brand\": \"Sub_Category\",\n",
    "                    \"title\": \"Product_Name\",\n",
    "                    \"prices\": \"Unit_Price\",\n",
    "                    \"url\": \"Product_URL\"}, inplace=True)"
   ]
  },
  {
   "cell_type": "code",
   "execution_count": 57,
   "metadata": {},
   "outputs": [],
   "source": [
    "df1 = df1.reindex(columns=[\"Category\", \"Sub_Category\", \"Product_Name\", \"Unit_Price\", \"Quantity\", \"Sales\", \"Product_URL\"])"
   ]
  },
  {
   "cell_type": "code",
   "execution_count": 58,
   "metadata": {},
   "outputs": [],
   "source": [
    "df1[\"Category\"] = df1[\"Category\"].astype(np.str0)"
   ]
  },
  {
   "cell_type": "code",
   "execution_count": 59,
   "metadata": {},
   "outputs": [],
   "source": [
    "df1[\"Category\"] = df1[\"Category\"].apply(lambda x: x.replace(x, \"Electronics\"))"
   ]
  },
  {
   "cell_type": "code",
   "execution_count": 60,
   "metadata": {},
   "outputs": [
    {
     "data": {
      "text/html": [
       "<div>\n",
       "<style scoped>\n",
       "    .dataframe tbody tr th:only-of-type {\n",
       "        vertical-align: middle;\n",
       "    }\n",
       "\n",
       "    .dataframe tbody tr th {\n",
       "        vertical-align: top;\n",
       "    }\n",
       "\n",
       "    .dataframe thead th {\n",
       "        text-align: right;\n",
       "    }\n",
       "</style>\n",
       "<table border=\"1\" class=\"dataframe\">\n",
       "  <thead>\n",
       "    <tr style=\"text-align: right;\">\n",
       "      <th></th>\n",
       "      <th>Category</th>\n",
       "      <th>Sub_Category</th>\n",
       "      <th>Product_Name</th>\n",
       "      <th>Unit_Price</th>\n",
       "      <th>Quantity</th>\n",
       "      <th>Sales</th>\n",
       "      <th>Product_URL</th>\n",
       "    </tr>\n",
       "  </thead>\n",
       "  <tbody>\n",
       "    <tr>\n",
       "      <th>0</th>\n",
       "      <td>Electronics</td>\n",
       "      <td>Phones</td>\n",
       "      <td>Samsung Galaxy Express, Gray 8GB</td>\n",
       "      <td>389.28</td>\n",
       "      <td>NaN</td>\n",
       "      <td>NaN</td>\n",
       "      <td>https://www.amazon.com/Samsung-Galaxy-Express-...</td>\n",
       "    </tr>\n",
       "  </tbody>\n",
       "</table>\n",
       "</div>"
      ],
      "text/plain": [
       "      Category Sub_Category                      Product_Name  Unit_Price  \\\n",
       "0  Electronics       Phones  Samsung Galaxy Express, Gray 8GB      389.28   \n",
       "\n",
       "   Quantity  Sales                                        Product_URL  \n",
       "0       NaN    NaN  https://www.amazon.com/Samsung-Galaxy-Express-...  "
      ]
     },
     "execution_count": 60,
     "metadata": {},
     "output_type": "execute_result"
    }
   ],
   "source": [
    "df1.head(1)"
   ]
  },
  {
   "cell_type": "markdown",
   "metadata": {},
   "source": [
    "*DF2*"
   ]
  },
  {
   "cell_type": "code",
   "execution_count": 61,
   "metadata": {},
   "outputs": [
    {
     "data": {
      "text/html": [
       "<div>\n",
       "<style scoped>\n",
       "    .dataframe tbody tr th:only-of-type {\n",
       "        vertical-align: middle;\n",
       "    }\n",
       "\n",
       "    .dataframe tbody tr th {\n",
       "        vertical-align: top;\n",
       "    }\n",
       "\n",
       "    .dataframe thead th {\n",
       "        text-align: right;\n",
       "    }\n",
       "</style>\n",
       "<table border=\"1\" class=\"dataframe\">\n",
       "  <thead>\n",
       "    <tr style=\"text-align: right;\">\n",
       "      <th></th>\n",
       "      <th>Product Name</th>\n",
       "      <th>Category</th>\n",
       "      <th>Selling Price</th>\n",
       "      <th>Product Url</th>\n",
       "      <th>Sub-Category</th>\n",
       "    </tr>\n",
       "  </thead>\n",
       "  <tbody>\n",
       "    <tr>\n",
       "      <th>0</th>\n",
       "      <td>Electronic Snap Circuits Mini Kits Classpack, ...</td>\n",
       "      <td>Toys &amp; Games</td>\n",
       "      <td>99.95</td>\n",
       "      <td>https://www.amazon.com/Electronic-Circuits-Cla...</td>\n",
       "      <td>Learning &amp; Education</td>\n",
       "    </tr>\n",
       "  </tbody>\n",
       "</table>\n",
       "</div>"
      ],
      "text/plain": [
       "                                        Product Name      Category  \\\n",
       "0  Electronic Snap Circuits Mini Kits Classpack, ...  Toys & Games   \n",
       "\n",
       "   Selling Price                                        Product Url  \\\n",
       "0          99.95  https://www.amazon.com/Electronic-Circuits-Cla...   \n",
       "\n",
       "           Sub-Category  \n",
       "0  Learning & Education  "
      ]
     },
     "execution_count": 61,
     "metadata": {},
     "output_type": "execute_result"
    }
   ],
   "source": [
    "df2.head(1)"
   ]
  },
  {
   "cell_type": "markdown",
   "metadata": {},
   "source": [
    "Rename and reindex the columns to match main DF"
   ]
  },
  {
   "cell_type": "code",
   "execution_count": 62,
   "metadata": {},
   "outputs": [],
   "source": [
    "df2.rename(columns={\"Product Name\": \"Product_Name\",\n",
    "                    \"Selling Price\": \"Unit_Price\",\n",
    "                    \"Product Url\": \"Product_URL\",\n",
    "                    \"Sub-Category\": \"Sub_Category\"}, inplace=True)"
   ]
  },
  {
   "cell_type": "code",
   "execution_count": 63,
   "metadata": {},
   "outputs": [],
   "source": [
    "df2 = df2.reindex(columns=[\"Category\", \"Sub_Category\", \"Product_Name\", \"Unit_Price\", \"Quantity\", \"Sales\", \"Product_URL\"])"
   ]
  },
  {
   "cell_type": "code",
   "execution_count": 64,
   "metadata": {},
   "outputs": [
    {
     "data": {
      "text/html": [
       "<div>\n",
       "<style scoped>\n",
       "    .dataframe tbody tr th:only-of-type {\n",
       "        vertical-align: middle;\n",
       "    }\n",
       "\n",
       "    .dataframe tbody tr th {\n",
       "        vertical-align: top;\n",
       "    }\n",
       "\n",
       "    .dataframe thead th {\n",
       "        text-align: right;\n",
       "    }\n",
       "</style>\n",
       "<table border=\"1\" class=\"dataframe\">\n",
       "  <thead>\n",
       "    <tr style=\"text-align: right;\">\n",
       "      <th></th>\n",
       "      <th>Category</th>\n",
       "      <th>Sub_Category</th>\n",
       "      <th>Product_Name</th>\n",
       "      <th>Unit_Price</th>\n",
       "      <th>Quantity</th>\n",
       "      <th>Sales</th>\n",
       "      <th>Product_URL</th>\n",
       "    </tr>\n",
       "  </thead>\n",
       "  <tbody>\n",
       "    <tr>\n",
       "      <th>0</th>\n",
       "      <td>Toys &amp; Games</td>\n",
       "      <td>Learning &amp; Education</td>\n",
       "      <td>Electronic Snap Circuits Mini Kits Classpack, ...</td>\n",
       "      <td>99.95</td>\n",
       "      <td>NaN</td>\n",
       "      <td>NaN</td>\n",
       "      <td>https://www.amazon.com/Electronic-Circuits-Cla...</td>\n",
       "    </tr>\n",
       "  </tbody>\n",
       "</table>\n",
       "</div>"
      ],
      "text/plain": [
       "       Category          Sub_Category  \\\n",
       "0  Toys & Games  Learning & Education   \n",
       "\n",
       "                                        Product_Name  Unit_Price  Quantity  \\\n",
       "0  Electronic Snap Circuits Mini Kits Classpack, ...       99.95       NaN   \n",
       "\n",
       "   Sales                                        Product_URL  \n",
       "0    NaN  https://www.amazon.com/Electronic-Circuits-Cla...  "
      ]
     },
     "execution_count": 64,
     "metadata": {},
     "output_type": "execute_result"
    }
   ],
   "source": [
    "df2.head(1)"
   ]
  },
  {
   "cell_type": "markdown",
   "metadata": {},
   "source": [
    "*DF3*"
   ]
  },
  {
   "cell_type": "code",
   "execution_count": 65,
   "metadata": {},
   "outputs": [
    {
     "data": {
      "text/html": [
       "<div>\n",
       "<style scoped>\n",
       "    .dataframe tbody tr th:only-of-type {\n",
       "        vertical-align: middle;\n",
       "    }\n",
       "\n",
       "    .dataframe tbody tr th {\n",
       "        vertical-align: top;\n",
       "    }\n",
       "\n",
       "    .dataframe thead th {\n",
       "        text-align: right;\n",
       "    }\n",
       "</style>\n",
       "<table border=\"1\" class=\"dataframe\">\n",
       "  <thead>\n",
       "    <tr style=\"text-align: right;\">\n",
       "      <th></th>\n",
       "      <th>Category</th>\n",
       "      <th>Sub-Category</th>\n",
       "      <th>Product Name</th>\n",
       "      <th>Sales</th>\n",
       "      <th>Quantity</th>\n",
       "      <th>Unit_Price</th>\n",
       "    </tr>\n",
       "  </thead>\n",
       "  <tbody>\n",
       "    <tr>\n",
       "      <th>0</th>\n",
       "      <td>Office Supplies</td>\n",
       "      <td>Paper</td>\n",
       "      <td>Xerox 1967</td>\n",
       "      <td>15.552</td>\n",
       "      <td>3</td>\n",
       "      <td>5.184</td>\n",
       "    </tr>\n",
       "    <tr>\n",
       "      <th>2</th>\n",
       "      <td>Office Supplies</td>\n",
       "      <td>Paper</td>\n",
       "      <td>Easy-staple paper</td>\n",
       "      <td>29.472</td>\n",
       "      <td>3</td>\n",
       "      <td>9.824</td>\n",
       "    </tr>\n",
       "    <tr>\n",
       "      <th>3</th>\n",
       "      <td>Technology</td>\n",
       "      <td>Phones</td>\n",
       "      <td>Panasonic Kx-TS550</td>\n",
       "      <td>147.168</td>\n",
       "      <td>4</td>\n",
       "      <td>36.792</td>\n",
       "    </tr>\n",
       "    <tr>\n",
       "      <th>4</th>\n",
       "      <td>Office Supplies</td>\n",
       "      <td>Storage</td>\n",
       "      <td>Advantus 10-Drawer Portable Organizer, Chrome ...</td>\n",
       "      <td>95.616</td>\n",
       "      <td>2</td>\n",
       "      <td>47.808</td>\n",
       "    </tr>\n",
       "    <tr>\n",
       "      <th>5</th>\n",
       "      <td>Office Supplies</td>\n",
       "      <td>Paper</td>\n",
       "      <td>Telephone Message Books with Fax/Mobile Sectio...</td>\n",
       "      <td>19.050</td>\n",
       "      <td>3</td>\n",
       "      <td>6.350</td>\n",
       "    </tr>\n",
       "  </tbody>\n",
       "</table>\n",
       "</div>"
      ],
      "text/plain": [
       "          Category Sub-Category  \\\n",
       "0  Office Supplies        Paper   \n",
       "2  Office Supplies        Paper   \n",
       "3       Technology       Phones   \n",
       "4  Office Supplies      Storage   \n",
       "5  Office Supplies        Paper   \n",
       "\n",
       "                                        Product Name    Sales  Quantity  \\\n",
       "0                                         Xerox 1967   15.552         3   \n",
       "2                                  Easy-staple paper   29.472         3   \n",
       "3                                 Panasonic Kx-TS550  147.168         4   \n",
       "4  Advantus 10-Drawer Portable Organizer, Chrome ...   95.616         2   \n",
       "5  Telephone Message Books with Fax/Mobile Sectio...   19.050         3   \n",
       "\n",
       "   Unit_Price  \n",
       "0       5.184  \n",
       "2       9.824  \n",
       "3      36.792  \n",
       "4      47.808  \n",
       "5       6.350  "
      ]
     },
     "execution_count": 65,
     "metadata": {},
     "output_type": "execute_result"
    }
   ],
   "source": [
    "df3.head()"
   ]
  },
  {
   "cell_type": "code",
   "execution_count": 66,
   "metadata": {},
   "outputs": [],
   "source": [
    "# let's change Technology to Electronics\n",
    "df3[\"Category\"] = df3[\"Category\"].apply(lambda x: x.replace(\"Technology\", \"Electronics\"))"
   ]
  },
  {
   "cell_type": "markdown",
   "metadata": {},
   "source": [
    "Rename and reindex the columns to match main DF"
   ]
  },
  {
   "cell_type": "markdown",
   "metadata": {},
   "source": [
    "NOTE: I think I'm gonna keep the Sub-Category feature, and accomodate the other DFs later on."
   ]
  },
  {
   "cell_type": "code",
   "execution_count": 67,
   "metadata": {},
   "outputs": [],
   "source": [
    "# rename Product Name\n",
    "df3.rename(columns={\"Product Name\": \"Product_Name\",\n",
    "                    \"Sub-Category\": \"Sub_Category\"}, inplace=True)"
   ]
  },
  {
   "cell_type": "code",
   "execution_count": 68,
   "metadata": {},
   "outputs": [],
   "source": [
    "df3 = df3.reindex(columns=[\"Category\", \"Sub_Category\", \"Product_Name\", \"Unit_Price\", \"Quantity\", \"Sales\", \"Product_URL\"])"
   ]
  },
  {
   "cell_type": "code",
   "execution_count": 69,
   "metadata": {},
   "outputs": [
    {
     "data": {
      "text/html": [
       "<div>\n",
       "<style scoped>\n",
       "    .dataframe tbody tr th:only-of-type {\n",
       "        vertical-align: middle;\n",
       "    }\n",
       "\n",
       "    .dataframe tbody tr th {\n",
       "        vertical-align: top;\n",
       "    }\n",
       "\n",
       "    .dataframe thead th {\n",
       "        text-align: right;\n",
       "    }\n",
       "</style>\n",
       "<table border=\"1\" class=\"dataframe\">\n",
       "  <thead>\n",
       "    <tr style=\"text-align: right;\">\n",
       "      <th></th>\n",
       "      <th>Category</th>\n",
       "      <th>Sub_Category</th>\n",
       "      <th>Product_Name</th>\n",
       "      <th>Unit_Price</th>\n",
       "      <th>Quantity</th>\n",
       "      <th>Sales</th>\n",
       "      <th>Product_URL</th>\n",
       "    </tr>\n",
       "  </thead>\n",
       "  <tbody>\n",
       "    <tr>\n",
       "      <th>0</th>\n",
       "      <td>Office Supplies</td>\n",
       "      <td>Paper</td>\n",
       "      <td>Xerox 1967</td>\n",
       "      <td>5.184</td>\n",
       "      <td>3</td>\n",
       "      <td>15.552</td>\n",
       "      <td>NaN</td>\n",
       "    </tr>\n",
       "    <tr>\n",
       "      <th>2</th>\n",
       "      <td>Office Supplies</td>\n",
       "      <td>Paper</td>\n",
       "      <td>Easy-staple paper</td>\n",
       "      <td>9.824</td>\n",
       "      <td>3</td>\n",
       "      <td>29.472</td>\n",
       "      <td>NaN</td>\n",
       "    </tr>\n",
       "    <tr>\n",
       "      <th>3</th>\n",
       "      <td>Electronics</td>\n",
       "      <td>Phones</td>\n",
       "      <td>Panasonic Kx-TS550</td>\n",
       "      <td>36.792</td>\n",
       "      <td>4</td>\n",
       "      <td>147.168</td>\n",
       "      <td>NaN</td>\n",
       "    </tr>\n",
       "    <tr>\n",
       "      <th>4</th>\n",
       "      <td>Office Supplies</td>\n",
       "      <td>Storage</td>\n",
       "      <td>Advantus 10-Drawer Portable Organizer, Chrome ...</td>\n",
       "      <td>47.808</td>\n",
       "      <td>2</td>\n",
       "      <td>95.616</td>\n",
       "      <td>NaN</td>\n",
       "    </tr>\n",
       "    <tr>\n",
       "      <th>5</th>\n",
       "      <td>Office Supplies</td>\n",
       "      <td>Paper</td>\n",
       "      <td>Telephone Message Books with Fax/Mobile Sectio...</td>\n",
       "      <td>6.350</td>\n",
       "      <td>3</td>\n",
       "      <td>19.050</td>\n",
       "      <td>NaN</td>\n",
       "    </tr>\n",
       "  </tbody>\n",
       "</table>\n",
       "</div>"
      ],
      "text/plain": [
       "          Category Sub_Category  \\\n",
       "0  Office Supplies        Paper   \n",
       "2  Office Supplies        Paper   \n",
       "3      Electronics       Phones   \n",
       "4  Office Supplies      Storage   \n",
       "5  Office Supplies        Paper   \n",
       "\n",
       "                                        Product_Name  Unit_Price  Quantity  \\\n",
       "0                                         Xerox 1967       5.184         3   \n",
       "2                                  Easy-staple paper       9.824         3   \n",
       "3                                 Panasonic Kx-TS550      36.792         4   \n",
       "4  Advantus 10-Drawer Portable Organizer, Chrome ...      47.808         2   \n",
       "5  Telephone Message Books with Fax/Mobile Sectio...       6.350         3   \n",
       "\n",
       "     Sales  Product_URL  \n",
       "0   15.552          NaN  \n",
       "2   29.472          NaN  \n",
       "3  147.168          NaN  \n",
       "4   95.616          NaN  \n",
       "5   19.050          NaN  "
      ]
     },
     "execution_count": 69,
     "metadata": {},
     "output_type": "execute_result"
    }
   ],
   "source": [
    "df3.head()"
   ]
  },
  {
   "cell_type": "markdown",
   "metadata": {},
   "source": [
    "Sweet!"
   ]
  },
  {
   "cell_type": "code",
   "execution_count": 70,
   "metadata": {},
   "outputs": [
    {
     "data": {
      "text/html": [
       "<div>\n",
       "<style scoped>\n",
       "    .dataframe tbody tr th:only-of-type {\n",
       "        vertical-align: middle;\n",
       "    }\n",
       "\n",
       "    .dataframe tbody tr th {\n",
       "        vertical-align: top;\n",
       "    }\n",
       "\n",
       "    .dataframe thead th {\n",
       "        text-align: right;\n",
       "    }\n",
       "</style>\n",
       "<table border=\"1\" class=\"dataframe\">\n",
       "  <thead>\n",
       "    <tr style=\"text-align: right;\">\n",
       "      <th></th>\n",
       "      <th>Category</th>\n",
       "      <th>Sub_Category</th>\n",
       "      <th>Product_Name</th>\n",
       "      <th>Unit_Price</th>\n",
       "      <th>Quantity</th>\n",
       "      <th>Sales</th>\n",
       "      <th>Product_URL</th>\n",
       "    </tr>\n",
       "  </thead>\n",
       "  <tbody>\n",
       "    <tr>\n",
       "      <th>160</th>\n",
       "      <td>Electronics</td>\n",
       "      <td>Phones</td>\n",
       "      <td>Samsung Galaxy S9</td>\n",
       "      <td>519.99</td>\n",
       "      <td>NaN</td>\n",
       "      <td>NaN</td>\n",
       "      <td>https://www.amazon.com/Samsung-Galaxy-S9-Displ...</td>\n",
       "    </tr>\n",
       "  </tbody>\n",
       "</table>\n",
       "</div>"
      ],
      "text/plain": [
       "        Category Sub_Category       Product_Name  Unit_Price  Quantity  Sales  \\\n",
       "160  Electronics       Phones  Samsung Galaxy S9      519.99       NaN    NaN   \n",
       "\n",
       "                                           Product_URL  \n",
       "160  https://www.amazon.com/Samsung-Galaxy-S9-Displ...  "
      ]
     },
     "execution_count": 70,
     "metadata": {},
     "output_type": "execute_result"
    }
   ],
   "source": [
    "df1.tail(1)"
   ]
  },
  {
   "cell_type": "code",
   "execution_count": 71,
   "metadata": {},
   "outputs": [
    {
     "data": {
      "text/html": [
       "<div>\n",
       "<style scoped>\n",
       "    .dataframe tbody tr th:only-of-type {\n",
       "        vertical-align: middle;\n",
       "    }\n",
       "\n",
       "    .dataframe tbody tr th {\n",
       "        vertical-align: top;\n",
       "    }\n",
       "\n",
       "    .dataframe thead th {\n",
       "        text-align: right;\n",
       "    }\n",
       "</style>\n",
       "<table border=\"1\" class=\"dataframe\">\n",
       "  <thead>\n",
       "    <tr style=\"text-align: right;\">\n",
       "      <th></th>\n",
       "      <th>Category</th>\n",
       "      <th>Sub_Category</th>\n",
       "      <th>Product_Name</th>\n",
       "      <th>Unit_Price</th>\n",
       "      <th>Quantity</th>\n",
       "      <th>Sales</th>\n",
       "      <th>Product_URL</th>\n",
       "    </tr>\n",
       "  </thead>\n",
       "  <tbody>\n",
       "    <tr>\n",
       "      <th>1238</th>\n",
       "      <td>Office Products</td>\n",
       "      <td>Office &amp; School Supplies</td>\n",
       "      <td>NewPath Learning 10 Piece Science Owls and Owl...</td>\n",
       "      <td>37.95</td>\n",
       "      <td>NaN</td>\n",
       "      <td>NaN</td>\n",
       "      <td>https://www.amazon.com/NewPath-Learning-Scienc...</td>\n",
       "    </tr>\n",
       "  </tbody>\n",
       "</table>\n",
       "</div>"
      ],
      "text/plain": [
       "             Category              Sub_Category  \\\n",
       "1238  Office Products  Office & School Supplies   \n",
       "\n",
       "                                           Product_Name  Unit_Price  Quantity  \\\n",
       "1238  NewPath Learning 10 Piece Science Owls and Owl...       37.95       NaN   \n",
       "\n",
       "      Sales                                        Product_URL  \n",
       "1238    NaN  https://www.amazon.com/NewPath-Learning-Scienc...  "
      ]
     },
     "execution_count": 71,
     "metadata": {},
     "output_type": "execute_result"
    }
   ],
   "source": [
    "df2.tail(1)"
   ]
  },
  {
   "cell_type": "code",
   "execution_count": 72,
   "metadata": {},
   "outputs": [
    {
     "data": {
      "text/html": [
       "<div>\n",
       "<style scoped>\n",
       "    .dataframe tbody tr th:only-of-type {\n",
       "        vertical-align: middle;\n",
       "    }\n",
       "\n",
       "    .dataframe tbody tr th {\n",
       "        vertical-align: top;\n",
       "    }\n",
       "\n",
       "    .dataframe thead th {\n",
       "        text-align: right;\n",
       "    }\n",
       "</style>\n",
       "<table border=\"1\" class=\"dataframe\">\n",
       "  <thead>\n",
       "    <tr style=\"text-align: right;\">\n",
       "      <th></th>\n",
       "      <th>Category</th>\n",
       "      <th>Sub_Category</th>\n",
       "      <th>Product_Name</th>\n",
       "      <th>Unit_Price</th>\n",
       "      <th>Quantity</th>\n",
       "      <th>Sales</th>\n",
       "      <th>Product_URL</th>\n",
       "    </tr>\n",
       "  </thead>\n",
       "  <tbody>\n",
       "    <tr>\n",
       "      <th>3311</th>\n",
       "      <td>Office Supplies</td>\n",
       "      <td>Appliances</td>\n",
       "      <td>Acco 7-Outlet Masterpiece Power Center, Wihtou...</td>\n",
       "      <td>121.58</td>\n",
       "      <td>2</td>\n",
       "      <td>243.16</td>\n",
       "      <td>NaN</td>\n",
       "    </tr>\n",
       "  </tbody>\n",
       "</table>\n",
       "</div>"
      ],
      "text/plain": [
       "             Category Sub_Category  \\\n",
       "3311  Office Supplies   Appliances   \n",
       "\n",
       "                                           Product_Name  Unit_Price  Quantity  \\\n",
       "3311  Acco 7-Outlet Masterpiece Power Center, Wihtou...      121.58         2   \n",
       "\n",
       "       Sales  Product_URL  \n",
       "3311  243.16          NaN  "
      ]
     },
     "execution_count": 72,
     "metadata": {},
     "output_type": "execute_result"
    }
   ],
   "source": [
    "df3.tail(1)"
   ]
  },
  {
   "cell_type": "markdown",
   "metadata": {},
   "source": [
    "Quick notice: in DF2 the category is \"Office Products\" whereas in DF3 it is \"Office Supplies\", let's change the former to the latter"
   ]
  },
  {
   "cell_type": "code",
   "execution_count": 73,
   "metadata": {},
   "outputs": [],
   "source": [
    "df2[\"Category\"] = df2[\"Category\"].apply(lambda x: x.replace(\"Office Products\", \"Office Supplies\"))"
   ]
  },
  {
   "cell_type": "markdown",
   "metadata": {},
   "source": [
    "- So far so good. Now let's combine them!"
   ]
  },
  {
   "cell_type": "code",
   "execution_count": 74,
   "metadata": {},
   "outputs": [],
   "source": [
    "df4 = pd.concat([df1, df2, df3], ignore_index=True).sort_values(by=[\"Category\"]).reset_index(drop=True)"
   ]
  },
  {
   "cell_type": "code",
   "execution_count": 75,
   "metadata": {},
   "outputs": [
    {
     "name": "stdout",
     "output_type": "stream",
     "text": [
      "<class 'pandas.core.frame.DataFrame'>\n",
      "RangeIndex: 4026 entries, 0 to 4025\n",
      "Data columns (total 7 columns):\n",
      " #   Column        Non-Null Count  Dtype  \n",
      "---  ------        --------------  -----  \n",
      " 0   Category      4026 non-null   object \n",
      " 1   Sub_Category  4026 non-null   object \n",
      " 2   Product_Name  4026 non-null   object \n",
      " 3   Unit_Price    4026 non-null   float64\n",
      " 4   Quantity      2626 non-null   float64\n",
      " 5   Sales         2626 non-null   float64\n",
      " 6   Product_URL   1400 non-null   object \n",
      "dtypes: float64(3), object(4)\n",
      "memory usage: 220.3+ KB\n"
     ]
    }
   ],
   "source": [
    "df4.info()"
   ]
  },
  {
   "cell_type": "markdown",
   "metadata": {},
   "source": [
    "*How cool is that? [in Craig Fedherighi voice]*"
   ]
  },
  {
   "cell_type": "code",
   "execution_count": 76,
   "metadata": {},
   "outputs": [
    {
     "data": {
      "text/html": [
       "<div>\n",
       "<style scoped>\n",
       "    .dataframe tbody tr th:only-of-type {\n",
       "        vertical-align: middle;\n",
       "    }\n",
       "\n",
       "    .dataframe tbody tr th {\n",
       "        vertical-align: top;\n",
       "    }\n",
       "\n",
       "    .dataframe thead th {\n",
       "        text-align: right;\n",
       "    }\n",
       "</style>\n",
       "<table border=\"1\" class=\"dataframe\">\n",
       "  <thead>\n",
       "    <tr style=\"text-align: right;\">\n",
       "      <th></th>\n",
       "      <th>Category</th>\n",
       "      <th>Sub_Category</th>\n",
       "      <th>Product_Name</th>\n",
       "      <th>Unit_Price</th>\n",
       "      <th>Quantity</th>\n",
       "      <th>Sales</th>\n",
       "      <th>Product_URL</th>\n",
       "    </tr>\n",
       "  </thead>\n",
       "  <tbody>\n",
       "    <tr>\n",
       "      <th>0</th>\n",
       "      <td>Beauty &amp; Personal Care</td>\n",
       "      <td>Tools &amp; Accessories</td>\n",
       "      <td>Rubies Black Eyelashes and Adhesive</td>\n",
       "      <td>7.15</td>\n",
       "      <td>NaN</td>\n",
       "      <td>NaN</td>\n",
       "      <td>https://www.amazon.com/Rubies-Black-Eyelashes-...</td>\n",
       "    </tr>\n",
       "    <tr>\n",
       "      <th>1</th>\n",
       "      <td>Cell Phones &amp; Accessories</td>\n",
       "      <td>Accessories</td>\n",
       "      <td>Disney Mickey Mouse Ice Cream D-Lish Treats Ph...</td>\n",
       "      <td>8.25</td>\n",
       "      <td>NaN</td>\n",
       "      <td>NaN</td>\n",
       "      <td>https://www.amazon.com/Disney-Mickey-Mouse-D-L...</td>\n",
       "    </tr>\n",
       "    <tr>\n",
       "      <th>2</th>\n",
       "      <td>Electronics</td>\n",
       "      <td>Phones</td>\n",
       "      <td>Samsung Galaxy Express, Gray 8GB</td>\n",
       "      <td>389.28</td>\n",
       "      <td>NaN</td>\n",
       "      <td>NaN</td>\n",
       "      <td>https://www.amazon.com/Samsung-Galaxy-Express-...</td>\n",
       "    </tr>\n",
       "    <tr>\n",
       "      <th>3</th>\n",
       "      <td>Electronics</td>\n",
       "      <td>Phones</td>\n",
       "      <td>Apple iPhone 5</td>\n",
       "      <td>649.83</td>\n",
       "      <td>2.0</td>\n",
       "      <td>1299.66</td>\n",
       "      <td>NaN</td>\n",
       "    </tr>\n",
       "    <tr>\n",
       "      <th>4</th>\n",
       "      <td>Electronics</td>\n",
       "      <td>Accessories</td>\n",
       "      <td>SanDisk Cruzer 64 GB USB Flash Drive</td>\n",
       "      <td>36.32</td>\n",
       "      <td>2.0</td>\n",
       "      <td>72.64</td>\n",
       "      <td>NaN</td>\n",
       "    </tr>\n",
       "  </tbody>\n",
       "</table>\n",
       "</div>"
      ],
      "text/plain": [
       "                    Category         Sub_Category  \\\n",
       "0     Beauty & Personal Care  Tools & Accessories   \n",
       "1  Cell Phones & Accessories          Accessories   \n",
       "2                Electronics               Phones   \n",
       "3                Electronics               Phones   \n",
       "4                Electronics          Accessories   \n",
       "\n",
       "                                        Product_Name  Unit_Price  Quantity  \\\n",
       "0                Rubies Black Eyelashes and Adhesive        7.15       NaN   \n",
       "1  Disney Mickey Mouse Ice Cream D-Lish Treats Ph...        8.25       NaN   \n",
       "2                   Samsung Galaxy Express, Gray 8GB      389.28       NaN   \n",
       "3                                     Apple iPhone 5      649.83       2.0   \n",
       "4               SanDisk Cruzer 64 GB USB Flash Drive       36.32       2.0   \n",
       "\n",
       "     Sales                                        Product_URL  \n",
       "0      NaN  https://www.amazon.com/Rubies-Black-Eyelashes-...  \n",
       "1      NaN  https://www.amazon.com/Disney-Mickey-Mouse-D-L...  \n",
       "2      NaN  https://www.amazon.com/Samsung-Galaxy-Express-...  \n",
       "3  1299.66                                                NaN  \n",
       "4    72.64                                                NaN  "
      ]
     },
     "execution_count": 76,
     "metadata": {},
     "output_type": "execute_result"
    }
   ],
   "source": [
    "df4.head()"
   ]
  },
  {
   "cell_type": "markdown",
   "metadata": {},
   "source": [
    "- Replace all missing values in `Unit_Price`, `Quantity` (convert to int) and `Sales` by 0"
   ]
  },
  {
   "cell_type": "code",
   "execution_count": 77,
   "metadata": {},
   "outputs": [],
   "source": [
    "df4[\"Unit_Price\"].fillna(0, inplace=True)\n",
    "df4[\"Quantity\"] = df4[\"Quantity\"].fillna(0).astype(np.int8)\n",
    "df4[\"Sales\"].fillna(0, inplace=True)"
   ]
  },
  {
   "cell_type": "code",
   "execution_count": 78,
   "metadata": {},
   "outputs": [
    {
     "name": "stdout",
     "output_type": "stream",
     "text": [
      "<class 'pandas.core.frame.DataFrame'>\n",
      "RangeIndex: 4026 entries, 0 to 4025\n",
      "Data columns (total 7 columns):\n",
      " #   Column        Non-Null Count  Dtype  \n",
      "---  ------        --------------  -----  \n",
      " 0   Category      4026 non-null   object \n",
      " 1   Sub_Category  4026 non-null   object \n",
      " 2   Product_Name  4026 non-null   object \n",
      " 3   Unit_Price    4026 non-null   float64\n",
      " 4   Quantity      4026 non-null   int8   \n",
      " 5   Sales         4026 non-null   float64\n",
      " 6   Product_URL   1400 non-null   object \n",
      "dtypes: float64(2), int8(1), object(4)\n",
      "memory usage: 192.8+ KB\n"
     ]
    }
   ],
   "source": [
    "df4.info()"
   ]
  },
  {
   "cell_type": "code",
   "execution_count": 79,
   "metadata": {},
   "outputs": [
    {
     "data": {
      "text/html": [
       "<div>\n",
       "<style scoped>\n",
       "    .dataframe tbody tr th:only-of-type {\n",
       "        vertical-align: middle;\n",
       "    }\n",
       "\n",
       "    .dataframe tbody tr th {\n",
       "        vertical-align: top;\n",
       "    }\n",
       "\n",
       "    .dataframe thead th {\n",
       "        text-align: right;\n",
       "    }\n",
       "</style>\n",
       "<table border=\"1\" class=\"dataframe\">\n",
       "  <thead>\n",
       "    <tr style=\"text-align: right;\">\n",
       "      <th></th>\n",
       "      <th>Category</th>\n",
       "      <th>Sub_Category</th>\n",
       "      <th>Product_Name</th>\n",
       "      <th>Unit_Price</th>\n",
       "      <th>Quantity</th>\n",
       "      <th>Sales</th>\n",
       "      <th>Product_URL</th>\n",
       "    </tr>\n",
       "  </thead>\n",
       "  <tbody>\n",
       "    <tr>\n",
       "      <th>0</th>\n",
       "      <td>Beauty &amp; Personal Care</td>\n",
       "      <td>Tools &amp; Accessories</td>\n",
       "      <td>Rubies Black Eyelashes and Adhesive</td>\n",
       "      <td>7.15</td>\n",
       "      <td>0</td>\n",
       "      <td>0.00</td>\n",
       "      <td>https://www.amazon.com/Rubies-Black-Eyelashes-...</td>\n",
       "    </tr>\n",
       "    <tr>\n",
       "      <th>1</th>\n",
       "      <td>Cell Phones &amp; Accessories</td>\n",
       "      <td>Accessories</td>\n",
       "      <td>Disney Mickey Mouse Ice Cream D-Lish Treats Ph...</td>\n",
       "      <td>8.25</td>\n",
       "      <td>0</td>\n",
       "      <td>0.00</td>\n",
       "      <td>https://www.amazon.com/Disney-Mickey-Mouse-D-L...</td>\n",
       "    </tr>\n",
       "    <tr>\n",
       "      <th>2</th>\n",
       "      <td>Electronics</td>\n",
       "      <td>Phones</td>\n",
       "      <td>Samsung Galaxy Express, Gray 8GB</td>\n",
       "      <td>389.28</td>\n",
       "      <td>0</td>\n",
       "      <td>0.00</td>\n",
       "      <td>https://www.amazon.com/Samsung-Galaxy-Express-...</td>\n",
       "    </tr>\n",
       "    <tr>\n",
       "      <th>3</th>\n",
       "      <td>Electronics</td>\n",
       "      <td>Phones</td>\n",
       "      <td>Apple iPhone 5</td>\n",
       "      <td>649.83</td>\n",
       "      <td>2</td>\n",
       "      <td>1299.66</td>\n",
       "      <td>NaN</td>\n",
       "    </tr>\n",
       "    <tr>\n",
       "      <th>4</th>\n",
       "      <td>Electronics</td>\n",
       "      <td>Accessories</td>\n",
       "      <td>SanDisk Cruzer 64 GB USB Flash Drive</td>\n",
       "      <td>36.32</td>\n",
       "      <td>2</td>\n",
       "      <td>72.64</td>\n",
       "      <td>NaN</td>\n",
       "    </tr>\n",
       "  </tbody>\n",
       "</table>\n",
       "</div>"
      ],
      "text/plain": [
       "                    Category         Sub_Category  \\\n",
       "0     Beauty & Personal Care  Tools & Accessories   \n",
       "1  Cell Phones & Accessories          Accessories   \n",
       "2                Electronics               Phones   \n",
       "3                Electronics               Phones   \n",
       "4                Electronics          Accessories   \n",
       "\n",
       "                                        Product_Name  Unit_Price  Quantity  \\\n",
       "0                Rubies Black Eyelashes and Adhesive        7.15         0   \n",
       "1  Disney Mickey Mouse Ice Cream D-Lish Treats Ph...        8.25         0   \n",
       "2                   Samsung Galaxy Express, Gray 8GB      389.28         0   \n",
       "3                                     Apple iPhone 5      649.83         2   \n",
       "4               SanDisk Cruzer 64 GB USB Flash Drive       36.32         2   \n",
       "\n",
       "     Sales                                        Product_URL  \n",
       "0     0.00  https://www.amazon.com/Rubies-Black-Eyelashes-...  \n",
       "1     0.00  https://www.amazon.com/Disney-Mickey-Mouse-D-L...  \n",
       "2     0.00  https://www.amazon.com/Samsung-Galaxy-Express-...  \n",
       "3  1299.66                                                NaN  \n",
       "4    72.64                                                NaN  "
      ]
     },
     "execution_count": 79,
     "metadata": {},
     "output_type": "execute_result"
    }
   ],
   "source": [
    "df4.head()"
   ]
  },
  {
   "cell_type": "code",
   "execution_count": 80,
   "metadata": {},
   "outputs": [],
   "source": [
    "# just to be safe\n",
    "# df4.to_csv(\"df4\", index=False)"
   ]
  },
  {
   "cell_type": "markdown",
   "metadata": {},
   "source": [
    "Now we have to combine DF4 with DF"
   ]
  },
  {
   "cell_type": "markdown",
   "metadata": {},
   "source": [
    "But first let's rename the columns"
   ]
  },
  {
   "cell_type": "code",
   "execution_count": 81,
   "metadata": {},
   "outputs": [],
   "source": [
    "old_cols = df.columns.tolist()\n",
    "new_cols = [column.replace(\" \", \"_\") for column in old_cols]"
   ]
  },
  {
   "cell_type": "code",
   "execution_count": 82,
   "metadata": {},
   "outputs": [],
   "source": [
    "df.rename(columns=dict(zip(old_cols, new_cols)), inplace=True)"
   ]
  },
  {
   "cell_type": "code",
   "execution_count": 83,
   "metadata": {},
   "outputs": [
    {
     "data": {
      "text/html": [
       "<div>\n",
       "<style scoped>\n",
       "    .dataframe tbody tr th:only-of-type {\n",
       "        vertical-align: middle;\n",
       "    }\n",
       "\n",
       "    .dataframe tbody tr th {\n",
       "        vertical-align: top;\n",
       "    }\n",
       "\n",
       "    .dataframe thead th {\n",
       "        text-align: right;\n",
       "    }\n",
       "</style>\n",
       "<table border=\"1\" class=\"dataframe\">\n",
       "  <thead>\n",
       "    <tr style=\"text-align: right;\">\n",
       "      <th></th>\n",
       "      <th>Purchase_ID</th>\n",
       "      <th>Purchase_Datetime</th>\n",
       "      <th>Product_ID</th>\n",
       "      <th>Category</th>\n",
       "      <th>Sub_Category</th>\n",
       "      <th>Product_Name</th>\n",
       "      <th>Unit_Price</th>\n",
       "      <th>Quantity</th>\n",
       "      <th>Sales</th>\n",
       "      <th>Payment_Method</th>\n",
       "      <th>Online</th>\n",
       "      <th>Shipping_Address</th>\n",
       "      <th>Shipping_Method</th>\n",
       "      <th>Product_URL</th>\n",
       "    </tr>\n",
       "  </thead>\n",
       "  <tbody>\n",
       "  </tbody>\n",
       "</table>\n",
       "</div>"
      ],
      "text/plain": [
       "Empty DataFrame\n",
       "Columns: [Purchase_ID, Purchase_Datetime, Product_ID, Category, Sub_Category, Product_Name, Unit_Price, Quantity, Sales, Payment_Method, Online, Shipping_Address, Shipping_Method, Product_URL]\n",
       "Index: []"
      ]
     },
     "execution_count": 83,
     "metadata": {},
     "output_type": "execute_result"
    }
   ],
   "source": [
    "df"
   ]
  },
  {
   "cell_type": "code",
   "execution_count": 84,
   "metadata": {},
   "outputs": [],
   "source": [
    "df5 = pd.concat([df, df4], ignore_index=True)"
   ]
  },
  {
   "cell_type": "markdown",
   "metadata": {},
   "source": [
    "#### Now let's work with DF5"
   ]
  },
  {
   "cell_type": "code",
   "execution_count": 85,
   "metadata": {},
   "outputs": [
    {
     "name": "stdout",
     "output_type": "stream",
     "text": [
      "<class 'pandas.core.frame.DataFrame'>\n",
      "RangeIndex: 4026 entries, 0 to 4025\n",
      "Data columns (total 14 columns):\n",
      " #   Column             Non-Null Count  Dtype \n",
      "---  ------             --------------  ----- \n",
      " 0   Purchase_ID        0 non-null      object\n",
      " 1   Purchase_Datetime  0 non-null      object\n",
      " 2   Product_ID         0 non-null      object\n",
      " 3   Category           4026 non-null   object\n",
      " 4   Sub_Category       4026 non-null   object\n",
      " 5   Product_Name       4026 non-null   object\n",
      " 6   Unit_Price         4026 non-null   object\n",
      " 7   Quantity           4026 non-null   object\n",
      " 8   Sales              4026 non-null   object\n",
      " 9   Payment_Method     0 non-null      object\n",
      " 10  Online             0 non-null      object\n",
      " 11  Shipping_Address   0 non-null      object\n",
      " 12  Shipping_Method    0 non-null      object\n",
      " 13  Product_URL        1400 non-null   object\n",
      "dtypes: object(14)\n",
      "memory usage: 440.5+ KB\n"
     ]
    }
   ],
   "source": [
    "df5.info()"
   ]
  },
  {
   "cell_type": "code",
   "execution_count": 86,
   "metadata": {},
   "outputs": [
    {
     "data": {
      "text/html": [
       "<div>\n",
       "<style scoped>\n",
       "    .dataframe tbody tr th:only-of-type {\n",
       "        vertical-align: middle;\n",
       "    }\n",
       "\n",
       "    .dataframe tbody tr th {\n",
       "        vertical-align: top;\n",
       "    }\n",
       "\n",
       "    .dataframe thead th {\n",
       "        text-align: right;\n",
       "    }\n",
       "</style>\n",
       "<table border=\"1\" class=\"dataframe\">\n",
       "  <thead>\n",
       "    <tr style=\"text-align: right;\">\n",
       "      <th></th>\n",
       "      <th>Purchase_ID</th>\n",
       "      <th>Purchase_Datetime</th>\n",
       "      <th>Product_ID</th>\n",
       "      <th>Category</th>\n",
       "      <th>Sub_Category</th>\n",
       "      <th>Product_Name</th>\n",
       "      <th>Unit_Price</th>\n",
       "      <th>Quantity</th>\n",
       "      <th>Sales</th>\n",
       "      <th>Payment_Method</th>\n",
       "      <th>Online</th>\n",
       "      <th>Shipping_Address</th>\n",
       "      <th>Shipping_Method</th>\n",
       "      <th>Product_URL</th>\n",
       "    </tr>\n",
       "  </thead>\n",
       "  <tbody>\n",
       "    <tr>\n",
       "      <th>0</th>\n",
       "      <td>NaN</td>\n",
       "      <td>NaN</td>\n",
       "      <td>NaN</td>\n",
       "      <td>Beauty &amp; Personal Care</td>\n",
       "      <td>Tools &amp; Accessories</td>\n",
       "      <td>Rubies Black Eyelashes and Adhesive</td>\n",
       "      <td>7.15</td>\n",
       "      <td>0</td>\n",
       "      <td>0.0</td>\n",
       "      <td>NaN</td>\n",
       "      <td>NaN</td>\n",
       "      <td>NaN</td>\n",
       "      <td>NaN</td>\n",
       "      <td>https://www.amazon.com/Rubies-Black-Eyelashes-...</td>\n",
       "    </tr>\n",
       "  </tbody>\n",
       "</table>\n",
       "</div>"
      ],
      "text/plain": [
       "  Purchase_ID Purchase_Datetime Product_ID                Category  \\\n",
       "0         NaN               NaN        NaN  Beauty & Personal Care   \n",
       "\n",
       "          Sub_Category                         Product_Name Unit_Price  \\\n",
       "0  Tools & Accessories  Rubies Black Eyelashes and Adhesive       7.15   \n",
       "\n",
       "  Quantity Sales Payment_Method Online Shipping_Address Shipping_Method  \\\n",
       "0        0   0.0            NaN    NaN              NaN             NaN   \n",
       "\n",
       "                                         Product_URL  \n",
       "0  https://www.amazon.com/Rubies-Black-Eyelashes-...  "
      ]
     },
     "execution_count": 86,
     "metadata": {},
     "output_type": "execute_result"
    }
   ],
   "source": [
    "df5.head(1)"
   ]
  },
  {
   "cell_type": "markdown",
   "metadata": {},
   "source": [
    "- Generating data for columns `Purchase_ID`, `Purchase_Datetime`, `Online`, `Payment_Method`, `Shipping_Address`, `Shipping_Method`"
   ]
  },
  {
   "cell_type": "markdown",
   "metadata": {},
   "source": [
    "*Online*<br>\n",
    "Consideration: People usually buy goods within a certain price tag online, so we gonna consider only purchases over $69.99 to be elligible."
   ]
  },
  {
   "cell_type": "markdown",
   "metadata": {},
   "source": [
    "In order to perform this operation, we need to convert Sales column to float"
   ]
  },
  {
   "cell_type": "code",
   "execution_count": 87,
   "metadata": {},
   "outputs": [],
   "source": [
    "df5[\"Sales\"] = df5[\"Sales\"].astype(np.float64)"
   ]
  },
  {
   "cell_type": "code",
   "execution_count": 88,
   "metadata": {},
   "outputs": [],
   "source": [
    "# and keep only two decimals\n",
    "df5[\"Sales\"] = df5[\"Sales\"].apply(lambda x: float(f\"{x:.2f}\"))"
   ]
  },
  {
   "cell_type": "code",
   "execution_count": 89,
   "metadata": {},
   "outputs": [
    {
     "name": "stdout",
     "output_type": "stream",
     "text": [
      "<class 'pandas.core.frame.DataFrame'>\n",
      "RangeIndex: 4026 entries, 0 to 4025\n",
      "Data columns (total 14 columns):\n",
      " #   Column             Non-Null Count  Dtype  \n",
      "---  ------             --------------  -----  \n",
      " 0   Purchase_ID        0 non-null      object \n",
      " 1   Purchase_Datetime  0 non-null      object \n",
      " 2   Product_ID         0 non-null      object \n",
      " 3   Category           4026 non-null   object \n",
      " 4   Sub_Category       4026 non-null   object \n",
      " 5   Product_Name       4026 non-null   object \n",
      " 6   Unit_Price         4026 non-null   object \n",
      " 7   Quantity           4026 non-null   object \n",
      " 8   Sales              4026 non-null   float64\n",
      " 9   Payment_Method     0 non-null      object \n",
      " 10  Online             0 non-null      object \n",
      " 11  Shipping_Address   0 non-null      object \n",
      " 12  Shipping_Method    0 non-null      object \n",
      " 13  Product_URL        1400 non-null   object \n",
      "dtypes: float64(1), object(13)\n",
      "memory usage: 440.5+ KB\n"
     ]
    }
   ],
   "source": [
    "df5.info()"
   ]
  },
  {
   "cell_type": "code",
   "execution_count": 90,
   "metadata": {},
   "outputs": [],
   "source": [
    "def set_online(row) -> bool:\n",
    "    return False if row[\"Sales\"] < 69.99 else random.choices([True, False], weights=[.9, .1])[0]"
   ]
  },
  {
   "cell_type": "code",
   "execution_count": 91,
   "metadata": {},
   "outputs": [],
   "source": [
    "df5[\"Online\"] = df5.apply(lambda x: set_online(x), axis=1)"
   ]
  },
  {
   "cell_type": "code",
   "execution_count": 92,
   "metadata": {},
   "outputs": [
    {
     "data": {
      "text/html": [
       "<div>\n",
       "<style scoped>\n",
       "    .dataframe tbody tr th:only-of-type {\n",
       "        vertical-align: middle;\n",
       "    }\n",
       "\n",
       "    .dataframe tbody tr th {\n",
       "        vertical-align: top;\n",
       "    }\n",
       "\n",
       "    .dataframe thead th {\n",
       "        text-align: right;\n",
       "    }\n",
       "</style>\n",
       "<table border=\"1\" class=\"dataframe\">\n",
       "  <thead>\n",
       "    <tr style=\"text-align: right;\">\n",
       "      <th></th>\n",
       "      <th>Purchase_ID</th>\n",
       "      <th>Purchase_Datetime</th>\n",
       "      <th>Product_ID</th>\n",
       "      <th>Category</th>\n",
       "      <th>Sub_Category</th>\n",
       "      <th>Product_Name</th>\n",
       "      <th>Unit_Price</th>\n",
       "      <th>Quantity</th>\n",
       "      <th>Sales</th>\n",
       "      <th>Payment_Method</th>\n",
       "      <th>Online</th>\n",
       "      <th>Shipping_Address</th>\n",
       "      <th>Shipping_Method</th>\n",
       "      <th>Product_URL</th>\n",
       "    </tr>\n",
       "  </thead>\n",
       "  <tbody>\n",
       "    <tr>\n",
       "      <th>0</th>\n",
       "      <td>NaN</td>\n",
       "      <td>NaN</td>\n",
       "      <td>NaN</td>\n",
       "      <td>Beauty &amp; Personal Care</td>\n",
       "      <td>Tools &amp; Accessories</td>\n",
       "      <td>Rubies Black Eyelashes and Adhesive</td>\n",
       "      <td>7.15</td>\n",
       "      <td>0</td>\n",
       "      <td>0.00</td>\n",
       "      <td>NaN</td>\n",
       "      <td>False</td>\n",
       "      <td>NaN</td>\n",
       "      <td>NaN</td>\n",
       "      <td>https://www.amazon.com/Rubies-Black-Eyelashes-...</td>\n",
       "    </tr>\n",
       "    <tr>\n",
       "      <th>1</th>\n",
       "      <td>NaN</td>\n",
       "      <td>NaN</td>\n",
       "      <td>NaN</td>\n",
       "      <td>Cell Phones &amp; Accessories</td>\n",
       "      <td>Accessories</td>\n",
       "      <td>Disney Mickey Mouse Ice Cream D-Lish Treats Ph...</td>\n",
       "      <td>8.25</td>\n",
       "      <td>0</td>\n",
       "      <td>0.00</td>\n",
       "      <td>NaN</td>\n",
       "      <td>False</td>\n",
       "      <td>NaN</td>\n",
       "      <td>NaN</td>\n",
       "      <td>https://www.amazon.com/Disney-Mickey-Mouse-D-L...</td>\n",
       "    </tr>\n",
       "    <tr>\n",
       "      <th>2</th>\n",
       "      <td>NaN</td>\n",
       "      <td>NaN</td>\n",
       "      <td>NaN</td>\n",
       "      <td>Electronics</td>\n",
       "      <td>Phones</td>\n",
       "      <td>Samsung Galaxy Express, Gray 8GB</td>\n",
       "      <td>389.28</td>\n",
       "      <td>0</td>\n",
       "      <td>0.00</td>\n",
       "      <td>NaN</td>\n",
       "      <td>False</td>\n",
       "      <td>NaN</td>\n",
       "      <td>NaN</td>\n",
       "      <td>https://www.amazon.com/Samsung-Galaxy-Express-...</td>\n",
       "    </tr>\n",
       "    <tr>\n",
       "      <th>3</th>\n",
       "      <td>NaN</td>\n",
       "      <td>NaN</td>\n",
       "      <td>NaN</td>\n",
       "      <td>Electronics</td>\n",
       "      <td>Phones</td>\n",
       "      <td>Apple iPhone 5</td>\n",
       "      <td>649.83</td>\n",
       "      <td>2</td>\n",
       "      <td>1299.66</td>\n",
       "      <td>NaN</td>\n",
       "      <td>True</td>\n",
       "      <td>NaN</td>\n",
       "      <td>NaN</td>\n",
       "      <td>NaN</td>\n",
       "    </tr>\n",
       "    <tr>\n",
       "      <th>4</th>\n",
       "      <td>NaN</td>\n",
       "      <td>NaN</td>\n",
       "      <td>NaN</td>\n",
       "      <td>Electronics</td>\n",
       "      <td>Accessories</td>\n",
       "      <td>SanDisk Cruzer 64 GB USB Flash Drive</td>\n",
       "      <td>36.32</td>\n",
       "      <td>2</td>\n",
       "      <td>72.64</td>\n",
       "      <td>NaN</td>\n",
       "      <td>True</td>\n",
       "      <td>NaN</td>\n",
       "      <td>NaN</td>\n",
       "      <td>NaN</td>\n",
       "    </tr>\n",
       "  </tbody>\n",
       "</table>\n",
       "</div>"
      ],
      "text/plain": [
       "  Purchase_ID Purchase_Datetime Product_ID                   Category  \\\n",
       "0         NaN               NaN        NaN     Beauty & Personal Care   \n",
       "1         NaN               NaN        NaN  Cell Phones & Accessories   \n",
       "2         NaN               NaN        NaN                Electronics   \n",
       "3         NaN               NaN        NaN                Electronics   \n",
       "4         NaN               NaN        NaN                Electronics   \n",
       "\n",
       "          Sub_Category                                       Product_Name  \\\n",
       "0  Tools & Accessories                Rubies Black Eyelashes and Adhesive   \n",
       "1          Accessories  Disney Mickey Mouse Ice Cream D-Lish Treats Ph...   \n",
       "2               Phones                   Samsung Galaxy Express, Gray 8GB   \n",
       "3               Phones                                     Apple iPhone 5   \n",
       "4          Accessories               SanDisk Cruzer 64 GB USB Flash Drive   \n",
       "\n",
       "  Unit_Price Quantity    Sales Payment_Method  Online Shipping_Address  \\\n",
       "0       7.15        0     0.00            NaN   False              NaN   \n",
       "1       8.25        0     0.00            NaN   False              NaN   \n",
       "2     389.28        0     0.00            NaN   False              NaN   \n",
       "3     649.83        2  1299.66            NaN    True              NaN   \n",
       "4      36.32        2    72.64            NaN    True              NaN   \n",
       "\n",
       "  Shipping_Method                                        Product_URL  \n",
       "0             NaN  https://www.amazon.com/Rubies-Black-Eyelashes-...  \n",
       "1             NaN  https://www.amazon.com/Disney-Mickey-Mouse-D-L...  \n",
       "2             NaN  https://www.amazon.com/Samsung-Galaxy-Express-...  \n",
       "3             NaN                                                NaN  \n",
       "4             NaN                                                NaN  "
      ]
     },
     "execution_count": 92,
     "metadata": {},
     "output_type": "execute_result"
    }
   ],
   "source": [
    "df5.head()"
   ]
  },
  {
   "cell_type": "code",
   "execution_count": 93,
   "metadata": {},
   "outputs": [
    {
     "name": "stdout",
     "output_type": "stream",
     "text": [
      "<class 'pandas.core.frame.DataFrame'>\n",
      "RangeIndex: 4026 entries, 0 to 4025\n",
      "Data columns (total 14 columns):\n",
      " #   Column             Non-Null Count  Dtype  \n",
      "---  ------             --------------  -----  \n",
      " 0   Purchase_ID        0 non-null      object \n",
      " 1   Purchase_Datetime  0 non-null      object \n",
      " 2   Product_ID         0 non-null      object \n",
      " 3   Category           4026 non-null   object \n",
      " 4   Sub_Category       4026 non-null   object \n",
      " 5   Product_Name       4026 non-null   object \n",
      " 6   Unit_Price         4026 non-null   object \n",
      " 7   Quantity           4026 non-null   object \n",
      " 8   Sales              4026 non-null   float64\n",
      " 9   Payment_Method     0 non-null      object \n",
      " 10  Online             4026 non-null   bool   \n",
      " 11  Shipping_Address   0 non-null      object \n",
      " 12  Shipping_Method    0 non-null      object \n",
      " 13  Product_URL        1400 non-null   object \n",
      "dtypes: bool(1), float64(1), object(12)\n",
      "memory usage: 412.9+ KB\n"
     ]
    }
   ],
   "source": [
    "df5.info()"
   ]
  },
  {
   "cell_type": "markdown",
   "metadata": {},
   "source": [
    "*Product_ID*<br>\n",
    "Consideration: should contain characters indicating the item's category and sub-category"
   ]
  },
  {
   "cell_type": "code",
   "execution_count": 94,
   "metadata": {},
   "outputs": [
    {
     "data": {
      "text/plain": [
       "array(['Beauty & Personal Care', 'Cell Phones & Accessories',\n",
       "       'Electronics', 'Home & Kitchen', 'Industrial & Scientific',\n",
       "       'Office Supplies', 'Tools & Home Improvement', 'Toys & Games',\n",
       "       'Video Games'], dtype=object)"
      ]
     },
     "execution_count": 94,
     "metadata": {},
     "output_type": "execute_result"
    }
   ],
   "source": [
    "df5[\"Category\"].unique()"
   ]
  },
  {
   "cell_type": "code",
   "execution_count": 95,
   "metadata": {},
   "outputs": [],
   "source": [
    "def get_cat_ini(category: str) -> str:\n",
    "    ini = []\n",
    "    ini.extend(part[0].upper() for part in category.split() if part[0].isalpha())\n",
    "    return \"\".join(ini)"
   ]
  },
  {
   "cell_type": "code",
   "execution_count": 96,
   "metadata": {},
   "outputs": [
    {
     "data": {
      "text/plain": [
       "array(['Tools & Accessories', 'Accessories', 'Phones', 'Machines',\n",
       "       'Camera & Photo', 'Copiers', 'Headphones',\n",
       "       'Portable Audio & Video', 'Computers & Accessories',\n",
       "       \"Kids' Home Store\", 'Science Education', 'Binders', 'Paper',\n",
       "       'Appliances', 'Art', 'Labels', 'Storage', 'Envelopes', 'Fasteners',\n",
       "       'Supplies', 'Office & School Supplies', 'Office Electronics',\n",
       "       'Power & Hand Tools', 'Games & Accessories', \"Kids' Electronics\",\n",
       "       'Learning & Education', \"Kids' Furniture, Décor & Storage\",\n",
       "       'Xbox One', 'Nintendo Switch', 'PC', 'Legacy Systems'],\n",
       "      dtype=object)"
      ]
     },
     "execution_count": 96,
     "metadata": {},
     "output_type": "execute_result"
    }
   ],
   "source": [
    "df5[\"Sub_Category\"].unique()"
   ]
  },
  {
   "cell_type": "markdown",
   "metadata": {},
   "source": [
    "*Well, while we're at it, I think products like Xbox One and Nintendo Switch should be placed under a `Console & Accessories` sub-category*"
   ]
  },
  {
   "cell_type": "code",
   "execution_count": 97,
   "metadata": {},
   "outputs": [],
   "source": [
    "df5.loc[df5[\"Sub_Category\"].str.contains(\"xbox|nintendo\", case=False, regex=True), [\"Sub_Category\"]] = \"Console & Accessories\""
   ]
  },
  {
   "cell_type": "code",
   "execution_count": 98,
   "metadata": {},
   "outputs": [
    {
     "data": {
      "text/plain": [
       "array(['Tools & Accessories', 'Accessories', 'Phones', 'Machines',\n",
       "       'Camera & Photo', 'Copiers', 'Headphones',\n",
       "       'Portable Audio & Video', 'Computers & Accessories',\n",
       "       \"Kids' Home Store\", 'Science Education', 'Binders', 'Paper',\n",
       "       'Appliances', 'Art', 'Labels', 'Storage', 'Envelopes', 'Fasteners',\n",
       "       'Supplies', 'Office & School Supplies', 'Office Electronics',\n",
       "       'Power & Hand Tools', 'Games & Accessories', \"Kids' Electronics\",\n",
       "       'Learning & Education', \"Kids' Furniture, Décor & Storage\",\n",
       "       'Console & Accessories', 'PC', 'Legacy Systems'], dtype=object)"
      ]
     },
     "execution_count": 98,
     "metadata": {},
     "output_type": "execute_result"
    }
   ],
   "source": [
    "df5[\"Sub_Category\"].unique()"
   ]
  },
  {
   "cell_type": "code",
   "execution_count": 99,
   "metadata": {},
   "outputs": [],
   "source": [
    "# este es una locura\n",
    "df5[\"Product_ID\"] = df5[\"Category\"].apply(lambda x: get_cat_ini(x)) +\"-\"+ df5[\"Sub_Category\"].apply(lambda x: get_cat_ini(x))"
   ]
  },
  {
   "cell_type": "code",
   "execution_count": 100,
   "metadata": {},
   "outputs": [],
   "source": [
    "def randomize() -> str:\n",
    "    return str(uuid.uuid4()).split(\"-\")[-1].upper()"
   ]
  },
  {
   "cell_type": "code",
   "execution_count": 101,
   "metadata": {},
   "outputs": [],
   "source": [
    "df5[\"Product_ID\"] = df5[\"Product_ID\"].apply(lambda x: f\"{x}-{randomize()}\")"
   ]
  },
  {
   "cell_type": "code",
   "execution_count": 102,
   "metadata": {},
   "outputs": [
    {
     "data": {
      "text/html": [
       "<div>\n",
       "<style scoped>\n",
       "    .dataframe tbody tr th:only-of-type {\n",
       "        vertical-align: middle;\n",
       "    }\n",
       "\n",
       "    .dataframe tbody tr th {\n",
       "        vertical-align: top;\n",
       "    }\n",
       "\n",
       "    .dataframe thead th {\n",
       "        text-align: right;\n",
       "    }\n",
       "</style>\n",
       "<table border=\"1\" class=\"dataframe\">\n",
       "  <thead>\n",
       "    <tr style=\"text-align: right;\">\n",
       "      <th></th>\n",
       "      <th>Purchase_ID</th>\n",
       "      <th>Purchase_Datetime</th>\n",
       "      <th>Product_ID</th>\n",
       "      <th>Category</th>\n",
       "      <th>Sub_Category</th>\n",
       "      <th>Product_Name</th>\n",
       "      <th>Unit_Price</th>\n",
       "      <th>Quantity</th>\n",
       "      <th>Sales</th>\n",
       "      <th>Payment_Method</th>\n",
       "      <th>Online</th>\n",
       "      <th>Shipping_Address</th>\n",
       "      <th>Shipping_Method</th>\n",
       "      <th>Product_URL</th>\n",
       "    </tr>\n",
       "  </thead>\n",
       "  <tbody>\n",
       "    <tr>\n",
       "      <th>0</th>\n",
       "      <td>NaN</td>\n",
       "      <td>NaN</td>\n",
       "      <td>BPC-TA-595E364B36B8</td>\n",
       "      <td>Beauty &amp; Personal Care</td>\n",
       "      <td>Tools &amp; Accessories</td>\n",
       "      <td>Rubies Black Eyelashes and Adhesive</td>\n",
       "      <td>7.15</td>\n",
       "      <td>0</td>\n",
       "      <td>0.00</td>\n",
       "      <td>NaN</td>\n",
       "      <td>False</td>\n",
       "      <td>NaN</td>\n",
       "      <td>NaN</td>\n",
       "      <td>https://www.amazon.com/Rubies-Black-Eyelashes-...</td>\n",
       "    </tr>\n",
       "    <tr>\n",
       "      <th>1</th>\n",
       "      <td>NaN</td>\n",
       "      <td>NaN</td>\n",
       "      <td>CPA-A-AD2CDBF8FB6A</td>\n",
       "      <td>Cell Phones &amp; Accessories</td>\n",
       "      <td>Accessories</td>\n",
       "      <td>Disney Mickey Mouse Ice Cream D-Lish Treats Ph...</td>\n",
       "      <td>8.25</td>\n",
       "      <td>0</td>\n",
       "      <td>0.00</td>\n",
       "      <td>NaN</td>\n",
       "      <td>False</td>\n",
       "      <td>NaN</td>\n",
       "      <td>NaN</td>\n",
       "      <td>https://www.amazon.com/Disney-Mickey-Mouse-D-L...</td>\n",
       "    </tr>\n",
       "    <tr>\n",
       "      <th>2</th>\n",
       "      <td>NaN</td>\n",
       "      <td>NaN</td>\n",
       "      <td>E-P-7B472F9085C3</td>\n",
       "      <td>Electronics</td>\n",
       "      <td>Phones</td>\n",
       "      <td>Samsung Galaxy Express, Gray 8GB</td>\n",
       "      <td>389.28</td>\n",
       "      <td>0</td>\n",
       "      <td>0.00</td>\n",
       "      <td>NaN</td>\n",
       "      <td>False</td>\n",
       "      <td>NaN</td>\n",
       "      <td>NaN</td>\n",
       "      <td>https://www.amazon.com/Samsung-Galaxy-Express-...</td>\n",
       "    </tr>\n",
       "    <tr>\n",
       "      <th>3</th>\n",
       "      <td>NaN</td>\n",
       "      <td>NaN</td>\n",
       "      <td>E-P-06BB0F1A9C0B</td>\n",
       "      <td>Electronics</td>\n",
       "      <td>Phones</td>\n",
       "      <td>Apple iPhone 5</td>\n",
       "      <td>649.83</td>\n",
       "      <td>2</td>\n",
       "      <td>1299.66</td>\n",
       "      <td>NaN</td>\n",
       "      <td>True</td>\n",
       "      <td>NaN</td>\n",
       "      <td>NaN</td>\n",
       "      <td>NaN</td>\n",
       "    </tr>\n",
       "    <tr>\n",
       "      <th>4</th>\n",
       "      <td>NaN</td>\n",
       "      <td>NaN</td>\n",
       "      <td>E-A-2252DB4688C6</td>\n",
       "      <td>Electronics</td>\n",
       "      <td>Accessories</td>\n",
       "      <td>SanDisk Cruzer 64 GB USB Flash Drive</td>\n",
       "      <td>36.32</td>\n",
       "      <td>2</td>\n",
       "      <td>72.64</td>\n",
       "      <td>NaN</td>\n",
       "      <td>True</td>\n",
       "      <td>NaN</td>\n",
       "      <td>NaN</td>\n",
       "      <td>NaN</td>\n",
       "    </tr>\n",
       "  </tbody>\n",
       "</table>\n",
       "</div>"
      ],
      "text/plain": [
       "  Purchase_ID Purchase_Datetime           Product_ID  \\\n",
       "0         NaN               NaN  BPC-TA-595E364B36B8   \n",
       "1         NaN               NaN   CPA-A-AD2CDBF8FB6A   \n",
       "2         NaN               NaN     E-P-7B472F9085C3   \n",
       "3         NaN               NaN     E-P-06BB0F1A9C0B   \n",
       "4         NaN               NaN     E-A-2252DB4688C6   \n",
       "\n",
       "                    Category         Sub_Category  \\\n",
       "0     Beauty & Personal Care  Tools & Accessories   \n",
       "1  Cell Phones & Accessories          Accessories   \n",
       "2                Electronics               Phones   \n",
       "3                Electronics               Phones   \n",
       "4                Electronics          Accessories   \n",
       "\n",
       "                                        Product_Name Unit_Price Quantity  \\\n",
       "0                Rubies Black Eyelashes and Adhesive       7.15        0   \n",
       "1  Disney Mickey Mouse Ice Cream D-Lish Treats Ph...       8.25        0   \n",
       "2                   Samsung Galaxy Express, Gray 8GB     389.28        0   \n",
       "3                                     Apple iPhone 5     649.83        2   \n",
       "4               SanDisk Cruzer 64 GB USB Flash Drive      36.32        2   \n",
       "\n",
       "     Sales Payment_Method  Online Shipping_Address Shipping_Method  \\\n",
       "0     0.00            NaN   False              NaN             NaN   \n",
       "1     0.00            NaN   False              NaN             NaN   \n",
       "2     0.00            NaN   False              NaN             NaN   \n",
       "3  1299.66            NaN    True              NaN             NaN   \n",
       "4    72.64            NaN    True              NaN             NaN   \n",
       "\n",
       "                                         Product_URL  \n",
       "0  https://www.amazon.com/Rubies-Black-Eyelashes-...  \n",
       "1  https://www.amazon.com/Disney-Mickey-Mouse-D-L...  \n",
       "2  https://www.amazon.com/Samsung-Galaxy-Express-...  \n",
       "3                                                NaN  \n",
       "4                                                NaN  "
      ]
     },
     "execution_count": 102,
     "metadata": {},
     "output_type": "execute_result"
    }
   ],
   "source": [
    "df5.head()"
   ]
  },
  {
   "cell_type": "markdown",
   "metadata": {},
   "source": [
    "*Purchase_Datetime*<br>\n",
    "From Jan 1, 2020 to Dec 31, 2020 and 00:00 to 23:59 if online, or 00:09 to 21:59 if not"
   ]
  },
  {
   "cell_type": "code",
   "execution_count": 103,
   "metadata": {},
   "outputs": [],
   "source": [
    "def gen_datetime(row) -> datetime:\n",
    "    date_start = datetime(2020, 1, 1, 0, 0, 0)\n",
    "    date_end = datetime(2020, 12, 31, 23, 59, 59)\n",
    "    if row[\"Online\"] is False:\n",
    "        date_start = datetime(2020, 1, 1, 8, 0, 0)\n",
    "        date_end = datetime(2020, 12, 31, 21, 59, 59)\n",
    "    random_date_time = date_start + (date_end - date_start) * random.random()\n",
    "    random_date_time = random_date_time.__format__(\"%Y-%m-%d %H:%M:%S\")\n",
    "    return datetime.strptime(random_date_time, format(\"%Y-%m-%d %H:%M:%S\"))"
   ]
  },
  {
   "cell_type": "code",
   "execution_count": 104,
   "metadata": {},
   "outputs": [],
   "source": [
    "df5[\"Purchase_Datetime\"] = df5.apply(lambda x: gen_datetime(x), axis=1)"
   ]
  },
  {
   "cell_type": "code",
   "execution_count": 105,
   "metadata": {},
   "outputs": [
    {
     "data": {
      "text/html": [
       "<div>\n",
       "<style scoped>\n",
       "    .dataframe tbody tr th:only-of-type {\n",
       "        vertical-align: middle;\n",
       "    }\n",
       "\n",
       "    .dataframe tbody tr th {\n",
       "        vertical-align: top;\n",
       "    }\n",
       "\n",
       "    .dataframe thead th {\n",
       "        text-align: right;\n",
       "    }\n",
       "</style>\n",
       "<table border=\"1\" class=\"dataframe\">\n",
       "  <thead>\n",
       "    <tr style=\"text-align: right;\">\n",
       "      <th></th>\n",
       "      <th>Purchase_ID</th>\n",
       "      <th>Purchase_Datetime</th>\n",
       "      <th>Product_ID</th>\n",
       "      <th>Category</th>\n",
       "      <th>Sub_Category</th>\n",
       "      <th>Product_Name</th>\n",
       "      <th>Unit_Price</th>\n",
       "      <th>Quantity</th>\n",
       "      <th>Sales</th>\n",
       "      <th>Payment_Method</th>\n",
       "      <th>Online</th>\n",
       "      <th>Shipping_Address</th>\n",
       "      <th>Shipping_Method</th>\n",
       "      <th>Product_URL</th>\n",
       "    </tr>\n",
       "  </thead>\n",
       "  <tbody>\n",
       "    <tr>\n",
       "      <th>0</th>\n",
       "      <td>NaN</td>\n",
       "      <td>2020-11-13 23:00:27</td>\n",
       "      <td>BPC-TA-595E364B36B8</td>\n",
       "      <td>Beauty &amp; Personal Care</td>\n",
       "      <td>Tools &amp; Accessories</td>\n",
       "      <td>Rubies Black Eyelashes and Adhesive</td>\n",
       "      <td>7.15</td>\n",
       "      <td>0</td>\n",
       "      <td>0.00</td>\n",
       "      <td>NaN</td>\n",
       "      <td>False</td>\n",
       "      <td>NaN</td>\n",
       "      <td>NaN</td>\n",
       "      <td>https://www.amazon.com/Rubies-Black-Eyelashes-...</td>\n",
       "    </tr>\n",
       "    <tr>\n",
       "      <th>1</th>\n",
       "      <td>NaN</td>\n",
       "      <td>2020-07-14 11:24:38</td>\n",
       "      <td>CPA-A-AD2CDBF8FB6A</td>\n",
       "      <td>Cell Phones &amp; Accessories</td>\n",
       "      <td>Accessories</td>\n",
       "      <td>Disney Mickey Mouse Ice Cream D-Lish Treats Ph...</td>\n",
       "      <td>8.25</td>\n",
       "      <td>0</td>\n",
       "      <td>0.00</td>\n",
       "      <td>NaN</td>\n",
       "      <td>False</td>\n",
       "      <td>NaN</td>\n",
       "      <td>NaN</td>\n",
       "      <td>https://www.amazon.com/Disney-Mickey-Mouse-D-L...</td>\n",
       "    </tr>\n",
       "    <tr>\n",
       "      <th>2</th>\n",
       "      <td>NaN</td>\n",
       "      <td>2020-03-18 13:04:50</td>\n",
       "      <td>E-P-7B472F9085C3</td>\n",
       "      <td>Electronics</td>\n",
       "      <td>Phones</td>\n",
       "      <td>Samsung Galaxy Express, Gray 8GB</td>\n",
       "      <td>389.28</td>\n",
       "      <td>0</td>\n",
       "      <td>0.00</td>\n",
       "      <td>NaN</td>\n",
       "      <td>False</td>\n",
       "      <td>NaN</td>\n",
       "      <td>NaN</td>\n",
       "      <td>https://www.amazon.com/Samsung-Galaxy-Express-...</td>\n",
       "    </tr>\n",
       "    <tr>\n",
       "      <th>3</th>\n",
       "      <td>NaN</td>\n",
       "      <td>2020-03-05 22:57:56</td>\n",
       "      <td>E-P-06BB0F1A9C0B</td>\n",
       "      <td>Electronics</td>\n",
       "      <td>Phones</td>\n",
       "      <td>Apple iPhone 5</td>\n",
       "      <td>649.83</td>\n",
       "      <td>2</td>\n",
       "      <td>1299.66</td>\n",
       "      <td>NaN</td>\n",
       "      <td>True</td>\n",
       "      <td>NaN</td>\n",
       "      <td>NaN</td>\n",
       "      <td>NaN</td>\n",
       "    </tr>\n",
       "    <tr>\n",
       "      <th>4</th>\n",
       "      <td>NaN</td>\n",
       "      <td>2020-07-03 15:20:43</td>\n",
       "      <td>E-A-2252DB4688C6</td>\n",
       "      <td>Electronics</td>\n",
       "      <td>Accessories</td>\n",
       "      <td>SanDisk Cruzer 64 GB USB Flash Drive</td>\n",
       "      <td>36.32</td>\n",
       "      <td>2</td>\n",
       "      <td>72.64</td>\n",
       "      <td>NaN</td>\n",
       "      <td>True</td>\n",
       "      <td>NaN</td>\n",
       "      <td>NaN</td>\n",
       "      <td>NaN</td>\n",
       "    </tr>\n",
       "  </tbody>\n",
       "</table>\n",
       "</div>"
      ],
      "text/plain": [
       "  Purchase_ID   Purchase_Datetime           Product_ID  \\\n",
       "0         NaN 2020-11-13 23:00:27  BPC-TA-595E364B36B8   \n",
       "1         NaN 2020-07-14 11:24:38   CPA-A-AD2CDBF8FB6A   \n",
       "2         NaN 2020-03-18 13:04:50     E-P-7B472F9085C3   \n",
       "3         NaN 2020-03-05 22:57:56     E-P-06BB0F1A9C0B   \n",
       "4         NaN 2020-07-03 15:20:43     E-A-2252DB4688C6   \n",
       "\n",
       "                    Category         Sub_Category  \\\n",
       "0     Beauty & Personal Care  Tools & Accessories   \n",
       "1  Cell Phones & Accessories          Accessories   \n",
       "2                Electronics               Phones   \n",
       "3                Electronics               Phones   \n",
       "4                Electronics          Accessories   \n",
       "\n",
       "                                        Product_Name Unit_Price Quantity  \\\n",
       "0                Rubies Black Eyelashes and Adhesive       7.15        0   \n",
       "1  Disney Mickey Mouse Ice Cream D-Lish Treats Ph...       8.25        0   \n",
       "2                   Samsung Galaxy Express, Gray 8GB     389.28        0   \n",
       "3                                     Apple iPhone 5     649.83        2   \n",
       "4               SanDisk Cruzer 64 GB USB Flash Drive      36.32        2   \n",
       "\n",
       "     Sales Payment_Method  Online Shipping_Address Shipping_Method  \\\n",
       "0     0.00            NaN   False              NaN             NaN   \n",
       "1     0.00            NaN   False              NaN             NaN   \n",
       "2     0.00            NaN   False              NaN             NaN   \n",
       "3  1299.66            NaN    True              NaN             NaN   \n",
       "4    72.64            NaN    True              NaN             NaN   \n",
       "\n",
       "                                         Product_URL  \n",
       "0  https://www.amazon.com/Rubies-Black-Eyelashes-...  \n",
       "1  https://www.amazon.com/Disney-Mickey-Mouse-D-L...  \n",
       "2  https://www.amazon.com/Samsung-Galaxy-Express-...  \n",
       "3                                                NaN  \n",
       "4                                                NaN  "
      ]
     },
     "execution_count": 105,
     "metadata": {},
     "output_type": "execute_result"
    }
   ],
   "source": [
    "df5.head()"
   ]
  },
  {
   "cell_type": "code",
   "execution_count": 106,
   "metadata": {},
   "outputs": [
    {
     "name": "stdout",
     "output_type": "stream",
     "text": [
      "<class 'pandas.core.frame.DataFrame'>\n",
      "RangeIndex: 4026 entries, 0 to 4025\n",
      "Data columns (total 14 columns):\n",
      " #   Column             Non-Null Count  Dtype         \n",
      "---  ------             --------------  -----         \n",
      " 0   Purchase_ID        0 non-null      object        \n",
      " 1   Purchase_Datetime  4026 non-null   datetime64[ns]\n",
      " 2   Product_ID         4026 non-null   object        \n",
      " 3   Category           4026 non-null   object        \n",
      " 4   Sub_Category       4026 non-null   object        \n",
      " 5   Product_Name       4026 non-null   object        \n",
      " 6   Unit_Price         4026 non-null   object        \n",
      " 7   Quantity           4026 non-null   object        \n",
      " 8   Sales              4026 non-null   float64       \n",
      " 9   Payment_Method     0 non-null      object        \n",
      " 10  Online             4026 non-null   bool          \n",
      " 11  Shipping_Address   0 non-null      object        \n",
      " 12  Shipping_Method    0 non-null      object        \n",
      " 13  Product_URL        1400 non-null   object        \n",
      "dtypes: bool(1), datetime64[ns](1), float64(1), object(11)\n",
      "memory usage: 412.9+ KB\n"
     ]
    }
   ],
   "source": [
    "df5.info()"
   ]
  },
  {
   "cell_type": "code",
   "execution_count": 107,
   "metadata": {},
   "outputs": [],
   "source": [
    "df5.to_pickle(\"df5\")"
   ]
  },
  {
   "cell_type": "markdown",
   "metadata": {},
   "source": [
    "*Purchase_ID*<br>\n",
    "Depends on `Purchase_Datetime` and `Online`<br>\n",
    "Format: [100-999][datetime][online][100-999]"
   ]
  },
  {
   "cell_type": "code",
   "execution_count": 108,
   "metadata": {},
   "outputs": [],
   "source": [
    "# concatenate Datetime\n",
    "def conca_datetime(row):\n",
    "    conca = []\n",
    "    conca.extend(i for i in row if i.isdigit())\n",
    "    return \"\".join(conca)"
   ]
  },
  {
   "cell_type": "code",
   "execution_count": 109,
   "metadata": {},
   "outputs": [],
   "source": [
    "# add Online id\n",
    "def add_online(row):\n",
    "    return \"O\" if row[\"Online\"] else \"P\""
   ]
  },
  {
   "cell_type": "code",
   "execution_count": 110,
   "metadata": {},
   "outputs": [],
   "source": [
    "def set_purchase_id(row) -> str:\n",
    "    return f\"{random.randint(100, 999)}{add_online(row)}{conca_datetime(str(row['Purchase_Datetime']))}{random.randint(100, 999)}\""
   ]
  },
  {
   "cell_type": "code",
   "execution_count": 111,
   "metadata": {},
   "outputs": [],
   "source": [
    "df5[\"Purchase_ID\"] = df5.apply(lambda x: set_purchase_id(x), axis=1)"
   ]
  },
  {
   "cell_type": "code",
   "execution_count": 112,
   "metadata": {},
   "outputs": [
    {
     "data": {
      "text/html": [
       "<div>\n",
       "<style scoped>\n",
       "    .dataframe tbody tr th:only-of-type {\n",
       "        vertical-align: middle;\n",
       "    }\n",
       "\n",
       "    .dataframe tbody tr th {\n",
       "        vertical-align: top;\n",
       "    }\n",
       "\n",
       "    .dataframe thead th {\n",
       "        text-align: right;\n",
       "    }\n",
       "</style>\n",
       "<table border=\"1\" class=\"dataframe\">\n",
       "  <thead>\n",
       "    <tr style=\"text-align: right;\">\n",
       "      <th></th>\n",
       "      <th>Purchase_ID</th>\n",
       "      <th>Purchase_Datetime</th>\n",
       "      <th>Product_ID</th>\n",
       "      <th>Category</th>\n",
       "      <th>Sub_Category</th>\n",
       "      <th>Product_Name</th>\n",
       "      <th>Unit_Price</th>\n",
       "      <th>Quantity</th>\n",
       "      <th>Sales</th>\n",
       "      <th>Payment_Method</th>\n",
       "      <th>Online</th>\n",
       "      <th>Shipping_Address</th>\n",
       "      <th>Shipping_Method</th>\n",
       "      <th>Product_URL</th>\n",
       "    </tr>\n",
       "  </thead>\n",
       "  <tbody>\n",
       "    <tr>\n",
       "      <th>0</th>\n",
       "      <td>116P20201113230027405</td>\n",
       "      <td>2020-11-13 23:00:27</td>\n",
       "      <td>BPC-TA-595E364B36B8</td>\n",
       "      <td>Beauty &amp; Personal Care</td>\n",
       "      <td>Tools &amp; Accessories</td>\n",
       "      <td>Rubies Black Eyelashes and Adhesive</td>\n",
       "      <td>7.15</td>\n",
       "      <td>0</td>\n",
       "      <td>0.00</td>\n",
       "      <td>NaN</td>\n",
       "      <td>False</td>\n",
       "      <td>NaN</td>\n",
       "      <td>NaN</td>\n",
       "      <td>https://www.amazon.com/Rubies-Black-Eyelashes-...</td>\n",
       "    </tr>\n",
       "    <tr>\n",
       "      <th>1</th>\n",
       "      <td>412P20200714112438561</td>\n",
       "      <td>2020-07-14 11:24:38</td>\n",
       "      <td>CPA-A-AD2CDBF8FB6A</td>\n",
       "      <td>Cell Phones &amp; Accessories</td>\n",
       "      <td>Accessories</td>\n",
       "      <td>Disney Mickey Mouse Ice Cream D-Lish Treats Ph...</td>\n",
       "      <td>8.25</td>\n",
       "      <td>0</td>\n",
       "      <td>0.00</td>\n",
       "      <td>NaN</td>\n",
       "      <td>False</td>\n",
       "      <td>NaN</td>\n",
       "      <td>NaN</td>\n",
       "      <td>https://www.amazon.com/Disney-Mickey-Mouse-D-L...</td>\n",
       "    </tr>\n",
       "    <tr>\n",
       "      <th>2</th>\n",
       "      <td>284P20200318130450913</td>\n",
       "      <td>2020-03-18 13:04:50</td>\n",
       "      <td>E-P-7B472F9085C3</td>\n",
       "      <td>Electronics</td>\n",
       "      <td>Phones</td>\n",
       "      <td>Samsung Galaxy Express, Gray 8GB</td>\n",
       "      <td>389.28</td>\n",
       "      <td>0</td>\n",
       "      <td>0.00</td>\n",
       "      <td>NaN</td>\n",
       "      <td>False</td>\n",
       "      <td>NaN</td>\n",
       "      <td>NaN</td>\n",
       "      <td>https://www.amazon.com/Samsung-Galaxy-Express-...</td>\n",
       "    </tr>\n",
       "    <tr>\n",
       "      <th>3</th>\n",
       "      <td>210O20200305225756148</td>\n",
       "      <td>2020-03-05 22:57:56</td>\n",
       "      <td>E-P-06BB0F1A9C0B</td>\n",
       "      <td>Electronics</td>\n",
       "      <td>Phones</td>\n",
       "      <td>Apple iPhone 5</td>\n",
       "      <td>649.83</td>\n",
       "      <td>2</td>\n",
       "      <td>1299.66</td>\n",
       "      <td>NaN</td>\n",
       "      <td>True</td>\n",
       "      <td>NaN</td>\n",
       "      <td>NaN</td>\n",
       "      <td>NaN</td>\n",
       "    </tr>\n",
       "    <tr>\n",
       "      <th>4</th>\n",
       "      <td>514O20200703152043999</td>\n",
       "      <td>2020-07-03 15:20:43</td>\n",
       "      <td>E-A-2252DB4688C6</td>\n",
       "      <td>Electronics</td>\n",
       "      <td>Accessories</td>\n",
       "      <td>SanDisk Cruzer 64 GB USB Flash Drive</td>\n",
       "      <td>36.32</td>\n",
       "      <td>2</td>\n",
       "      <td>72.64</td>\n",
       "      <td>NaN</td>\n",
       "      <td>True</td>\n",
       "      <td>NaN</td>\n",
       "      <td>NaN</td>\n",
       "      <td>NaN</td>\n",
       "    </tr>\n",
       "  </tbody>\n",
       "</table>\n",
       "</div>"
      ],
      "text/plain": [
       "             Purchase_ID   Purchase_Datetime           Product_ID  \\\n",
       "0  116P20201113230027405 2020-11-13 23:00:27  BPC-TA-595E364B36B8   \n",
       "1  412P20200714112438561 2020-07-14 11:24:38   CPA-A-AD2CDBF8FB6A   \n",
       "2  284P20200318130450913 2020-03-18 13:04:50     E-P-7B472F9085C3   \n",
       "3  210O20200305225756148 2020-03-05 22:57:56     E-P-06BB0F1A9C0B   \n",
       "4  514O20200703152043999 2020-07-03 15:20:43     E-A-2252DB4688C6   \n",
       "\n",
       "                    Category         Sub_Category  \\\n",
       "0     Beauty & Personal Care  Tools & Accessories   \n",
       "1  Cell Phones & Accessories          Accessories   \n",
       "2                Electronics               Phones   \n",
       "3                Electronics               Phones   \n",
       "4                Electronics          Accessories   \n",
       "\n",
       "                                        Product_Name Unit_Price Quantity  \\\n",
       "0                Rubies Black Eyelashes and Adhesive       7.15        0   \n",
       "1  Disney Mickey Mouse Ice Cream D-Lish Treats Ph...       8.25        0   \n",
       "2                   Samsung Galaxy Express, Gray 8GB     389.28        0   \n",
       "3                                     Apple iPhone 5     649.83        2   \n",
       "4               SanDisk Cruzer 64 GB USB Flash Drive      36.32        2   \n",
       "\n",
       "     Sales Payment_Method  Online Shipping_Address Shipping_Method  \\\n",
       "0     0.00            NaN   False              NaN             NaN   \n",
       "1     0.00            NaN   False              NaN             NaN   \n",
       "2     0.00            NaN   False              NaN             NaN   \n",
       "3  1299.66            NaN    True              NaN             NaN   \n",
       "4    72.64            NaN    True              NaN             NaN   \n",
       "\n",
       "                                         Product_URL  \n",
       "0  https://www.amazon.com/Rubies-Black-Eyelashes-...  \n",
       "1  https://www.amazon.com/Disney-Mickey-Mouse-D-L...  \n",
       "2  https://www.amazon.com/Samsung-Galaxy-Express-...  \n",
       "3                                                NaN  \n",
       "4                                                NaN  "
      ]
     },
     "execution_count": 112,
     "metadata": {},
     "output_type": "execute_result"
    }
   ],
   "source": [
    "df5.head()"
   ]
  },
  {
   "cell_type": "markdown",
   "metadata": {},
   "source": [
    "*Payment_Method*<br>\n",
    "Accepted:<br>\n",
    "Cards [Credit + Debit]: American Express, Visa, MasterCard, Discover<br>\n",
    "Digital: PayPal<br>\n",
    "Cash<br>\n",
    "Consideration: let's say payment for in-person purchase and below 69.99 are Cash, online between 69.99 - 149.99 are most-likely PayPal, online between 149.99 - 249.99 are most-likely either Discover or AE, online between 249.99 - 449.99 are most-likely MasterCard and others are most-likely Visa"
   ]
  },
  {
   "cell_type": "code",
   "execution_count": 113,
   "metadata": {},
   "outputs": [],
   "source": [
    "payment = [\"AMEX\", \"Visa\", \"MasterCard\", \"Discover\", \"PayPal\"]"
   ]
  },
  {
   "cell_type": "code",
   "execution_count": 114,
   "metadata": {},
   "outputs": [],
   "source": [
    "def set_pay_method(row):\n",
    "    if not row[\"Online\"] and (row['Sales'] > 0.00 and row['Sales'] < 66.99):\n",
    "        return \"Cash\"\n",
    "    elif row['Sales'] >= 66.99 and row['Sales'] < 149.99:\n",
    "        return (random.choices([\"Discover\", \"PayPal\"], weights=[.3, .7]))[0]\n",
    "    elif row['Sales'] >= 149.99 and row['Sales'] < 349.99:\n",
    "        return (random.choices(payment, weights=[.35, .1, .1, .35, .1]))[0]\n",
    "    elif row['Sales'] >= 349.99 and row['Sales'] < 549.99:\n",
    "        return (random.choices(payment, weights=[.225, .25, .25, .225, .05]))[0]\n",
    "    elif row['Sales'] >= 549.99 and row['Sales'] < 999.99:\n",
    "        return (random.choices(payment, weights=[.125, .34, .4, .125, .01]))[0]\n",
    "    elif row['Sales'] > 999.99:\n",
    "        return (random.choices(payment, weights=[.125, .4, .34, .125, .01]))[0]"
   ]
  },
  {
   "cell_type": "code",
   "execution_count": 115,
   "metadata": {},
   "outputs": [
    {
     "name": "stdout",
     "output_type": "stream",
     "text": [
      "<class 'pandas.core.frame.DataFrame'>\n",
      "RangeIndex: 4026 entries, 0 to 4025\n",
      "Data columns (total 14 columns):\n",
      " #   Column             Non-Null Count  Dtype         \n",
      "---  ------             --------------  -----         \n",
      " 0   Purchase_ID        4026 non-null   object        \n",
      " 1   Purchase_Datetime  4026 non-null   datetime64[ns]\n",
      " 2   Product_ID         4026 non-null   object        \n",
      " 3   Category           4026 non-null   object        \n",
      " 4   Sub_Category       4026 non-null   object        \n",
      " 5   Product_Name       4026 non-null   object        \n",
      " 6   Unit_Price         4026 non-null   object        \n",
      " 7   Quantity           4026 non-null   object        \n",
      " 8   Sales              4026 non-null   float64       \n",
      " 9   Payment_Method     0 non-null      object        \n",
      " 10  Online             4026 non-null   bool          \n",
      " 11  Shipping_Address   0 non-null      object        \n",
      " 12  Shipping_Method    0 non-null      object        \n",
      " 13  Product_URL        1400 non-null   object        \n",
      "dtypes: bool(1), datetime64[ns](1), float64(1), object(11)\n",
      "memory usage: 412.9+ KB\n"
     ]
    }
   ],
   "source": [
    "df5.info()"
   ]
  },
  {
   "cell_type": "code",
   "execution_count": 116,
   "metadata": {},
   "outputs": [],
   "source": [
    "df5[\"Payment_Method\"] = df5.apply(lambda x: set_pay_method(x), axis=1)"
   ]
  },
  {
   "cell_type": "code",
   "execution_count": 117,
   "metadata": {},
   "outputs": [
    {
     "data": {
      "text/html": [
       "<div>\n",
       "<style scoped>\n",
       "    .dataframe tbody tr th:only-of-type {\n",
       "        vertical-align: middle;\n",
       "    }\n",
       "\n",
       "    .dataframe tbody tr th {\n",
       "        vertical-align: top;\n",
       "    }\n",
       "\n",
       "    .dataframe thead th {\n",
       "        text-align: right;\n",
       "    }\n",
       "</style>\n",
       "<table border=\"1\" class=\"dataframe\">\n",
       "  <thead>\n",
       "    <tr style=\"text-align: right;\">\n",
       "      <th></th>\n",
       "      <th>Purchase_ID</th>\n",
       "      <th>Purchase_Datetime</th>\n",
       "      <th>Product_ID</th>\n",
       "      <th>Category</th>\n",
       "      <th>Sub_Category</th>\n",
       "      <th>Product_Name</th>\n",
       "      <th>Unit_Price</th>\n",
       "      <th>Quantity</th>\n",
       "      <th>Sales</th>\n",
       "      <th>Payment_Method</th>\n",
       "      <th>Online</th>\n",
       "      <th>Shipping_Address</th>\n",
       "      <th>Shipping_Method</th>\n",
       "      <th>Product_URL</th>\n",
       "    </tr>\n",
       "  </thead>\n",
       "  <tbody>\n",
       "    <tr>\n",
       "      <th>0</th>\n",
       "      <td>116P20201113230027405</td>\n",
       "      <td>2020-11-13 23:00:27</td>\n",
       "      <td>BPC-TA-595E364B36B8</td>\n",
       "      <td>Beauty &amp; Personal Care</td>\n",
       "      <td>Tools &amp; Accessories</td>\n",
       "      <td>Rubies Black Eyelashes and Adhesive</td>\n",
       "      <td>7.15</td>\n",
       "      <td>0</td>\n",
       "      <td>0.00</td>\n",
       "      <td>None</td>\n",
       "      <td>False</td>\n",
       "      <td>NaN</td>\n",
       "      <td>NaN</td>\n",
       "      <td>https://www.amazon.com/Rubies-Black-Eyelashes-...</td>\n",
       "    </tr>\n",
       "    <tr>\n",
       "      <th>1</th>\n",
       "      <td>412P20200714112438561</td>\n",
       "      <td>2020-07-14 11:24:38</td>\n",
       "      <td>CPA-A-AD2CDBF8FB6A</td>\n",
       "      <td>Cell Phones &amp; Accessories</td>\n",
       "      <td>Accessories</td>\n",
       "      <td>Disney Mickey Mouse Ice Cream D-Lish Treats Ph...</td>\n",
       "      <td>8.25</td>\n",
       "      <td>0</td>\n",
       "      <td>0.00</td>\n",
       "      <td>None</td>\n",
       "      <td>False</td>\n",
       "      <td>NaN</td>\n",
       "      <td>NaN</td>\n",
       "      <td>https://www.amazon.com/Disney-Mickey-Mouse-D-L...</td>\n",
       "    </tr>\n",
       "    <tr>\n",
       "      <th>2</th>\n",
       "      <td>284P20200318130450913</td>\n",
       "      <td>2020-03-18 13:04:50</td>\n",
       "      <td>E-P-7B472F9085C3</td>\n",
       "      <td>Electronics</td>\n",
       "      <td>Phones</td>\n",
       "      <td>Samsung Galaxy Express, Gray 8GB</td>\n",
       "      <td>389.28</td>\n",
       "      <td>0</td>\n",
       "      <td>0.00</td>\n",
       "      <td>None</td>\n",
       "      <td>False</td>\n",
       "      <td>NaN</td>\n",
       "      <td>NaN</td>\n",
       "      <td>https://www.amazon.com/Samsung-Galaxy-Express-...</td>\n",
       "    </tr>\n",
       "    <tr>\n",
       "      <th>3</th>\n",
       "      <td>210O20200305225756148</td>\n",
       "      <td>2020-03-05 22:57:56</td>\n",
       "      <td>E-P-06BB0F1A9C0B</td>\n",
       "      <td>Electronics</td>\n",
       "      <td>Phones</td>\n",
       "      <td>Apple iPhone 5</td>\n",
       "      <td>649.83</td>\n",
       "      <td>2</td>\n",
       "      <td>1299.66</td>\n",
       "      <td>Visa</td>\n",
       "      <td>True</td>\n",
       "      <td>NaN</td>\n",
       "      <td>NaN</td>\n",
       "      <td>NaN</td>\n",
       "    </tr>\n",
       "    <tr>\n",
       "      <th>4</th>\n",
       "      <td>514O20200703152043999</td>\n",
       "      <td>2020-07-03 15:20:43</td>\n",
       "      <td>E-A-2252DB4688C6</td>\n",
       "      <td>Electronics</td>\n",
       "      <td>Accessories</td>\n",
       "      <td>SanDisk Cruzer 64 GB USB Flash Drive</td>\n",
       "      <td>36.32</td>\n",
       "      <td>2</td>\n",
       "      <td>72.64</td>\n",
       "      <td>Discover</td>\n",
       "      <td>True</td>\n",
       "      <td>NaN</td>\n",
       "      <td>NaN</td>\n",
       "      <td>NaN</td>\n",
       "    </tr>\n",
       "  </tbody>\n",
       "</table>\n",
       "</div>"
      ],
      "text/plain": [
       "             Purchase_ID   Purchase_Datetime           Product_ID  \\\n",
       "0  116P20201113230027405 2020-11-13 23:00:27  BPC-TA-595E364B36B8   \n",
       "1  412P20200714112438561 2020-07-14 11:24:38   CPA-A-AD2CDBF8FB6A   \n",
       "2  284P20200318130450913 2020-03-18 13:04:50     E-P-7B472F9085C3   \n",
       "3  210O20200305225756148 2020-03-05 22:57:56     E-P-06BB0F1A9C0B   \n",
       "4  514O20200703152043999 2020-07-03 15:20:43     E-A-2252DB4688C6   \n",
       "\n",
       "                    Category         Sub_Category  \\\n",
       "0     Beauty & Personal Care  Tools & Accessories   \n",
       "1  Cell Phones & Accessories          Accessories   \n",
       "2                Electronics               Phones   \n",
       "3                Electronics               Phones   \n",
       "4                Electronics          Accessories   \n",
       "\n",
       "                                        Product_Name Unit_Price Quantity  \\\n",
       "0                Rubies Black Eyelashes and Adhesive       7.15        0   \n",
       "1  Disney Mickey Mouse Ice Cream D-Lish Treats Ph...       8.25        0   \n",
       "2                   Samsung Galaxy Express, Gray 8GB     389.28        0   \n",
       "3                                     Apple iPhone 5     649.83        2   \n",
       "4               SanDisk Cruzer 64 GB USB Flash Drive      36.32        2   \n",
       "\n",
       "     Sales Payment_Method  Online Shipping_Address Shipping_Method  \\\n",
       "0     0.00           None   False              NaN             NaN   \n",
       "1     0.00           None   False              NaN             NaN   \n",
       "2     0.00           None   False              NaN             NaN   \n",
       "3  1299.66           Visa    True              NaN             NaN   \n",
       "4    72.64       Discover    True              NaN             NaN   \n",
       "\n",
       "                                         Product_URL  \n",
       "0  https://www.amazon.com/Rubies-Black-Eyelashes-...  \n",
       "1  https://www.amazon.com/Disney-Mickey-Mouse-D-L...  \n",
       "2  https://www.amazon.com/Samsung-Galaxy-Express-...  \n",
       "3                                                NaN  \n",
       "4                                                NaN  "
      ]
     },
     "execution_count": 117,
     "metadata": {},
     "output_type": "execute_result"
    }
   ],
   "source": [
    "df5.head()"
   ]
  },
  {
   "cell_type": "markdown",
   "metadata": {},
   "source": [
    "*Shipping_Address*<br>\n",
    "Only where Online is True<br>\n",
    "We gonna just go ahead and use `Faker` for this task."
   ]
  },
  {
   "cell_type": "code",
   "execution_count": 118,
   "metadata": {},
   "outputs": [
    {
     "name": "stdout",
     "output_type": "stream",
     "text": [
      "037 Williams Village\n",
      "Lake Tony, OR 11726\n"
     ]
    }
   ],
   "source": [
    "fake = Faker(locale=\"en_US.UTF-8\")\n",
    "print(fake.address())"
   ]
  },
  {
   "cell_type": "code",
   "execution_count": 119,
   "metadata": {},
   "outputs": [
    {
     "data": {
      "text/html": [
       "<div>\n",
       "<style scoped>\n",
       "    .dataframe tbody tr th:only-of-type {\n",
       "        vertical-align: middle;\n",
       "    }\n",
       "\n",
       "    .dataframe tbody tr th {\n",
       "        vertical-align: top;\n",
       "    }\n",
       "\n",
       "    .dataframe thead th {\n",
       "        text-align: right;\n",
       "    }\n",
       "</style>\n",
       "<table border=\"1\" class=\"dataframe\">\n",
       "  <thead>\n",
       "    <tr style=\"text-align: right;\">\n",
       "      <th></th>\n",
       "      <th>Purchase_ID</th>\n",
       "      <th>Purchase_Datetime</th>\n",
       "      <th>Product_ID</th>\n",
       "      <th>Category</th>\n",
       "      <th>Sub_Category</th>\n",
       "      <th>Product_Name</th>\n",
       "      <th>Unit_Price</th>\n",
       "      <th>Quantity</th>\n",
       "      <th>Sales</th>\n",
       "      <th>Payment_Method</th>\n",
       "      <th>Online</th>\n",
       "      <th>Shipping_Address</th>\n",
       "      <th>Shipping_Method</th>\n",
       "      <th>Product_URL</th>\n",
       "    </tr>\n",
       "  </thead>\n",
       "  <tbody>\n",
       "  </tbody>\n",
       "</table>\n",
       "</div>"
      ],
      "text/plain": [
       "Empty DataFrame\n",
       "Columns: [Purchase_ID, Purchase_Datetime, Product_ID, Category, Sub_Category, Product_Name, Unit_Price, Quantity, Sales, Payment_Method, Online, Shipping_Address, Shipping_Method, Product_URL]\n",
       "Index: []"
      ]
     },
     "execution_count": 119,
     "metadata": {},
     "output_type": "execute_result"
    }
   ],
   "source": [
    "df5.loc[df5[\"Shipping_Address\"] == \"\"].head()"
   ]
  },
  {
   "cell_type": "markdown",
   "metadata": {},
   "source": [
    "I also do want some addresses to show up multiple times. So, I'm going to save some addresses in a set and then distribute them over the records (online) in the DF. Say 1 dupes every 4 addresses."
   ]
  },
  {
   "cell_type": "code",
   "execution_count": 120,
   "metadata": {},
   "outputs": [
    {
     "data": {
      "text/plain": [
       "912"
      ]
     },
     "execution_count": 120,
     "metadata": {},
     "output_type": "execute_result"
    }
   ],
   "source": [
    "# to calculate how many records\n",
    "df5[\"Online\"].value_counts()[1]"
   ]
  },
  {
   "cell_type": "code",
   "execution_count": 121,
   "metadata": {},
   "outputs": [
    {
     "data": {
      "text/plain": [
       "228"
      ]
     },
     "execution_count": 121,
     "metadata": {},
     "output_type": "execute_result"
    }
   ],
   "source": [
    "# to calculate how many different addresses to generate\n",
    "np.uint8(np.ceil(df5[\"Online\"].value_counts()[1] / 4))"
   ]
  },
  {
   "cell_type": "code",
   "execution_count": 122,
   "metadata": {},
   "outputs": [],
   "source": [
    "def gen_addr():\n",
    "    addrs = []\n",
    "    count = np.uint8(np.ceil(df5[\"Online\"].value_counts()[1] / 4))\n",
    "    for _ in range(count):\n",
    "        addr = \" \".join(fake.address().split(\"\\n\"))\n",
    "        while \"Box\" in addr or \"FPO\" in addr:\n",
    "            addr = \" \".join(fake.address().split(\"\\n\"))\n",
    "        addrs.append(addr)\n",
    "    return addrs\n",
    "addresses = gen_addr()"
   ]
  },
  {
   "cell_type": "code",
   "execution_count": 123,
   "metadata": {},
   "outputs": [],
   "source": [
    "def gen_addr(row):\n",
    "    return random.choice(addresses) if row[\"Online\"] else \"\""
   ]
  },
  {
   "cell_type": "code",
   "execution_count": 124,
   "metadata": {},
   "outputs": [],
   "source": [
    "df5[\"Shipping_Address\"] = df5.apply(lambda x: gen_addr(x), axis=1)"
   ]
  },
  {
   "cell_type": "code",
   "execution_count": 125,
   "metadata": {},
   "outputs": [
    {
     "data": {
      "text/html": [
       "<div>\n",
       "<style scoped>\n",
       "    .dataframe tbody tr th:only-of-type {\n",
       "        vertical-align: middle;\n",
       "    }\n",
       "\n",
       "    .dataframe tbody tr th {\n",
       "        vertical-align: top;\n",
       "    }\n",
       "\n",
       "    .dataframe thead th {\n",
       "        text-align: right;\n",
       "    }\n",
       "</style>\n",
       "<table border=\"1\" class=\"dataframe\">\n",
       "  <thead>\n",
       "    <tr style=\"text-align: right;\">\n",
       "      <th></th>\n",
       "      <th>Purchase_ID</th>\n",
       "      <th>Purchase_Datetime</th>\n",
       "      <th>Product_ID</th>\n",
       "      <th>Category</th>\n",
       "      <th>Sub_Category</th>\n",
       "      <th>Product_Name</th>\n",
       "      <th>Unit_Price</th>\n",
       "      <th>Quantity</th>\n",
       "      <th>Sales</th>\n",
       "      <th>Payment_Method</th>\n",
       "      <th>Online</th>\n",
       "      <th>Shipping_Address</th>\n",
       "      <th>Shipping_Method</th>\n",
       "      <th>Product_URL</th>\n",
       "    </tr>\n",
       "  </thead>\n",
       "  <tbody>\n",
       "    <tr>\n",
       "      <th>3</th>\n",
       "      <td>210O20200305225756148</td>\n",
       "      <td>2020-03-05 22:57:56</td>\n",
       "      <td>E-P-06BB0F1A9C0B</td>\n",
       "      <td>Electronics</td>\n",
       "      <td>Phones</td>\n",
       "      <td>Apple iPhone 5</td>\n",
       "      <td>649.83</td>\n",
       "      <td>2</td>\n",
       "      <td>1299.66</td>\n",
       "      <td>Visa</td>\n",
       "      <td>True</td>\n",
       "      <td>488 Ross Knolls New Cynthiashire, IN 57576</td>\n",
       "      <td>NaN</td>\n",
       "      <td>NaN</td>\n",
       "    </tr>\n",
       "    <tr>\n",
       "      <th>4</th>\n",
       "      <td>514O20200703152043999</td>\n",
       "      <td>2020-07-03 15:20:43</td>\n",
       "      <td>E-A-2252DB4688C6</td>\n",
       "      <td>Electronics</td>\n",
       "      <td>Accessories</td>\n",
       "      <td>SanDisk Cruzer 64 GB USB Flash Drive</td>\n",
       "      <td>36.32</td>\n",
       "      <td>2</td>\n",
       "      <td>72.64</td>\n",
       "      <td>Discover</td>\n",
       "      <td>True</td>\n",
       "      <td>0892 Thomas Track Suite 119 North Mark, GA 52991</td>\n",
       "      <td>NaN</td>\n",
       "      <td>NaN</td>\n",
       "    </tr>\n",
       "    <tr>\n",
       "      <th>5</th>\n",
       "      <td>672O20200428055718472</td>\n",
       "      <td>2020-04-28 05:57:18</td>\n",
       "      <td>E-A-91E63EDED439</td>\n",
       "      <td>Electronics</td>\n",
       "      <td>Accessories</td>\n",
       "      <td>Logitech Wireless Boombox Speaker - portable -...</td>\n",
       "      <td>106.4</td>\n",
       "      <td>2</td>\n",
       "      <td>212.80</td>\n",
       "      <td>Discover</td>\n",
       "      <td>True</td>\n",
       "      <td>981 Linda Plains Apt. 504 East Brandontown, MA...</td>\n",
       "      <td>NaN</td>\n",
       "      <td>NaN</td>\n",
       "    </tr>\n",
       "    <tr>\n",
       "      <th>6</th>\n",
       "      <td>856O20200616225341793</td>\n",
       "      <td>2020-06-16 22:53:41</td>\n",
       "      <td>E-M-514AFA771511</td>\n",
       "      <td>Electronics</td>\n",
       "      <td>Machines</td>\n",
       "      <td>Okidata B400 Printer</td>\n",
       "      <td>343.2</td>\n",
       "      <td>1</td>\n",
       "      <td>343.20</td>\n",
       "      <td>AMEX</td>\n",
       "      <td>True</td>\n",
       "      <td>52514 Kevin Springs Apt. 544 Adrianview, DC 17812</td>\n",
       "      <td>NaN</td>\n",
       "      <td>NaN</td>\n",
       "    </tr>\n",
       "    <tr>\n",
       "      <th>8</th>\n",
       "      <td>532O20200926092642232</td>\n",
       "      <td>2020-09-26 09:26:42</td>\n",
       "      <td>E-P-EC919031AC36</td>\n",
       "      <td>Electronics</td>\n",
       "      <td>Phones</td>\n",
       "      <td>Wilson Electronics DB Pro Signal Booster</td>\n",
       "      <td>286.4</td>\n",
       "      <td>3</td>\n",
       "      <td>859.20</td>\n",
       "      <td>MasterCard</td>\n",
       "      <td>True</td>\n",
       "      <td>682 Kathy Dale Apt. 888 Lozanoburgh, NY 35770</td>\n",
       "      <td>NaN</td>\n",
       "      <td>NaN</td>\n",
       "    </tr>\n",
       "  </tbody>\n",
       "</table>\n",
       "</div>"
      ],
      "text/plain": [
       "             Purchase_ID   Purchase_Datetime        Product_ID     Category  \\\n",
       "3  210O20200305225756148 2020-03-05 22:57:56  E-P-06BB0F1A9C0B  Electronics   \n",
       "4  514O20200703152043999 2020-07-03 15:20:43  E-A-2252DB4688C6  Electronics   \n",
       "5  672O20200428055718472 2020-04-28 05:57:18  E-A-91E63EDED439  Electronics   \n",
       "6  856O20200616225341793 2020-06-16 22:53:41  E-M-514AFA771511  Electronics   \n",
       "8  532O20200926092642232 2020-09-26 09:26:42  E-P-EC919031AC36  Electronics   \n",
       "\n",
       "  Sub_Category                                       Product_Name Unit_Price  \\\n",
       "3       Phones                                     Apple iPhone 5     649.83   \n",
       "4  Accessories               SanDisk Cruzer 64 GB USB Flash Drive      36.32   \n",
       "5  Accessories  Logitech Wireless Boombox Speaker - portable -...      106.4   \n",
       "6     Machines                               Okidata B400 Printer      343.2   \n",
       "8       Phones           Wilson Electronics DB Pro Signal Booster      286.4   \n",
       "\n",
       "  Quantity    Sales Payment_Method  Online  \\\n",
       "3        2  1299.66           Visa    True   \n",
       "4        2    72.64       Discover    True   \n",
       "5        2   212.80       Discover    True   \n",
       "6        1   343.20           AMEX    True   \n",
       "8        3   859.20     MasterCard    True   \n",
       "\n",
       "                                    Shipping_Address Shipping_Method  \\\n",
       "3         488 Ross Knolls New Cynthiashire, IN 57576             NaN   \n",
       "4   0892 Thomas Track Suite 119 North Mark, GA 52991             NaN   \n",
       "5  981 Linda Plains Apt. 504 East Brandontown, MA...             NaN   \n",
       "6  52514 Kevin Springs Apt. 544 Adrianview, DC 17812             NaN   \n",
       "8      682 Kathy Dale Apt. 888 Lozanoburgh, NY 35770             NaN   \n",
       "\n",
       "  Product_URL  \n",
       "3         NaN  \n",
       "4         NaN  \n",
       "5         NaN  \n",
       "6         NaN  \n",
       "8         NaN  "
      ]
     },
     "execution_count": 125,
     "metadata": {},
     "output_type": "execute_result"
    }
   ],
   "source": [
    "df5.loc[df5[\"Online\"]].head()"
   ]
  },
  {
   "cell_type": "markdown",
   "metadata": {},
   "source": [
    "*Shipping_Method*<br>\n",
    "Available: Local Pickup, Standard Shipping, Overnight<br>\n",
    "Overnight method from 449.99"
   ]
  },
  {
   "cell_type": "code",
   "execution_count": 126,
   "metadata": {},
   "outputs": [],
   "source": [
    "ship_methods = {\"Local Pickup\", \"Standard Shipping\", \"Overnight\"}"
   ]
  },
  {
   "cell_type": "code",
   "execution_count": 127,
   "metadata": {},
   "outputs": [],
   "source": [
    "def set_ship_method(row):\n",
    "    if not row[\"Online\"]:\n",
    "        return \"\"\n",
    "    elif row['Sales'] >= 66.99 and row['Sales'] < 449.99:\n",
    "        return (random.choices([\"Local Pickup\", \"Standard Shipping\"], weights=[.3, .7]))[0]\n",
    "    elif row[\"Sales\"] >= 449.99:\n",
    "        return (random.choices(list(ship_methods), weights=[.1, .6, .3]))[0]"
   ]
  },
  {
   "cell_type": "code",
   "execution_count": 128,
   "metadata": {},
   "outputs": [],
   "source": [
    "df5[\"Shipping_Method\"] = df5.apply(lambda x: set_ship_method(x), axis=1)"
   ]
  },
  {
   "cell_type": "code",
   "execution_count": 129,
   "metadata": {},
   "outputs": [
    {
     "data": {
      "text/html": [
       "<div>\n",
       "<style scoped>\n",
       "    .dataframe tbody tr th:only-of-type {\n",
       "        vertical-align: middle;\n",
       "    }\n",
       "\n",
       "    .dataframe tbody tr th {\n",
       "        vertical-align: top;\n",
       "    }\n",
       "\n",
       "    .dataframe thead th {\n",
       "        text-align: right;\n",
       "    }\n",
       "</style>\n",
       "<table border=\"1\" class=\"dataframe\">\n",
       "  <thead>\n",
       "    <tr style=\"text-align: right;\">\n",
       "      <th></th>\n",
       "      <th>Purchase_ID</th>\n",
       "      <th>Purchase_Datetime</th>\n",
       "      <th>Product_ID</th>\n",
       "      <th>Category</th>\n",
       "      <th>Sub_Category</th>\n",
       "      <th>Product_Name</th>\n",
       "      <th>Unit_Price</th>\n",
       "      <th>Quantity</th>\n",
       "      <th>Sales</th>\n",
       "      <th>Payment_Method</th>\n",
       "      <th>Online</th>\n",
       "      <th>Shipping_Address</th>\n",
       "      <th>Shipping_Method</th>\n",
       "      <th>Product_URL</th>\n",
       "    </tr>\n",
       "  </thead>\n",
       "  <tbody>\n",
       "    <tr>\n",
       "      <th>3</th>\n",
       "      <td>210O20200305225756148</td>\n",
       "      <td>2020-03-05 22:57:56</td>\n",
       "      <td>E-P-06BB0F1A9C0B</td>\n",
       "      <td>Electronics</td>\n",
       "      <td>Phones</td>\n",
       "      <td>Apple iPhone 5</td>\n",
       "      <td>649.83</td>\n",
       "      <td>2</td>\n",
       "      <td>1299.66</td>\n",
       "      <td>Visa</td>\n",
       "      <td>True</td>\n",
       "      <td>488 Ross Knolls New Cynthiashire, IN 57576</td>\n",
       "      <td>Overnight</td>\n",
       "      <td>NaN</td>\n",
       "    </tr>\n",
       "    <tr>\n",
       "      <th>4</th>\n",
       "      <td>514O20200703152043999</td>\n",
       "      <td>2020-07-03 15:20:43</td>\n",
       "      <td>E-A-2252DB4688C6</td>\n",
       "      <td>Electronics</td>\n",
       "      <td>Accessories</td>\n",
       "      <td>SanDisk Cruzer 64 GB USB Flash Drive</td>\n",
       "      <td>36.32</td>\n",
       "      <td>2</td>\n",
       "      <td>72.64</td>\n",
       "      <td>Discover</td>\n",
       "      <td>True</td>\n",
       "      <td>0892 Thomas Track Suite 119 North Mark, GA 52991</td>\n",
       "      <td>Local Pickup</td>\n",
       "      <td>NaN</td>\n",
       "    </tr>\n",
       "    <tr>\n",
       "      <th>5</th>\n",
       "      <td>672O20200428055718472</td>\n",
       "      <td>2020-04-28 05:57:18</td>\n",
       "      <td>E-A-91E63EDED439</td>\n",
       "      <td>Electronics</td>\n",
       "      <td>Accessories</td>\n",
       "      <td>Logitech Wireless Boombox Speaker - portable -...</td>\n",
       "      <td>106.4</td>\n",
       "      <td>2</td>\n",
       "      <td>212.80</td>\n",
       "      <td>Discover</td>\n",
       "      <td>True</td>\n",
       "      <td>981 Linda Plains Apt. 504 East Brandontown, MA...</td>\n",
       "      <td>Standard Shipping</td>\n",
       "      <td>NaN</td>\n",
       "    </tr>\n",
       "    <tr>\n",
       "      <th>6</th>\n",
       "      <td>856O20200616225341793</td>\n",
       "      <td>2020-06-16 22:53:41</td>\n",
       "      <td>E-M-514AFA771511</td>\n",
       "      <td>Electronics</td>\n",
       "      <td>Machines</td>\n",
       "      <td>Okidata B400 Printer</td>\n",
       "      <td>343.2</td>\n",
       "      <td>1</td>\n",
       "      <td>343.20</td>\n",
       "      <td>AMEX</td>\n",
       "      <td>True</td>\n",
       "      <td>52514 Kevin Springs Apt. 544 Adrianview, DC 17812</td>\n",
       "      <td>Standard Shipping</td>\n",
       "      <td>NaN</td>\n",
       "    </tr>\n",
       "    <tr>\n",
       "      <th>8</th>\n",
       "      <td>532O20200926092642232</td>\n",
       "      <td>2020-09-26 09:26:42</td>\n",
       "      <td>E-P-EC919031AC36</td>\n",
       "      <td>Electronics</td>\n",
       "      <td>Phones</td>\n",
       "      <td>Wilson Electronics DB Pro Signal Booster</td>\n",
       "      <td>286.4</td>\n",
       "      <td>3</td>\n",
       "      <td>859.20</td>\n",
       "      <td>MasterCard</td>\n",
       "      <td>True</td>\n",
       "      <td>682 Kathy Dale Apt. 888 Lozanoburgh, NY 35770</td>\n",
       "      <td>Local Pickup</td>\n",
       "      <td>NaN</td>\n",
       "    </tr>\n",
       "  </tbody>\n",
       "</table>\n",
       "</div>"
      ],
      "text/plain": [
       "             Purchase_ID   Purchase_Datetime        Product_ID     Category  \\\n",
       "3  210O20200305225756148 2020-03-05 22:57:56  E-P-06BB0F1A9C0B  Electronics   \n",
       "4  514O20200703152043999 2020-07-03 15:20:43  E-A-2252DB4688C6  Electronics   \n",
       "5  672O20200428055718472 2020-04-28 05:57:18  E-A-91E63EDED439  Electronics   \n",
       "6  856O20200616225341793 2020-06-16 22:53:41  E-M-514AFA771511  Electronics   \n",
       "8  532O20200926092642232 2020-09-26 09:26:42  E-P-EC919031AC36  Electronics   \n",
       "\n",
       "  Sub_Category                                       Product_Name Unit_Price  \\\n",
       "3       Phones                                     Apple iPhone 5     649.83   \n",
       "4  Accessories               SanDisk Cruzer 64 GB USB Flash Drive      36.32   \n",
       "5  Accessories  Logitech Wireless Boombox Speaker - portable -...      106.4   \n",
       "6     Machines                               Okidata B400 Printer      343.2   \n",
       "8       Phones           Wilson Electronics DB Pro Signal Booster      286.4   \n",
       "\n",
       "  Quantity    Sales Payment_Method  Online  \\\n",
       "3        2  1299.66           Visa    True   \n",
       "4        2    72.64       Discover    True   \n",
       "5        2   212.80       Discover    True   \n",
       "6        1   343.20           AMEX    True   \n",
       "8        3   859.20     MasterCard    True   \n",
       "\n",
       "                                    Shipping_Address    Shipping_Method  \\\n",
       "3         488 Ross Knolls New Cynthiashire, IN 57576          Overnight   \n",
       "4   0892 Thomas Track Suite 119 North Mark, GA 52991       Local Pickup   \n",
       "5  981 Linda Plains Apt. 504 East Brandontown, MA...  Standard Shipping   \n",
       "6  52514 Kevin Springs Apt. 544 Adrianview, DC 17812  Standard Shipping   \n",
       "8      682 Kathy Dale Apt. 888 Lozanoburgh, NY 35770       Local Pickup   \n",
       "\n",
       "  Product_URL  \n",
       "3         NaN  \n",
       "4         NaN  \n",
       "5         NaN  \n",
       "6         NaN  \n",
       "8         NaN  "
      ]
     },
     "execution_count": 129,
     "metadata": {},
     "output_type": "execute_result"
    }
   ],
   "source": [
    "df5.loc[df5[\"Online\"]].head()"
   ]
  },
  {
   "cell_type": "markdown",
   "metadata": {},
   "source": [
    "We'll have to add a Shipping_Fee feature, and therefore a Total one which will be the sum of Sales and Shipping_Fee.<br>\n",
    "But for now let's just focus on quantity and sales."
   ]
  },
  {
   "cell_type": "markdown",
   "metadata": {},
   "source": [
    "*Quantity*<br>\n",
    "Consideration: most expensive products are less likely to be purchased in multiples<br>\n",
    "And given that we already have the prices we can just go and randomly set a quantity, say between 1 and 5, ranging from cheapest to most expensive products."
   ]
  },
  {
   "cell_type": "markdown",
   "metadata": {},
   "source": [
    "Let's first convert the Unit_Price column to float"
   ]
  },
  {
   "cell_type": "code",
   "execution_count": 130,
   "metadata": {},
   "outputs": [],
   "source": [
    "df5[\"Unit_Price\"] = df5[\"Unit_Price\"].astype(np.float64)\n",
    "# and round the values\n",
    "df5[\"Unit_Price\"] = df5[\"Unit_Price\"].apply(lambda x: round(x, 2))"
   ]
  },
  {
   "cell_type": "code",
   "execution_count": 131,
   "metadata": {},
   "outputs": [
    {
     "name": "stdout",
     "output_type": "stream",
     "text": [
      "<class 'pandas.core.frame.DataFrame'>\n",
      "RangeIndex: 4026 entries, 0 to 4025\n",
      "Data columns (total 14 columns):\n",
      " #   Column             Non-Null Count  Dtype         \n",
      "---  ------             --------------  -----         \n",
      " 0   Purchase_ID        4026 non-null   object        \n",
      " 1   Purchase_Datetime  4026 non-null   datetime64[ns]\n",
      " 2   Product_ID         4026 non-null   object        \n",
      " 3   Category           4026 non-null   object        \n",
      " 4   Sub_Category       4026 non-null   object        \n",
      " 5   Product_Name       4026 non-null   object        \n",
      " 6   Unit_Price         4026 non-null   float64       \n",
      " 7   Quantity           4026 non-null   object        \n",
      " 8   Sales              4026 non-null   float64       \n",
      " 9   Payment_Method     2626 non-null   object        \n",
      " 10  Online             4026 non-null   bool          \n",
      " 11  Shipping_Address   4026 non-null   object        \n",
      " 12  Shipping_Method    4026 non-null   object        \n",
      " 13  Product_URL        1400 non-null   object        \n",
      "dtypes: bool(1), datetime64[ns](1), float64(2), object(10)\n",
      "memory usage: 412.9+ KB\n"
     ]
    }
   ],
   "source": [
    "df5.info()"
   ]
  },
  {
   "cell_type": "code",
   "execution_count": 132,
   "metadata": {},
   "outputs": [
    {
     "data": {
      "text/plain": [
       "Quantity\n",
       "1     43.556693\n",
       "2     58.942680\n",
       "3     51.987424\n",
       "4     76.967231\n",
       "5     48.868366\n",
       "6     39.427919\n",
       "7     40.066173\n",
       "8     44.844074\n",
       "9     44.840313\n",
       "10    18.353333\n",
       "11    57.201111\n",
       "12    54.543333\n",
       "13    80.880000\n",
       "14    37.841429\n",
       "Name: Unit_Price, dtype: float64"
      ]
     },
     "execution_count": 132,
     "metadata": {},
     "output_type": "execute_result"
    }
   ],
   "source": [
    "df5.loc[df5[\"Sales\"] > 0.00].groupby([\"Quantity\"]).mean()[\"Unit_Price\"]"
   ]
  },
  {
   "cell_type": "markdown",
   "metadata": {},
   "source": [
    "So what this [above] basically shows us is the mean unit price for products by quantity"
   ]
  },
  {
   "cell_type": "markdown",
   "metadata": {},
   "source": [
    "Let's create a new temp DF to keep track of those results"
   ]
  },
  {
   "cell_type": "code",
   "execution_count": 133,
   "metadata": {},
   "outputs": [
    {
     "data": {
      "text/html": [
       "<div>\n",
       "<style scoped>\n",
       "    .dataframe tbody tr th:only-of-type {\n",
       "        vertical-align: middle;\n",
       "    }\n",
       "\n",
       "    .dataframe tbody tr th {\n",
       "        vertical-align: top;\n",
       "    }\n",
       "\n",
       "    .dataframe thead th {\n",
       "        text-align: right;\n",
       "    }\n",
       "</style>\n",
       "<table border=\"1\" class=\"dataframe\">\n",
       "  <thead>\n",
       "    <tr style=\"text-align: right;\">\n",
       "      <th></th>\n",
       "      <th>count</th>\n",
       "      <th>mean</th>\n",
       "      <th>std</th>\n",
       "      <th>min</th>\n",
       "      <th>25%</th>\n",
       "      <th>50%</th>\n",
       "      <th>75%</th>\n",
       "      <th>max</th>\n",
       "    </tr>\n",
       "    <tr>\n",
       "      <th>Quantity</th>\n",
       "      <th></th>\n",
       "      <th></th>\n",
       "      <th></th>\n",
       "      <th></th>\n",
       "      <th></th>\n",
       "      <th></th>\n",
       "      <th></th>\n",
       "      <th></th>\n",
       "    </tr>\n",
       "  </thead>\n",
       "  <tbody>\n",
       "    <tr>\n",
       "      <th>1</th>\n",
       "      <td>257.0</td>\n",
       "      <td>43.556693</td>\n",
       "      <td>96.405231</td>\n",
       "      <td>0.44</td>\n",
       "      <td>5.3400</td>\n",
       "      <td>12.590</td>\n",
       "      <td>40.9900</td>\n",
       "      <td>1039.99</td>\n",
       "    </tr>\n",
       "    <tr>\n",
       "      <th>2</th>\n",
       "      <td>597.0</td>\n",
       "      <td>58.942680</td>\n",
       "      <td>155.696377</td>\n",
       "      <td>0.54</td>\n",
       "      <td>4.8900</td>\n",
       "      <td>12.000</td>\n",
       "      <td>48.5800</td>\n",
       "      <td>2399.99</td>\n",
       "    </tr>\n",
       "    <tr>\n",
       "      <th>3</th>\n",
       "      <td>590.0</td>\n",
       "      <td>51.987424</td>\n",
       "      <td>166.918509</td>\n",
       "      <td>0.42</td>\n",
       "      <td>4.8075</td>\n",
       "      <td>12.495</td>\n",
       "      <td>45.4800</td>\n",
       "      <td>3499.99</td>\n",
       "    </tr>\n",
       "    <tr>\n",
       "      <th>4</th>\n",
       "      <td>325.0</td>\n",
       "      <td>76.967231</td>\n",
       "      <td>296.784095</td>\n",
       "      <td>0.58</td>\n",
       "      <td>5.1800</td>\n",
       "      <td>13.580</td>\n",
       "      <td>48.7800</td>\n",
       "      <td>3499.99</td>\n",
       "    </tr>\n",
       "    <tr>\n",
       "      <th>5</th>\n",
       "      <td>361.0</td>\n",
       "      <td>48.868366</td>\n",
       "      <td>110.760264</td>\n",
       "      <td>0.34</td>\n",
       "      <td>4.7700</td>\n",
       "      <td>12.880</td>\n",
       "      <td>39.9900</td>\n",
       "      <td>1016.79</td>\n",
       "    </tr>\n",
       "    <tr>\n",
       "      <th>6</th>\n",
       "      <td>149.0</td>\n",
       "      <td>39.427919</td>\n",
       "      <td>97.832067</td>\n",
       "      <td>1.11</td>\n",
       "      <td>4.8100</td>\n",
       "      <td>10.390</td>\n",
       "      <td>25.9800</td>\n",
       "      <td>717.59</td>\n",
       "    </tr>\n",
       "    <tr>\n",
       "      <th>7</th>\n",
       "      <td>162.0</td>\n",
       "      <td>40.066173</td>\n",
       "      <td>82.807975</td>\n",
       "      <td>0.59</td>\n",
       "      <td>5.0000</td>\n",
       "      <td>11.605</td>\n",
       "      <td>37.4775</td>\n",
       "      <td>666.25</td>\n",
       "    </tr>\n",
       "    <tr>\n",
       "      <th>8</th>\n",
       "      <td>81.0</td>\n",
       "      <td>44.844074</td>\n",
       "      <td>71.011750</td>\n",
       "      <td>1.19</td>\n",
       "      <td>4.5800</td>\n",
       "      <td>11.960</td>\n",
       "      <td>55.6800</td>\n",
       "      <td>300.65</td>\n",
       "    </tr>\n",
       "    <tr>\n",
       "      <th>9</th>\n",
       "      <td>64.0</td>\n",
       "      <td>44.840312</td>\n",
       "      <td>73.737722</td>\n",
       "      <td>0.36</td>\n",
       "      <td>4.3700</td>\n",
       "      <td>10.025</td>\n",
       "      <td>38.5775</td>\n",
       "      <td>310.39</td>\n",
       "    </tr>\n",
       "    <tr>\n",
       "      <th>10</th>\n",
       "      <td>15.0</td>\n",
       "      <td>18.353333</td>\n",
       "      <td>28.868904</td>\n",
       "      <td>1.11</td>\n",
       "      <td>2.6750</td>\n",
       "      <td>8.390</td>\n",
       "      <td>15.4800</td>\n",
       "      <td>109.95</td>\n",
       "    </tr>\n",
       "    <tr>\n",
       "      <th>11</th>\n",
       "      <td>9.0</td>\n",
       "      <td>57.201111</td>\n",
       "      <td>64.712281</td>\n",
       "      <td>6.23</td>\n",
       "      <td>13.9800</td>\n",
       "      <td>33.560</td>\n",
       "      <td>51.1800</td>\n",
       "      <td>179.99</td>\n",
       "    </tr>\n",
       "    <tr>\n",
       "      <th>12</th>\n",
       "      <td>3.0</td>\n",
       "      <td>54.543333</td>\n",
       "      <td>58.831310</td>\n",
       "      <td>6.98</td>\n",
       "      <td>21.6500</td>\n",
       "      <td>36.320</td>\n",
       "      <td>78.3250</td>\n",
       "      <td>120.33</td>\n",
       "    </tr>\n",
       "    <tr>\n",
       "      <th>13</th>\n",
       "      <td>6.0</td>\n",
       "      <td>80.880000</td>\n",
       "      <td>134.872282</td>\n",
       "      <td>1.04</td>\n",
       "      <td>3.4525</td>\n",
       "      <td>7.055</td>\n",
       "      <td>100.6800</td>\n",
       "      <td>335.99</td>\n",
       "    </tr>\n",
       "    <tr>\n",
       "      <th>14</th>\n",
       "      <td>7.0</td>\n",
       "      <td>37.841429</td>\n",
       "      <td>46.478560</td>\n",
       "      <td>0.98</td>\n",
       "      <td>3.6900</td>\n",
       "      <td>15.970</td>\n",
       "      <td>59.4900</td>\n",
       "      <td>121.58</td>\n",
       "    </tr>\n",
       "  </tbody>\n",
       "</table>\n",
       "</div>"
      ],
      "text/plain": [
       "          count       mean         std   min      25%     50%       75%  \\\n",
       "Quantity                                                                  \n",
       "1         257.0  43.556693   96.405231  0.44   5.3400  12.590   40.9900   \n",
       "2         597.0  58.942680  155.696377  0.54   4.8900  12.000   48.5800   \n",
       "3         590.0  51.987424  166.918509  0.42   4.8075  12.495   45.4800   \n",
       "4         325.0  76.967231  296.784095  0.58   5.1800  13.580   48.7800   \n",
       "5         361.0  48.868366  110.760264  0.34   4.7700  12.880   39.9900   \n",
       "6         149.0  39.427919   97.832067  1.11   4.8100  10.390   25.9800   \n",
       "7         162.0  40.066173   82.807975  0.59   5.0000  11.605   37.4775   \n",
       "8          81.0  44.844074   71.011750  1.19   4.5800  11.960   55.6800   \n",
       "9          64.0  44.840312   73.737722  0.36   4.3700  10.025   38.5775   \n",
       "10         15.0  18.353333   28.868904  1.11   2.6750   8.390   15.4800   \n",
       "11          9.0  57.201111   64.712281  6.23  13.9800  33.560   51.1800   \n",
       "12          3.0  54.543333   58.831310  6.98  21.6500  36.320   78.3250   \n",
       "13          6.0  80.880000  134.872282  1.04   3.4525   7.055  100.6800   \n",
       "14          7.0  37.841429   46.478560  0.98   3.6900  15.970   59.4900   \n",
       "\n",
       "              max  \n",
       "Quantity           \n",
       "1         1039.99  \n",
       "2         2399.99  \n",
       "3         3499.99  \n",
       "4         3499.99  \n",
       "5         1016.79  \n",
       "6          717.59  \n",
       "7          666.25  \n",
       "8          300.65  \n",
       "9          310.39  \n",
       "10         109.95  \n",
       "11         179.99  \n",
       "12         120.33  \n",
       "13         335.99  \n",
       "14         121.58  "
      ]
     },
     "execution_count": 133,
     "metadata": {},
     "output_type": "execute_result"
    }
   ],
   "source": [
    "df_q = df5.loc[df5[\"Sales\"] > 0.00].groupby([\"Quantity\"]).describe()[\"Unit_Price\"]\n",
    "df_q"
   ]
  },
  {
   "cell_type": "code",
   "execution_count": 134,
   "metadata": {},
   "outputs": [
    {
     "data": {
      "text/plain": [
       "count     210.026267\n",
       "mean       15.915205\n",
       "std        67.833886\n",
       "min         2.161868\n",
       "25%         5.128511\n",
       "50%         8.775126\n",
       "75%        21.018347\n",
       "max      1210.887010\n",
       "dtype: float64"
      ]
     },
     "execution_count": 134,
     "metadata": {},
     "output_type": "execute_result"
    }
   ],
   "source": [
    "df_q.std()"
   ]
  },
  {
   "cell_type": "code",
   "execution_count": 135,
   "metadata": {},
   "outputs": [
    {
     "data": {
      "text/plain": [
       "{1: 96.41,\n",
       " 2: 155.7,\n",
       " 3: 166.92,\n",
       " 4: 296.78,\n",
       " 5: 110.76,\n",
       " 6: 97.83,\n",
       " 7: 82.81,\n",
       " 8: 71.01,\n",
       " 9: 73.74,\n",
       " 10: 28.87,\n",
       " 11: 64.71,\n",
       " 12: 58.83,\n",
       " 13: 134.87,\n",
       " 14: 46.48}"
      ]
     },
     "execution_count": 135,
     "metadata": {},
     "output_type": "execute_result"
    }
   ],
   "source": [
    "price_qty_tag = {idx: round(val, 2) for idx, val in enumerate(df_q[\"std\"].tolist(), start=1)}\n",
    "price_qty_tag"
   ]
  },
  {
   "cell_type": "code",
   "execution_count": 136,
   "metadata": {},
   "outputs": [
    {
     "data": {
      "text/html": [
       "<div>\n",
       "<style scoped>\n",
       "    .dataframe tbody tr th:only-of-type {\n",
       "        vertical-align: middle;\n",
       "    }\n",
       "\n",
       "    .dataframe tbody tr th {\n",
       "        vertical-align: top;\n",
       "    }\n",
       "\n",
       "    .dataframe thead th {\n",
       "        text-align: right;\n",
       "    }\n",
       "</style>\n",
       "<table border=\"1\" class=\"dataframe\">\n",
       "  <thead>\n",
       "    <tr style=\"text-align: right;\">\n",
       "      <th></th>\n",
       "      <th>Product_Name</th>\n",
       "      <th>Quantity</th>\n",
       "    </tr>\n",
       "  </thead>\n",
       "  <tbody>\n",
       "    <tr>\n",
       "      <th>0</th>\n",
       "      <td>Easy-staple paper</td>\n",
       "      <td>16</td>\n",
       "    </tr>\n",
       "    <tr>\n",
       "      <th>1</th>\n",
       "      <td>Staples</td>\n",
       "      <td>15</td>\n",
       "    </tr>\n",
       "    <tr>\n",
       "      <th>2</th>\n",
       "      <td>Staples in misc. colors</td>\n",
       "      <td>12</td>\n",
       "    </tr>\n",
       "    <tr>\n",
       "      <th>3</th>\n",
       "      <td>Staple envelope</td>\n",
       "      <td>11</td>\n",
       "    </tr>\n",
       "    <tr>\n",
       "      <th>4</th>\n",
       "      <td>Storex Dura Pro Binders</td>\n",
       "      <td>8</td>\n",
       "    </tr>\n",
       "    <tr>\n",
       "      <th>...</th>\n",
       "      <td>...</td>\n",
       "      <td>...</td>\n",
       "    </tr>\n",
       "    <tr>\n",
       "      <th>1187</th>\n",
       "      <td>Quality Park Security Envelopes</td>\n",
       "      <td>1</td>\n",
       "    </tr>\n",
       "    <tr>\n",
       "      <th>1188</th>\n",
       "      <td>Decoflex Hanging Personal Folder File</td>\n",
       "      <td>1</td>\n",
       "    </tr>\n",
       "    <tr>\n",
       "      <th>1189</th>\n",
       "      <td>PureGear Roll-On Screen Protector</td>\n",
       "      <td>1</td>\n",
       "    </tr>\n",
       "    <tr>\n",
       "      <th>1190</th>\n",
       "      <td>Project Tote Personal File</td>\n",
       "      <td>1</td>\n",
       "    </tr>\n",
       "    <tr>\n",
       "      <th>1191</th>\n",
       "      <td>netTALK DUO VoIP Telephone Service</td>\n",
       "      <td>1</td>\n",
       "    </tr>\n",
       "  </tbody>\n",
       "</table>\n",
       "<p>1192 rows × 2 columns</p>\n",
       "</div>"
      ],
      "text/plain": [
       "                               Product_Name  Quantity\n",
       "0                         Easy-staple paper        16\n",
       "1                                   Staples        15\n",
       "2                   Staples in misc. colors        12\n",
       "3                           Staple envelope        11\n",
       "4                   Storex Dura Pro Binders         8\n",
       "...                                     ...       ...\n",
       "1187        Quality Park Security Envelopes         1\n",
       "1188  Decoflex Hanging Personal Folder File         1\n",
       "1189      PureGear Roll-On Screen Protector         1\n",
       "1190             Project Tote Personal File         1\n",
       "1191     netTALK DUO VoIP Telephone Service         1\n",
       "\n",
       "[1192 rows x 2 columns]"
      ]
     },
     "execution_count": 136,
     "metadata": {},
     "output_type": "execute_result"
    }
   ],
   "source": [
    "df5.loc[df5[\"Sales\"] > 0.00].groupby([\"Product_Name\"]).count()[\"Quantity\"].sort_values(ascending=False).reset_index()"
   ]
  }
 ],
 "metadata": {
  "interpreter": {
   "hash": "916dbcbb3f70747c44a77c7bcd40155683ae19c65e1c03b4aa3499c5328201f1"
  },
  "kernelspec": {
   "display_name": "Python 3.10.4 64-bit",
   "language": "python",
   "name": "python3"
  },
  "language_info": {
   "codemirror_mode": {
    "name": "ipython",
    "version": 3
   },
   "file_extension": ".py",
   "mimetype": "text/x-python",
   "name": "python",
   "nbconvert_exporter": "python",
   "pygments_lexer": "ipython3",
   "version": "3.10.4"
  },
  "orig_nbformat": 4
 },
 "nbformat": 4,
 "nbformat_minor": 2
}
