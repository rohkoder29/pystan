{
 "cells": [
  {
   "cell_type": "markdown",
   "metadata": {},
   "source": [
    "#### Imports & Set-Up"
   ]
  },
  {
   "cell_type": "code",
   "execution_count": 34,
   "metadata": {},
   "outputs": [
    {
     "data": {
      "text/html": [
       "        <script type=\"text/javascript\">\n",
       "        window.PlotlyConfig = {MathJaxConfig: 'local'};\n",
       "        if (window.MathJax && window.MathJax.Hub && window.MathJax.Hub.Config) {window.MathJax.Hub.Config({SVG: {font: \"STIX-Web\"}});}\n",
       "        if (typeof require !== 'undefined') {\n",
       "        require.undef(\"plotly\");\n",
       "        requirejs.config({\n",
       "            paths: {\n",
       "                'plotly': ['https://cdn.plot.ly/plotly-2.12.1.min']\n",
       "            }\n",
       "        });\n",
       "        require(['plotly'], function(Plotly) {\n",
       "            window._Plotly = Plotly;\n",
       "        });\n",
       "        }\n",
       "        </script>\n",
       "        "
      ]
     },
     "metadata": {},
     "output_type": "display_data"
    },
    {
     "data": {
      "text/html": [
       "        <script type=\"text/javascript\">\n",
       "        window.PlotlyConfig = {MathJaxConfig: 'local'};\n",
       "        if (window.MathJax && window.MathJax.Hub && window.MathJax.Hub.Config) {window.MathJax.Hub.Config({SVG: {font: \"STIX-Web\"}});}\n",
       "        if (typeof require !== 'undefined') {\n",
       "        require.undef(\"plotly\");\n",
       "        requirejs.config({\n",
       "            paths: {\n",
       "                'plotly': ['https://cdn.plot.ly/plotly-2.12.1.min']\n",
       "            }\n",
       "        });\n",
       "        require(['plotly'], function(Plotly) {\n",
       "            window._Plotly = Plotly;\n",
       "        });\n",
       "        }\n",
       "        </script>\n",
       "        "
      ]
     },
     "metadata": {},
     "output_type": "display_data"
    }
   ],
   "source": [
    "import pandas as pd\n",
    "from faker import Faker\n",
    "from faker.providers import BaseProvider\n",
    "import numpy as np\n",
    "from datetime import date\n",
    "import requests\n",
    "import json\n",
    "import chart_studio.plotly as py\n",
    "import cufflinks as cf\n",
    "import seaborn as sns\n",
    "import plotly\n",
    "import plotly.express as px\n",
    "import plotly.graph_objects as go\n",
    "%matplotlib inline\n",
    "\n",
    "# Make Plotly work in your Jupyter Notebook\n",
    "from plotly.offline import download_plotlyjs, init_notebook_mode, plot, iplot\n",
    "init_notebook_mode(connected=True)\n",
    "# Use Plotly locally\n",
    "cf.go_offline()"
   ]
  },
  {
   "cell_type": "code",
   "execution_count": null,
   "metadata": {},
   "outputs": [],
   "source": [
    "template_style = \"seaborn\"\n",
    "pd.set_option(\"display.max_columns\", None)"
   ]
  },
  {
   "cell_type": "markdown",
   "metadata": {},
   "source": [
    "#### Creating DF [feat. Faker & Numpy]"
   ]
  },
  {
   "cell_type": "markdown",
   "metadata": {},
   "source": [
    "Well, we are going to create a DF containing **name**, **age**, **birthdate**, **gender**, **nationality**, **height**, **weight**, **eye color**, **hair color**, and **blood group** for 1.000 people.\n",
    "We're gonna use numpy and Faker to generate the data."
   ]
  },
  {
   "cell_type": "code",
   "execution_count": null,
   "metadata": {},
   "outputs": [],
   "source": [
    "locales = [\"az_AZ\", \"cs_CZ\", \"da_DK\", \"de_AT\", \"de_CH\", \"de_DE\", \"en\", \"en_AU\", \"en_CA\", \"en_GB\", \"en_IE\", \"en_IN\", \"en_NZ\", \"en_PH\", \"en_TH\", \"en_US\", \"et_EE\", \"fi_FI\", \"fr\", \"fr_CA\", \"fr_CH\", \"fr_FR\", \"ga_IE\", \"hr_HR\", \"hu_HU\", \"id_ID\", \"it_IT\", \"lt_LT\", \"lv_LV\", \"nl_NL\", \"no_NO\", \"pl_PL\", \"pt_BR\", \"pt_PT\", \"ro_RO\", \"sl_SI\", \"sv_SE\", \"tl_PH\", \"tr_TR\"]\n",
    "blood_groups = ['AB-', 'AB+', 'B-', 'O+', 'A+', 'O-', 'A-', 'B+']\n",
    "columns = [\"Name\", \"Birthdate\", \"Age\", \"Gender\", \"Blood_Group\", \"Height_cm\", \"Weight_lbs\", \"Eye_Color\", \"Hair_Color\", \"Nationality\"]\n",
    "eye_colors = [\"Blue\", \"Green\", \"Brown\", \"Hazel\", \"Gray\", \"Amber\", \"Black\"]\n",
    "hair_colors = [\"Blond\", \"Brown\", \"Auburn\", \"White\", \"Red\", \"Black\"]"
   ]
  },
  {
   "cell_type": "markdown",
   "metadata": {},
   "source": [
    "let's predefine some functions to make our data more realistic"
   ]
  },
  {
   "cell_type": "markdown",
   "metadata": {},
   "source": [
    "- heigt and weight"
   ]
  },
  {
   "cell_type": "code",
   "execution_count": null,
   "metadata": {},
   "outputs": [],
   "source": [
    "# make height and weight more realistic based on age and gender\n",
    "def realistic_height_weight(age: int, gender: str) -> dict:\n",
    "    # for men (up to 200 cm) [weight in kg]\n",
    "    gen_m = {\"M\", \"U\"}\n",
    "    gen_f = {\"F\", \"U\"}\n",
    "    if age <= 10 and gender in gen_m:\n",
    "        h = np.random.randint(low=80, high=110)\n",
    "        w = np.random.randint(low=10, high=25)\n",
    "    if 10 < age <= 20 and gender in gen_m:\n",
    "        h = np.random.randint(low=111, high=175)\n",
    "        w = np.random.randint(low=26, high=60)\n",
    "    if age > 20 and gender in gen_m:\n",
    "        h = np.random.randint(low=161, high=200)\n",
    "        w = np.random.randint(low=51, high=100)\n",
    "    # for women (up to 180 cm)\n",
    "    if age <= 10 and gender in gen_f:\n",
    "        h = np.random.randint(low=80, high=110)\n",
    "        w = np.random.randint(low=10, high=24)\n",
    "    if 10 < age <= 20 and gender in gen_f:\n",
    "        h = np.random.randint(low=111, high=160)\n",
    "        w = np.random.randint(low=25, high=52)\n",
    "    if age > 20 and gender in gen_f:\n",
    "        h = np.random.randint(low=141, high=180)\n",
    "        w = np.random.randint(low=41, high=80)\n",
    "    return {\n",
    "        \"height\": h,\n",
    "        \"weight\": round(w * 2.20462262185, 2)}"
   ]
  },
  {
   "cell_type": "markdown",
   "metadata": {},
   "source": [
    "- gender [with API]"
   ]
  },
  {
   "cell_type": "code",
   "execution_count": null,
   "metadata": {},
   "outputs": [],
   "source": [
    "# using Genderize.io API\n",
    "endpoint = \"https://api.genderize.io/?name=\"\n",
    "def get_gender(name):\n",
    "    response = requests.get(f\"{endpoint}{name}\").text\n",
    "    return json.loads(response)[\"gender\"][0].upper() if \"male\" in response else \"U\""
   ]
  },
  {
   "cell_type": "markdown",
   "metadata": {},
   "source": [
    "- name, birthdate, age, eye & hair color"
   ]
  },
  {
   "cell_type": "code",
   "execution_count": null,
   "metadata": {},
   "outputs": [],
   "source": [
    "def get_name(fake: dict) -> str:\n",
    "    return f\"{fake.first_name()} {fake.last_name()}\"\n",
    "\n",
    "def get_birthdate(fake: dict) -> date:\n",
    "    return fake.date_of_birth(None, 12, 85)\n",
    "\n",
    "def get_age(birthdate: date) -> int:\n",
    "    return ((date.today() - birthdate) / 365.25).days\n",
    "\n",
    "def get_attr(attr: list) -> str:\n",
    "    return np.random.choice(attr)"
   ]
  },
  {
   "cell_type": "code",
   "execution_count": null,
   "metadata": {},
   "outputs": [],
   "source": [
    "exc_prefixes = ['PLT OFF', 'Mrs', 'doktor', 'CPL', 'RNDr.', 'PHRA', 'prof', 'CPO 1', 'ADM', 'rva', 'CAPT', 'CPO 3', 'PO 1', 'PFC', 'Dott.', 'MR', 'PHRAKHU SAMU', 'da', 'Prof.', 'PHRAMAHA', 'Sr.', 'LAC', 'FLG OFF', 'Xanım', 'Ms', 'S M 1', 'Rouva', 'tri', 'Mrs.', 'GP CAPT', 'S M 3', 'PHRAPALAD', 'prof.', 'Sutan', 'Hj.', 'PHRAKHU PALAD', 'Univ.Prof.', 'MAJ', 'MISS', 'POL SGT MAJ', 'S M 2', 'POL GEN', 'POL SUB LT', 'pan', 'SEA-MAN', 'Tohtori', 'do', 'Ms.', 'Sra.', 'Dt.', 'PHRA ATHIKAN', 'Hr', 'Le', 'Tgk.', 'Mr.', 'PO 3', 'Ing.', 'POL SGT', 'POL MAJ', 'PHRABAIDIKA', 'PHRAKHU BAIDIKA', 'PVT', 'pani', 'dr.', 'SAMANERA', 'PHRASAMU', 'LT GEN', 'Cut', 'POL CAPT', 'Mgr.', 'R ADM', 'PHRAKHU DHAMMADHORN', 'POL LT GEN', 'FS 1', 'AM', 'du', 'Drs.', 'R.A.', 'FS 3', 'Bc.', 'POL CPL', 'CPO 2', 'WG CDR', 'GEN', 'Puti', 'POL L/C', 'Cənab', 'AVM', 'POL LT COL', 'drg.', 'POL COL', 'POL LT', 'proua', 'MAJ GEN', 'Sig.', 'Bay', 'Müəllim', 'KH.', 'Bəy', 'LT JG', 'AMN', 'Herr', 'Fru', 'Mag.', 'arkkit.', 'Dipl.-Ing.', 'de', 'POL MAJ GEN', 'POL CONST', 'hr', 'R.', 'hra', 'LT COL', 'FS 2', 'slečna', 'Misc.', 'LT', 'L CDR', 'Mx.', 'Frau', 'Dr', 'REV', 'H.', 'JUDr.', 'SGT', 'COL', 'T.', 'Ir.', 'Dr.', 'Ind.', 'Herra', 'M R', 'Bayan', 'CHAO ATHIKAN', 'paní', 'Sig.ra', 'POL SEN SGT MAJ', 'PHRAKHU VINAIDHORN', 'Srta.', 'CDR', 'de la', 'MUDr.', 'SQN LDR', 'PO 2', 'FLT LT', 'R.M.', 'V ADM', 'Dra.', 'ACM', 'Mr', 'M L', 'Miss', 'SUB LT', 'dr', 'härra', 'Prof. Dr.', 'pr']\n",
    "exc_suffixes = ['S.H.', 'DVM', 'PhD', 'S.E.', 'MD', 'B.Eng.', 'DI', 'M.Farm', 'M.Kom.', 'Ph.D.', 'IV', 'M.Pd', 'S.Sos', 'MSc', 'II', 'Th.D.', 'M.TI.', 'S.Pd', 'BSc', 'S.I.Kom', 'S.Farm', 'S.Kom', 'CSc.', 'S.T.', 'III', 'S.E.I', 'Jr.', 'DiS.', 'S.Gz', 'S.IP', 'S.Psi', 'V', 'M.Ak', 'MBA.', 'S.Ked', 'M.M.', 'B.A.', 'S.Pt', 'DDS', 'B.Sc.']"
   ]
  },
  {
   "cell_type": "markdown",
   "metadata": {},
   "source": [
    "finally... the actual DF"
   ]
  },
  {
   "cell_type": "code",
   "execution_count": null,
   "metadata": {},
   "outputs": [],
   "source": [
    "# define [HUGE] function to generate the DF\n",
    "df = pd.DataFrame(columns=columns)\n",
    "def data(size: int) -> pd.DataFrame:\n",
    "    for i in range(size):\n",
    "        fake = Faker(locales)\n",
    "        name = get_name(fake)\n",
    "        birthdate = get_birthdate(fake)\n",
    "        age = get_age(birthdate)\n",
    "        gender = get_attr([\"M\", \"F\"])\n",
    "        h_w = realistic_height_weight(age, gender)\n",
    "        df.loc[i] = [name,\n",
    "                     birthdate,\n",
    "                     age,\n",
    "                     gender,\n",
    "                     get_attr(blood_groups),\n",
    "                     h_w[\"height\"],\n",
    "                     h_w[\"weight\"],\n",
    "                     get_attr(eye_colors),\n",
    "                     get_attr(hair_colors),\n",
    "                     \"NA\"]\n",
    "        print(i+1, end=\" \")\n",
    "    return df"
   ]
  },
  {
   "cell_type": "code",
   "execution_count": null,
   "metadata": {},
   "outputs": [],
   "source": [
    "# function call\n",
    "rows = 100\n",
    "df_ert = data(size=rows)"
   ]
  },
  {
   "cell_type": "code",
   "execution_count": null,
   "metadata": {},
   "outputs": [],
   "source": [
    "df_ert.info()"
   ]
  },
  {
   "cell_type": "markdown",
   "metadata": {},
   "source": [
    "- let's accomodate the data types"
   ]
  },
  {
   "cell_type": "code",
   "execution_count": null,
   "metadata": {},
   "outputs": [],
   "source": [
    "df_ert = df_ert.astype({\n",
    "    \"Birthdate\": np.datetime64,\n",
    "    \"Age\": np.uint8,\n",
    "    \"Height_cm\": np.uint8,\n",
    "    \"Weight_lbs\": np.float16})"
   ]
  },
  {
   "cell_type": "code",
   "execution_count": null,
   "metadata": {},
   "outputs": [],
   "source": [
    "df_ert.info()"
   ]
  },
  {
   "cell_type": "code",
   "execution_count": 33,
   "metadata": {},
   "outputs": [
    {
     "data": {
      "text/html": [
       "<div>\n",
       "<style scoped>\n",
       "    .dataframe tbody tr th:only-of-type {\n",
       "        vertical-align: middle;\n",
       "    }\n",
       "\n",
       "    .dataframe tbody tr th {\n",
       "        vertical-align: top;\n",
       "    }\n",
       "\n",
       "    .dataframe thead th {\n",
       "        text-align: right;\n",
       "    }\n",
       "</style>\n",
       "<table border=\"1\" class=\"dataframe\">\n",
       "  <thead>\n",
       "    <tr style=\"text-align: right;\">\n",
       "      <th></th>\n",
       "      <th>Name</th>\n",
       "      <th>Birthdate</th>\n",
       "      <th>Age</th>\n",
       "      <th>Gender</th>\n",
       "      <th>Blood_Group</th>\n",
       "      <th>Height_cm</th>\n",
       "      <th>Weight_lbs</th>\n",
       "      <th>Eye_Color</th>\n",
       "      <th>Hair_Color</th>\n",
       "      <th>Nationality</th>\n",
       "    </tr>\n",
       "  </thead>\n",
       "  <tbody>\n",
       "    <tr>\n",
       "      <th>0</th>\n",
       "      <td>Egbert Täsche</td>\n",
       "      <td>2003-12-16</td>\n",
       "      <td>18</td>\n",
       "      <td>F</td>\n",
       "      <td>AB+</td>\n",
       "      <td>149</td>\n",
       "      <td>70.5625</td>\n",
       "      <td>Green</td>\n",
       "      <td>White</td>\n",
       "      <td>NA</td>\n",
       "    </tr>\n",
       "    <tr>\n",
       "      <th>1</th>\n",
       "      <td>Irina James</td>\n",
       "      <td>1966-10-24</td>\n",
       "      <td>55</td>\n",
       "      <td>F</td>\n",
       "      <td>O-</td>\n",
       "      <td>172</td>\n",
       "      <td>145.5000</td>\n",
       "      <td>Black</td>\n",
       "      <td>Blond</td>\n",
       "      <td>NA</td>\n",
       "    </tr>\n",
       "    <tr>\n",
       "      <th>2</th>\n",
       "      <td>Kazimierz Archer</td>\n",
       "      <td>1983-09-16</td>\n",
       "      <td>38</td>\n",
       "      <td>F</td>\n",
       "      <td>AB-</td>\n",
       "      <td>162</td>\n",
       "      <td>141.1250</td>\n",
       "      <td>Green</td>\n",
       "      <td>Brown</td>\n",
       "      <td>NA</td>\n",
       "    </tr>\n",
       "    <tr>\n",
       "      <th>3</th>\n",
       "      <td>Linde Huber</td>\n",
       "      <td>1956-03-22</td>\n",
       "      <td>66</td>\n",
       "      <td>M</td>\n",
       "      <td>AB+</td>\n",
       "      <td>179</td>\n",
       "      <td>147.7500</td>\n",
       "      <td>Blue</td>\n",
       "      <td>Auburn</td>\n",
       "      <td>NA</td>\n",
       "    </tr>\n",
       "    <tr>\n",
       "      <th>4</th>\n",
       "      <td>Sandis Zielke</td>\n",
       "      <td>1983-06-28</td>\n",
       "      <td>38</td>\n",
       "      <td>M</td>\n",
       "      <td>O+</td>\n",
       "      <td>194</td>\n",
       "      <td>180.7500</td>\n",
       "      <td>Blue</td>\n",
       "      <td>Red</td>\n",
       "      <td>NA</td>\n",
       "    </tr>\n",
       "    <tr>\n",
       "      <th>5</th>\n",
       "      <td>Marina Kohler</td>\n",
       "      <td>1938-02-04</td>\n",
       "      <td>84</td>\n",
       "      <td>M</td>\n",
       "      <td>B-</td>\n",
       "      <td>198</td>\n",
       "      <td>180.7500</td>\n",
       "      <td>Brown</td>\n",
       "      <td>Auburn</td>\n",
       "      <td>NA</td>\n",
       "    </tr>\n",
       "    <tr>\n",
       "      <th>6</th>\n",
       "      <td>H.-Dieter Korutürk</td>\n",
       "      <td>1995-04-28</td>\n",
       "      <td>27</td>\n",
       "      <td>M</td>\n",
       "      <td>AB-</td>\n",
       "      <td>191</td>\n",
       "      <td>202.8750</td>\n",
       "      <td>Gray</td>\n",
       "      <td>Brown</td>\n",
       "      <td>NA</td>\n",
       "    </tr>\n",
       "    <tr>\n",
       "      <th>7</th>\n",
       "      <td>Helene Deladoëy</td>\n",
       "      <td>1946-09-14</td>\n",
       "      <td>75</td>\n",
       "      <td>F</td>\n",
       "      <td>O+</td>\n",
       "      <td>175</td>\n",
       "      <td>121.2500</td>\n",
       "      <td>Black</td>\n",
       "      <td>Red</td>\n",
       "      <td>NA</td>\n",
       "    </tr>\n",
       "    <tr>\n",
       "      <th>8</th>\n",
       "      <td>Romana Matinawin</td>\n",
       "      <td>1962-10-01</td>\n",
       "      <td>59</td>\n",
       "      <td>F</td>\n",
       "      <td>O+</td>\n",
       "      <td>169</td>\n",
       "      <td>163.1250</td>\n",
       "      <td>Amber</td>\n",
       "      <td>Brown</td>\n",
       "      <td>NA</td>\n",
       "    </tr>\n",
       "    <tr>\n",
       "      <th>9</th>\n",
       "      <td>Petr Lūsis</td>\n",
       "      <td>1966-10-18</td>\n",
       "      <td>55</td>\n",
       "      <td>F</td>\n",
       "      <td>A+</td>\n",
       "      <td>172</td>\n",
       "      <td>116.8125</td>\n",
       "      <td>Gray</td>\n",
       "      <td>Blond</td>\n",
       "      <td>NA</td>\n",
       "    </tr>\n",
       "  </tbody>\n",
       "</table>\n",
       "</div>"
      ],
      "text/plain": [
       "                 Name  Birthdate  Age Gender Blood_Group  Height_cm  \\\n",
       "0       Egbert Täsche 2003-12-16   18      F         AB+        149   \n",
       "1         Irina James 1966-10-24   55      F          O-        172   \n",
       "2    Kazimierz Archer 1983-09-16   38      F         AB-        162   \n",
       "3         Linde Huber 1956-03-22   66      M         AB+        179   \n",
       "4       Sandis Zielke 1983-06-28   38      M          O+        194   \n",
       "5       Marina Kohler 1938-02-04   84      M          B-        198   \n",
       "6  H.-Dieter Korutürk 1995-04-28   27      M         AB-        191   \n",
       "7     Helene Deladoëy 1946-09-14   75      F          O+        175   \n",
       "8    Romana Matinawin 1962-10-01   59      F          O+        169   \n",
       "9          Petr Lūsis 1966-10-18   55      F          A+        172   \n",
       "\n",
       "   Weight_lbs Eye_Color Hair_Color Nationality  \n",
       "0     70.5625     Green      White          NA  \n",
       "1    145.5000     Black      Blond          NA  \n",
       "2    141.1250     Green      Brown          NA  \n",
       "3    147.7500      Blue     Auburn          NA  \n",
       "4    180.7500      Blue        Red          NA  \n",
       "5    180.7500     Brown     Auburn          NA  \n",
       "6    202.8750      Gray      Brown          NA  \n",
       "7    121.2500     Black        Red          NA  \n",
       "8    163.1250     Amber      Brown          NA  \n",
       "9    116.8125      Gray      Blond          NA  "
      ]
     },
     "execution_count": 33,
     "metadata": {},
     "output_type": "execute_result"
    }
   ],
   "source": [
    "df_ert.head(10)"
   ]
  },
  {
   "cell_type": "markdown",
   "metadata": {},
   "source": [
    "> #### Now that we have our DF (and a nice model for future application), let's go ahead and analyse it !"
   ]
  }
 ],
 "metadata": {
  "interpreter": {
   "hash": "916dbcbb3f70747c44a77c7bcd40155683ae19c65e1c03b4aa3499c5328201f1"
  },
  "kernelspec": {
   "display_name": "Python 3.10.4 64-bit",
   "language": "python",
   "name": "python3"
  },
  "language_info": {
   "codemirror_mode": {
    "name": "ipython",
    "version": 3
   },
   "file_extension": ".py",
   "mimetype": "text/x-python",
   "name": "python",
   "nbconvert_exporter": "python",
   "pygments_lexer": "ipython3",
   "version": "3.10.4"
  },
  "orig_nbformat": 4
 },
 "nbformat": 4,
 "nbformat_minor": 2
}
