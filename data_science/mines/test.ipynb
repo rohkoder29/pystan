{
 "cells": [
  {
   "cell_type": "code",
   "execution_count": null,
   "metadata": {},
   "outputs": [
    {
     "ename": "",
     "evalue": "",
     "output_type": "error",
     "traceback": [
      "\u001b[1;31mRunning cells with 'Python 3.10.4 64-bit' requires ipykernel package.\n",
      "\u001b[1;31mRun the following command to install 'ipykernel' into the Python environment. \n",
      "\u001b[1;31mCommand: '/bin/python3 -m pip install ipykernel -U --user --force-reinstall'"
     ]
    }
   ],
   "source": [
    "import pandas as pd\n",
    "from datetime import datetime\n",
    "import random\n"
   ]
  },
  {
   "cell_type": "code",
   "execution_count": null,
   "metadata": {},
   "outputs": [],
   "source": [
    "df = pd.DataFrame(\n",
    "    [\n",
    "        (1, 'Hello', 158, True, 12.8),\n",
    "        (2, 'Hey', 567, False, 74.2),\n",
    "        (3, 'Hi', 123, False, 1.1),\n",
    "        (4, 'Howdy', 578, True, 45.8),\n",
    "        (5, 'Hello', 418, True, 21.1),\n",
    "        (6, 'Hi', 98, False, 98.1),\n",
    "    ],\n",
    "    columns=['colA', 'colB', 'colC', 'colD', 'colE']\n",
    ")"
   ]
  },
  {
   "cell_type": "code",
   "execution_count": null,
   "metadata": {},
   "outputs": [],
   "source": [
    "df"
   ]
  },
  {
   "cell_type": "code",
   "execution_count": null,
   "metadata": {},
   "outputs": [],
   "source": [
    "def categorise(row) -> str:\n",
    "    if row['colC'] > 0 and row['colC'] <= 99:\n",
    "        return 'A'\n",
    "    elif row['colC'] > 100 and row['colC'] <= 199:\n",
    "        return 'B'\n",
    "    elif row['colC'] > 200  and row['colC'] <= 299:\n",
    "        return 'C'\n",
    "    return 'D'"
   ]
  },
  {
   "cell_type": "code",
   "execution_count": null,
   "metadata": {},
   "outputs": [],
   "source": [
    "df['colF'] = df.apply(lambda row: categorise(row), axis=1)"
   ]
  },
  {
   "cell_type": "code",
   "execution_count": null,
   "metadata": {},
   "outputs": [],
   "source": [
    "df"
   ]
  },
  {
   "cell_type": "code",
   "execution_count": null,
   "metadata": {},
   "outputs": [],
   "source": [
    "df.info()"
   ]
  },
  {
   "cell_type": "code",
   "execution_count": null,
   "metadata": {},
   "outputs": [],
   "source": [
    "def datetimizer(row) -> datetime:\n",
    "    date_start = datetime(2020, 1, 1, 0, 0)\n",
    "    date_end = datetime(2020, 12, 31, 23, 59)\n",
    "    if not row[\"colD\"]:\n",
    "        date_start = datetime(2020, 1, 1, 0, 0)\n",
    "        date_end = datetime(2020, 12, 31, 23, 59)\n",
    "    random_date_time = date_start + (date_end - date_start) * random.random()\n",
    "    random_date_time = random_date_time.__format__(\"%Y-%m-%d %H:%M\")\n",
    "    return datetime.strptime(random_date_time, format(\"%Y-%m-%d %H:%M\"))"
   ]
  },
  {
   "cell_type": "code",
   "execution_count": null,
   "metadata": {},
   "outputs": [],
   "source": [
    "df[\"colG\"] = df.apply(lambda row: datetimizer(row), axis=1)"
   ]
  },
  {
   "cell_type": "code",
   "execution_count": null,
   "metadata": {},
   "outputs": [],
   "source": [
    "df"
   ]
  },
  {
   "cell_type": "code",
   "execution_count": null,
   "metadata": {},
   "outputs": [],
   "source": [
    "def randomizer(row) -> int:\n",
    "    r = random.randint(23, 89)\n",
    "    if row[\"colB\"] != \"Hi\":\n",
    "        r = 0\n",
    "    return r"
   ]
  },
  {
   "cell_type": "code",
   "execution_count": null,
   "metadata": {},
   "outputs": [],
   "source": [
    "df[\"colH\"] = df.apply(lambda row: randomizer(row), axis=1)"
   ]
  },
  {
   "cell_type": "code",
   "execution_count": null,
   "metadata": {},
   "outputs": [],
   "source": [
    "df.info()"
   ]
  },
  {
   "cell_type": "markdown",
   "metadata": {},
   "source": [
    "<hr>"
   ]
  },
  {
   "cell_type": "markdown",
   "metadata": {},
   "source": [
    "### MULTI INDEX"
   ]
  },
  {
   "cell_type": "code",
   "execution_count": null,
   "metadata": {},
   "outputs": [],
   "source": [
    "stocks = pd.read_csv(\"https://bit.ly/smallstocks\", index_col=False)"
   ]
  },
  {
   "cell_type": "code",
   "execution_count": null,
   "metadata": {},
   "outputs": [],
   "source": [
    "stocks"
   ]
  },
  {
   "cell_type": "code",
   "execution_count": null,
   "metadata": {},
   "outputs": [],
   "source": [
    "# simple groupby\n",
    "stocks.groupby(\"Symbol\").Close.mean()"
   ]
  },
  {
   "cell_type": "code",
   "execution_count": null,
   "metadata": {},
   "outputs": [],
   "source": [
    "# not simple groupby [this actually is a Series]\n",
    "ser = stocks.groupby([\"Symbol\", \"Date\"])[\"Close\"].mean()\n",
    "ser"
   ]
  },
  {
   "cell_type": "code",
   "execution_count": null,
   "metadata": {},
   "outputs": [],
   "source": [
    "# and a multi index one\n",
    "ser.index"
   ]
  },
  {
   "cell_type": "code",
   "execution_count": null,
   "metadata": {},
   "outputs": [],
   "source": [
    "# but using the `unstack()` method it will be converted into a whole DF\n",
    "# because DFs are two dimensional\n",
    "ser.unstack()"
   ]
  },
  {
   "cell_type": "code",
   "execution_count": null,
   "metadata": {},
   "outputs": [],
   "source": [
    "# however we can achieve the same by creating a pivot table\n",
    "pvt = stocks.pivot_table(values=\"Close\", index=\"Symbol\", columns=\"Date\")\n",
    "# and this work because the default aggregation method of a pivot table\n",
    "# is the mean\n",
    "pvt     # this is a DF"
   ]
  },
  {
   "cell_type": "markdown",
   "metadata": {},
   "source": [
    "<hr>"
   ]
  },
  {
   "cell_type": "markdown",
   "metadata": {},
   "source": [
    "### STD"
   ]
  },
  {
   "cell_type": "code",
   "execution_count": null,
   "metadata": {},
   "outputs": [],
   "source": [
    "ser_std = pd.Series(data=[2, 6, 6, 4, 3, 5, 5, 4, 4, 5])\n",
    "ser_std"
   ]
  },
  {
   "cell_type": "code",
   "execution_count": null,
   "metadata": {},
   "outputs": [],
   "source": [
    "mean_ = ser_std.mean()\n",
    "mean_"
   ]
  },
  {
   "cell_type": "code",
   "execution_count": null,
   "metadata": {},
   "outputs": [],
   "source": [
    "std_ = ser_std.std()\n",
    "std_"
   ]
  },
  {
   "cell_type": "code",
   "execution_count": null,
   "metadata": {},
   "outputs": [],
   "source": [
    "(mean_ - std_), (mean_ + std_)"
   ]
  },
  {
   "cell_type": "code",
   "execution_count": null,
   "metadata": {},
   "outputs": [],
   "source": [
    "for i in ser_std:\n",
    "    print(random.randint(int(mean_ - std_), int(mean_ + std_)))"
   ]
  }
 ],
 "metadata": {
  "kernelspec": {
   "display_name": "Python 3.10.4 64-bit",
   "language": "python",
   "name": "python3"
  },
  "language_info": {
   "codemirror_mode": {
    "name": "ipython",
    "version": 3
   },
   "file_extension": ".py",
   "mimetype": "text/x-python",
   "name": "python",
   "nbconvert_exporter": "python",
   "pygments_lexer": "ipython3",
   "version": "3.10.4"
  },
  "orig_nbformat": 4,
  "vscode": {
   "interpreter": {
    "hash": "916dbcbb3f70747c44a77c7bcd40155683ae19c65e1c03b4aa3499c5328201f1"
   }
  }
 },
 "nbformat": 4,
 "nbformat_minor": 2
}
