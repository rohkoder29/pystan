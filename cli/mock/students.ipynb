{
 "cells": [
  {
   "cell_type": "code",
   "execution_count": null,
   "metadata": {},
   "outputs": [],
   "source": [
    "import pandas as pd\n",
    "\n",
    "url = \"https://api.mockaroo.com/api/726c5e00?count=100&key=4a80d0c0\"\n"
   ]
  },
  {
   "cell_type": "code",
   "execution_count": null,
   "metadata": {},
   "outputs": [],
   "source": [
    "df = pd.read_csv(url)\n",
    "# print(type(df))"
   ]
  },
  {
   "cell_type": "code",
   "execution_count": null,
   "metadata": {},
   "outputs": [],
   "source": [
    "# print(df.info())\n",
    "print(df.head(10))\n"
   ]
  },
  {
   "cell_type": "code",
   "execution_count": null,
   "metadata": {},
   "outputs": [],
   "source": [
    "import numpy as np"
   ]
  },
  {
   "cell_type": "code",
   "execution_count": null,
   "metadata": {},
   "outputs": [],
   "source": [
    "url = \"https://api.mockaroo.com/api/726c5e00?count=5000&key=4a80d0c0\"\n",
    "npdata = np.genfromtxt(url, delimiter=',')\n"
   ]
  },
  {
   "cell_type": "code",
   "execution_count": null,
   "metadata": {},
   "outputs": [],
   "source": [
    "for row in range(20):\n",
    "    print(npdata[row])\n"
   ]
  },
  {
   "cell_type": "code",
   "execution_count": null,
   "metadata": {},
   "outputs": [],
   "source": [
    "count = 0\n",
    "for i in npdata:\n",
    "    if i[4] not in ['Female', 'Male']:\n",
    "        count += 1\n",
    "print(count)"
   ]
  },
  {
   "cell_type": "markdown",
   "metadata": {},
   "source": [
    "epaaaa"
   ]
  },
  {
   "cell_type": "code",
   "execution_count": null,
   "metadata": {},
   "outputs": [],
   "source": [
    "import urllib.request\n",
    "from io import StringIO\n",
    "from csv import reader\n",
    "import numpy as np\n",
    "from collections import Counter"
   ]
  },
  {
   "cell_type": "code",
   "execution_count": null,
   "metadata": {},
   "outputs": [],
   "source": [
    "url = \"https://api.mockaroo.com/api/726c5e00?count=5000&key=4a80d0c0\"\n",
    "\n",
    "try:\n",
    "  with urllib.request.urlopen(url) as data:\n",
    "    dhand = StringIO(data.read().decode('utf-8').strip())\n",
    "    csvReader = reader(dhand)\n",
    "except urllib.error.URLError as e:\n",
    "  print(e.reason)\n",
    "\n",
    "records = list(csvReader)\n"
   ]
  },
  {
   "cell_type": "code",
   "execution_count": null,
   "metadata": {},
   "outputs": [],
   "source": [
    "# how many students\n",
    "stud = len(records)\n",
    "print(stud)\n",
    "\n",
    "# count = sum(int(i[5][-4:]) > 1997 for i in records)\n",
    "# print(f'{count} students on {stud} ->  ~ {round((count/stud)*100, 2)}%')"
   ]
  },
  {
   "cell_type": "code",
   "execution_count": null,
   "metadata": {},
   "outputs": [],
   "source": [
    "nprecords = np.array(records, dtype='str')\n",
    "nprecords.shape"
   ]
  },
  {
   "cell_type": "code",
   "execution_count": null,
   "metadata": {},
   "outputs": [],
   "source": [
    "for i in range(10):\n",
    "    print(nprecords[i+5])"
   ]
  },
  {
   "cell_type": "code",
   "execution_count": null,
   "metadata": {},
   "outputs": [],
   "source": [
    "np.savetxt('students5k.csv', nprecords, fmt='%s', delimiter=',')"
   ]
  },
  {
   "cell_type": "code",
   "execution_count": null,
   "metadata": {},
   "outputs": [],
   "source": [
    "# for row in records:\n",
    "#     for i in range(len(row)):\n",
    "#         print(row[i], end=',')\n",
    "#     print()"
   ]
  },
  {
   "cell_type": "code",
   "execution_count": null,
   "metadata": {},
   "outputs": [],
   "source": [
    "# career is col 6 -> arr[:, 6]\n",
    "careers = nprecords[:, 6]\n",
    "# print(careers)\n",
    "c = Counter(careers)\n",
    "c.most_common()"
   ]
  },
  {
   "cell_type": "code",
   "execution_count": null,
   "metadata": {},
   "outputs": [],
   "source": [
    "# sport is last col -> arr[:, -1]\n",
    "sports = nprecords[:, -1]\n",
    "s = Counter(sports)\n",
    "s.most_common()"
   ]
  },
  {
   "cell_type": "code",
   "execution_count": null,
   "metadata": {},
   "outputs": [],
   "source": [
    "# affiliation is col 7 -> arr[:, 7]\n",
    "houses = nprecords[:, 7]\n",
    "h = Counter(houses)\n",
    "h.most_common()"
   ]
  },
  {
   "cell_type": "code",
   "execution_count": null,
   "metadata": {},
   "outputs": [],
   "source": [
    "# gender is col 4 -> arr[:, 4]\n",
    "gender = nprecords[:, 4]\n",
    "g = Counter(gender)\n",
    "g.most_common()"
   ]
  },
  {
   "cell_type": "code",
   "execution_count": null,
   "metadata": {},
   "outputs": [],
   "source": [
    "count = 0\n",
    "elite = []\n",
    "for i in range(len(nprecords)):\n",
    "    if nprecords[i][-1] and nprecords[i][7]:\n",
    "        count += 1\n",
    "        elite.append(nprecords[i][7:])\n",
    "# print(f'{count} students on {stud} =>  ~ {round((count/stud)*100, 2)}%')\n",
    "print(elite[0], len(elite), type(elite))\n",
    "\n",
    "mock = []\n",
    "for i in range(len(elite)):\n",
    "    mock.append(elite[i])\n",
    "print(mock[0], len(mock), type(mock))\n",
    "\n",
    "elite == mock"
   ]
  },
  {
   "cell_type": "code",
   "execution_count": null,
   "metadata": {},
   "outputs": [],
   "source": [
    "# sport but NO house affiliation\n",
    "count = 0\n",
    "for row in nprecords:\n",
    "    if row[-1] and not row[7]:\n",
    "        count += 1\n",
    "print(f'{count} students out of {stud} =>  ~ {round((count/stud)*100, 2)}%')"
   ]
  },
  {
   "cell_type": "code",
   "execution_count": null,
   "metadata": {},
   "outputs": [],
   "source": [
    "# house affiliation (with/out sport)\n",
    "count = 0\n",
    "for row in nprecords:\n",
    "    if row[7]:\n",
    "        count += 1\n",
    "print(f'{count} students on {stud} =>  ~ {round((count/stud)*100, 2)}%')"
   ]
  },
  {
   "cell_type": "code",
   "execution_count": null,
   "metadata": {},
   "outputs": [],
   "source": [
    "# house affiliation but NO sport\n",
    "count = 0\n",
    "for row in nprecords:\n",
    "    if row[7] and not row[-1]:\n",
    "        count += 1\n",
    "print(f'{count} students on {stud} =>  ~ {round((count/stud)*100, 2)}%')\n"
   ]
  },
  {
   "cell_type": "code",
   "execution_count": null,
   "metadata": {},
   "outputs": [],
   "source": [
    "# no sport, no house affiliation, non [male, female]\n",
    "count = 0\n",
    "for row in nprecords:\n",
    "    if not row[-1] and not row[7] and row[4] not in ['Female', 'Male']:\n",
    "        count += 1\n",
    "        # for i in row:\n",
    "        #     print(i, end=',')\n",
    "        # print()\n",
    "print(f'{count} students on {stud} =>  ~ {round((count/stud)*100, 2)}%')"
   ]
  },
  {
   "cell_type": "code",
   "execution_count": null,
   "metadata": {},
   "outputs": [],
   "source": [
    "# 5 most popular sports between housers\n",
    "# print(elite)\n",
    "e = Counter(elite)\n",
    "e.most_common(5)"
   ]
  },
  {
   "cell_type": "code",
   "execution_count": null,
   "metadata": {},
   "outputs": [],
   "source": [
    "# house with more athletes\n"
   ]
  }
 ],
 "metadata": {
  "interpreter": {
   "hash": "7f4192e54f6299906c0709a8d5602ad811801dc37a63f92f15de37236a357d11"
  },
  "kernelspec": {
   "display_name": "Python 3.10.2 ('.py310': venv)",
   "language": "python",
   "name": "python3"
  },
  "language_info": {
   "codemirror_mode": {
    "name": "ipython",
    "version": 3
   },
   "file_extension": ".py",
   "mimetype": "text/x-python",
   "name": "python",
   "nbconvert_exporter": "python",
   "pygments_lexer": "ipython3",
   "version": "3.10.2"
  },
  "orig_nbformat": 4
 },
 "nbformat": 4,
 "nbformat_minor": 2
}
