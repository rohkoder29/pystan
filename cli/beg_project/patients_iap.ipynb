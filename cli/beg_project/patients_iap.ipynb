{
 "cells": [
  {
   "cell_type": "markdown",
   "metadata": {},
   "source": [
    "Una clínica necesita un programa para atender a sus pacientes: cada paciente que\n",
    "llega se anuncia en recepción indicando su número de socio (validar 4 dígitos) y\n",
    "además indica si viene por una urgencia (ingresando 1) o con turno (ingresando 2),\n",
    "validar que no se pueda ingresar otro valor diferente de 1 o de 2.<br />\n",
    "La clínica quiere tener una cola de atención por orden de llegada para urgencias y\n",
    "otra cola de atención por orden de llegada para turnos. Para finalizar se ingresa -1\n",
    "en el número de socio.<br />\n",
    "Luego se pide:<br />\n",
    "Mostrar un listado de los pacientes atendidos por urgencia y un listado de los\n",
    "pacientes atendidos por turno ordenados por número de socio de menor a\n",
    "mayor. Desarrollar una función para ordenar la lista.<br />\n",
    "Luego se pide realizar la búsqueda de un número de socio e informar cuantas\n",
    "veces fue atendido por turno y cuantas veces fue atendido por urgencia.\n",
    "Repetir esta búsqueda hasta que se ingrese -1 como número de socio.<br />\n",
    "Desarrollar al menos dos funciones para resolver el ejercicio."
   ]
  },
  {
   "cell_type": "code",
   "execution_count": null,
   "metadata": {},
   "outputs": [],
   "source": [
    "pacientes_urgencia = [4553, 2041, 2496,\n",
    "                      7901, 4972, 6957, 3201, 1527, 9973, 6631]\n",
    "pacientes_turno = [4553, 1548, 1542, 8103, 7901,\n",
    "                   3851, 2510, 6845, 1148, 3308, 4861, 9871]\n"
   ]
  },
  {
   "cell_type": "code",
   "execution_count": null,
   "metadata": {},
   "outputs": [],
   "source": [
    "def validar_nro_socio() -> int:\n",
    "    while True:\n",
    "        try:\n",
    "            nro_socio = int(input('Indique numero de socio: '))\n",
    "            if nro_socio != -1:\n",
    "                assert 1000 <= nro_socio <= 9999\n",
    "        except ValueError:\n",
    "            print('Por favor, ingrese un numero entero.')\n",
    "        except AssertionError:\n",
    "            print('Por favor, ingrese un numero entre 1000 y 9999.')\n",
    "        else:\n",
    "            return nro_socio\n"
   ]
  },
  {
   "cell_type": "code",
   "execution_count": null,
   "metadata": {},
   "outputs": [],
   "source": [
    "def atencion() -> int:\n",
    "    while True:\n",
    "        try:\n",
    "            atencion = int(input('Igrese 1 por urgencia, 2 por turno: '))\n",
    "            assert atencion in {1, 2}\n",
    "        except AssertionError:\n",
    "            print('Por favor, elija entre 1 y 2.')\n",
    "        else:\n",
    "            return atencion\n"
   ]
  },
  {
   "cell_type": "code",
   "execution_count": null,
   "metadata": {},
   "outputs": [],
   "source": [
    "def ordenar_urgencia(pacientes_urgencia: list) -> list:\n",
    "    for i in range(len(pacientes_urgencia) - 1):\n",
    "        for j in range(i + 1, len(pacientes_urgencia)):\n",
    "            if pacientes_urgencia[i] > pacientes_urgencia[j]:\n",
    "                temp = pacientes_urgencia[i]\n",
    "                pacientes_urgencia[i] = pacientes_urgencia[j]\n",
    "                pacientes_urgencia[j] = temp\n",
    "\n",
    "    return pacientes_urgencia\n"
   ]
  },
  {
   "cell_type": "code",
   "execution_count": null,
   "metadata": {},
   "outputs": [],
   "source": [
    "def ordenar_turno(pacientes_turno: list) -> list:\n",
    "    for i in range(len(pacientes_turno) - 1):\n",
    "        for j in range(i + 1, len(pacientes_turno)):\n",
    "            if pacientes_turno[i] > pacientes_turno[j]:\n",
    "                temp = pacientes_turno[i]\n",
    "                pacientes_turno[i] = pacientes_turno[j]\n",
    "                pacientes_turno[j] = temp\n",
    "\n",
    "    return pacientes_turno\n"
   ]
  },
  {
   "cell_type": "code",
   "execution_count": null,
   "metadata": {},
   "outputs": [],
   "source": [
    "def buscar_nro_socio() -> tuple:\n",
    "    while True:\n",
    "        try:\n",
    "            socio = validar_nro_socio()\n",
    "            if socio != -1:\n",
    "                assert socio in pacientes_turno + pacientes_urgencia\n",
    "            else:\n",
    "                break\n",
    "        except ValueError:\n",
    "            print('Por favor, ingrese un numero entero.')\n",
    "        except AssertionError:\n",
    "            print('Este numero de socio no existe.')\n",
    "        else:\n",
    "            cont_urg = sum(i == socio for i in pacientes_urgencia)\n",
    "            cont_trn = sum(i == socio for i in pacientes_turno)\n",
    "            return cont_urg, cont_trn\n"
   ]
  },
  {
   "cell_type": "code",
   "execution_count": null,
   "metadata": {},
   "outputs": [],
   "source": [
    "while True:\n",
    "    paciente = validar_nro_socio()\n",
    "    if paciente != -1:\n",
    "        solicitud = atencion()\n",
    "        if solicitud == 1:\n",
    "            pacientes_urgencia.append(paciente)\n",
    "        else:\n",
    "            pacientes_turno.append(paciente)\n",
    "    else:\n",
    "        print('Atencion terminada.\\n')\n",
    "        break\n"
   ]
  },
  {
   "cell_type": "code",
   "execution_count": null,
   "metadata": {},
   "outputs": [],
   "source": [
    "print(\n",
    "    f'Clientes atendidos por urgencia:\\n{ordenar_urgencia(pacientes_urgencia)}\\n')\n",
    "print(f'Clientes atendidos por turno:\\n{ordenar_turno(pacientes_turno)}\\n')\n"
   ]
  },
  {
   "cell_type": "code",
   "execution_count": null,
   "metadata": {},
   "outputs": [],
   "source": [
    "print('Busqueda de numero de socio.')\n",
    "while 1:\n",
    "    if busqueda := buscar_nro_socio():\n",
    "        if busqueda != (0, 0):\n",
    "            print(f\"\"\"El paciente fue atendido {busqueda[0]}x por urgencia,\n",
    "                  y {busqueda[1]}x por turno.\"\"\")\n",
    "        else:\n",
    "            print('El numero de socio no existe.')\n",
    "            continue\n",
    "    else:\n",
    "        print('Busqueda terminada.')\n",
    "        break\n"
   ]
  }
 ],
 "metadata": {
  "interpreter": {
   "hash": "7f4192e54f6299906c0709a8d5602ad811801dc37a63f92f15de37236a357d11"
  },
  "kernelspec": {
   "display_name": "Python 3.10.2 ('.py310': venv)",
   "language": "python",
   "name": "python3"
  },
  "language_info": {
   "codemirror_mode": {
    "name": "ipython",
    "version": 3
   },
   "file_extension": ".py",
   "mimetype": "text/x-python",
   "name": "python",
   "nbconvert_exporter": "python",
   "pygments_lexer": "ipython3",
   "version": "3.10.2"
  },
  "orig_nbformat": 4
 },
 "nbformat": 4,
 "nbformat_minor": 2
}
