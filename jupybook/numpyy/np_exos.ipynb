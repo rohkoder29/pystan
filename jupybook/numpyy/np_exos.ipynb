{
 "cells": [
  {
   "cell_type": "code",
   "execution_count": null,
   "metadata": {},
   "outputs": [],
   "source": [
    "import numpy as np"
   ]
  },
  {
   "cell_type": "code",
   "execution_count": null,
   "metadata": {},
   "outputs": [],
   "source": [
    "# print your numpy version\n",
    "\n",
    "print(np.__version__)"
   ]
  },
  {
   "cell_type": "code",
   "execution_count": null,
   "metadata": {},
   "outputs": [],
   "source": [
    "# Write a NumPy program to create a 3x3 matrix with values ranging from 2 to 10\n",
    "\n",
    "# random\n",
    "arr = np.random.randint(2, 11, size=(3, 3))\n",
    "print(arr)\n",
    "# even\n",
    "arr = np.arange(2, 11).reshape(3, 3)\n",
    "print(arr)"
   ]
  },
  {
   "cell_type": "code",
   "execution_count": null,
   "metadata": {},
   "outputs": [],
   "source": [
    "# Write a NumPy program to create a 2d array with 1 on the border and 0 inside\n",
    "\n",
    "arr = np.ones((3, 5), dtype=int)\n",
    "print(arr)\n",
    "ar0 = np.zeros((3), dtype=int)\n",
    "print(ar0)\n",
    "arr[1, 1:4] = ar0\n",
    "print(arr)"
   ]
  },
  {
   "cell_type": "code",
   "execution_count": null,
   "metadata": {},
   "outputs": [],
   "source": [
    "#  Write a NumPy program to add a border (filled with 0's) around an existing array\n",
    "\n",
    "arr = np.ones((3, 3), dtype=int)\n",
    "print(arr)\n",
    "ar0 = np.zeros((5, 5), dtype=int)\n",
    "print(ar0)\n",
    "ar0[[1, 2, 3], 1:4] = arr\n",
    "print(ar0)"
   ]
  },
  {
   "cell_type": "code",
   "execution_count": null,
   "metadata": {},
   "outputs": [],
   "source": [
    "# Extract all odd numbers from arr\n",
    "arr = np.random.randint(51, size=10, dtype=np.int8)\n",
    "print(arr)\n",
    "print(arr[arr % 2 == 1])\n",
    "\n",
    "# Replace them with -1\n",
    "arr[arr % 2 == 1] = -1\n",
    "print(arr)"
   ]
  },
  {
   "cell_type": "code",
   "execution_count": null,
   "metadata": {},
   "outputs": [],
   "source": [
    "# Stack arrays a and b vertically\n",
    "a = np.arange(10).reshape(2,-1)\n",
    "b = np.repeat(1, 10).reshape(2,-1)\n",
    "print(a)\n",
    "print(b)\n",
    "c = np.concatenate((a, b), axis=0)  # `axis=1` to stack horizontally\n",
    "print(c)"
   ]
  },
  {
   "cell_type": "code",
   "execution_count": null,
   "metadata": {},
   "outputs": [],
   "source": [
    "# Repeat element within an array\n",
    "a = np.array([1,2,3])\n",
    "\n",
    "# successively repeat an element x times\n",
    "print(np.repeat(a, 3))  # or just print(a.repeat(3))\n",
    "\n",
    "# successively repeat the whole sequence x times\n",
    "print(np.tile(a, 3))\n",
    "# put them together\n",
    "np.r_[np.repeat(a, 3), np.tile(a, 3)]"
   ]
  },
  {
   "cell_type": "code",
   "execution_count": null,
   "metadata": {},
   "outputs": [],
   "source": [
    "# From array 'a' remove all items present in array 'b'\n",
    "# NOTE it returns non-repeated values\n",
    "## a = np.array([1,2,3,4,5,6])\n",
    "## b = np.array([4,5,6,7,8,9])\n",
    "## np.setdiff1d(a, b)\n",
    "\n",
    "# randomly\n",
    "# here we randomly genrate two sets of unoque values\n",
    "a = np.random.choice(range(101), size=20, replace=False)\n",
    "print(a)\n",
    "b = np.random.choice(range(101), size=20, replace=False)\n",
    "print(b)\n",
    "# we look in 'b' for values that are not in 'a' \n",
    "c= np.setdiff1d(a, b, assume_unique=False)\n",
    "print(c, c.size)\n",
    "# if for some reason you would like to see\n",
    "# the ones that actually are\n",
    "d = np.intersect1d(a, b)\n",
    "print(d, d.size)"
   ]
  },
  {
   "cell_type": "code",
   "execution_count": null,
   "metadata": {},
   "outputs": [],
   "source": [
    "# Get the positions where elements of a and b match\n",
    "a = np.arange(4, 10, dtype=np.int8)\n",
    "b = np.arange(2, 14, 2, dtype=np.int8)\n",
    "print(a)\n",
    "print(b)\n",
    "c = np.where(a == b)\n",
    "print(c)"
   ]
  },
  {
   "cell_type": "code",
   "execution_count": null,
   "metadata": {},
   "outputs": [],
   "source": [
    "# Get all items between 5 and 10 from a\n",
    "a = np.random.randint(11, size=10, dtype=np.int8)\n",
    "print(a)\n",
    "i = np.where((a >= 5) & (a <= 10))\n",
    "print(a[i])\n",
    "# or i = np.where(np.logical_and(a>=5, a<=10))\n",
    "# or simply\n",
    "a[(a >= 5) & (a <= 10)]\n"
   ]
  },
  {
   "cell_type": "code",
   "execution_count": null,
   "metadata": {},
   "outputs": [],
   "source": [
    "# \n",
    "a = np.array([5, 7, 9, 8, 6, 4, 5])\n",
    "b = np.array([6, 3, 4, 8, 9, 7, 1])\n",
    "c = np.max((a, b), axis=0)\n",
    "c"
   ]
  },
  {
   "cell_type": "code",
   "execution_count": null,
   "metadata": {},
   "outputs": [],
   "source": [
    "# Swap two columns (1 and 2) in the array arr\n",
    "arr = np.arange(-4, 5).reshape(3,3)\n",
    "# print(arr)\n",
    "# print(arr[:, [1, 0, 2]])\n",
    "\n",
    "# Swap two rows (2 and 3) in the array arr\n",
    "# print(arr[[0, 2, 1], :])\n",
    "\n",
    "# Swap all rows in an array\n",
    "a = np.random.choice(range(-7, 9), size=(4, 4), replace=False)\n",
    "print(a)\n",
    "# print(np.flip(a, axis=0))     # or np.flipud(a)\n",
    "# or print(a[::-1])\n",
    "\n",
    "# Swap all cols in an array\n",
    "print(np.fliplr(a))       # or np.flip(a, axis=1)\n",
    "# or print(a[:, ::-1])"
   ]
  },
  {
   "cell_type": "code",
   "execution_count": 311,
   "metadata": {},
   "outputs": [
    {
     "name": "stdout",
     "output_type": "stream",
     "text": [
      "[[6.84  8.888 5.555]\n",
      " [5.206 9.142 6.158]\n",
      " [8.479 9.377 6.442]\n",
      " [9.323 9.16  8.789]\n",
      " [7.68  5.265 9.075]]\n",
      "(5, 3)\n"
     ]
    }
   ],
   "source": [
    "# Create a 2D array of shape 5×3 to contain random \n",
    "# decimal numbers between 5 and 10\n",
    "a = np.random.randint(5, 10, size=(5, 3)) + np.random.random((5, 3))\n",
    "print(a)\n",
    "# or\n",
    "b = np.random.uniform(5, 10, size=(5, 3))\n",
    "print(b.shape)\n",
    "# optionally limit the output to n decimals\n",
    "np.set_printoptions(precision=3)"
   ]
  },
  {
   "cell_type": "code",
   "execution_count": null,
   "metadata": {},
   "outputs": [],
   "source": []
  }
 ],
 "metadata": {
  "interpreter": {
   "hash": "7f4192e54f6299906c0709a8d5602ad811801dc37a63f92f15de37236a357d11"
  },
  "kernelspec": {
   "display_name": "Python 3.10.2 ('.py310': venv)",
   "language": "python",
   "name": "python3"
  },
  "language_info": {
   "codemirror_mode": {
    "name": "ipython",
    "version": 3
   },
   "file_extension": ".py",
   "mimetype": "text/x-python",
   "name": "python",
   "nbconvert_exporter": "python",
   "pygments_lexer": "ipython3",
   "version": "3.10.2"
  },
  "orig_nbformat": 4
 },
 "nbformat": 4,
 "nbformat_minor": 2
}
