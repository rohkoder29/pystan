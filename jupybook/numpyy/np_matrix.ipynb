{
 "cells": [
  {
   "cell_type": "markdown",
   "metadata": {},
   "source": [
    "##### Working with 2-d matrix in Python"
   ]
  },
  {
   "cell_type": "code",
   "execution_count": null,
   "metadata": {},
   "outputs": [],
   "source": [
    "# first we import numpy\n",
    "import numpy as np"
   ]
  },
  {
   "cell_type": "code",
   "execution_count": null,
   "metadata": {},
   "outputs": [],
   "source": [
    "# now let's create two 3x3 matrices\n",
    "a = np.arange(-4, 5).reshape(3, 3)\n",
    "b = np.random.randint(-2, 3, size=(3, 3), dtype=np.int8)\n",
    "print(a)\n",
    "print(b)\n",
    "# print([a[1, 2], b[2, 1]])"
   ]
  },
  {
   "cell_type": "markdown",
   "metadata": {},
   "source": [
    "##### @ Addition / Subtraction $$A + B \\quad A - B$$"
   ]
  },
  {
   "cell_type": "code",
   "execution_count": null,
   "metadata": {},
   "outputs": [],
   "source": [
    "# because we are working with numpy arrays\n",
    "# we can achieve these OPs by doing: a+b & a-b\n",
    "# NOTE we only can OP on matrices of the same shape\n",
    "print(a+b)\n",
    "print(a-b)\n",
    "# or we can use the built-in methods\n",
    "# add(arr1, arr2,..., arrN) & subtract(arr1, arr2,..., arrN)\n",
    "print(np.add(a, b))\n",
    "print(np.subtract(a, b))"
   ]
  },
  {
   "cell_type": "markdown",
   "metadata": {},
   "source": [
    "#### @ Multiplication of matrices"
   ]
  },
  {
   "cell_type": "code",
   "execution_count": null,
   "metadata": {},
   "outputs": [],
   "source": [
    "# careful here.\n",
    "# a common mistake is to think one can achieve this by doing\n",
    "# a * b, WRONG WRONG WRONG\n",
    "# it will just multiply each value from 'a' to the corresponding\n",
    "# one in 'b', and this is not how we multiply two matrices\n",
    "# instead we will use the matmul() method, like this:\n",
    "print(np.matmul(a, b))\n",
    "# or the `@` operator\n",
    "# print((a @ b))\n",
    "# or the `dot()` if 'a' and 'b' are 2-D arrays\n",
    "# print(np.dot(a, b))\n",
    "# or multi_dot() if you want to multiply more tha 2 matrices\n",
    "# print(np.linalg.multi_dot((a, b)))\n",
    "\n",
    "# another important point is: to multiply two matrices\n",
    "# the number of cols of the one needs to be equal to\n",
    "# the number of rows of the other."
   ]
  },
  {
   "cell_type": "markdown",
   "metadata": {},
   "source": [
    "#### @ Transpose of a matrix"
   ]
  },
  {
   "cell_type": "code",
   "execution_count": null,
   "metadata": {},
   "outputs": [],
   "source": [
    "c = np.empty([3,3], dtype=np.int8)\n",
    "print(c)\n",
    "print(c.T)\n"
   ]
  },
  {
   "cell_type": "markdown",
   "metadata": {},
   "source": [
    "##### @Extracting a submatrix"
   ]
  },
  {
   "cell_type": "code",
   "execution_count": null,
   "metadata": {},
   "outputs": [],
   "source": [
    "# say we want to extarct the submatrix [[ 5  6], [9 10]]\n",
    "# from the matrix 'mat'\n",
    "mat = np.arange(16, dtype=np.int8).reshape(4, 4)\n",
    "print(mat, mat.itemsize)\n",
    "sub = mat[1:3, 1:3]\n",
    "# or mat[1:3][:, 1:3]\n",
    "print(sub)\n",
    "# print(sub.reshape(1, 4))"
   ]
  },
  {
   "cell_type": "markdown",
   "metadata": {},
   "source": [
    "#### @ Inverse of a matrix"
   ]
  },
  {
   "cell_type": "code",
   "execution_count": null,
   "metadata": {},
   "outputs": [],
   "source": [
    "# SQUARE MATRIX only and non-sigular i.e. det(MATRIX) != 0\n",
    "print(np.linalg.inv(b))"
   ]
  },
  {
   "cell_type": "markdown",
   "metadata": {},
   "source": [
    "#### @ Determinant of a matrix"
   ]
  },
  {
   "cell_type": "code",
   "execution_count": null,
   "metadata": {},
   "outputs": [],
   "source": [
    "d = np.random.randint(-2, 3, size=(3, 3), dtype=np.int8)\n",
    "print(d)\n",
    "print(np.linalg.det(d))\n"
   ]
  },
  {
   "cell_type": "markdown",
   "metadata": {},
   "source": [
    "#### @ Power of a matrix"
   ]
  },
  {
   "cell_type": "code",
   "execution_count": null,
   "metadata": {},
   "outputs": [],
   "source": [
    "power = 3   # to what power we want to raise the matrix\n",
    "print(np.linalg.matrix_power(d, power))"
   ]
  },
  {
   "cell_type": "markdown",
   "metadata": {},
   "source": [
    "#### @solve"
   ]
  },
  {
   "cell_type": "code",
   "execution_count": null,
   "metadata": {},
   "outputs": [],
   "source": [
    "e = np.array([[6, 2, -5],\n",
    "              [3, 3, -2],\n",
    "              [7, 5, -3]])\n",
    "f = np.array([13, 13, 26])\n",
    "x = np.linalg.solve(e, f)\n",
    "np.set_printoptions(precision=5)\n",
    "print(x)\n",
    "np.allclose(np.dot(e, x), f)\n"
   ]
  },
  {
   "cell_type": "code",
   "execution_count": null,
   "metadata": {},
   "outputs": [],
   "source": [
    "# random\n",
    "e = np.random.randint(-3, 5, size=(3, 3), dtype='int8')\n",
    "print(e)\n",
    "f = np.random.randint(-5, 3, size=3, dtype=np.int8)\n",
    "print(f)\n",
    "x = np.linalg.solve(e, f)\n",
    "print(x)\n"
   ]
  },
  {
   "cell_type": "markdown",
   "metadata": {},
   "source": [
    "$$f(x) = x^2 + e^x + \\frac{2}{3\\sqrt(x)}$$\n",
    "$$(a + b)^2 &= a^2 + 2ab + b^2$$\n",
    "$$\\sum_{i=1}^{5} i^2$$\n",
    "$$\\prod_{i=1}^{N} zi$$"
   ]
  },
  {
   "cell_type": "markdown",
   "metadata": {},
   "source": [
    "3-d matrix: \n",
    "> cols = axis 0<br />\n",
    "> rows = axis 1<br />\n",
    "> depth = axis 2<br />"
   ]
  }
 ],
 "metadata": {
  "interpreter": {
   "hash": "7f4192e54f6299906c0709a8d5602ad811801dc37a63f92f15de37236a357d11"
  },
  "kernelspec": {
   "display_name": "Python 3.10.2 ('.py310': venv)",
   "language": "python",
   "name": "python3"
  },
  "language_info": {
   "codemirror_mode": {
    "name": "ipython",
    "version": 3
   },
   "file_extension": ".py",
   "mimetype": "text/x-python",
   "name": "python",
   "nbconvert_exporter": "python",
   "pygments_lexer": "ipython3",
   "version": "3.10.2"
  },
  "orig_nbformat": 4
 },
 "nbformat": 4,
 "nbformat_minor": 2
}
