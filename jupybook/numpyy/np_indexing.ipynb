{
 "cells": [
  {
   "cell_type": "code",
   "execution_count": null,
   "metadata": {},
   "outputs": [],
   "source": [
    "import numpy as np"
   ]
  },
  {
   "cell_type": "code",
   "execution_count": null,
   "metadata": {},
   "outputs": [],
   "source": [
    "a = np.arange(1, 31, dtype=np.int8).reshape(6, 5)\n",
    "print(a)"
   ]
  },
  {
   "cell_type": "markdown",
   "metadata": {},
   "source": [
    "[ 1  2  3  4  5]<br />\n",
    "[ 6  7  8  9 10]<br />\n",
    "[11 12 13 14 15]<br />\n",
    "[16 17 18 19 20]<br />\n",
    "[21 22 23 24 25]<br />\n",
    "[26 27 28 29 30]<br />"
   ]
  },
  {
   "cell_type": "code",
   "execution_count": null,
   "metadata": {},
   "outputs": [],
   "source": [
    "# index the submatrix [[11, 12], [16, 17]]\n",
    "sub_a = a[2:4, :2]  # or sub_a = a[[2, 3], :2]\n",
    "print(sub_a)\n"
   ]
  },
  {
   "cell_type": "code",
   "execution_count": null,
   "metadata": {},
   "outputs": [],
   "source": [
    "# index the submatrix [[4, 5], [24, 25], [29, 30]]\n",
    "sub_b = a[[0, 4, 5], 3:]\n",
    "print(sub_b)\n"
   ]
  },
  {
   "cell_type": "code",
   "execution_count": null,
   "metadata": {},
   "outputs": [],
   "source": [
    "# index the submatrix [[1], [7], [13], [19], [25]]\n",
    "sub_c = a[[0, 1, 2, 3, 4], [0, 1, 2, 3, 4]]\n",
    "print(sub_c.reshape(5, 1))"
   ]
  },
  {
   "cell_type": "code",
   "execution_count": null,
   "metadata": {},
   "outputs": [],
   "source": [
    "# index the submatrix [[3], [6], [12], [24]]\n",
    "sub_d = a[[0, 1, 2, 4], [2, 0, 1, 3]]\n",
    "print(sub_d.reshape(4, 1))\n"
   ]
  },
  {
   "cell_type": "code",
   "execution_count": null,
   "metadata": {},
   "outputs": [],
   "source": []
  },
  {
   "cell_type": "code",
   "execution_count": null,
   "metadata": {},
   "outputs": [],
   "source": [
    "# indexing the submatrix [[18, 28], [19, 29]]\n",
    "sub_e = a[[3, 3, 5, 5], [2, 3, 2, 3]]\n",
    "print(sub_e.reshape(2, 2))"
   ]
  }
 ],
 "metadata": {
  "interpreter": {
   "hash": "7f4192e54f6299906c0709a8d5602ad811801dc37a63f92f15de37236a357d11"
  },
  "kernelspec": {
   "display_name": "Python 3.10.2 ('.py310': venv)",
   "language": "python",
   "name": "python3"
  },
  "language_info": {
   "codemirror_mode": {
    "name": "ipython",
    "version": 3
   },
   "file_extension": ".py",
   "mimetype": "text/x-python",
   "name": "python",
   "nbconvert_exporter": "python",
   "pygments_lexer": "ipython3",
   "version": "3.10.2"
  },
  "orig_nbformat": 4
 },
 "nbformat": 4,
 "nbformat_minor": 2
}
