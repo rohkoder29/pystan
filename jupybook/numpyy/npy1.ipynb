{
 "cells": [
  {
   "cell_type": "code",
   "execution_count": null,
   "metadata": {},
   "outputs": [],
   "source": [
    "import numpy as np\n"
   ]
  },
  {
   "cell_type": "markdown",
   "metadata": {},
   "source": [
    "### THE BASICS"
   ]
  },
  {
   "cell_type": "code",
   "execution_count": null,
   "metadata": {},
   "outputs": [],
   "source": [
    "# create one dimensional array\n",
    "ar = np.array([1, 2, 3, 4])\n",
    "print(ar)\n"
   ]
  },
  {
   "cell_type": "code",
   "execution_count": null,
   "metadata": {},
   "outputs": [],
   "source": [
    "# create two dimensional array\n",
    "arr = np.array([(5, 1, 6, 3), (2, 7, 3, 8)])\n",
    "print(arr)\n"
   ]
  },
  {
   "cell_type": "code",
   "execution_count": null,
   "metadata": {},
   "outputs": [],
   "source": [
    "# get array dimension\n",
    "ar.ndim\n",
    "arr.ndim\n"
   ]
  },
  {
   "cell_type": "code",
   "execution_count": null,
   "metadata": {},
   "outputs": [],
   "source": [
    "# get array shape\n",
    "# shape = (R, C) [R = row; C = column]\n",
    "ar.shape\n",
    "arr.shape\n"
   ]
  },
  {
   "cell_type": "code",
   "execution_count": null,
   "metadata": {},
   "outputs": [],
   "source": [
    "# get data type\n",
    "ar.dtype\n",
    "# NOTE we can specify the data type when we create the array\n",
    "# ar = np.array([1,2,3,4], dtype='int16'), [useful when we work with small data]\n",
    "# dtype can take values 'int16', 'int32', 'int64'\n"
   ]
  },
  {
   "cell_type": "code",
   "execution_count": null,
   "metadata": {},
   "outputs": [],
   "source": [
    "# get size\n",
    "arr.itemsize\n",
    "# NOTE size is directly linked to data type\n",
    "# int16 -> 2 bytes\n",
    "# int32 -> 4 bytes\n",
    "# int64 -> 8 bytes"
   ]
  },
  {
   "cell_type": "code",
   "execution_count": null,
   "metadata": {},
   "outputs": [],
   "source": [
    "# get total size\n",
    "arr.nbytes\n",
    "# NOTE nbytes = size * itemsize\n"
   ]
  },
  {
   "cell_type": "markdown",
   "metadata": {},
   "source": [
    "### ACCESSING / CHANGING SPECIFIC ELEMENTS, ROWS, COLS, ETC."
   ]
  },
  {
   "cell_type": "code",
   "execution_count": null,
   "metadata": {},
   "outputs": [],
   "source": [
    "# access a specific element -> array[row, column]\n",
    "# say we want to access the element on the 2nd row and 3rd column\n",
    "# counting from 0\n",
    "arr[1, 2]\n"
   ]
  },
  {
   "cell_type": "code",
   "execution_count": null,
   "metadata": {},
   "outputs": [],
   "source": [
    "# access a specific row\n",
    "# say we want all the values on the 1st row -> array[row, :]\n",
    "print(arr)\n",
    "arr[0, :]\n"
   ]
  },
  {
   "cell_type": "code",
   "execution_count": null,
   "metadata": {},
   "outputs": [],
   "source": [
    "# access a specific column\n",
    "# say we want all the values on the 2nd columns -> array[:, column]\n",
    "print(arr)\n",
    "arr[:, 1]\n"
   ]
  },
  {
   "cell_type": "code",
   "execution_count": null,
   "metadata": {},
   "outputs": [],
   "source": [
    "# access specific in-between values on a row\n",
    "# array[row, start:end:step]\n",
    "# *end index is inclusive [i.e you may count from 1 for this one]\n",
    "# step can be ignored if = 1\n",
    "# let's create a bigger array\n",
    "arrr = np.array([(23, 55, 3, 4, 78, 9, 32, 56),\n",
    "                 (8, 1, 23, 6, 44, 3, 8, 20)])\n",
    "print(arrr)\n",
    "# say we want to access values on the 2nd row from 23 to 8\n",
    "print(arrr[1, 2:7:1])\n",
    "# now say we want only 1 every 2 values\n",
    "print(arrr[1, 2:7:2])\n",
    "# we can go even further by passing whole expressions...\n",
    "# oh and we can use negative values too, just like regular lists\n"
   ]
  },
  {
   "cell_type": "code",
   "execution_count": null,
   "metadata": {},
   "outputs": [],
   "source": [
    "# change a specific element\n",
    "# array[row, column] = new_value [just like regular lists]\n",
    "arrr[1, 4] = 7\n",
    "print(arrr)\n",
    "#\n",
    "# say we want to change to the same value\n",
    "# all elements on the 5th column\n",
    "arrr[:, 4] = 12\n",
    "print(arrr)\n",
    "#\n",
    "# say we want to change to differents values\n",
    "# all elements on the 3rd column\n",
    "arrr[:, 2] = [-1, -5]\n",
    "print(arrr)\n"
   ]
  },
  {
   "cell_type": "code",
   "execution_count": null,
   "metadata": {},
   "outputs": [],
   "source": [
    "# *3D examples to be following\n"
   ]
  },
  {
   "cell_type": "markdown",
   "metadata": {},
   "source": [
    "### INITIALIZING DIFFERENT TYPES OF ARRAYS"
   ]
  },
  {
   "cell_type": "code",
   "execution_count": null,
   "metadata": {},
   "outputs": [],
   "source": [
    "# all 0s array\n",
    "# say we want to init a n-dimensional array filled with 0s\n",
    "# array 1xC [C = columns]\n",
    "C = 3\n",
    "m = np.zeros(C)\n",
    "print(m)\n",
    "# array RxC [assuming R > 1]\n",
    "R = 2\n",
    "n = np.zeros((R, C))    # note the tuple\n",
    "print(n)\n",
    "# array RxC 3D\n",
    "mn = np.zeros((2, 3, 2))\n",
    "print(mn)\n",
    "\n",
    "# same as above but filled with 1s\n",
    "# np.ones((shape)) [optionally specify the dtype]\n",
    "\n",
    "# same as above but with any other number N you wish\n",
    "# np.full((shape), N) [optionally specify the dtype]\n",
    "\n",
    "# init a array with the same shape as an existing one\n",
    "# with any number N you wish\n",
    "# np.full_like(existing_array, N)\n"
   ]
  },
  {
   "cell_type": "code",
   "execution_count": null,
   "metadata": {},
   "outputs": [],
   "source": [
    "# init an array filled with random floating point numbers [0, 1)\n",
    "# np.random.rand(R, C)\n",
    "rar = np.random.rand(2, 3)\n",
    "print(rar)\n",
    "\n",
    "# init an array with the same shape as an existing one\n",
    "# np.random.random_sample(existing_array.shape)\n",
    "rarr = np.random.random_sample(arrr.shape)\n",
    "print(rarr)\n",
    "\n",
    "# same but with integers values\n",
    "# np.random.randint(start_value, end_value, size=(R, C))\n",
    "# if not start_value: start at 0\n",
    "# start inclusive, end exclusive\n",
    "rbr = np.random.randint(1, 5, size=(3, 3))\n",
    "print(rbr)\n",
    "# oh we can use negative integers too...\n",
    "\n",
    "# create an empty array\n",
    "# np.empty([shape])\n",
    "emp = np.empty()\n"
   ]
  },
  {
   "cell_type": "code",
   "execution_count": null,
   "metadata": {},
   "outputs": [],
   "source": [
    "# init an identity matrix\n",
    "# np.identity(N) [since it's a square matrix: N = R = C]\n",
    "ma = np.identity(3, dtype=int)\n",
    "print(ma)\n"
   ]
  },
  {
   "cell_type": "code",
   "execution_count": null,
   "metadata": {},
   "outputs": [],
   "source": [
    "# repeat an array\n",
    "we = np.array([[1,  2 , -1]])\n",
    "rp = np.repeat(we, 3, axis=0)\n",
    "print(rp)\n"
   ]
  },
  {
   "cell_type": "code",
   "execution_count": null,
   "metadata": {},
   "outputs": [],
   "source": [
    "# EXERCICE\n",
    "# solution 1\n",
    "exe = np.random.randint(1, 2, size=(5, 5))\n",
    "print(exe)\n",
    "exe[1:-1, 1], exe[1:-1, 2], exe[1:-1, 3] = 0, 0, 0\n",
    "exe[2, 2] = 9\n",
    "print(exe)\n",
    "\n",
    "# solution 2\n",
    "ava = np.ones((5, 5))\n",
    "print(ava)\n",
    "ele = np.zeros((3, 3))\n",
    "ele[1, 1] = 9\n",
    "print(ele)\n",
    "ava[1:-1, 1:-1] = ele\n",
    "print(ava)\n"
   ]
  },
  {
   "cell_type": "markdown",
   "metadata": {},
   "source": [
    "### MATHEMATICS STUFF"
   ]
  },
  {
   "cell_type": "markdown",
   "metadata": {},
   "source": [
    "*AXES*\n",
    "in multidimensional arrays\n",
    "> axis 0 = *Y* axis = R = number of rows\n",
    ">\n",
    "> axis 1 = *X* axis = C = number of cols"
   ]
  },
  {
   "cell_type": "markdown",
   "metadata": {},
   "source": [
    "##### *Basic calculations*\n",
    "<!-- element-wise computation -->"
   ]
  },
  {
   "cell_type": "code",
   "execution_count": null,
   "metadata": {},
   "outputs": [],
   "source": [
    "# add / substract / multiply by / divide by\n",
    "# N to each element of an array\n",
    "arr = np.arange(6).reshape((2, 3))\n",
    "print(arr)\n",
    "N = 3\n",
    "print(arr + N)\n",
    "print(arr - N)\n",
    "print(arr * N)\n",
    "print(arr / N)\n",
    "# NOTE those operations dont change the original array\n",
    "# that's why doing\n",
    "## N = 3\n",
    "## arr + N\n",
    "## print(arr)\n",
    "# would return the original array"
   ]
  },
  {
   "cell_type": "code",
   "execution_count": null,
   "metadata": {},
   "outputs": [],
   "source": [
    "# add / substract / multiply by / divide by\n",
    "# N to each element of multiple arrays\n",
    "a = np.random.randint(2, 8, size=(2, 2))\n",
    "b = np.random.randint(5, 9, size=(2, 2))\n",
    "print(a)\n",
    "print(b)\n",
    "print('#############')\n",
    "print(a + b)\n",
    "print(a - b)\n",
    "print(a * b)\n",
    "print(a / b)\n"
   ]
  },
  {
   "cell_type": "code",
   "execution_count": null,
   "metadata": {},
   "outputs": [],
   "source": [
    "# raise each element of an array to the Nth power\n",
    "N = 2\n",
    "arr = np.random.rand(3, 2)*10\n",
    "print(arr)\n",
    "print(arr ** N)"
   ]
  },
  {
   "cell_type": "markdown",
   "metadata": {},
   "source": [
    "##### *Linear Algebra*\n",
    "<!-- array-wise computation -->"
   ]
  },
  {
   "cell_type": "code",
   "execution_count": null,
   "metadata": {},
   "outputs": [],
   "source": [
    "# product of two matrices\n",
    "# say we have a 2x3 array 'a' filled with 1s\n",
    "a = np.ones((2, 3), dtype=int)\n",
    "print(a)\n",
    "# and a 3x2 array 'b' filled with 2s\n",
    "b = np.full((3, 2), 2)\n",
    "print(b)\n",
    "# to multiply 'a'x'b' we use the `np.matmul(arr1, arr2)` fonction\n",
    "c = np.matmul(a, b)\n",
    "print(c)\n",
    "# NOTE careful cause we can't multiply two matrices\n",
    "# if the number of rows of the one is different than\n",
    "# the number of cols of the other"
   ]
  },
  {
   "cell_type": "code",
   "execution_count": null,
   "metadata": {},
   "outputs": [],
   "source": [
    "# find the determinant of a square 2-D matrix\n",
    "d = np.random.randint(-2, 3, size=(3, 3))\n",
    "print(d)\n",
    "det = np.linalg.det(d)\n",
    "print(det)"
   ]
  },
  {
   "cell_type": "markdown",
   "metadata": {},
   "source": [
    "#### *Statistics*"
   ]
  },
  {
   "cell_type": "code",
   "execution_count": null,
   "metadata": {},
   "outputs": [],
   "source": [
    "# max / min element in an array\n",
    "e = np.random.rand(3, 2)*10\n",
    "print(e)\n",
    "#\n",
    "emax = np.max(e)\n",
    "print(emax)\n",
    "#\n",
    "emin = np.min(e)\n",
    "print(emin)\n",
    "\n",
    "# we can also specify on which axis we do the operation\n",
    "# here we retrieve the max value from each row (axis = 1)\n",
    "xmax = np.max(e, axis=1)\n",
    "print(xmax)\n",
    "\n",
    "# here we retrieve the min value from each col (axis = 0)\n",
    "xmin = np.min(e, axis=0)\n",
    "print(xmin)\n",
    "\n",
    "# we can get the sum of all elements in the array\n",
    "print(np.sum(xmin))\n",
    "\n",
    "# or from a specified axis\n",
    "print(np.sum(e, axis=0))"
   ]
  },
  {
   "cell_type": "markdown",
   "metadata": {},
   "source": [
    "#### @Reorganizing arrays"
   ]
  },
  {
   "cell_type": "code",
   "execution_count": null,
   "metadata": {},
   "outputs": [],
   "source": [
    "# resahpe\n",
    "# before = np.arange(-3, 6, dtype=np.int8)\n",
    "# print(before)\n",
    "# after = before.reshape((3, 3))\n",
    "# print(after)\n",
    "# NOTE careful with the number of values in the array\n",
    "\n",
    "# vertically stacking vectors\n",
    "# say we have v1 and we want to add v2 as rows to its end\n",
    "v1 = np.arange(1, 5, dtype=np.int8)\n",
    "print(v1)\n",
    "v2 = np.arange(5, 9, dtype=np.int8)\n",
    "print(v2)\n",
    "v3 = np.vstack((v1, v2))\n",
    "print(v3)\n",
    "# horizontally stacking vectors\n",
    "# say we want to add v2 as cols to v1 end\n",
    "v4 = np.hstack((v1, v2))\n",
    "print(v4)\n"
   ]
  },
  {
   "cell_type": "markdown",
   "metadata": {},
   "source": [
    "#### @Load/Importing data from a text file"
   ]
  },
  {
   "cell_type": "code",
   "execution_count": null,
   "metadata": {},
   "outputs": [],
   "source": [
    "# from a .txt file\n",
    "filedata = np.genfromtxt('d.txt', delimiter=',', dtype=np.int32)\n",
    "print(filedata)\n",
    "print(filedata.shape)\n",
    "# from a .csv file\n",
    "filedatacsv = np.genfromtxt('d_book.csv', delimiter=',', dtype=np.str0)\n",
    "print(filedatacsv)\n",
    "print(filedatacsv.shape)\n"
   ]
  },
  {
   "cell_type": "markdown",
   "metadata": {},
   "source": [
    "#### @Save/Export data to a text file"
   ]
  },
  {
   "cell_type": "code",
   "execution_count": null,
   "metadata": {},
   "outputs": [],
   "source": [
    "# to a .txt file\n",
    "# datatotxt = np.random.randint(-1000, 1000, size=(5, 5), dtype='int16')\n",
    "# print(datatotxt)\n",
    "# np.savetxt('data.txt', datatotxt, fmt='%d', delimiter=',')\n",
    "# to a .csv file\n",
    "datatocsv = np.random.randint(501, size=(4, 12), dtype='int16')\n",
    "print(datatocsv)\n",
    "np.savetxt('data.csv', datatocsv, fmt='%d', delimiter=',')\n"
   ]
  },
  {
   "cell_type": "markdown",
   "metadata": {},
   "source": [
    "#### @Boolean Masking and Advanced Indexing"
   ]
  },
  {
   "cell_type": "code",
   "execution_count": null,
   "metadata": {},
   "outputs": [],
   "source": [
    "datacsv = np.genfromtxt('data.csv', delimiter=',', dtype=np.int16)\n",
    "# print(datacsv)\n",
    "\n",
    "# find where in the array a value is greater than 0\n",
    "# datacsv > 0\n",
    "# see those values\n",
    "# datacsv[datacsv > 0]\n",
    "\n",
    "# find is there any value that match <=/>= X\n",
    "# on a specific axis\n",
    "# np.any(datacsv < 0, axis=1)   # on any row\n",
    "# see those rows\n",
    "datacsv[np.any(datacsv <= -22, axis=1)]\n"
   ]
  }
 ],
 "metadata": {
  "interpreter": {
   "hash": "7f4192e54f6299906c0709a8d5602ad811801dc37a63f92f15de37236a357d11"
  },
  "kernelspec": {
   "display_name": "Python 3.10.2 ('.py310': venv)",
   "language": "python",
   "name": "python3"
  },
  "language_info": {
   "codemirror_mode": {
    "name": "ipython",
    "version": 3
   },
   "file_extension": ".py",
   "mimetype": "text/x-python",
   "name": "python",
   "nbconvert_exporter": "python",
   "pygments_lexer": "ipython3",
   "version": "3.10.2"
  },
  "orig_nbformat": 4
 },
 "nbformat": 4,
 "nbformat_minor": 2
}
