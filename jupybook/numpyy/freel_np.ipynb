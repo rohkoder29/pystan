{
 "cells": [
  {
   "cell_type": "code",
   "execution_count": 213,
   "metadata": {},
   "outputs": [],
   "source": [
    "import numpy as np"
   ]
  },
  {
   "cell_type": "markdown",
   "metadata": {},
   "source": [
    "A freelancer charges 60 euros/hour, works between 6 and 8 hours a day, 4 and 5 days a week.<br />\n",
    "He usually earns between 1.350 and 2.300 euros a month, 15.000 and 25.000 euros a year.<br />\n",
    "Using data from 'freel.csv', find:<br />\n",
    "- The \n",
    "- The "
   ]
  },
  {
   "cell_type": "code",
   "execution_count": 214,
   "metadata": {},
   "outputs": [
    {
     "name": "stdout",
     "output_type": "stream",
     "text": [
      "[[2013 2058 1638 2198 2201 1436 1855 1932 1994 1531 1745 1665]\n",
      " [2034 1400 1528 2250 2074 2005 2127 2057 2146 2054 1675 2279]\n",
      " [1760 1446 1857 2104 2004 1468 2182 1543 1992 1924 1870 1701]\n",
      " [1615 2094 1430 2104 1685 2130 1476 1849 1427 2224 1451 1430]\n",
      " [2070 1442 2052 1774 1661 1864 2298 1487 2003 2014 2009 1729]]\n"
     ]
    }
   ],
   "source": [
    "all_wages = []\n",
    "for _ in range(5):\n",
    "    wage = np.random.randint(1400, 2301, size=12, dtype=np.int16)\n",
    "    all_wages.append(wage)\n",
    "npwage = np.array(all_wages)\n",
    "print(npwage)\n"
   ]
  },
  {
   "cell_type": "markdown",
   "metadata": {},
   "source": [
    "#### find min / max / avg"
   ]
  },
  {
   "cell_type": "code",
   "execution_count": 215,
   "metadata": {},
   "outputs": [
    {
     "name": "stdout",
     "output_type": "stream",
     "text": [
      "min by sample [1436 1400 1446 1427 1442] -> 1430.2\n",
      "min by month [1615 1400 1430 1774 1661 1436 1476 1487 1427 1531 1451 1430] -> 1509.83\n"
     ]
    }
   ],
   "source": [
    "# min by sample (row)\n",
    "smin = np.min(npwage, axis=1)\n",
    "print(f'min by sample {smin} -> {np.mean(smin)}')\n",
    "# min by month (col)\n",
    "mmin = np.min(npwage, axis=0)\n",
    "print(f'min by month {mmin} -> {round(np.mean(mmin), 2)}')\n"
   ]
  },
  {
   "cell_type": "code",
   "execution_count": 216,
   "metadata": {},
   "outputs": [
    {
     "name": "stdout",
     "output_type": "stream",
     "text": [
      "max by sample [2201 2279 2182 2224 2298] -> 2236.8\n",
      "max by month [2070 2094 2052 2250 2201 2130 2298 2057 2146 2224 2009 2279] -> 2150.83\n"
     ]
    }
   ],
   "source": [
    "# max by sample (col)\n",
    "smax = np.max(npwage, axis=1)\n",
    "print(f'max by sample {smax} -> {round(np.mean(smax), 2)}')\n",
    "# max by month (col)\n",
    "mmax = np.max(npwage, axis=0)\n",
    "print(f'max by month {mmax} -> {round(np.mean(mmax), 2)}')\n"
   ]
  },
  {
   "cell_type": "code",
   "execution_count": 217,
   "metadata": {},
   "outputs": [
    {
     "name": "stdout",
     "output_type": "stream",
     "text": [
      "avg by sample [1855 1969 1820 1742 1866] -> 1850.4\n",
      "avg by month [1898 1688 1701 2086 1925 1780 1987 1773 1912 1949 1750 1760] -> 1850.75\n"
     ]
    }
   ],
   "source": [
    "# average by sample (row)\n",
    "saverage = np.mean(npwage, axis=1, dtype=np.int16)\n",
    "print(f'avg by sample {saverage} -> {round(np.mean(saverage), 2)}')\n",
    "# average by month (col)\n",
    "maverage = np.mean(npwage, axis=0, dtype=np.int16)\n",
    "print(f'avg by month {maverage} -> {round(np.mean(maverage), 2)}')\n"
   ]
  },
  {
   "cell_type": "markdown",
   "metadata": {},
   "source": [
    "#### find where he reached the 2.000/mo income cap"
   ]
  },
  {
   "cell_type": "code",
   "execution_count": 218,
   "metadata": {},
   "outputs": [
    {
     "name": "stdout",
     "output_type": "stream",
     "text": [
      "[[ True  True False  True  True False False False False False False False]\n",
      " [ True False False  True  True  True  True  True  True  True False  True]\n",
      " [False False False  True  True False  True False False False False False]\n",
      " [False  True False  True False  True False False False  True False False]\n",
      " [ True False  True False False False  True False  True  True  True False]]\n",
      "reached 26 times out of 60\n"
     ]
    }
   ],
   "source": [
    "print(npwage > 2000)\n",
    "print(f'reached {npwage[npwage > 2000].size} times out of {npwage.size}')"
   ]
  }
 ],
 "metadata": {
  "interpreter": {
   "hash": "7f4192e54f6299906c0709a8d5602ad811801dc37a63f92f15de37236a357d11"
  },
  "kernelspec": {
   "display_name": "Python 3.10.2 ('.py310': venv)",
   "language": "python",
   "name": "python3"
  },
  "language_info": {
   "codemirror_mode": {
    "name": "ipython",
    "version": 3
   },
   "file_extension": ".py",
   "mimetype": "text/x-python",
   "name": "python",
   "nbconvert_exporter": "python",
   "pygments_lexer": "ipython3",
   "version": "3.10.2"
  },
  "orig_nbformat": 4
 },
 "nbformat": 4,
 "nbformat_minor": 2
}
