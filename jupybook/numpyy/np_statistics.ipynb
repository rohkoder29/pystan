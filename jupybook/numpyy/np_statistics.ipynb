{
 "cells": [
  {
   "cell_type": "markdown",
   "metadata": {},
   "source": [
    "#### Statistics functions in Numpy"
   ]
  },
  {
   "cell_type": "code",
   "execution_count": 1,
   "metadata": {},
   "outputs": [],
   "source": [
    "import numpy as np\n",
    "from rich import print"
   ]
  },
  {
   "cell_type": "markdown",
   "metadata": {},
   "source": [
    "#### @Arithmetic Mean\n",
    "arithmetic mean = sum of all elements / number of elements"
   ]
  },
  {
   "cell_type": "code",
   "execution_count": null,
   "metadata": {},
   "outputs": [],
   "source": [
    "# find the arithmetic mean of a 1-d array\n",
    "a = np.random.randint(3, 7, size=3, dtype=np.int8)\n",
    "# print(a)\n",
    "# print(np.mean(a))\n",
    "# find the arithmetic mean of a 2-d array\n",
    "ab = np.random.randint(1, 9, size=(3, 2), dtype=np.int8)\n",
    "# print(ab)\n",
    "# print(np.mean(ab))\n",
    "# find the arithmetic mean of a specific axis\n",
    "abc = np.random.randint(-3, 3, size=(4, 3), dtype=np.int8)\n",
    "abc\n",
    "print(np.mean(abc, axis=0))"
   ]
  },
  {
   "cell_type": "markdown",
   "metadata": {},
   "source": [
    "#### @Max / Min"
   ]
  },
  {
   "cell_type": "code",
   "execution_count": null,
   "metadata": {},
   "outputs": [],
   "source": [
    "b = np.random.randint(-2, 3, size=5, dtype=np.int8)\n",
    "# print(b)\n",
    "# print(np.max(b))\n",
    "# print(np.min(b))\n",
    "# find the max/min value(s) of a specific \n",
    "# axis in a ndarray\n",
    "ba = np.random.randint(-1, 1, size=(4, 3), dtype=np.int8)\n",
    "print(ba)\n",
    "print(np.max(ba, axis=1))    # max value of each row\n",
    "print(np.min(ba, axis=0))    # min value of each col"
   ]
  },
  {
   "cell_type": "markdown",
   "metadata": {},
   "source": [
    "#### @Sum"
   ]
  },
  {
   "cell_type": "code",
   "execution_count": 34,
   "metadata": {},
   "outputs": [
    {
     "name": "stdout",
     "output_type": "stream",
     "text": [
      "[[-1 -1  1]\n",
      " [-1 -1  0]\n",
      " [ 0  1  0]\n",
      " [ 0  1  1]]\n",
      "[-1 -2  1  2]\n",
      "[-2  0  2]\n"
     ]
    }
   ],
   "source": [
    "c = np.random.randint(-2, 3, size=5, dtype=np.int8)\n",
    "# print(c)\n",
    "# print(np.sum(c))\n",
    "# again you can specify an axis\n",
    "ca = np.random.randint(-1, 2, size=(4, 3), dtype=np.int8)\n",
    "print(ca)\n",
    "print(np.sum(ca, axis=1))   # sum of each row\n",
    "print(np.sum(ca, axis=0))   # sum of each col"
   ]
  }
 ],
 "metadata": {
  "interpreter": {
   "hash": "7f4192e54f6299906c0709a8d5602ad811801dc37a63f92f15de37236a357d11"
  },
  "kernelspec": {
   "display_name": "Python 3.10.2 ('.py310': venv)",
   "language": "python",
   "name": "python3"
  },
  "language_info": {
   "codemirror_mode": {
    "name": "ipython",
    "version": 3
   },
   "file_extension": ".py",
   "mimetype": "text/x-python",
   "name": "python",
   "nbconvert_exporter": "python",
   "pygments_lexer": "ipython3",
   "version": "3.10.2"
  },
  "orig_nbformat": 4
 },
 "nbformat": 4,
 "nbformat_minor": 2
}
