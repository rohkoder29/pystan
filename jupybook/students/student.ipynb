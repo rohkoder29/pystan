{
 "cells": [
  {
   "cell_type": "markdown",
   "metadata": {},
   "source": [
    "We're about to write a program that creates an array of x objects\n",
    "(each object represents a student from a class)<br />\n",
    "1) We get the students name and notes for first, second and third periods\n",
    "2) We calculate the average note for each student\n",
    "3) We show the students who are eligible to promote next year"
   ]
  },
  {
   "cell_type": "code",
   "execution_count": null,
   "metadata": {},
   "outputs": [],
   "source": [
    "import random as rd\n",
    "import string"
   ]
  },
  {
   "cell_type": "code",
   "execution_count": null,
   "metadata": {},
   "outputs": [],
   "source": [
    "# let's create the class Student\n",
    "class Student:\n",
    "    def __init__(self, name: str, notes: list) -> None:\n",
    "        self.name = name\n",
    "        self.notes = notes\n",
    "        self.eligible = False\n",
    "    \n",
    "    def get_notes(self):\n",
    "        self.all_notes = []\n",
    "        for i in range(3):\n",
    "            self.note = int(input(f'Enter student note for control {i+1}: '))\n",
    "            self.all_notes.append(self.note)\n",
    "        return self.all_notes\n",
    "    \n",
    "    def get_avg(self, get_notes):\n",
    "        return round(sum(get_notes) / 3)\n",
    "    \n",
    "    def __str__(self, get_avg) -> str:\n",
    "        self.eligible = 'Eligible' if get_avg > 5 else 'Not eligible'\n",
    "        return f'Student {self.get_name} is {self.eligible} to promote.'"
   ]
  },
  {
   "cell_type": "code",
   "execution_count": null,
   "metadata": {},
   "outputs": [],
   "source": [
    "stud_name = ''.join(rd.choices(string.ascii_uppercase, k=5))\n",
    "\n",
    "student = Student(stud_name, Student.get_notes)\n",
    "student.get_notes()\n",
    "student.get_avg(get_notes=student.get_notes)"
   ]
  }
 ],
 "metadata": {
  "kernelspec": {
   "display_name": "Python 3.10.4 64-bit",
   "language": "python",
   "name": "python3"
  },
  "language_info": {
   "codemirror_mode": {
    "name": "ipython",
    "version": 3
   },
   "file_extension": ".py",
   "mimetype": "text/x-python",
   "name": "python",
   "nbconvert_exporter": "python",
   "pygments_lexer": "ipython3",
   "version": "3.10.4"
  },
  "orig_nbformat": 4,
  "vscode": {
   "interpreter": {
    "hash": "31f2aee4e71d21fbe5cf8b01ff0e069b9275f58929596ceb00d14d90e3e16cd6"
   }
  }
 },
 "nbformat": 4,
 "nbformat_minor": 2
}
