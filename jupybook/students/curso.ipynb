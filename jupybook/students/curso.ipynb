{
 "cells": [
  {
   "cell_type": "markdown",
   "metadata": {},
   "source": [
    "#### Ejercicio 2\n",
    "Un colegio dispone de una matriz por curso, la cual tiene 3 filas y 30 columnas.<br />\n",
    "En la primera fila, deberán cargarse de manera aleatoria, el número de legajo del alumno, el\n",
    "que puede estar entre 0 y 10_000.<br />\n",
    "En la segunda fila, se carga la cantidad de materias aprobadas. Esta carga se debe efectuar\n",
    "generando, aleatoriamente, la cantidad de materias aprobadas anualmente.\n",
    "La cantidad de materias que se cursan son 10 de manera anual.<br />\n",
    "En base a la cantidad de materias que se cursan y a las aprobadas, completar la tercera fila,\n",
    "cargando un 1 o un 0 teniendo en cuenta si el alumno aprobó o no aprobó la cursada.<br />\n",
    "La aprobación de la cursada se produce cuando la cantidad de materias aprobadas es\n",
    "superior a la mitad más 2 de las materias cursadas. Osea 7 en este caso.<br />\n",
    "Una vez cargada la matriz, efectuar el cálculo para obtener los siguientes datos:\n",
    "* Cantidad de alumnos aprobados\n",
    "* Porcentaje de alumnos desaprobados\n",
    "* Cuántos alumnos aprobaron las 10 materias\n",
    "* Cuántos alumnos aprobaron entre 4 y 6 materias<br />\n",
    "\n",
    "Informar todos los puntos con una leyenda."
   ]
  },
  {
   "cell_type": "code",
   "execution_count": null,
   "metadata": {},
   "outputs": [],
   "source": [
    "import numpy as np"
   ]
  },
  {
   "cell_type": "code",
   "execution_count": null,
   "metadata": {},
   "outputs": [],
   "source": [
    "# armamos una primera matriz de 1x30 llenandola con\n",
    "# numeros de legajo de manera aleatoria\n",
    "alumnos = np.random.randint(10001, size=30, dtype=np.int16)\n",
    "print(alumnos)\n"
   ]
  },
  {
   "cell_type": "code",
   "execution_count": null,
   "metadata": {},
   "outputs": [],
   "source": [
    "# armamos una segunda matriz de 1x30 llenandola con\n",
    "# cantidad de materias aprobadas de manera aleatoria\n",
    "materias = np.random.randint(11, size=30, dtype=np.int8)\n",
    "print(materias)\n"
   ]
  },
  {
   "cell_type": "code",
   "execution_count": null,
   "metadata": {},
   "outputs": [],
   "source": [
    "# armamos una tercera matriz tambien de 1x30 para\n",
    "# determinar los alumnos que aprobaron la cursada\n",
    "## para ello creamos una lista estandar\n",
    "mat_cur = 10\n",
    "aprobar = []\n",
    "for i in materias:\n",
    "    if materias[i] >= (mat_cur / 2) + 2:\n",
    "        aprobar.append(1)\n",
    "    else:\n",
    "        aprobar.append(0)\n",
    "arr_aprobar = np.array(aprobar, dtype=np.int8)\n",
    "print(arr_aprobar)\n"
   ]
  },
  {
   "cell_type": "code",
   "execution_count": null,
   "metadata": {},
   "outputs": [],
   "source": [
    "# ponemos las tres matrices juntas\n",
    "curso = np.concatenate((alumnos, materias, arr_aprobar), axis=0).reshape(3, 30)\n",
    "print(curso)"
   ]
  },
  {
   "cell_type": "code",
   "execution_count": null,
   "metadata": {},
   "outputs": [],
   "source": [
    "# calculamos la cantidad de alumnos aprobados\n",
    "aprobados = sum(i == 1 for i in arr_aprobar)\n",
    "print(f'Cantidad de alumnos aprobados: {aprobados}')"
   ]
  },
  {
   "cell_type": "code",
   "execution_count": null,
   "metadata": {},
   "outputs": [],
   "source": [
    "# calculamos porcentaje de alumnos desaprobados\n",
    "desaprobados = sum(i == 0 for i in arr_aprobar)\n",
    "porcentaje = (desaprobados * 100) / alumnos.size\n",
    "print(f'Porcentaje alumnos desaprobados: {round(porcentaje)}%')\n"
   ]
  },
  {
   "cell_type": "code",
   "execution_count": null,
   "metadata": {},
   "outputs": [],
   "source": [
    "# calculamos cuantos alumnos aprobaron las 10 materias\n",
    "aprobadiez = sum(i == 10 for i in materias)\n",
    "print(f'Cantidad de alumnos q aprobaron las 10 materias: {aprobadiez}')"
   ]
  },
  {
   "cell_type": "code",
   "execution_count": null,
   "metadata": {},
   "outputs": [],
   "source": [
    "# calculamos cuantos alumnos aprobaron entre 4 y 6 materias\n",
    "aprobacuatroseis = sum(7 > i > 3 for i in materias)\n",
    "print(f'Cantidad alumnos q aprobaron entre 4 y 6 materias: {aprobacuatroseis}')"
   ]
  }
 ],
 "metadata": {
  "kernelspec": {
   "display_name": "Python 3.10.4 64-bit",
   "language": "python",
   "name": "python3"
  },
  "language_info": {
   "codemirror_mode": {
    "name": "ipython",
    "version": 3
   },
   "file_extension": ".py",
   "mimetype": "text/x-python",
   "name": "python",
   "nbconvert_exporter": "python",
   "pygments_lexer": "ipython3",
   "version": "3.10.4"
  },
  "orig_nbformat": 4,
  "vscode": {
   "interpreter": {
    "hash": "916dbcbb3f70747c44a77c7bcd40155683ae19c65e1c03b4aa3499c5328201f1"
   }
  }
 },
 "nbformat": 4,
 "nbformat_minor": 2
}
