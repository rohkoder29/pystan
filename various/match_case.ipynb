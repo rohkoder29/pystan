{
 "cells": [
  {
   "cell_type": "code",
   "execution_count": null,
   "metadata": {},
   "outputs": [],
   "source": [
    "import sys"
   ]
  },
  {
   "cell_type": "code",
   "execution_count": null,
   "metadata": {},
   "outputs": [],
   "source": [
    "sys.version"
   ]
  },
  {
   "cell_type": "markdown",
   "metadata": {},
   "source": [
    "With a variable containing an `integer`"
   ]
  },
  {
   "cell_type": "code",
   "execution_count": null,
   "metadata": {},
   "outputs": [],
   "source": [
    "var = 2\n",
    "\n",
    "match var:\n",
    "    case 1:\n",
    "        print('first case')\n",
    "    case 2:\n",
    "        print('Second case')\n",
    "    case 3:\n",
    "        print('Third case')"
   ]
  },
  {
   "cell_type": "markdown",
   "metadata": {},
   "source": [
    "With a variable containing a `tuple`"
   ]
  },
  {
   "cell_type": "code",
   "execution_count": null,
   "metadata": {},
   "outputs": [],
   "source": [
    "var = (-2, 3)\n",
    "\n",
    "match var:\n",
    "    case (0, 0):\n",
    "        print('Point is a the origin')\n",
    "    case (0, y):\n",
    "        print('Point is on y-axis')\n",
    "    case (x, 0):\n",
    "        print('Point is on x-axis')\n",
    "    case (x, y):\n",
    "        print('Point is not on axis')"
   ]
  },
  {
   "cell_type": "markdown",
   "metadata": {},
   "source": [
    "With a variable containing a `string`"
   ]
  },
  {
   "cell_type": "code",
   "execution_count": null,
   "metadata": {},
   "outputs": [],
   "source": [
    "var = \"L\"\n",
    "\n",
    "match var:\n",
    "    case \"S\":\n",
    "        print('Small')\n",
    "    case \"M\":\n",
    "        print(\"Medium\")\n",
    "    case \"L\":\n",
    "        print(\"Large\")\n",
    "    case \"XL\":\n",
    "        print(\"Extra Large\")"
   ]
  },
  {
   "cell_type": "markdown",
   "metadata": {},
   "source": [
    "With a default value"
   ]
  },
  {
   "cell_type": "code",
   "execution_count": 20,
   "metadata": {},
   "outputs": [
    {
     "name": "stdout",
     "output_type": "stream",
     "text": [
      "This is a structural pattern matching.\n"
     ]
    }
   ],
   "source": [
    "var = False\n",
    "\n",
    "match var:\n",
    "    case 2:\n",
    "        print(f\"var = {var}\")\n",
    "    case 4:\n",
    "        print(f\"var = {var}\")\n",
    "    case _:\n",
    "        print(\"This is a structural pattern matching.\")"
   ]
  },
  {
   "cell_type": "markdown",
   "metadata": {},
   "source": [
    "Using `or` ( | ) statement(s)"
   ]
  },
  {
   "cell_type": "code",
   "execution_count": 21,
   "metadata": {},
   "outputs": [
    {
     "name": "stdout",
     "output_type": "stream",
     "text": [
      "Che!! Lo rompiste todo!\n"
     ]
    }
   ],
   "source": [
    "var = 10\n",
    "\n",
    "match var:\n",
    "    case 1 | 2 | 3:\n",
    "        print(\"No aprobaste el parcial.\")\n",
    "    case 4 | 5 | 6:\n",
    "        print(\"Aprobaste el parcial pero no podes promocionar.\")\n",
    "    case 7 | 8:\n",
    "        print(\"Excelente!! Aprobaste y podes promocionar la materia.\")\n",
    "    case 9 | 10:\n",
    "        print(\"Che!! Lo rompiste todo!\")\n",
    "    case _:\n",
    "        print(\"Que es esto?\")"
   ]
  },
  {
   "cell_type": "markdown",
   "metadata": {},
   "source": [
    "Quite similar as above but with `if` statements"
   ]
  },
  {
   "cell_type": "code",
   "execution_count": 19,
   "metadata": {},
   "outputs": [
    {
     "data": {
      "text/plain": [
       "'Pero esto que es?'"
      ]
     },
     "execution_count": 19,
     "metadata": {},
     "output_type": "execute_result"
    }
   ],
   "source": [
    "def grade(score):\n",
    "    if isinstance(score, int) and score in range(11):\n",
    "        match score:\n",
    "            # NOTE case score > x: this won't work\n",
    "            case score if score >= 9:\n",
    "                return \"Che!! Lo rompiste todo!\"\n",
    "            case score if score >= 7:\n",
    "                return \"Excelente!! Aprobaste y podes promocionar la materia.\"\n",
    "            case score if score >= 4:\n",
    "                return \"Bien, aprobaste! Pero no podes promocionar la materia.\"\n",
    "            case score if 1 <= score <= 3:\n",
    "                return \"Que te paso? Que no entendiste los temas?\"\n",
    "    return \"Pero esto que es?\"\n",
    "\n",
    "grade('asdf')"
   ]
  },
  {
   "cell_type": "markdown",
   "metadata": {},
   "source": [
    "With a Python object"
   ]
  }
 ],
 "metadata": {
  "interpreter": {
   "hash": "7f4192e54f6299906c0709a8d5602ad811801dc37a63f92f15de37236a357d11"
  },
  "kernelspec": {
   "display_name": "Python 3.10.2 ('.py310': venv)",
   "language": "python",
   "name": "python3"
  },
  "language_info": {
   "codemirror_mode": {
    "name": "ipython",
    "version": 3
   },
   "file_extension": ".py",
   "mimetype": "text/x-python",
   "name": "python",
   "nbconvert_exporter": "python",
   "pygments_lexer": "ipython3",
   "version": "3.10.2"
  },
  "orig_nbformat": 4
 },
 "nbformat": 4,
 "nbformat_minor": 2
}
