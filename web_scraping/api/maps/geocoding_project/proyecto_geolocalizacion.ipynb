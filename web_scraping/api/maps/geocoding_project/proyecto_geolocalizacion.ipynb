{
  "cells": [
    {
      "cell_type": "markdown",
      "metadata": {
        "colab_type": "text",
        "id": "view-in-github"
      },
      "source": [
        "<a href=\"https://colab.research.google.com/github/bernardo607/geocoding_project/blob/main/proyecto_geolocalizacion.ipynb\" target=\"_parent\"><img src=\"https://colab.research.google.com/assets/colab-badge.svg\" alt=\"Open In Colab\"/></a>"
      ]
    },
    {
      "cell_type": "markdown",
      "metadata": {
        "id": "VngbPwCHVQKz"
      },
      "source": [
        "# **Geolocalización de clientes**\n",
        "### **Bernardo Seguí**"
      ]
    },
    {
      "cell_type": "markdown",
      "metadata": {
        "id": "Pq6CmlWoVQK8"
      },
      "source": [
        "### El dataset original ha sido modificado levemente para resguardar los datos sensibles y se ha limitado la cantidad de registros a 1000, siendo realmente algunas decenas de miles.\n",
        "\n",
        "### El **OBJETIVO** de este trabajo es geolocalizar direcciones y comparar los servicios de Google y Nominatim (OSM), utilizando las librerías pandas, numpy y matplotlib.\n",
        "\n",
        "### **IMPORTANTE PARA CORRER SCRIPT:**\n",
        "\n",
        "#### El dataset original y el archivo preprocesado de geolocalización se importan directamente del repositorio de github detallado en el código.\n",
        "#### En caso de reutilizar el código con nuevos datases, deben cargarse las 'keys' personales para conectarse con las APIs de geocodificación."
      ]
    },
    {
      "cell_type": "markdown",
      "metadata": {
        "id": "THWdAjLJVQLR"
      },
      "source": [
        "### Importo librerías y cargo dataset"
      ]
    },
    {
      "cell_type": "code",
      "execution_count": null,
      "metadata": {
        "id": "RDe00Xs7VQLS"
      },
      "outputs": [],
      "source": [
        "import pandas as pd\n",
        "import numpy as np\n",
        "import matplotlib.pyplot as plt\n",
        "from geopy.extra.rate_limiter import RateLimiter #para agregar un delay entre solicitudes a las APIs\n",
        "from geopy.geocoders import GoogleV3 #para geolocalizar con Google\n",
        "from geopy.geocoders import Nominatim #para geolocalizar con OpenStreetMap\n",
        "from geopy import distance #para calcular distancias versus coordenadas reales\n",
        "from bokeh.plotting import figure, show, output_notebook #para graficar clientes en el mapa\n",
        "from bokeh.tile_providers import CARTODBPOSITRON,get_provider,Vendors #para tener el tile del mapa\n",
        "from collections import Counter #para contar palabras en direcciones fallidas\n",
        "from google.colab import files #permite cargar los archivos adjuntos"
      ]
    },
    {
      "cell_type": "code",
      "execution_count": null,
      "metadata": {
        "colab": {
          "base_uri": "https://localhost:8080/"
        },
        "id": "4-bkoQrAnxvb",
        "outputId": "f8ed8d5a-7873-46a6-9417-c1de912b1373"
      },
      "outputs": [],
      "source": [
        "#importo repositorio de github con dataset\n",
        "# !git clone -l -s https://github.com/bernardo607/geocoding_project.git geocoding_files\n",
        "# %cd geocoding_files\n",
        "# !ls"
      ]
    },
    {
      "cell_type": "code",
      "execution_count": null,
      "metadata": {
        "colab": {
          "base_uri": "https://localhost:8080/",
          "height": 341
        },
        "id": "LpmdwXrYnyCI",
        "outputId": "b356df24-a996-41ab-a932-4cba73618d14"
      },
      "outputs": [],
      "source": [
        "df=pd.read_excel(\"data_raw_1000.xlsx\")\n",
        "df.head()"
      ]
    },
    {
      "cell_type": "markdown",
      "metadata": {
        "id": "f0uNxOCVVQLa"
      },
      "source": [
        "### Uppercase de nombres de columnas y renombro columnas"
      ]
    },
    {
      "cell_type": "code",
      "execution_count": null,
      "metadata": {
        "colab": {
          "base_uri": "https://localhost:8080/"
        },
        "id": "dE7UtQLzVQLb",
        "outputId": "34b79897-9184-42c5-dd30-dc2cdf959a56"
      },
      "outputs": [],
      "source": [
        "#nombres de columnas con uppercase\n",
        "df.columns = df.columns.str.upper()\n",
        "df.columns"
      ]
    },
    {
      "cell_type": "code",
      "execution_count": null,
      "metadata": {
        "id": "q2EWiP1cVQLc"
      },
      "outputs": [],
      "source": [
        "#renombro algunas columnas \n",
        "df.rename(columns={'DWDLOCALIDAD.NOMBRE':'LOCALIDAD','DWDPAIS.NOMBRE':'PAIS','DWDPARTIDO.NOMBRE':'PARTIDO','DWDPROVINCIA.NOMBRE':'PROVINCIA'},inplace=True)"
      ]
    },
    {
      "cell_type": "code",
      "execution_count": null,
      "metadata": {
        "id": "eFsEkkGrVQLd"
      },
      "outputs": [],
      "source": [
        "#paso a uppercase los registros en columnas relevantes que fomarán la dirección a geolocalizar\n",
        "df['DIRECCION']=df['DIRECCION'].str.upper()\n",
        "df['LOCALIDAD'] = df['LOCALIDAD'].str.upper()\n",
        "df['PARTIDO'] = df['PARTIDO'].str.upper()\n",
        "df['PROVINCIA'] = df['PROVINCIA'].str.upper()\n",
        "df['PAIS'] = df['PAIS'].str.upper()"
      ]
    },
    {
      "cell_type": "code",
      "execution_count": null,
      "metadata": {
        "colab": {
          "base_uri": "https://localhost:8080/",
          "height": 254
        },
        "id": "Oas99AMrVQLd",
        "outputId": "02ecc210-759a-4df1-cdbf-798553ac22bd"
      },
      "outputs": [],
      "source": [
        "df.head()"
      ]
    },
    {
      "cell_type": "markdown",
      "metadata": {
        "id": "GCVV5HDGVQLe"
      },
      "source": [
        "### Limpio y concateno los datos que conformarán la dirección enviada a geolocalizar"
      ]
    },
    {
      "cell_type": "code",
      "execution_count": null,
      "metadata": {
        "id": "NFzyye3nVQLf"
      },
      "outputs": [],
      "source": [
        "#Para cada columna, elimino los espacios blancos a izquierda y derecha de cada registro\n",
        "df['DIRECCION'] = df['DIRECCION'].map(lambda x: x.replace(',','.').replace('S/N','SN').replace('KMS','KM').strip())\n",
        "df['LOCALIDAD'] = df['LOCALIDAD'].str.strip()\n",
        "df['PARTIDO'] = df['PARTIDO'].str.strip()\n",
        "df['PROVINCIA'] = df['PROVINCIA'].str.strip()\n",
        "df['PAIS'] = df['PAIS'].str.strip()"
      ]
    },
    {
      "cell_type": "code",
      "execution_count": null,
      "metadata": {
        "id": "LIOIY1TGVQLf"
      },
      "outputs": [],
      "source": [
        "#concateno los elementos que formaran la direccion\n",
        "df['DIRECCION_CONCAT'] = df['DIRECCION'].astype(str) + ',' + df['LOCALIDAD'].astype(str) + ',' + df['PARTIDO'].astype(str) + ',' +\\\n",
        "df['PROVINCIA'].astype(str) + ',' +df['PAIS'].astype(str)"
      ]
    },
    {
      "cell_type": "code",
      "execution_count": null,
      "metadata": {
        "colab": {
          "base_uri": "https://localhost:8080/"
        },
        "id": "TPsPEonHVQLg",
        "outputId": "9ed70f05-379e-40cd-ca7b-5be24db6631a"
      },
      "outputs": [],
      "source": [
        "#veo como queda la direccion armada\n",
        "df['DIRECCION_CONCAT']"
      ]
    },
    {
      "cell_type": "markdown",
      "metadata": {
        "id": "cetUI6EcVQLh"
      },
      "source": [
        "### Geolocalización con Google"
      ]
    },
    {
      "cell_type": "markdown",
      "metadata": {
        "id": "PXiVxZ2sfyNZ"
      },
      "source": [
        "Este bloque conecta con la API de Google y requiere una KEY propia.\n",
        "Esto fue procesado previamente, se toma el archivo geocodificado de github. Descomentar en caso de querer correr con key propia."
      ]
    },
    {
      "cell_type": "code",
      "execution_count": null,
      "metadata": {
        "colab": {
          "base_uri": "https://localhost:8080/",
          "height": 86
        },
        "id": "F0bThPsnVQLi",
        "outputId": "008fee1d-33fd-4296-d4be-1970645b1e91"
      },
      "outputs": [],
      "source": [
        "'''\n",
        "locator_google = GoogleV3(api_key='********') #completar API key de Google\n",
        "\n",
        "geocode_google = RateLimiter(locator_google.geocode, min_delay_seconds=0.5) #delay entre paquetes para geocodificar\n",
        "\n",
        "df['LOCATION_GOOGLE'] = df['DIRECCION_CONCAT'].apply(geocode_google, region=\"ar\") #crea columna location\n",
        "\n",
        "df['PUNTO_GOOGLE'] = df['LOCATION_GOOGLE'].apply(lambda loc: tuple(loc.point) if loc else None) #crea longitude, latitude y altitude de columna location\n",
        "\n",
        "df[['LATITUDE_GOOGLE', 'LONGITUDE_GOOGLE', 'ALTITUDE_GOOGLE']] = pd.DataFrame(df['PUNTO_GOOGLE'].tolist(), index=df.index) #divide columna en latitude, longitude y altitude\n",
        "'''"
      ]
    },
    {
      "cell_type": "code",
      "execution_count": null,
      "metadata": {
        "colab": {
          "base_uri": "https://localhost:8080/",
          "height": 52
        },
        "id": "YFNRJJFTVQLj",
        "outputId": "4a1002b9-4ad8-490c-cfcc-55ebd7d18379"
      },
      "outputs": [],
      "source": [
        "'''\n",
        "#guarda archivo csv, puede luego ser procesado con QGIS o algún software similar\n",
        "#en este caso se preprocesó y se levanta del repo de github, \"geocoded_Google_OSM.csv\"\n",
        "df.to_csv(r\"********\", index = False)\n",
        "'''"
      ]
    },
    {
      "cell_type": "markdown",
      "metadata": {
        "id": "D0iaTx2QVQLn"
      },
      "source": [
        "### Geolocalización con OpenStreetMaps"
      ]
    },
    {
      "cell_type": "markdown",
      "metadata": {
        "id": "15Fco5oci4RR"
      },
      "source": [
        "Este bloque conecta con la API de OSM y requiere una KEY propia.\n",
        "Esto fue procesado previamente, se toma el archivo geocodificado de github. Descomentar en caso de querer correr con key propia."
      ]
    },
    {
      "cell_type": "code",
      "execution_count": null,
      "metadata": {
        "colab": {
          "base_uri": "https://localhost:8080/",
          "height": 86
        },
        "id": "VygIb_kEVQLo",
        "outputId": "0525b0f2-d548-428a-df5c-0ea60f4ebd15"
      },
      "outputs": [],
      "source": [
        "'''\n",
        "locator_osm = Nominatim(user_agent='********') #completar API key de OSM\n",
        "\n",
        "geocode_osm = RateLimiter(locator_osm.geocode, min_delay_seconds=1) #delay entre paquetes para geocodificar\n",
        "\n",
        "df['LOCATION_OSM'] = df['DIRECCION_CONCAT'].apply(locator_osm.geocode, country_codes=\"ar\", language='es') #crea columna location\n",
        "\n",
        "df['PUNTO_OSM'] = df['LOCATION_OSM'].apply(lambda loc: tuple(loc.point) if loc else None) #crea longitude, latitude y altitude de columna location\n",
        "\n",
        "df[['LATITUDE_OSM', 'LONGITUDE_OSM', 'ALTITUDE_OSM']] = pd.DataFrame(df['PUNTO_OSM'].tolist(), index=df.index) #divide columna en latitude, longitude y altitude\n",
        "'''\n"
      ]
    },
    {
      "cell_type": "code",
      "execution_count": null,
      "metadata": {
        "colab": {
          "base_uri": "https://localhost:8080/",
          "height": 52
        },
        "id": "3PUye9g9VQLo",
        "outputId": "48d06e66-79a5-4e4f-8aa3-cc5fdf49ba56"
      },
      "outputs": [],
      "source": [
        "'''\n",
        "#guarda archivo csv, puede luego ser procesado con QGIS o algún software similar\n",
        "#en este caso se preprocesó y se levanta del repo de github, \"geocoded_Google_OSM.csv\"\n",
        "df.to_csv(r\"********\", index = False)\n",
        "'''"
      ]
    },
    {
      "cell_type": "markdown",
      "metadata": {
        "id": "MhhEn4hzn4HV"
      },
      "source": [
        "### Análisis de direcciones no resueltas"
      ]
    },
    {
      "cell_type": "markdown",
      "metadata": {
        "id": "KQJEbTfmnee7"
      },
      "source": [
        "Leo el archivo preprocesado \"geocoded_Google_OSM.csv\"\n"
      ]
    },
    {
      "cell_type": "code",
      "execution_count": null,
      "metadata": {
        "id": "95vO6XQtVQLp"
      },
      "outputs": [],
      "source": [
        "df=pd.read_csv(\"geocoded_Google_OSM.csv\")"
      ]
    },
    {
      "cell_type": "code",
      "execution_count": null,
      "metadata": {
        "colab": {
          "base_uri": "https://localhost:8080/"
        },
        "id": "io0FYEXpVQLp",
        "outputId": "9799b80b-48c3-42c5-f143-70fd35b4f7a2"
      },
      "outputs": [],
      "source": [
        "#direcciones no resueltas Google\n",
        "no_resuelto_google= pd.isna(df['PUNTO_GOOGLE']).sum()\n",
        "nro_direcciones= len(df.index)\n",
        "print(f'Google API: {no_resuelto_google} direcciones no resueltas sobre un total de {nro_direcciones}')\n",
        "#direcciones no resueltas OSM\n",
        "no_resuelto_osm= pd.isna(df['PUNTO_OSM']).sum()\n",
        "nro_direcciones= len(df.index)\n",
        "print(f'OpenStreetMaps: {no_resuelto_osm} direcciones no resueltas sobre un total de {nro_direcciones}')"
      ]
    },
    {
      "cell_type": "markdown",
      "metadata": {
        "id": "iWIVSabAVQLr"
      },
      "source": [
        "#### Casos no resueltos con Google"
      ]
    },
    {
      "cell_type": "markdown",
      "metadata": {
        "id": "qcjOqIVB4cqM"
      },
      "source": [
        "Tomo las direcciones no resueltas y analizo las palabras más comunes para identificar patrones."
      ]
    },
    {
      "cell_type": "code",
      "execution_count": null,
      "metadata": {
        "colab": {
          "base_uri": "https://localhost:8080/"
        },
        "id": "op63pfXNVQLs",
        "outputId": "14434741-1e1f-4aa8-e216-5b6915c321f1"
      },
      "outputs": [],
      "source": [
        "df_googlefail=df[df['PUNTO_GOOGLE'].isna()]\n",
        "df_googlefail['DIRECCION']"
      ]
    },
    {
      "cell_type": "code",
      "execution_count": null,
      "metadata": {
        "colab": {
          "base_uri": "https://localhost:8080/"
        },
        "id": "IWdE_5AHVQLt",
        "outputId": "82623498-da3a-4a7e-a94f-b123f7ea6516"
      },
      "outputs": [],
      "source": [
        "results_google = Counter()\n",
        "df_googlefail['DIRECCION'].str.split().apply(results_google.update)\n",
        "\n",
        "for key, value in results_google.most_common():\n",
        "    print(f'Frecuencia: {value}, Palabra: {key} ')"
      ]
    },
    {
      "cell_type": "markdown",
      "metadata": {
        "id": "D1_OQYXRosPh"
      },
      "source": [
        "Usando Google se ven sólo 6 casos no resueltos con lo cual es difícil encontrar patrones."
      ]
    },
    {
      "cell_type": "markdown",
      "metadata": {
        "id": "yBuANLv8VQLu"
      },
      "source": [
        "#### Casos no resueltos con OSM"
      ]
    },
    {
      "cell_type": "markdown",
      "metadata": {
        "id": "rIxxw_w046Qb"
      },
      "source": [
        "Tomo las direcciones no resueltas y analizo las palabras más comunes para identificar patrones."
      ]
    },
    {
      "cell_type": "code",
      "execution_count": null,
      "metadata": {
        "colab": {
          "base_uri": "https://localhost:8080/"
        },
        "id": "pOjm30BHVQLv",
        "outputId": "d510682c-75d5-4893-ca84-7960fc276ee7",
        "scrolled": true
      },
      "outputs": [],
      "source": [
        "df_osmfail=df[df['PUNTO_OSM'].isna()]\n",
        "\n",
        "results_osm = Counter()\n",
        "df_osmfail['DIRECCION'].str.split().apply(results_osm.update)\n",
        "\n",
        "for key, value in results_osm.most_common():\n",
        "    print(f'Frecuencia: {value}, Palabra: {key} ')"
      ]
    },
    {
      "cell_type": "markdown",
      "metadata": {
        "id": "eHyyK-2eo4hy"
      },
      "source": [
        "Usando OSM se ven 538 casos no resueltos.\n",
        "Podemos notar que las palabras \"RUTA\", \"KM\", \"-\", \"ESQ\", \"SN\", entre otras, presentan dificultad para OSM dada su alta frecuencia de aparición. Esto parece indicar que las direcciones problemáticas son aquellas sobre las rutas, en esquinas o sin número.\n",
        "Otras palabras como \"AV\", \"DE\", \"SAN\", \"CALLE\" son realmente stopwords.\n",
        "\n"
      ]
    },
    {
      "cell_type": "markdown",
      "metadata": {
        "id": "-5k9MosAVQL1"
      },
      "source": [
        "### Mapa de clientes"
      ]
    },
    {
      "cell_type": "markdown",
      "metadata": {
        "id": "m4Wdn2oZVQL2"
      },
      "source": [
        "#### Geolocalizados con Google"
      ]
    },
    {
      "cell_type": "code",
      "execution_count": null,
      "metadata": {
        "id": "IrB2Us9OVQL2"
      },
      "outputs": [],
      "source": [
        "#conversion de latitud y longitud a mercator\n",
        "k = 6378137\n",
        "df['LONGITUDE_GOOGLE_MERCATOR']= df['LONGITUDE_GOOGLE'] * (k * np.pi/180.0)\n",
        "df['LATITUDE__GOOGLE_MERCATOR'] = np.log(np.tan((90 + df['LATITUDE_GOOGLE']) * np.pi/360.0)) * k"
      ]
    },
    {
      "cell_type": "code",
      "execution_count": null,
      "metadata": {
        "colab": {
          "base_uri": "https://localhost:8080/",
          "height": 617
        },
        "id": "nZ0gVL78VQL3",
        "outputId": "d41c941b-2b88-453f-8e5b-0290c86e059e"
      },
      "outputs": [],
      "source": [
        "output_notebook()\n",
        "tile_provider = get_provider(Vendors.CARTODBPOSITRON)\n",
        "\n",
        "#ejes\n",
        "p = figure(x_axis_type=\"mercator\", y_axis_type=\"mercator\")\n",
        "\n",
        "#fondo de mapa\n",
        "p.add_tile(tile_provider)\n",
        "\n",
        "#puntos en el mapa\n",
        "p.circle(y = df['LATITUDE__GOOGLE_MERCATOR'],\n",
        "         x = df['LONGITUDE_GOOGLE_MERCATOR'],\n",
        "         fill_color='orange',fill_alpha=.5)\n",
        "\n",
        "#detalles del titulo\n",
        "p.title.text = \"Clientes geolocalizados con Google\"\n",
        "p.title.text_color = \"Orange\"\n",
        "p.title.text_font_size = \"25px\"\n",
        "\n",
        "show(p)"
      ]
    },
    {
      "cell_type": "markdown",
      "metadata": {
        "id": "Dw51SEvLVQL4"
      },
      "source": [
        "#### Geolocalizados con OpenStreetMap"
      ]
    },
    {
      "cell_type": "code",
      "execution_count": null,
      "metadata": {
        "id": "L3t1uxnmVQL4"
      },
      "outputs": [],
      "source": [
        "#conversion de latitud y longitud a mercator\n",
        "k = 6378137\n",
        "df['LONGITUDE_OSM_MERCATOR']= df['LONGITUDE_OSM'] * (k * np.pi/180.0)\n",
        "df['LATITUDE__OSM_MERCATOR'] = np.log(np.tan((90 + df['LATITUDE_OSM']) * np.pi/360.0)) * k"
      ]
    },
    {
      "cell_type": "code",
      "execution_count": null,
      "metadata": {
        "colab": {
          "base_uri": "https://localhost:8080/",
          "height": 617
        },
        "id": "bTz5LiIXVQL5",
        "outputId": "3b0dcb2a-e287-4a91-b4c7-3f58ae097484"
      },
      "outputs": [],
      "source": [
        "output_notebook()\n",
        "tile_provider = get_provider(Vendors.CARTODBPOSITRON)\n",
        "\n",
        "#ejes\n",
        "p = figure(x_axis_type=\"mercator\", y_axis_type=\"mercator\")\n",
        "\n",
        "#fondo de mapa\n",
        "p.add_tile(tile_provider)\n",
        "\n",
        "#puntos en el mapa\n",
        "p.circle(y = df['LATITUDE__OSM_MERCATOR'],\n",
        "         x = df['LONGITUDE_OSM_MERCATOR'],\n",
        "         fill_color='orange',fill_alpha=.5)\n",
        "\n",
        "#detalles del titulo\n",
        "p.title.text = \"Clientes geolocalizados con OpenStreetMap\"\n",
        "p.title.text_color = \"Orange\"\n",
        "p.title.text_font_size = \"25px\"\n",
        "\n",
        "show(p)"
      ]
    },
    {
      "cell_type": "markdown",
      "metadata": {
        "id": "cI4WMBS94xTr"
      },
      "source": [
        "##Análisis de distancia entre geocodificación y coordenadas reales en 20 puntos"
      ]
    },
    {
      "cell_type": "code",
      "execution_count": null,
      "metadata": {
        "colab": {
          "base_uri": "https://localhost:8080/",
          "height": 1000
        },
        "id": "2bsHthmfT7wv",
        "outputId": "45fde251-9984-43a6-ad98-6f23ebb7f614"
      },
      "outputs": [],
      "source": [
        "#Se levanta el dataset con 20 coordenadas reales encontradas manualmente\n",
        "df_check = pd.read_csv('coordinates_check.csv')\n",
        "df_check.head(20)"
      ]
    },
    {
      "cell_type": "code",
      "execution_count": null,
      "metadata": {
        "colab": {
          "base_uri": "https://localhost:8080/"
        },
        "id": "71BRsosgRFm5",
        "outputId": "b004a018-9e53-49ee-854e-dd97455c7c14"
      },
      "outputs": [],
      "source": [
        "#Google: diferencias en metros versus dirección real\n",
        "list_google = []\n",
        "for i in range(20):\n",
        "  loc_a = df_check.iloc[i]['PUNTO_GOOGLE']\n",
        "  loc_b = df_check.iloc[i]['PUNTO_CHECK']\n",
        "  list_google.append(round(distance.distance(loc_a, loc_b).m))\n",
        "print(f'El error promedio de Google en estos 20 casos es de {round(sum(list_google) / float(len(list_google)))} metros')"
      ]
    },
    {
      "cell_type": "code",
      "execution_count": null,
      "metadata": {
        "colab": {
          "base_uri": "https://localhost:8080/"
        },
        "id": "mlTZdD5-TXrF",
        "outputId": "0661e7ce-5922-467c-a3e2-2f41b442189f"
      },
      "outputs": [],
      "source": [
        "#OSM: diferencias en metros versus dirección real\n",
        "list_osm = []\n",
        "for i in range(20):\n",
        "  loc_a = df_check.iloc[i]['PUNTO_OSM']\n",
        "  loc_b = df_check.iloc[i]['PUNTO_CHECK']\n",
        "  list_osm.append(round(distance.distance(loc_a, loc_b).m))\n",
        "print(f'El error promedio de Google en estos 20 casos es de {round(sum(list_osm) / float(len(list_osm)))} metros')"
      ]
    },
    {
      "cell_type": "code",
      "execution_count": null,
      "metadata": {
        "colab": {
          "base_uri": "https://localhost:8080/",
          "height": 665
        },
        "id": "qTv2o2ggmdKq",
        "outputId": "0fd96a9c-34fa-406d-ed59-2248d2ce75e1"
      },
      "outputs": [],
      "source": [
        "#diferencias en metros versus dirección real ordenadas por mayor distancia\n",
        "df_differences = pd.DataFrame(list(zip(list_osm, list_google)), columns =['OSM','Google'])\n",
        "df_differences['DIRECCION_CONCAT'] = df_check['DIRECCION_CONCAT']\n",
        "df_differences.sort_values(by=['OSM'], ascending=False).head(20)"
      ]
    },
    {
      "cell_type": "code",
      "execution_count": null,
      "metadata": {
        "colab": {
          "base_uri": "https://localhost:8080/",
          "height": 312
        },
        "id": "wCobAII8nc9A",
        "outputId": "8e374c83-d6c8-4c73-e803-e349674aed5c"
      },
      "outputs": [],
      "source": [
        "#gráfico de barras de los errores\n",
        "bar = df_differences.plot.bar(rot=0)\n",
        "bar.set_ylabel('metros')\n",
        "bar.set_xlabel('direccion #')\n",
        "bar.set_title('Distancia versus punto real')"
      ]
    },
    {
      "cell_type": "markdown",
      "metadata": {
        "id": "TJhfTwF9rhn1"
      },
      "source": [
        "##Conclusiones\n",
        "\n",
        "*   El servicio de Google resuelve casi la totalidad de las direcciones, mientras que OpenStreetMap falla en más de la mitad.\n",
        "*   De las direcciones no resueltas, especialmente en OSM, se pueden identificar palabras que complican la geolocalización, tales como: RUTA, KM, ESQ, SN.\n",
        "*   De las 20 direcciones chequeadas manualmente, Google tiene menor error que OSM en 18 casos. Además el error promedio de Google en estos 20 casos es de 36 metros mientras que el de OSM es de 913 metros.\n",
        "*   Ya sea con Google o con OSM, siempre que sea posible es recomendable hacer un chequeo manual de las direcciones geolocalizadas.\n",
        "\n",
        "\n",
        "\n",
        "\n",
        "\n"
      ]
    }
  ],
  "metadata": {
    "colab": {
      "collapsed_sections": [],
      "include_colab_link": true,
      "name": "proyecto_geolocalizacion.ipynb",
      "provenance": []
    },
    "kernelspec": {
      "display_name": "Python 3",
      "language": "python",
      "name": "python3"
    },
    "language_info": {
      "codemirror_mode": {
        "name": "ipython",
        "version": 3
      },
      "file_extension": ".py",
      "mimetype": "text/x-python",
      "name": "python",
      "nbconvert_exporter": "python",
      "pygments_lexer": "ipython3",
      "version": "3.10.2"
    }
  },
  "nbformat": 4,
  "nbformat_minor": 0
}
