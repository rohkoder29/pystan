{
 "cells": [
  {
   "cell_type": "code",
   "execution_count": 1,
   "metadata": {},
   "outputs": [],
   "source": [
    "import numpy as np"
   ]
  },
  {
   "cell_type": "markdown",
   "metadata": {},
   "source": [
    "take the user input"
   ]
  },
  {
   "cell_type": "code",
   "execution_count": 2,
   "metadata": {},
   "outputs": [
    {
     "name": "stdout",
     "output_type": "stream",
     "text": [
      "RIPHELINE 9\n"
     ]
    }
   ],
   "source": [
    "word = input('Input a word: ').upper()\n",
    "print(word, len(word))"
   ]
  },
  {
   "cell_type": "markdown",
   "metadata": {},
   "source": [
    "define the diagram"
   ]
  },
  {
   "cell_type": "code",
   "execution_count": 3,
   "metadata": {},
   "outputs": [
    {
     "name": "stdout",
     "output_type": "stream",
     "text": [
      "[['' '' '' '' '' '' '' '' '']\n",
      " ['' '' '' '' '' '' '' '' '']\n",
      " ['' '' '' '' '' '' '' '' '']\n",
      " ['' '' '' '' '' '' '' '' '']\n",
      " ['' '' '' '' '' '' '' '' '']\n",
      " ['' '' '' '' '' '' '' '' '']\n",
      " ['' '' '' '' '' '' '' '' '']\n",
      " ['' '' '' '' '' '' '' '' '']\n",
      " ['' '' '' '' '' '' '' '' '']]\n"
     ]
    }
   ],
   "source": [
    "diagram = np.empty([len(word), len(word)], dtype=np.str0)\n",
    "print(diagram)"
   ]
  },
  {
   "cell_type": "markdown",
   "metadata": {},
   "source": [
    "populate first row and first column"
   ]
  },
  {
   "cell_type": "code",
   "execution_count": 4,
   "metadata": {},
   "outputs": [
    {
     "data": {
      "text/plain": [
       "array([['R', 'I', 'P', 'H', 'E', 'L', 'I', 'N', 'E'],\n",
       "       ['I', '', '', '', '', '', '', '', ''],\n",
       "       ['P', '', '', '', '', '', '', '', ''],\n",
       "       ['H', '', '', '', '', '', '', '', ''],\n",
       "       ['E', '', '', '', '', '', '', '', ''],\n",
       "       ['L', '', '', '', '', '', '', '', ''],\n",
       "       ['I', '', '', '', '', '', '', '', ''],\n",
       "       ['N', '', '', '', '', '', '', '', ''],\n",
       "       ['E', '', '', '', '', '', '', '', '']], dtype='<U1')"
      ]
     },
     "execution_count": 4,
     "metadata": {},
     "output_type": "execute_result"
    }
   ],
   "source": [
    "for i, j in enumerate(word):\n",
    "    diagram[[i], [0]] = j\n",
    "\n",
    "for i, j in enumerate(word):\n",
    "    diagram[[0], [i]] = j\n",
    "\n",
    "diagram"
   ]
  },
  {
   "cell_type": "code",
   "execution_count": 15,
   "metadata": {},
   "outputs": [
    {
     "name": "stdout",
     "output_type": "stream",
     "text": [
      "RIPEEHINL"
     ]
    }
   ],
   "source": [
    "# print(diagram[0, 1:])    # first row\n",
    "# print(diagram[:, 0])    # first col\n",
    "\n",
    "letters = list(word)\n",
    "size = len(letters)\n",
    "# print(letters)\n",
    "\n",
    "while size > 0:\n",
    "    letter = np.random.choice(letters)\n",
    "    print(letter, end='')\n",
    "    letters.remove(letter)\n",
    "    size -= 1\n",
    "\n",
    "# print(letters)\n"
   ]
  }
 ],
 "metadata": {
  "kernelspec": {
   "display_name": "Python 3.10.4 ('.env': venv)",
   "language": "python",
   "name": "python3"
  },
  "language_info": {
   "codemirror_mode": {
    "name": "ipython",
    "version": 3
   },
   "file_extension": ".py",
   "mimetype": "text/x-python",
   "name": "python",
   "nbconvert_exporter": "python",
   "pygments_lexer": "ipython3",
   "version": "3.10.4"
  },
  "orig_nbformat": 4,
  "vscode": {
   "interpreter": {
    "hash": "d32448151ec168e7da0dbd3b96e9ecc313776d6c899e814f122bafafd40e97d9"
   }
  }
 },
 "nbformat": 4,
 "nbformat_minor": 2
}
